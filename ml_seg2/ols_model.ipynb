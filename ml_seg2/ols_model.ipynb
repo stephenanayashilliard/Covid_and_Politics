{
 "cells": [
  {
   "cell_type": "code",
   "execution_count": 30,
   "metadata": {},
   "outputs": [],
   "source": [
    "import pandas as pd\n",
    "import matplotlib.pyplot as plt\n",
    "from sklearn.linear_model import LinearRegression\n",
    "from sklearn import metrics\n",
    "import numpy as np\n",
    "import statsmodels.api as sm\n",
    "from statsmodels.sandbox.regression.predstd import wls_prediction_std"
   ]
  },
  {
   "cell_type": "code",
   "execution_count": 31,
   "metadata": {},
   "outputs": [
    {
     "data": {
      "text/html": [
       "<div>\n",
       "<style scoped>\n",
       "    .dataframe tbody tr th:only-of-type {\n",
       "        vertical-align: middle;\n",
       "    }\n",
       "\n",
       "    .dataframe tbody tr th {\n",
       "        vertical-align: top;\n",
       "    }\n",
       "\n",
       "    .dataframe thead th {\n",
       "        text-align: right;\n",
       "    }\n",
       "</style>\n",
       "<table border=\"1\" class=\"dataframe\">\n",
       "  <thead>\n",
       "    <tr style=\"text-align: right;\">\n",
       "      <th></th>\n",
       "      <th>county</th>\n",
       "      <th>state</th>\n",
       "      <th>county_state</th>\n",
       "      <th>lat</th>\n",
       "      <th>long</th>\n",
       "      <th>totalpop</th>\n",
       "      <th>total_votes20</th>\n",
       "      <th>votes20_donald_trump</th>\n",
       "      <th>votes20_joe_biden</th>\n",
       "      <th>percentage20_donald_trump</th>\n",
       "      <th>...</th>\n",
       "      <th>age_55to64</th>\n",
       "      <th>age_65to74</th>\n",
       "      <th>age_75to84</th>\n",
       "      <th>age_84plus</th>\n",
       "      <th>evangelicals</th>\n",
       "      <th>protestant</th>\n",
       "      <th>catholic</th>\n",
       "      <th>orthodox</th>\n",
       "      <th>muslim</th>\n",
       "      <th>other</th>\n",
       "    </tr>\n",
       "  </thead>\n",
       "  <tbody>\n",
       "    <tr>\n",
       "      <th>0</th>\n",
       "      <td>Kay</td>\n",
       "      <td>OK</td>\n",
       "      <td>Kay, OK</td>\n",
       "      <td>36.817997</td>\n",
       "      <td>-97.144214</td>\n",
       "      <td>45173</td>\n",
       "      <td>17249</td>\n",
       "      <td>12834</td>\n",
       "      <td>4040</td>\n",
       "      <td>0.744</td>\n",
       "      <td>...</td>\n",
       "      <td>5694</td>\n",
       "      <td>4632</td>\n",
       "      <td>2724</td>\n",
       "      <td>1183</td>\n",
       "      <td>0</td>\n",
       "      <td>0</td>\n",
       "      <td>0</td>\n",
       "      <td>0</td>\n",
       "      <td>0</td>\n",
       "      <td>0</td>\n",
       "    </tr>\n",
       "    <tr>\n",
       "      <th>1</th>\n",
       "      <td>Abbeville</td>\n",
       "      <td>SC</td>\n",
       "      <td>Abbeville, SC</td>\n",
       "      <td>34.223334</td>\n",
       "      <td>-82.461707</td>\n",
       "      <td>24788</td>\n",
       "      <td>12433</td>\n",
       "      <td>8215</td>\n",
       "      <td>4101</td>\n",
       "      <td>0.661</td>\n",
       "      <td>...</td>\n",
       "      <td>3584</td>\n",
       "      <td>3150</td>\n",
       "      <td>1602</td>\n",
       "      <td>591</td>\n",
       "      <td>0</td>\n",
       "      <td>0</td>\n",
       "      <td>0</td>\n",
       "      <td>0</td>\n",
       "      <td>0</td>\n",
       "      <td>0</td>\n",
       "    </tr>\n",
       "    <tr>\n",
       "      <th>2</th>\n",
       "      <td>Acadia</td>\n",
       "      <td>LA</td>\n",
       "      <td>Acadia, LA</td>\n",
       "      <td>30.295065</td>\n",
       "      <td>-92.414197</td>\n",
       "      <td>62607</td>\n",
       "      <td>28425</td>\n",
       "      <td>22596</td>\n",
       "      <td>5443</td>\n",
       "      <td>0.795</td>\n",
       "      <td>...</td>\n",
       "      <td>0</td>\n",
       "      <td>0</td>\n",
       "      <td>0</td>\n",
       "      <td>0</td>\n",
       "      <td>0</td>\n",
       "      <td>0</td>\n",
       "      <td>0</td>\n",
       "      <td>0</td>\n",
       "      <td>0</td>\n",
       "      <td>0</td>\n",
       "    </tr>\n",
       "    <tr>\n",
       "      <th>3</th>\n",
       "      <td>Accomack</td>\n",
       "      <td>VA</td>\n",
       "      <td>Accomack, VA</td>\n",
       "      <td>37.767072</td>\n",
       "      <td>-75.632346</td>\n",
       "      <td>32840</td>\n",
       "      <td>16938</td>\n",
       "      <td>9172</td>\n",
       "      <td>7578</td>\n",
       "      <td>0.542</td>\n",
       "      <td>...</td>\n",
       "      <td>5270</td>\n",
       "      <td>4451</td>\n",
       "      <td>2301</td>\n",
       "      <td>886</td>\n",
       "      <td>0</td>\n",
       "      <td>0</td>\n",
       "      <td>0</td>\n",
       "      <td>0</td>\n",
       "      <td>0</td>\n",
       "      <td>0</td>\n",
       "    </tr>\n",
       "    <tr>\n",
       "      <th>4</th>\n",
       "      <td>Ada</td>\n",
       "      <td>ID</td>\n",
       "      <td>Ada, ID</td>\n",
       "      <td>43.452658</td>\n",
       "      <td>-116.241552</td>\n",
       "      <td>435117</td>\n",
       "      <td>259389</td>\n",
       "      <td>130699</td>\n",
       "      <td>120539</td>\n",
       "      <td>0.504</td>\n",
       "      <td>...</td>\n",
       "      <td>56615</td>\n",
       "      <td>42027</td>\n",
       "      <td>18576</td>\n",
       "      <td>7189</td>\n",
       "      <td>0</td>\n",
       "      <td>0</td>\n",
       "      <td>0</td>\n",
       "      <td>0</td>\n",
       "      <td>0</td>\n",
       "      <td>0</td>\n",
       "    </tr>\n",
       "  </tbody>\n",
       "</table>\n",
       "<p>5 rows × 61 columns</p>\n",
       "</div>"
      ],
      "text/plain": [
       "      county state   county_state        lat        long  totalpop  \\\n",
       "0        Kay    OK        Kay, OK  36.817997  -97.144214     45173   \n",
       "1  Abbeville    SC  Abbeville, SC  34.223334  -82.461707     24788   \n",
       "2     Acadia    LA     Acadia, LA  30.295065  -92.414197     62607   \n",
       "3   Accomack    VA   Accomack, VA  37.767072  -75.632346     32840   \n",
       "4        Ada    ID        Ada, ID  43.452658 -116.241552    435117   \n",
       "\n",
       "   total_votes20  votes20_donald_trump  votes20_joe_biden  \\\n",
       "0          17249                 12834               4040   \n",
       "1          12433                  8215               4101   \n",
       "2          28425                 22596               5443   \n",
       "3          16938                  9172               7578   \n",
       "4         259389                130699             120539   \n",
       "\n",
       "   percentage20_donald_trump  ...  age_55to64  age_65to74  age_75to84  \\\n",
       "0                      0.744  ...        5694        4632        2724   \n",
       "1                      0.661  ...        3584        3150        1602   \n",
       "2                      0.795  ...           0           0           0   \n",
       "3                      0.542  ...        5270        4451        2301   \n",
       "4                      0.504  ...       56615       42027       18576   \n",
       "\n",
       "   age_84plus  evangelicals  protestant  catholic  orthodox  muslim  other  \n",
       "0        1183             0           0         0         0       0      0  \n",
       "1         591             0           0         0         0       0      0  \n",
       "2           0             0           0         0         0       0      0  \n",
       "3         886             0           0         0         0       0      0  \n",
       "4        7189             0           0         0         0       0      0  \n",
       "\n",
       "[5 rows x 61 columns]"
      ]
     },
     "execution_count": 31,
     "metadata": {},
     "output_type": "execute_result"
    }
   ],
   "source": [
    "# read in csv as dataframe\n",
    "county_df = pd.read_csv('https://mydataclassdb-bucket.s3.amazonaws.com/covid_and_politics_db.csv')\n",
    "county_df.head()"
   ]
  },
  {
   "cell_type": "code",
   "execution_count": 32,
   "metadata": {},
   "outputs": [
    {
     "data": {
      "text/plain": [
       "Index(['county', 'state', 'county_state', 'lat', 'long', 'totalpop',\n",
       "       'total_votes20', 'votes20_donald_trump', 'votes20_joe_biden',\n",
       "       'percentage20_donald_trump', 'percentage20_joe_biden', 'cases',\n",
       "       'deaths', 'men', 'women', 'hispanic', 'white', 'black', 'native',\n",
       "       'asian', 'pacific', 'income', 'incomepercap', 'poverty', 'professional',\n",
       "       'service', 'office', 'construction', 'production', 'drive', 'carpool',\n",
       "       'transit', 'walk', 'othertransp', 'workathome', 'meancommute',\n",
       "       'employed', 'privatework', 'publicwork', 'selfemployed', 'familywork',\n",
       "       'unemployment', 'cases_per_capita_100k', 'deaths_per_capita_100k',\n",
       "       'pop_per_sq_mile_2010', 'age_oto4', 'age_5to14', 'age_15to24',\n",
       "       'age_25to34', 'age_35to44', 'age_45to54', 'age_55to64', 'age_65to74',\n",
       "       'age_75to84', 'age_84plus', 'evangelicals', 'protestant', 'catholic',\n",
       "       'orthodox', 'muslim', 'other'],\n",
       "      dtype='object')"
      ]
     },
     "execution_count": 32,
     "metadata": {},
     "output_type": "execute_result"
    }
   ],
   "source": [
    "# get a list of columns\n",
    "county_df.columns"
   ]
  },
  {
   "cell_type": "code",
   "execution_count": 33,
   "metadata": {},
   "outputs": [
    {
     "data": {
      "text/plain": [
       "array([[0.744],\n",
       "       [0.661],\n",
       "       [0.795],\n",
       "       [0.542],\n",
       "       [0.504]])"
      ]
     },
     "execution_count": 33,
     "metadata": {},
     "output_type": "execute_result"
    }
   ],
   "source": [
    "# create feature\n",
    "X = county_df['percentage20_donald_trump'].values.reshape(-1,1)\n",
    "X[:5]"
   ]
  },
  {
   "cell_type": "code",
   "execution_count": 34,
   "metadata": {},
   "outputs": [
    {
     "data": {
      "text/plain": [
       "0       0.020366\n",
       "1       0.032475\n",
       "2       0.050825\n",
       "3       0.037363\n",
       "4       0.040106\n",
       "          ...   \n",
       "3043    0.037071\n",
       "3044    0.031420\n",
       "3045    0.050655\n",
       "3046    0.041854\n",
       "3047    0.024638\n",
       "Name: normalized_cases, Length: 3048, dtype: float64"
      ]
     },
     "execution_count": 34,
     "metadata": {},
     "output_type": "execute_result"
    }
   ],
   "source": [
    "# normalize cases by dividing cases per county with total population of county\n",
    "county_df['normalized_cases'] = county_df['cases']/county_df['totalpop']\n",
    "county_df['normalized_cases']"
   ]
  },
  {
   "cell_type": "code",
   "execution_count": 35,
   "metadata": {},
   "outputs": [
    {
     "data": {
      "text/plain": [
       "0    0.020366\n",
       "1    0.032475\n",
       "2    0.050825\n",
       "3    0.037363\n",
       "4    0.040106\n",
       "Name: normalized_cases, dtype: float64"
      ]
     },
     "execution_count": 35,
     "metadata": {},
     "output_type": "execute_result"
    }
   ],
   "source": [
    "# create target with normalized cases\n",
    "y = county_df['normalized_cases']\n",
    "y[:5]"
   ]
  },
  {
   "cell_type": "code",
   "execution_count": 36,
   "metadata": {},
   "outputs": [
    {
     "name": "stdout",
     "output_type": "stream",
     "text": [
      "                                 OLS Regression Results                                \n",
      "=======================================================================================\n",
      "Dep. Variable:       normalized_cases   R-squared (uncentered):                   0.681\n",
      "Model:                            OLS   Adj. R-squared (uncentered):              0.681\n",
      "Method:                 Least Squares   F-statistic:                              6517.\n",
      "Date:                Tue, 16 Mar 2021   Prob (F-statistic):                        0.00\n",
      "Time:                        20:55:34   Log-Likelihood:                          7763.5\n",
      "No. Observations:                3048   AIC:                                 -1.552e+04\n",
      "Df Residuals:                    3047   BIC:                                 -1.552e+04\n",
      "Df Model:                           1                                                  \n",
      "Covariance Type:            nonrobust                                                  \n",
      "==============================================================================\n",
      "                 coef    std err          t      P>|t|      [0.025      0.975]\n",
      "------------------------------------------------------------------------------\n",
      "x1             0.0411      0.001     80.729      0.000       0.040       0.042\n",
      "==============================================================================\n",
      "Omnibus:                     1077.029   Durbin-Watson:                   1.938\n",
      "Prob(Omnibus):                  0.000   Jarque-Bera (JB):             6720.783\n",
      "Skew:                           1.537   Prob(JB):                         0.00\n",
      "Kurtosis:                       9.593   Cond. No.                         1.00\n",
      "==============================================================================\n",
      "\n",
      "Notes:\n",
      "[1] R² is computed without centering (uncentered) since the model does not contain a constant.\n",
      "[2] Standard Errors assume that the covariance matrix of the errors is correctly specified.\n"
     ]
    }
   ],
   "source": [
    "# instantiate model\n",
    "model = sm.OLS(y, X)\n",
    "\n",
    "# fit model\n",
    "results = model.fit()\n",
    "\n",
    "# print summary statistics\n",
    "print(results.summary())"
   ]
  },
  {
   "cell_type": "code",
   "execution_count": 37,
   "metadata": {},
   "outputs": [
    {
     "name": "stdout",
     "output_type": "stream",
     "text": [
      "Mean of differences: 0.0016474944565770774\n"
     ]
    },
    {
     "data": {
      "text/html": [
       "<div>\n",
       "<style scoped>\n",
       "    .dataframe tbody tr th:only-of-type {\n",
       "        vertical-align: middle;\n",
       "    }\n",
       "\n",
       "    .dataframe tbody tr th {\n",
       "        vertical-align: top;\n",
       "    }\n",
       "\n",
       "    .dataframe thead th {\n",
       "        text-align: right;\n",
       "    }\n",
       "</style>\n",
       "<table border=\"1\" class=\"dataframe\">\n",
       "  <thead>\n",
       "    <tr style=\"text-align: right;\">\n",
       "      <th></th>\n",
       "      <th>Real Values</th>\n",
       "      <th>Predicted Values</th>\n",
       "      <th>Difference</th>\n",
       "    </tr>\n",
       "  </thead>\n",
       "  <tbody>\n",
       "    <tr>\n",
       "      <th>0</th>\n",
       "      <td>0.020366</td>\n",
       "      <td>0.030552</td>\n",
       "      <td>-0.010186</td>\n",
       "    </tr>\n",
       "    <tr>\n",
       "      <th>1</th>\n",
       "      <td>0.032475</td>\n",
       "      <td>0.027144</td>\n",
       "      <td>0.005332</td>\n",
       "    </tr>\n",
       "    <tr>\n",
       "      <th>2</th>\n",
       "      <td>0.050825</td>\n",
       "      <td>0.032646</td>\n",
       "      <td>0.018179</td>\n",
       "    </tr>\n",
       "    <tr>\n",
       "      <th>3</th>\n",
       "      <td>0.037363</td>\n",
       "      <td>0.022257</td>\n",
       "      <td>0.015106</td>\n",
       "    </tr>\n",
       "    <tr>\n",
       "      <th>4</th>\n",
       "      <td>0.040106</td>\n",
       "      <td>0.020697</td>\n",
       "      <td>0.019410</td>\n",
       "    </tr>\n",
       "  </tbody>\n",
       "</table>\n",
       "</div>"
      ],
      "text/plain": [
       "   Real Values  Predicted Values  Difference\n",
       "0     0.020366          0.030552   -0.010186\n",
       "1     0.032475          0.027144    0.005332\n",
       "2     0.050825          0.032646    0.018179\n",
       "3     0.037363          0.022257    0.015106\n",
       "4     0.040106          0.020697    0.019410"
      ]
     },
     "execution_count": 37,
     "metadata": {},
     "output_type": "execute_result"
    }
   ],
   "source": [
    "# make a df with actual values and predictions\n",
    "pred_df1 = pd.DataFrame({'Real Values': y, 'Predicted Values': results.predict()})\n",
    "\n",
    "# create a column with the differences between the real and predicted values\n",
    "pred_df1['Difference'] = pred_df1['Real Values'] - pred_df1['Predicted Values']\n",
    "\n",
    "# calculate the mean of the difference\n",
    "mean1 = pred_df1['Difference'].mean()\n",
    "\n",
    "# show the mean of the difference\n",
    "print(f'Mean of differences: {mean1}')\n",
    "\n",
    "# show df\n",
    "pred_df1.head()"
   ]
  },
  {
   "cell_type": "code",
   "execution_count": 39,
   "metadata": {},
   "outputs": [
    {
     "data": {
      "image/png": "[encoded data removed]",
      "text/plain": [
       "<Figure size 576x432 with 1 Axes>"
      ]
     },
     "metadata": {
      "needs_background": "light"
     },
     "output_type": "display_data"
    }
   ],
   "source": [
    "# Draw a plot to compare the true relationship to OLS predictions with confidence intervals\n",
    "\n",
    "prstd, iv_l, iv_u = wls_prediction_std(results)\n",
    "\n",
    "fig, ax = plt.subplots(figsize=(8,6))\n",
    "\n",
    "ax.plot(X, y, 'o', label=\"data\")\n",
    "ax.plot(X, results.fittedvalues, 'r--.', label=\"OLS\")\n",
    "ax.plot(X, iv_u, 'r--')\n",
    "ax.plot(X, iv_l, 'r--')\n",
    "ax.set_ylabel('Normalized Covid Cases')\n",
    "ax.set_xlabel('Percentag of Trump Votes per County')\n",
    "ax.set_title('Trump Votes vs Covid Cases')\n",
    "ax.legend(loc='best');"
   ]
  },
  {
   "cell_type": "code",
   "execution_count": 40,
   "metadata": {},
   "outputs": [
    {
     "data": {
      "text/plain": [
       "array([[0.234],\n",
       "       [0.33 ],\n",
       "       [0.191],\n",
       "       [0.447],\n",
       "       [0.465]])"
      ]
     },
     "execution_count": 40,
     "metadata": {},
     "output_type": "execute_result"
    }
   ],
   "source": [
    "# create feature for second model\n",
    "X2 = county_df['percentage20_joe_biden'].values.reshape(-1,1)\n",
    "X2[:5]"
   ]
  },
  {
   "cell_type": "code",
   "execution_count": 41,
   "metadata": {},
   "outputs": [
    {
     "data": {
      "text/plain": [
       "0    0.020366\n",
       "1    0.032475\n",
       "2    0.050825\n",
       "3    0.037363\n",
       "4    0.040106\n",
       "Name: normalized_cases, dtype: float64"
      ]
     },
     "execution_count": 41,
     "metadata": {},
     "output_type": "execute_result"
    }
   ],
   "source": [
    "# create target for second model\n",
    "y2 = county_df.normalized_cases\n",
    "y2[:5]"
   ]
  },
  {
   "cell_type": "code",
   "execution_count": 42,
   "metadata": {},
   "outputs": [
    {
     "name": "stdout",
     "output_type": "stream",
     "text": [
      "                                 OLS Regression Results                                \n",
      "=======================================================================================\n",
      "Dep. Variable:       normalized_cases   R-squared (uncentered):                   0.603\n",
      "Model:                            OLS   Adj. R-squared (uncentered):              0.603\n",
      "Method:                 Least Squares   F-statistic:                              4626.\n",
      "Date:                Tue, 16 Mar 2021   Prob (F-statistic):                        0.00\n",
      "Time:                        20:55:42   Log-Likelihood:                          7427.7\n",
      "No. Observations:                3048   AIC:                                 -1.485e+04\n",
      "Df Residuals:                    3047   BIC:                                 -1.485e+04\n",
      "Df Model:                           1                                                  \n",
      "Covariance Type:            nonrobust                                                  \n",
      "==============================================================================\n",
      "                 coef    std err          t      P>|t|      [0.025      0.975]\n",
      "------------------------------------------------------------------------------\n",
      "x1             0.0721      0.001     68.013      0.000       0.070       0.074\n",
      "==============================================================================\n",
      "Omnibus:                      690.974   Durbin-Watson:                   1.769\n",
      "Prob(Omnibus):                  0.000   Jarque-Bera (JB):             3682.976\n",
      "Skew:                           0.973   Prob(JB):                         0.00\n",
      "Kurtosis:                       8.021   Cond. No.                         1.00\n",
      "==============================================================================\n",
      "\n",
      "Notes:\n",
      "[1] R² is computed without centering (uncentered) since the model does not contain a constant.\n",
      "[2] Standard Errors assume that the covariance matrix of the errors is correctly specified.\n"
     ]
    }
   ],
   "source": [
    "# instantiate second model\n",
    "model2 = sm.OLS(y2, X2)\n",
    "\n",
    "#fit second model\n",
    "results2 = model2.fit()\n",
    "\n",
    "# print summary statistics for second model\n",
    "print(results2.summary())"
   ]
  },
  {
   "cell_type": "code",
   "execution_count": 43,
   "metadata": {},
   "outputs": [
    {
     "name": "stdout",
     "output_type": "stream",
     "text": [
      "Mean of differences: 0.005068809230883486\n"
     ]
    },
    {
     "data": {
      "text/html": [
       "<div>\n",
       "<style scoped>\n",
       "    .dataframe tbody tr th:only-of-type {\n",
       "        vertical-align: middle;\n",
       "    }\n",
       "\n",
       "    .dataframe tbody tr th {\n",
       "        vertical-align: top;\n",
       "    }\n",
       "\n",
       "    .dataframe thead th {\n",
       "        text-align: right;\n",
       "    }\n",
       "</style>\n",
       "<table border=\"1\" class=\"dataframe\">\n",
       "  <thead>\n",
       "    <tr style=\"text-align: right;\">\n",
       "      <th></th>\n",
       "      <th>Real Values</th>\n",
       "      <th>Predicted Values</th>\n",
       "      <th>Difference</th>\n",
       "    </tr>\n",
       "  </thead>\n",
       "  <tbody>\n",
       "    <tr>\n",
       "      <th>0</th>\n",
       "      <td>0.020366</td>\n",
       "      <td>0.016876</td>\n",
       "      <td>0.003490</td>\n",
       "    </tr>\n",
       "    <tr>\n",
       "      <th>1</th>\n",
       "      <td>0.032475</td>\n",
       "      <td>0.023799</td>\n",
       "      <td>0.008676</td>\n",
       "    </tr>\n",
       "    <tr>\n",
       "      <th>2</th>\n",
       "      <td>0.050825</td>\n",
       "      <td>0.013775</td>\n",
       "      <td>0.037050</td>\n",
       "    </tr>\n",
       "    <tr>\n",
       "      <th>3</th>\n",
       "      <td>0.037363</td>\n",
       "      <td>0.032237</td>\n",
       "      <td>0.005126</td>\n",
       "    </tr>\n",
       "    <tr>\n",
       "      <th>4</th>\n",
       "      <td>0.040106</td>\n",
       "      <td>0.033536</td>\n",
       "      <td>0.006571</td>\n",
       "    </tr>\n",
       "  </tbody>\n",
       "</table>\n",
       "</div>"
      ],
      "text/plain": [
       "   Real Values  Predicted Values  Difference\n",
       "0     0.020366          0.016876    0.003490\n",
       "1     0.032475          0.023799    0.008676\n",
       "2     0.050825          0.013775    0.037050\n",
       "3     0.037363          0.032237    0.005126\n",
       "4     0.040106          0.033536    0.006571"
      ]
     },
     "execution_count": 43,
     "metadata": {},
     "output_type": "execute_result"
    }
   ],
   "source": [
    "# make a df with actual values and predictions\n",
    "pred_df2 = pd.DataFrame({'Real Values': y2, 'Predicted Values': results2.predict()})\n",
    "\n",
    "# create a column with the differences between the real and predicted values\n",
    "pred_df2['Difference'] = pred_df2['Real Values'] - pred_df2['Predicted Values']\n",
    "\n",
    "# calculate the mean of the difference\n",
    "mean2 = pred_df2['Difference'].mean()\n",
    "\n",
    "# show the mean of the difference\n",
    "print(f'Mean of differences: {mean2}')\n",
    "\n",
    "# show df\n",
    "pred_df2.head()"
   ]
  },
  {
   "cell_type": "code",
   "execution_count": 44,
   "metadata": {},
   "outputs": [
    {
     "data": {
      "image/png": "[encoded data removed]",
      "text/plain": [
       "<Figure size 576x432 with 1 Axes>"
      ]
     },
     "metadata": {
      "needs_background": "light"
     },
     "output_type": "display_data"
    }
   ],
   "source": [
    "# Draw a plot to compare the true relationship to OLS predictions with confidence intervals\n",
    "# for second model\n",
    "prstd, iv_l, iv_u = wls_prediction_std(results2)\n",
    "\n",
    "fig, ax = plt.subplots(figsize=(8,6))\n",
    "\n",
    "ax.plot(X2, y2, 'o', label=\"data\")\n",
    "ax.plot(X2, results2.fittedvalues, 'r--.', label=\"OLS\")\n",
    "ax.plot(X2, iv_u, 'r--')\n",
    "ax.plot(X2, iv_l, 'r--')\n",
    "ax.set_ylabel('Normalized Covid Cases')\n",
    "ax.set_xlabel('Percentag of Biden Votes per County')\n",
    "ax.set_title('Biden Votes vs Covid Cases')\n",
    "ax.legend(loc='best');"
   ]
  },
  {
   "cell_type": "code",
   "execution_count": 45,
   "metadata": {},
   "outputs": [
    {
     "data": {
      "text/plain": [
       "0    0.381843\n",
       "1    0.501573\n",
       "2    0.454023\n",
       "3    0.515773\n",
       "4    0.596136\n",
       "Name: normalized_totalvotes, dtype: float64"
      ]
     },
     "execution_count": 45,
     "metadata": {},
     "output_type": "execute_result"
    }
   ],
   "source": [
    "# normalize the total votes for the 2020 election per county by dividing the total votes\n",
    "# by the total county population\n",
    "\n",
    "county_df['normalized_totalvotes'] = county_df['total_votes20']/county_df['totalpop']\n",
    "county_df['normalized_totalvotes'].head()"
   ]
  },
  {
   "cell_type": "code",
   "execution_count": 46,
   "metadata": {},
   "outputs": [
    {
     "data": {
      "text/plain": [
       "array([[0.38184314],\n",
       "       [0.50157334],\n",
       "       [0.45402271],\n",
       "       [0.51577345],\n",
       "       [0.59613621]])"
      ]
     },
     "execution_count": 46,
     "metadata": {},
     "output_type": "execute_result"
    }
   ],
   "source": [
    "# create feature for the third model\n",
    "X3 = county_df['normalized_totalvotes'].values.reshape(-1,1)\n",
    "X3[:5]"
   ]
  },
  {
   "cell_type": "code",
   "execution_count": 47,
   "metadata": {},
   "outputs": [
    {
     "data": {
      "text/plain": [
       "0    0.020366\n",
       "1    0.032475\n",
       "2    0.050825\n",
       "3    0.037363\n",
       "4    0.040106\n",
       "Name: normalized_cases, dtype: float64"
      ]
     },
     "execution_count": 47,
     "metadata": {},
     "output_type": "execute_result"
    }
   ],
   "source": [
    "# create target for the third model\n",
    "y3 = county_df.normalized_cases\n",
    "y3[:5]"
   ]
  },
  {
   "cell_type": "code",
   "execution_count": 48,
   "metadata": {},
   "outputs": [
    {
     "name": "stdout",
     "output_type": "stream",
     "text": [
      "                                 OLS Regression Results                                \n",
      "=======================================================================================\n",
      "Dep. Variable:       normalized_cases   R-squared (uncentered):                   0.652\n",
      "Model:                            OLS   Adj. R-squared (uncentered):              0.652\n",
      "Method:                 Least Squares   F-statistic:                              5708.\n",
      "Date:                Tue, 16 Mar 2021   Prob (F-statistic):                        0.00\n",
      "Time:                        20:55:46   Log-Likelihood:                          7628.7\n",
      "No. Observations:                3048   AIC:                                 -1.526e+04\n",
      "Df Residuals:                    3047   BIC:                                 -1.525e+04\n",
      "Df Model:                           1                                                  \n",
      "Covariance Type:            nonrobust                                                  \n",
      "==============================================================================\n",
      "                 coef    std err          t      P>|t|      [0.025      0.975]\n",
      "------------------------------------------------------------------------------\n",
      "x1             0.0545      0.001     75.549      0.000       0.053       0.056\n",
      "==============================================================================\n",
      "Omnibus:                     1074.672   Durbin-Watson:                   1.939\n",
      "Prob(Omnibus):                  0.000   Jarque-Bera (JB):             8152.372\n",
      "Skew:                           1.468   Prob(JB):                         0.00\n",
      "Kurtosis:                      10.454   Cond. No.                         1.00\n",
      "==============================================================================\n",
      "\n",
      "Notes:\n",
      "[1] R² is computed without centering (uncentered) since the model does not contain a constant.\n",
      "[2] Standard Errors assume that the covariance matrix of the errors is correctly specified.\n"
     ]
    }
   ],
   "source": [
    "# instantiate third model\n",
    "model3 = sm.OLS(y3, X3)\n",
    "\n",
    "# fit third model\n",
    "results3 = model3.fit()\n",
    "\n",
    "# print summary statistics for third model\n",
    "print(results3.summary())"
   ]
  },
  {
   "cell_type": "code",
   "execution_count": 49,
   "metadata": {},
   "outputs": [
    {
     "name": "stdout",
     "output_type": "stream",
     "text": [
      "Mean of differences: 0.0021889205558033253\n"
     ]
    },
    {
     "data": {
      "text/html": [
       "<div>\n",
       "<style scoped>\n",
       "    .dataframe tbody tr th:only-of-type {\n",
       "        vertical-align: middle;\n",
       "    }\n",
       "\n",
       "    .dataframe tbody tr th {\n",
       "        vertical-align: top;\n",
       "    }\n",
       "\n",
       "    .dataframe thead th {\n",
       "        text-align: right;\n",
       "    }\n",
       "</style>\n",
       "<table border=\"1\" class=\"dataframe\">\n",
       "  <thead>\n",
       "    <tr style=\"text-align: right;\">\n",
       "      <th></th>\n",
       "      <th>Real Values</th>\n",
       "      <th>Predicted Values</th>\n",
       "      <th>Difference</th>\n",
       "    </tr>\n",
       "  </thead>\n",
       "  <tbody>\n",
       "    <tr>\n",
       "      <th>0</th>\n",
       "      <td>0.020366</td>\n",
       "      <td>0.020796</td>\n",
       "      <td>-0.000430</td>\n",
       "    </tr>\n",
       "    <tr>\n",
       "      <th>1</th>\n",
       "      <td>0.032475</td>\n",
       "      <td>0.027317</td>\n",
       "      <td>0.005158</td>\n",
       "    </tr>\n",
       "    <tr>\n",
       "      <th>2</th>\n",
       "      <td>0.050825</td>\n",
       "      <td>0.024727</td>\n",
       "      <td>0.026098</td>\n",
       "    </tr>\n",
       "    <tr>\n",
       "      <th>3</th>\n",
       "      <td>0.037363</td>\n",
       "      <td>0.028091</td>\n",
       "      <td>0.009272</td>\n",
       "    </tr>\n",
       "    <tr>\n",
       "      <th>4</th>\n",
       "      <td>0.040106</td>\n",
       "      <td>0.032467</td>\n",
       "      <td>0.007639</td>\n",
       "    </tr>\n",
       "  </tbody>\n",
       "</table>\n",
       "</div>"
      ],
      "text/plain": [
       "   Real Values  Predicted Values  Difference\n",
       "0     0.020366          0.020796   -0.000430\n",
       "1     0.032475          0.027317    0.005158\n",
       "2     0.050825          0.024727    0.026098\n",
       "3     0.037363          0.028091    0.009272\n",
       "4     0.040106          0.032467    0.007639"
      ]
     },
     "execution_count": 49,
     "metadata": {},
     "output_type": "execute_result"
    }
   ],
   "source": [
    "# make a df with actual values and predictions\n",
    "pred_df3 = pd.DataFrame({'Real Values': y3, 'Predicted Values': results3.predict()})\n",
    "\n",
    "# create a column with the differences between the real and predicted values\n",
    "pred_df3['Difference'] = pred_df3['Real Values'] - pred_df3['Predicted Values']\n",
    "\n",
    "# calculate the mean of the difference\n",
    "mean3 = pred_df3['Difference'].mean()\n",
    "\n",
    "# show the mean of the difference\n",
    "print(f'Mean of differences: {mean3}')\n",
    "\n",
    "# show df\n",
    "pred_df3.head()"
   ]
  },
  {
   "cell_type": "code",
   "execution_count": 50,
   "metadata": {},
   "outputs": [
    {
     "data": {
      "image/png": "[encoded data removed]",
      "text/plain": [
       "<Figure size 576x432 with 1 Axes>"
      ]
     },
     "metadata": {
      "needs_background": "light"
     },
     "output_type": "display_data"
    }
   ],
   "source": [
    "# Draw a plot to compare the true relationship to OLS predictions with confidence intervals\n",
    "# for third model\n",
    "prstd, iv_l, iv_u = wls_prediction_std(results3)\n",
    "\n",
    "fig, ax = plt.subplots(figsize=(8,6))\n",
    "\n",
    "ax.plot(X3, y3, 'o', label=\"data\")\n",
    "ax.plot(X3, results3.fittedvalues, 'r--.', label=\"OLS\")\n",
    "ax.plot(X3, iv_u, 'r--')\n",
    "ax.plot(X3, iv_l, 'r--')\n",
    "ax.set_ylabel('Normalized Covid Cases')\n",
    "ax.set_xlabel('Percentage of Total Votes per County')\n",
    "ax.set_title('Total Votes vs Covid Cases')\n",
    "ax.legend(loc='best');"
   ]
  },
  {
   "cell_type": "code",
   "execution_count": 51,
   "metadata": {},
   "outputs": [],
   "source": [
    "# define variables to compare predictions for political categories\n",
    "trump_votes_meandiff = mean1\n",
    "biden_votes_meandiff = mean2\n",
    "total_votes_meandiff = mean3\n",
    "\n",
    "# define variables to compare model fit (Rsquared) for political categories\n",
    "trump_votes_R2 = results.rsquared\n",
    "biden_votes_R2 = results2.rsquared\n",
    "total_votes_R2 = results3.rsquared"
   ]
  },
  {
   "cell_type": "code",
   "execution_count": 52,
   "metadata": {},
   "outputs": [
    {
     "data": {
      "text/html": [
       "<div>\n",
       "<style scoped>\n",
       "    .dataframe tbody tr th:only-of-type {\n",
       "        vertical-align: middle;\n",
       "    }\n",
       "\n",
       "    .dataframe tbody tr th {\n",
       "        vertical-align: top;\n",
       "    }\n",
       "\n",
       "    .dataframe thead th {\n",
       "        text-align: right;\n",
       "    }\n",
       "</style>\n",
       "<table border=\"1\" class=\"dataframe\">\n",
       "  <thead>\n",
       "    <tr style=\"text-align: right;\">\n",
       "      <th></th>\n",
       "      <th>Trump Votes meandiff</th>\n",
       "      <th>Biden Votes meandiff</th>\n",
       "      <th>Total Votes meandiff</th>\n",
       "      <th>Trump Votes R2</th>\n",
       "      <th>Biden Votes R2</th>\n",
       "      <th>Total Votes R2</th>\n",
       "    </tr>\n",
       "  </thead>\n",
       "  <tbody>\n",
       "    <tr>\n",
       "      <th>0</th>\n",
       "      <td>0.001647</td>\n",
       "      <td>0.005069</td>\n",
       "      <td>0.002189</td>\n",
       "      <td>0.681414</td>\n",
       "      <td>0.60288</td>\n",
       "      <td>0.651954</td>\n",
       "    </tr>\n",
       "  </tbody>\n",
       "</table>\n",
       "</div>"
      ],
      "text/plain": [
       "   Trump Votes meandiff  Biden Votes meandiff  Total Votes meandiff  \\\n",
       "0              0.001647              0.005069              0.002189   \n",
       "\n",
       "   Trump Votes R2  Biden Votes R2  Total Votes R2  \n",
       "0        0.681414         0.60288        0.651954  "
      ]
     },
     "execution_count": 52,
     "metadata": {},
     "output_type": "execute_result"
    }
   ],
   "source": [
    "index=[0]\n",
    "voting_comparison_df = pd.DataFrame({'Trump Votes meandiff': trump_votes_meandiff,'Biden Votes meandiff': biden_votes_meandiff,\n",
    "                                     'Total Votes meandiff': total_votes_meandiff,'Trump Votes R2': trump_votes_R2,\n",
    "                                     'Biden Votes R2': biden_votes_R2,'Total Votes R2': total_votes_R2},\n",
    "                                   index=index)\n",
    "voting_comparison_df"
   ]
  },
  {
   "cell_type": "code",
   "execution_count": null,
   "metadata": {},
   "outputs": [],
   "source": []
  }
 ],
 "metadata": {
  "kernelspec": {
   "display_name": "mlenv",
   "language": "python",
   "name": "mlenv"
  },
  "language_info": {
   "codemirror_mode": {
    "name": "ipython",
    "version": 3
   },
   "file_extension": ".py",
   "mimetype": "text/x-python",
   "name": "python",
   "nbconvert_exporter": "python",
   "pygments_lexer": "ipython3",
   "version": "3.7.9"
  }
 },
 "nbformat": 4,
 "nbformat_minor": 4
}
