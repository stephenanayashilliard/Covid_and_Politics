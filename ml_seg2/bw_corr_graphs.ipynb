{
 "cells": [
  {
   "cell_type": "code",
   "execution_count": 2,
   "metadata": {},
   "outputs": [],
   "source": [
    "import pandas as pd\n",
    "import seaborn as sns\n",
    "import matplotlib.pyplot as plt\n",
    "import numpy as np"
   ]
  },
  {
   "cell_type": "code",
   "execution_count": 3,
   "metadata": {},
   "outputs": [
    {
     "data": {
      "text/html": [
       "<div>\n",
       "<style scoped>\n",
       "    .dataframe tbody tr th:only-of-type {\n",
       "        vertical-align: middle;\n",
       "    }\n",
       "\n",
       "    .dataframe tbody tr th {\n",
       "        vertical-align: top;\n",
       "    }\n",
       "\n",
       "    .dataframe thead th {\n",
       "        text-align: right;\n",
       "    }\n",
       "</style>\n",
       "<table border=\"1\" class=\"dataframe\">\n",
       "  <thead>\n",
       "    <tr style=\"text-align: right;\">\n",
       "      <th></th>\n",
       "      <th>county</th>\n",
       "      <th>state</th>\n",
       "      <th>county_state</th>\n",
       "      <th>lat</th>\n",
       "      <th>long</th>\n",
       "      <th>totalpop</th>\n",
       "      <th>total_votes20</th>\n",
       "      <th>votes20_donald_trump</th>\n",
       "      <th>votes20_joe_biden</th>\n",
       "      <th>percentage20_donald_trump</th>\n",
       "      <th>...</th>\n",
       "      <th>age_55to64</th>\n",
       "      <th>age_65to74</th>\n",
       "      <th>age_75to84</th>\n",
       "      <th>age_84plus</th>\n",
       "      <th>evangelicals</th>\n",
       "      <th>protestant</th>\n",
       "      <th>catholic</th>\n",
       "      <th>orthodox</th>\n",
       "      <th>muslim</th>\n",
       "      <th>other</th>\n",
       "    </tr>\n",
       "  </thead>\n",
       "  <tbody>\n",
       "    <tr>\n",
       "      <th>0</th>\n",
       "      <td>Kay</td>\n",
       "      <td>OK</td>\n",
       "      <td>Kay, OK</td>\n",
       "      <td>36.817997</td>\n",
       "      <td>-97.144214</td>\n",
       "      <td>45173</td>\n",
       "      <td>17249</td>\n",
       "      <td>12834</td>\n",
       "      <td>4040</td>\n",
       "      <td>0.744</td>\n",
       "      <td>...</td>\n",
       "      <td>5694</td>\n",
       "      <td>4632</td>\n",
       "      <td>2724</td>\n",
       "      <td>1183</td>\n",
       "      <td>0</td>\n",
       "      <td>0</td>\n",
       "      <td>0</td>\n",
       "      <td>0</td>\n",
       "      <td>0</td>\n",
       "      <td>0</td>\n",
       "    </tr>\n",
       "    <tr>\n",
       "      <th>1</th>\n",
       "      <td>Abbeville</td>\n",
       "      <td>SC</td>\n",
       "      <td>Abbeville, SC</td>\n",
       "      <td>34.223334</td>\n",
       "      <td>-82.461707</td>\n",
       "      <td>24788</td>\n",
       "      <td>12433</td>\n",
       "      <td>8215</td>\n",
       "      <td>4101</td>\n",
       "      <td>0.661</td>\n",
       "      <td>...</td>\n",
       "      <td>3584</td>\n",
       "      <td>3150</td>\n",
       "      <td>1602</td>\n",
       "      <td>591</td>\n",
       "      <td>0</td>\n",
       "      <td>0</td>\n",
       "      <td>0</td>\n",
       "      <td>0</td>\n",
       "      <td>0</td>\n",
       "      <td>0</td>\n",
       "    </tr>\n",
       "    <tr>\n",
       "      <th>2</th>\n",
       "      <td>Acadia</td>\n",
       "      <td>LA</td>\n",
       "      <td>Acadia, LA</td>\n",
       "      <td>30.295065</td>\n",
       "      <td>-92.414197</td>\n",
       "      <td>62607</td>\n",
       "      <td>28425</td>\n",
       "      <td>22596</td>\n",
       "      <td>5443</td>\n",
       "      <td>0.795</td>\n",
       "      <td>...</td>\n",
       "      <td>0</td>\n",
       "      <td>0</td>\n",
       "      <td>0</td>\n",
       "      <td>0</td>\n",
       "      <td>0</td>\n",
       "      <td>0</td>\n",
       "      <td>0</td>\n",
       "      <td>0</td>\n",
       "      <td>0</td>\n",
       "      <td>0</td>\n",
       "    </tr>\n",
       "    <tr>\n",
       "      <th>3</th>\n",
       "      <td>Accomack</td>\n",
       "      <td>VA</td>\n",
       "      <td>Accomack, VA</td>\n",
       "      <td>37.767072</td>\n",
       "      <td>-75.632346</td>\n",
       "      <td>32840</td>\n",
       "      <td>16938</td>\n",
       "      <td>9172</td>\n",
       "      <td>7578</td>\n",
       "      <td>0.542</td>\n",
       "      <td>...</td>\n",
       "      <td>5270</td>\n",
       "      <td>4451</td>\n",
       "      <td>2301</td>\n",
       "      <td>886</td>\n",
       "      <td>0</td>\n",
       "      <td>0</td>\n",
       "      <td>0</td>\n",
       "      <td>0</td>\n",
       "      <td>0</td>\n",
       "      <td>0</td>\n",
       "    </tr>\n",
       "    <tr>\n",
       "      <th>4</th>\n",
       "      <td>Ada</td>\n",
       "      <td>ID</td>\n",
       "      <td>Ada, ID</td>\n",
       "      <td>43.452658</td>\n",
       "      <td>-116.241552</td>\n",
       "      <td>435117</td>\n",
       "      <td>259389</td>\n",
       "      <td>130699</td>\n",
       "      <td>120539</td>\n",
       "      <td>0.504</td>\n",
       "      <td>...</td>\n",
       "      <td>56615</td>\n",
       "      <td>42027</td>\n",
       "      <td>18576</td>\n",
       "      <td>7189</td>\n",
       "      <td>0</td>\n",
       "      <td>0</td>\n",
       "      <td>0</td>\n",
       "      <td>0</td>\n",
       "      <td>0</td>\n",
       "      <td>0</td>\n",
       "    </tr>\n",
       "  </tbody>\n",
       "</table>\n",
       "<p>5 rows × 61 columns</p>\n",
       "</div>"
      ],
      "text/plain": [
       "      county state   county_state        lat        long  totalpop  \\\n",
       "0        Kay    OK        Kay, OK  36.817997  -97.144214     45173   \n",
       "1  Abbeville    SC  Abbeville, SC  34.223334  -82.461707     24788   \n",
       "2     Acadia    LA     Acadia, LA  30.295065  -92.414197     62607   \n",
       "3   Accomack    VA   Accomack, VA  37.767072  -75.632346     32840   \n",
       "4        Ada    ID        Ada, ID  43.452658 -116.241552    435117   \n",
       "\n",
       "   total_votes20  votes20_donald_trump  votes20_joe_biden  \\\n",
       "0          17249                 12834               4040   \n",
       "1          12433                  8215               4101   \n",
       "2          28425                 22596               5443   \n",
       "3          16938                  9172               7578   \n",
       "4         259389                130699             120539   \n",
       "\n",
       "   percentage20_donald_trump  ...  age_55to64  age_65to74  age_75to84  \\\n",
       "0                      0.744  ...        5694        4632        2724   \n",
       "1                      0.661  ...        3584        3150        1602   \n",
       "2                      0.795  ...           0           0           0   \n",
       "3                      0.542  ...        5270        4451        2301   \n",
       "4                      0.504  ...       56615       42027       18576   \n",
       "\n",
       "   age_84plus  evangelicals  protestant  catholic  orthodox  muslim  other  \n",
       "0        1183             0           0         0         0       0      0  \n",
       "1         591             0           0         0         0       0      0  \n",
       "2           0             0           0         0         0       0      0  \n",
       "3         886             0           0         0         0       0      0  \n",
       "4        7189             0           0         0         0       0      0  \n",
       "\n",
       "[5 rows x 61 columns]"
      ]
     },
     "execution_count": 3,
     "metadata": {},
     "output_type": "execute_result"
    }
   ],
   "source": [
    "# read in csv as dataframe\n",
    "county_df = pd.read_csv('https://mydataclassdb-bucket.s3.amazonaws.com/covid_and_politics_db.csv')\n",
    "county_df.head()"
   ]
  },
  {
   "cell_type": "code",
   "execution_count": 4,
   "metadata": {},
   "outputs": [
    {
     "data": {
      "text/plain": [
       "0    0.020366\n",
       "1    0.032475\n",
       "2    0.050825\n",
       "3    0.037363\n",
       "4    0.040106\n",
       "Name: normalized_cases, dtype: float64"
      ]
     },
     "execution_count": 4,
     "metadata": {},
     "output_type": "execute_result"
    }
   ],
   "source": [
    "# normalize cases by dividing into each counties total population\n",
    "county_df['normalized_cases'] = county_df['cases']/county_df['totalpop']\n",
    "county_df['normalized_cases'].head()"
   ]
  },
  {
   "cell_type": "code",
   "execution_count": 5,
   "metadata": {},
   "outputs": [
    {
     "data": {
      "text/plain": [
       "['totalpop',\n",
       " 'total_votes20',\n",
       " 'votes20_donald_trump',\n",
       " 'votes20_joe_biden',\n",
       " 'percentage20_donald_trump']"
      ]
     },
     "execution_count": 5,
     "metadata": {},
     "output_type": "execute_result"
    }
   ],
   "source": [
    "# check columns\n",
    "col = ['totalpop', 'total_votes20', 'votes20_donald_trump', 'votes20_joe_biden',\n",
    "       'percentage20_donald_trump', 'percentage20_joe_biden', 'cases',\n",
    "       'deaths', 'men', 'women', 'hispanic', 'white', 'black', 'native',\n",
    "       'asian', 'pacific', 'income', 'incomepercap', 'poverty', 'professional',\n",
    "       'service', 'office', 'construction', 'production', 'drive', 'carpool',\n",
    "       'transit', 'walk', 'othertransp', 'workathome', 'meancommute',\n",
    "       'employed', 'privatework', 'publicwork', 'selfemployed', 'familywork',\n",
    "       'unemployment', 'cases_per_capita_100k', 'deaths_per_capita_100k',\n",
    "       'pop_per_sq_mile_2010', 'age_oto4', 'age_5to14', 'age_15to24',\n",
    "       'age_25to34', 'age_35to44', 'age_45to54', 'age_55to64', 'age_65to74',\n",
    "       'age_75to84', 'age_84plus', 'evangelicals', 'protestant', 'catholic',\n",
    "       'orthodox', 'muslim', 'other', 'normalized_cases']\n",
    "col[:5]"
   ]
  },
  {
   "cell_type": "code",
   "execution_count": 6,
   "metadata": {},
   "outputs": [
    {
     "name": "stdout",
     "output_type": "stream",
     "text": [
      "total_votes20\n"
     ]
    },
    {
     "data": {
      "image/png": "[encoded data removed]",
      "text/plain": [
       "<Figure size 432x288 with 1 Axes>"
      ]
     },
     "metadata": {
      "needs_background": "light"
     },
     "output_type": "display_data"
    },
    {
     "name": "stdout",
     "output_type": "stream",
     "text": [
      "votes20_donald_trump\n"
     ]
    },
    {
     "data": {
      "image/png": "[encoded data removed]",
      "text/plain": [
       "<Figure size 432x288 with 1 Axes>"
      ]
     },
     "metadata": {
      "needs_background": "light"
     },
     "output_type": "display_data"
    },
    {
     "name": "stdout",
     "output_type": "stream",
     "text": [
      "votes20_joe_biden\n"
     ]
    },
    {
     "data": {
      "image/png": "[encoded data removed]",
      "text/plain": [
       "<Figure size 432x288 with 1 Axes>"
      ]
     },
     "metadata": {
      "needs_background": "light"
     },
     "output_type": "display_data"
    },
    {
     "name": "stdout",
     "output_type": "stream",
     "text": [
      "percentage20_donald_trump\n"
     ]
    },
    {
     "data": {
      "image/png": "[encoded data removed]",
      "text/plain": [
       "<Figure size 432x288 with 1 Axes>"
      ]
     },
     "metadata": {
      "needs_background": "light"
     },
     "output_type": "display_data"
    },
    {
     "name": "stdout",
     "output_type": "stream",
     "text": [
      "percentage20_joe_biden\n"
     ]
    },
    {
     "data": {
      "image/png": "[encoded data removed]",
      "text/plain": [
       "<Figure size 432x288 with 1 Axes>"
      ]
     },
     "metadata": {
      "needs_background": "light"
     },
     "output_type": "display_data"
    },
    {
     "name": "stdout",
     "output_type": "stream",
     "text": [
      "cases\n"
     ]
    },
    {
     "data": {
      "image/png": "[encoded data removed]",
      "text/plain": [
       "<Figure size 432x288 with 1 Axes>"
      ]
     },
     "metadata": {
      "needs_background": "light"
     },
     "output_type": "display_data"
    },
    {
     "name": "stdout",
     "output_type": "stream",
     "text": [
      "deaths\n"
     ]
    },
    {
     "data": {
      "image/png": "[encoded data removed]",
      "text/plain": [
       "<Figure size 432x288 with 1 Axes>"
      ]
     },
     "metadata": {
      "needs_background": "light"
     },
     "output_type": "display_data"
    },
    {
     "name": "stdout",
     "output_type": "stream",
     "text": [
      "men\n"
     ]
    },
    {
     "data": {
      "image/png": "[encoded data removed]",
      "text/plain": [
       "<Figure size 432x288 with 1 Axes>"
      ]
     },
     "metadata": {
      "needs_background": "light"
     },
     "output_type": "display_data"
    },
    {
     "name": "stdout",
     "output_type": "stream",
     "text": [
      "women\n"
     ]
    },
    {
     "data": {
      "image/png": "[encoded data removed]",
      "text/plain": [
       "<Figure size 432x288 with 1 Axes>"
      ]
     },
     "metadata": {
      "needs_background": "light"
     },
     "output_type": "display_data"
    },
    {
     "name": "stdout",
     "output_type": "stream",
     "text": [
      "hispanic\n"
     ]
    },
    {
     "data": {
      "image/png": "[encoded data removed]",
      "text/plain": [
       "<Figure size 432x288 with 1 Axes>"
      ]
     },
     "metadata": {
      "needs_background": "light"
     },
     "output_type": "display_data"
    },
    {
     "name": "stdout",
     "output_type": "stream",
     "text": [
      "white\n"
     ]
    },
    {
     "data": {
      "image/png": "[encoded data removed]",
      "text/plain": [
       "<Figure size 432x288 with 1 Axes>"
      ]
     },
     "metadata": {
      "needs_background": "light"
     },
     "output_type": "display_data"
    },
    {
     "name": "stdout",
     "output_type": "stream",
     "text": [
      "black\n"
     ]
    },
    {
     "data": {
      "image/png": "[encoded data removed]",
      "text/plain": [
       "<Figure size 432x288 with 1 Axes>"
      ]
     },
     "metadata": {
      "needs_background": "light"
     },
     "output_type": "display_data"
    },
    {
     "name": "stdout",
     "output_type": "stream",
     "text": [
      "native\n"
     ]
    },
    {
     "data": {
      "image/png": "[encoded data removed]",
      "text/plain": [
       "<Figure size 432x288 with 1 Axes>"
      ]
     },
     "metadata": {
      "needs_background": "light"
     },
     "output_type": "display_data"
    },
    {
     "name": "stdout",
     "output_type": "stream",
     "text": [
      "asian\n"
     ]
    },
    {
     "data": {
      "image/png": "[encoded data removed]",
      "text/plain": [
       "<Figure size 432x288 with 1 Axes>"
      ]
     },
     "metadata": {
      "needs_background": "light"
     },
     "output_type": "display_data"
    },
    {
     "name": "stdout",
     "output_type": "stream",
     "text": [
      "pacific\n"
     ]
    },
    {
     "data": {
      "image/png": "[encoded data removed]",
      "text/plain": [
       "<Figure size 432x288 with 1 Axes>"
      ]
     },
     "metadata": {
      "needs_background": "light"
     },
     "output_type": "display_data"
    },
    {
     "name": "stdout",
     "output_type": "stream",
     "text": [
      "income\n"
     ]
    },
    {
     "data": {
      "image/png": "[encoded data removed]",
      "text/plain": [
       "<Figure size 432x288 with 1 Axes>"
      ]
     },
     "metadata": {
      "needs_background": "light"
     },
     "output_type": "display_data"
    },
    {
     "name": "stdout",
     "output_type": "stream",
     "text": [
      "incomepercap\n"
     ]
    },
    {
     "data": {
      "image/png": "[encoded data removed]",
      "text/plain": [
       "<Figure size 432x288 with 1 Axes>"
      ]
     },
     "metadata": {
      "needs_background": "light"
     },
     "output_type": "display_data"
    },
    {
     "name": "stdout",
     "output_type": "stream",
     "text": [
      "poverty\n"
     ]
    },
    {
     "data": {
      "image/png": "[encoded data removed]",
      "text/plain": [
       "<Figure size 432x288 with 1 Axes>"
      ]
     },
     "metadata": {
      "needs_background": "light"
     },
     "output_type": "display_data"
    },
    {
     "name": "stdout",
     "output_type": "stream",
     "text": [
      "professional\n"
     ]
    },
    {
     "data": {
      "image/png": "[encoded data removed]",
      "text/plain": [
       "<Figure size 432x288 with 1 Axes>"
      ]
     },
     "metadata": {
      "needs_background": "light"
     },
     "output_type": "display_data"
    },
    {
     "name": "stdout",
     "output_type": "stream",
     "text": [
      "service\n"
     ]
    },
    {
     "data": {
      "image/png": "[encoded data removed]",
      "text/plain": [
       "<Figure size 432x288 with 1 Axes>"
      ]
     },
     "metadata": {
      "needs_background": "light"
     },
     "output_type": "display_data"
    },
    {
     "name": "stdout",
     "output_type": "stream",
     "text": [
      "office\n"
     ]
    },
    {
     "data": {
      "image/png": "[encoded data removed]",
      "text/plain": [
       "<Figure size 432x288 with 1 Axes>"
      ]
     },
     "metadata": {
      "needs_background": "light"
     },
     "output_type": "display_data"
    },
    {
     "name": "stdout",
     "output_type": "stream",
     "text": [
      "construction\n"
     ]
    },
    {
     "data": {
      "image/png": "[encoded data removed]",
      "text/plain": [
       "<Figure size 432x288 with 1 Axes>"
      ]
     },
     "metadata": {
      "needs_background": "light"
     },
     "output_type": "display_data"
    },
    {
     "name": "stdout",
     "output_type": "stream",
     "text": [
      "production\n"
     ]
    },
    {
     "data": {
      "image/png": "[encoded data removed]",
      "text/plain": [
       "<Figure size 432x288 with 1 Axes>"
      ]
     },
     "metadata": {
      "needs_background": "light"
     },
     "output_type": "display_data"
    },
    {
     "name": "stdout",
     "output_type": "stream",
     "text": [
      "drive\n"
     ]
    },
    {
     "data": {
      "image/png": "[encoded data removed]",
      "text/plain": [
       "<Figure size 432x288 with 1 Axes>"
      ]
     },
     "metadata": {
      "needs_background": "light"
     },
     "output_type": "display_data"
    },
    {
     "name": "stdout",
     "output_type": "stream",
     "text": [
      "carpool\n"
     ]
    },
    {
     "data": {
      "image/png": "[encoded data removed]",
      "text/plain": [
       "<Figure size 432x288 with 1 Axes>"
      ]
     },
     "metadata": {
      "needs_background": "light"
     },
     "output_type": "display_data"
    },
    {
     "name": "stdout",
     "output_type": "stream",
     "text": [
      "transit\n"
     ]
    },
    {
     "data": {
      "image/png": "[encoded data removed]",
      "text/plain": [
       "<Figure size 432x288 with 1 Axes>"
      ]
     },
     "metadata": {
      "needs_background": "light"
     },
     "output_type": "display_data"
    },
    {
     "name": "stdout",
     "output_type": "stream",
     "text": [
      "walk\n"
     ]
    },
    {
     "data": {
      "image/png": "[encoded data removed]",
      "text/plain": [
       "<Figure size 432x288 with 1 Axes>"
      ]
     },
     "metadata": {
      "needs_background": "light"
     },
     "output_type": "display_data"
    },
    {
     "name": "stdout",
     "output_type": "stream",
     "text": [
      "othertransp\n"
     ]
    },
    {
     "data": {
      "image/png": "[encoded data removed]",
      "text/plain": [
       "<Figure size 432x288 with 1 Axes>"
      ]
     },
     "metadata": {
      "needs_background": "light"
     },
     "output_type": "display_data"
    },
    {
     "name": "stdout",
     "output_type": "stream",
     "text": [
      "workathome\n"
     ]
    },
    {
     "data": {
      "image/png": "[encoded data removed]",
      "text/plain": [
       "<Figure size 432x288 with 1 Axes>"
      ]
     },
     "metadata": {
      "needs_background": "light"
     },
     "output_type": "display_data"
    },
    {
     "name": "stdout",
     "output_type": "stream",
     "text": [
      "meancommute\n"
     ]
    },
    {
     "data": {
      "image/png": "[encoded data removed]",
      "text/plain": [
       "<Figure size 432x288 with 1 Axes>"
      ]
     },
     "metadata": {
      "needs_background": "light"
     },
     "output_type": "display_data"
    },
    {
     "name": "stdout",
     "output_type": "stream",
     "text": [
      "employed\n"
     ]
    },
    {
     "data": {
      "image/png": "[encoded data removed]",
      "text/plain": [
       "<Figure size 432x288 with 1 Axes>"
      ]
     },
     "metadata": {
      "needs_background": "light"
     },
     "output_type": "display_data"
    },
    {
     "name": "stdout",
     "output_type": "stream",
     "text": [
      "privatework\n"
     ]
    },
    {
     "data": {
      "image/png": "[encoded data removed]",
      "text/plain": [
       "<Figure size 432x288 with 1 Axes>"
      ]
     },
     "metadata": {
      "needs_background": "light"
     },
     "output_type": "display_data"
    },
    {
     "name": "stdout",
     "output_type": "stream",
     "text": [
      "publicwork\n"
     ]
    },
    {
     "data": {
      "image/png": "[encoded data removed]",
      "text/plain": [
       "<Figure size 432x288 with 1 Axes>"
      ]
     },
     "metadata": {
      "needs_background": "light"
     },
     "output_type": "display_data"
    },
    {
     "name": "stdout",
     "output_type": "stream",
     "text": [
      "selfemployed\n"
     ]
    },
    {
     "data": {
      "image/png": "[encoded data removed]",
      "text/plain": [
       "<Figure size 432x288 with 1 Axes>"
      ]
     },
     "metadata": {
      "needs_background": "light"
     },
     "output_type": "display_data"
    },
    {
     "name": "stdout",
     "output_type": "stream",
     "text": [
      "familywork\n"
     ]
    },
    {
     "data": {
      "image/png": "[encoded data removed]",
      "text/plain": [
       "<Figure size 432x288 with 1 Axes>"
      ]
     },
     "metadata": {
      "needs_background": "light"
     },
     "output_type": "display_data"
    },
    {
     "name": "stdout",
     "output_type": "stream",
     "text": [
      "unemployment\n"
     ]
    },
    {
     "data": {
      "image/png": "[encoded data removed]",
      "text/plain": [
       "<Figure size 432x288 with 1 Axes>"
      ]
     },
     "metadata": {
      "needs_background": "light"
     },
     "output_type": "display_data"
    },
    {
     "name": "stdout",
     "output_type": "stream",
     "text": [
      "cases_per_capita_100k\n"
     ]
    },
    {
     "data": {
      "image/png": "[encoded data removed]",
      "text/plain": [
       "<Figure size 432x288 with 1 Axes>"
      ]
     },
     "metadata": {
      "needs_background": "light"
     },
     "output_type": "display_data"
    },
    {
     "name": "stdout",
     "output_type": "stream",
     "text": [
      "deaths_per_capita_100k\n"
     ]
    },
    {
     "data": {
      "image/png": "[encoded data removed]",
      "text/plain": [
       "<Figure size 432x288 with 1 Axes>"
      ]
     },
     "metadata": {
      "needs_background": "light"
     },
     "output_type": "display_data"
    },
    {
     "name": "stdout",
     "output_type": "stream",
     "text": [
      "pop_per_sq_mile_2010\n"
     ]
    },
    {
     "data": {
      "image/png": "[encoded data removed]",
      "text/plain": [
       "<Figure size 432x288 with 1 Axes>"
      ]
     },
     "metadata": {
      "needs_background": "light"
     },
     "output_type": "display_data"
    },
    {
     "name": "stdout",
     "output_type": "stream",
     "text": [
      "age_oto4\n"
     ]
    },
    {
     "data": {
      "image/png": "[encoded data removed]",
      "text/plain": [
       "<Figure size 432x288 with 1 Axes>"
      ]
     },
     "metadata": {
      "needs_background": "light"
     },
     "output_type": "display_data"
    },
    {
     "name": "stdout",
     "output_type": "stream",
     "text": [
      "age_5to14\n"
     ]
    },
    {
     "data": {
      "image/png": "[encoded data removed]",
      "text/plain": [
       "<Figure size 432x288 with 1 Axes>"
      ]
     },
     "metadata": {
      "needs_background": "light"
     },
     "output_type": "display_data"
    },
    {
     "name": "stdout",
     "output_type": "stream",
     "text": [
      "age_15to24\n"
     ]
    },
    {
     "data": {
      "image/png": "[encoded data removed]",
      "text/plain": [
       "<Figure size 432x288 with 1 Axes>"
      ]
     },
     "metadata": {
      "needs_background": "light"
     },
     "output_type": "display_data"
    },
    {
     "name": "stdout",
     "output_type": "stream",
     "text": [
      "age_25to34\n"
     ]
    },
    {
     "data": {
      "image/png": "[encoded data removed]",
      "text/plain": [
       "<Figure size 432x288 with 1 Axes>"
      ]
     },
     "metadata": {
      "needs_background": "light"
     },
     "output_type": "display_data"
    },
    {
     "name": "stdout",
     "output_type": "stream",
     "text": [
      "age_35to44\n"
     ]
    },
    {
     "data": {
      "image/png": "[encoded data removed]",
      "text/plain": [
       "<Figure size 432x288 with 1 Axes>"
      ]
     },
     "metadata": {
      "needs_background": "light"
     },
     "output_type": "display_data"
    },
    {
     "name": "stdout",
     "output_type": "stream",
     "text": [
      "age_45to54\n"
     ]
    },
    {
     "data": {
      "image/png": "[encoded data removed]",
      "text/plain": [
       "<Figure size 432x288 with 1 Axes>"
      ]
     },
     "metadata": {
      "needs_background": "light"
     },
     "output_type": "display_data"
    },
    {
     "name": "stdout",
     "output_type": "stream",
     "text": [
      "age_55to64\n"
     ]
    },
    {
     "data": {
      "image/png": "[encoded data removed]",
      "text/plain": [
       "<Figure size 432x288 with 1 Axes>"
      ]
     },
     "metadata": {
      "needs_background": "light"
     },
     "output_type": "display_data"
    },
    {
     "name": "stdout",
     "output_type": "stream",
     "text": [
      "age_65to74\n"
     ]
    },
    {
     "data": {
      "image/png": "[encoded data removed]",
      "text/plain": [
       "<Figure size 432x288 with 1 Axes>"
      ]
     },
     "metadata": {
      "needs_background": "light"
     },
     "output_type": "display_data"
    },
    {
     "name": "stdout",
     "output_type": "stream",
     "text": [
      "age_75to84\n"
     ]
    },
    {
     "data": {
      "image/png": "[encoded data removed]",
      "text/plain": [
       "<Figure size 432x288 with 1 Axes>"
      ]
     },
     "metadata": {
      "needs_background": "light"
     },
     "output_type": "display_data"
    },
    {
     "name": "stdout",
     "output_type": "stream",
     "text": [
      "age_84plus\n"
     ]
    },
    {
     "data": {
      "image/png": "[encoded data removed]",
      "text/plain": [
       "<Figure size 432x288 with 1 Axes>"
      ]
     },
     "metadata": {
      "needs_background": "light"
     },
     "output_type": "display_data"
    },
    {
     "name": "stdout",
     "output_type": "stream",
     "text": [
      "evangelicals\n"
     ]
    },
    {
     "data": {
      "image/png": "[encoded data removed]",
      "text/plain": [
       "<Figure size 432x288 with 1 Axes>"
      ]
     },
     "metadata": {
      "needs_background": "light"
     },
     "output_type": "display_data"
    },
    {
     "name": "stdout",
     "output_type": "stream",
     "text": [
      "protestant\n"
     ]
    },
    {
     "data": {
      "image/png": "[encoded data removed]",
      "text/plain": [
       "<Figure size 432x288 with 1 Axes>"
      ]
     },
     "metadata": {
      "needs_background": "light"
     },
     "output_type": "display_data"
    },
    {
     "name": "stdout",
     "output_type": "stream",
     "text": [
      "catholic\n"
     ]
    },
    {
     "data": {
      "image/png": "[encoded data removed]",
      "text/plain": [
       "<Figure size 432x288 with 1 Axes>"
      ]
     },
     "metadata": {
      "needs_background": "light"
     },
     "output_type": "display_data"
    },
    {
     "name": "stdout",
     "output_type": "stream",
     "text": [
      "orthodox\n"
     ]
    },
    {
     "data": {
      "image/png": "[encoded data removed]",
      "text/plain": [
       "<Figure size 432x288 with 1 Axes>"
      ]
     },
     "metadata": {
      "needs_background": "light"
     },
     "output_type": "display_data"
    },
    {
     "name": "stdout",
     "output_type": "stream",
     "text": [
      "muslim\n"
     ]
    },
    {
     "data": {
      "image/png": "[encoded data removed]",
      "text/plain": [
       "<Figure size 432x288 with 1 Axes>"
      ]
     },
     "metadata": {
      "needs_background": "light"
     },
     "output_type": "display_data"
    },
    {
     "name": "stdout",
     "output_type": "stream",
     "text": [
      "other\n"
     ]
    },
    {
     "data": {
      "image/png": "[encoded data removed]",
      "text/plain": [
       "<Figure size 432x288 with 1 Axes>"
      ]
     },
     "metadata": {
      "needs_background": "light"
     },
     "output_type": "display_data"
    },
    {
     "name": "stdout",
     "output_type": "stream",
     "text": [
      "normalized_cases\n"
     ]
    },
    {
     "data": {
      "image/png": "[encoded data removed]",
      "text/plain": [
       "<Figure size 432x288 with 1 Axes>"
      ]
     },
     "metadata": {
      "needs_background": "light"
     },
     "output_type": "display_data"
    }
   ],
   "source": [
    "# plot all histograms except county, state, county_state, lat, and long (not used for analysis)\n",
    "for i in col[1:]:\n",
    "    print(i)\n",
    "    plt.figure()\n",
    "    plt.boxplot(county_df[i])\n",
    "    #plt.xlabel(col[1:])\n",
    "    plt.show()"
   ]
  },
  {
   "cell_type": "code",
   "execution_count": 7,
   "metadata": {},
   "outputs": [
    {
     "data": {
      "text/plain": [
       "<AxesSubplot:>"
      ]
     },
     "execution_count": 7,
     "metadata": {},
     "output_type": "execute_result"
    },
    {
     "data": {
      "image/png": "[encoded data removed]",
      "text/plain": [
       "<Figure size 792x648 with 2 Axes>"
      ]
     },
     "metadata": {},
     "output_type": "display_data"
    }
   ],
   "source": [
    "sns.set_theme(style=\"white\")\n",
    "\n",
    "# Compute the correlation matrix\n",
    "corr = county_df.corr()\n",
    "\n",
    "# Generate a mask for the upper triangle\n",
    "mask = np.triu(np.ones_like(corr, dtype=bool))\n",
    "\n",
    "# Set up the matplotlib figure\n",
    "f, ax = plt.subplots(figsize=(11, 9))\n",
    "\n",
    "# Generate a custom diverging colormap\n",
    "cmap = sns.diverging_palette(230, 20, as_cmap=True)\n",
    "\n",
    "# Draw the heatmap with the mask and correct aspect ratio\n",
    "sns.heatmap(corr, mask=mask, cmap=cmap, vmax=.3, center=0,\n",
    "            square=True, linewidths=.5, cbar_kws={\"shrink\": .5})"
   ]
  },
  {
   "cell_type": "code",
   "execution_count": 9,
   "metadata": {},
   "outputs": [
    {
     "data": {
      "text/html": [
       "<div>\n",
       "<style scoped>\n",
       "    .dataframe tbody tr th:only-of-type {\n",
       "        vertical-align: middle;\n",
       "    }\n",
       "\n",
       "    .dataframe tbody tr th {\n",
       "        vertical-align: top;\n",
       "    }\n",
       "\n",
       "    .dataframe thead th {\n",
       "        text-align: right;\n",
       "    }\n",
       "</style>\n",
       "<table border=\"1\" class=\"dataframe\">\n",
       "  <thead>\n",
       "    <tr style=\"text-align: right;\">\n",
       "      <th></th>\n",
       "      <th>totalpop</th>\n",
       "      <th>total_votes20</th>\n",
       "      <th>votes20_donald_trump</th>\n",
       "      <th>votes20_joe_biden</th>\n",
       "      <th>percentage20_donald_trump</th>\n",
       "      <th>percentage20_joe_biden</th>\n",
       "      <th>cases</th>\n",
       "      <th>deaths</th>\n",
       "      <th>men</th>\n",
       "      <th>women</th>\n",
       "      <th>...</th>\n",
       "      <th>age_65to74</th>\n",
       "      <th>age_75to84</th>\n",
       "      <th>age_84plus</th>\n",
       "      <th>evangelicals</th>\n",
       "      <th>protestant</th>\n",
       "      <th>catholic</th>\n",
       "      <th>orthodox</th>\n",
       "      <th>muslim</th>\n",
       "      <th>other</th>\n",
       "      <th>normalized_cases</th>\n",
       "    </tr>\n",
       "  </thead>\n",
       "  <tbody>\n",
       "    <tr>\n",
       "      <th>totalpop</th>\n",
       "      <td>1.000000</td>\n",
       "      <td>0.974928</td>\n",
       "      <td>0.908159</td>\n",
       "      <td>0.969847</td>\n",
       "      <td>-0.366317</td>\n",
       "      <td>0.368234</td>\n",
       "      <td>0.950446</td>\n",
       "      <td>0.810714</td>\n",
       "      <td>0.999881</td>\n",
       "      <td>0.999889</td>\n",
       "      <td>...</td>\n",
       "      <td>0.754397</td>\n",
       "      <td>0.742648</td>\n",
       "      <td>0.736570</td>\n",
       "      <td>-0.002631</td>\n",
       "      <td>-0.002631</td>\n",
       "      <td>-0.002631</td>\n",
       "      <td>-0.002631</td>\n",
       "      <td>-0.002631</td>\n",
       "      <td>-0.002631</td>\n",
       "      <td>-0.004511</td>\n",
       "    </tr>\n",
       "    <tr>\n",
       "      <th>total_votes20</th>\n",
       "      <td>0.974928</td>\n",
       "      <td>1.000000</td>\n",
       "      <td>0.949801</td>\n",
       "      <td>0.984181</td>\n",
       "      <td>-0.366340</td>\n",
       "      <td>0.368070</td>\n",
       "      <td>0.915932</td>\n",
       "      <td>0.729627</td>\n",
       "      <td>0.975333</td>\n",
       "      <td>0.974317</td>\n",
       "      <td>...</td>\n",
       "      <td>0.758358</td>\n",
       "      <td>0.745710</td>\n",
       "      <td>0.734712</td>\n",
       "      <td>-0.002259</td>\n",
       "      <td>-0.002259</td>\n",
       "      <td>-0.002259</td>\n",
       "      <td>-0.002259</td>\n",
       "      <td>-0.002259</td>\n",
       "      <td>-0.002259</td>\n",
       "      <td>-0.013661</td>\n",
       "    </tr>\n",
       "    <tr>\n",
       "      <th>votes20_donald_trump</th>\n",
       "      <td>0.908159</td>\n",
       "      <td>0.949801</td>\n",
       "      <td>1.000000</td>\n",
       "      <td>0.879413</td>\n",
       "      <td>-0.322464</td>\n",
       "      <td>0.323757</td>\n",
       "      <td>0.867620</td>\n",
       "      <td>0.658540</td>\n",
       "      <td>0.909307</td>\n",
       "      <td>0.906847</td>\n",
       "      <td>...</td>\n",
       "      <td>0.800592</td>\n",
       "      <td>0.794796</td>\n",
       "      <td>0.766255</td>\n",
       "      <td>-0.002365</td>\n",
       "      <td>-0.002365</td>\n",
       "      <td>-0.002365</td>\n",
       "      <td>-0.002365</td>\n",
       "      <td>-0.002365</td>\n",
       "      <td>-0.002365</td>\n",
       "      <td>-0.014614</td>\n",
       "    </tr>\n",
       "    <tr>\n",
       "      <th>votes20_joe_biden</th>\n",
       "      <td>0.969847</td>\n",
       "      <td>0.984181</td>\n",
       "      <td>0.879413</td>\n",
       "      <td>1.000000</td>\n",
       "      <td>-0.374922</td>\n",
       "      <td>0.376968</td>\n",
       "      <td>0.903994</td>\n",
       "      <td>0.740317</td>\n",
       "      <td>0.969745</td>\n",
       "      <td>0.969728</td>\n",
       "      <td>...</td>\n",
       "      <td>0.703112</td>\n",
       "      <td>0.687370</td>\n",
       "      <td>0.686914</td>\n",
       "      <td>-0.002168</td>\n",
       "      <td>-0.002168</td>\n",
       "      <td>-0.002168</td>\n",
       "      <td>-0.002168</td>\n",
       "      <td>-0.002168</td>\n",
       "      <td>-0.002168</td>\n",
       "      <td>-0.012030</td>\n",
       "    </tr>\n",
       "    <tr>\n",
       "      <th>percentage20_donald_trump</th>\n",
       "      <td>-0.366317</td>\n",
       "      <td>-0.366340</td>\n",
       "      <td>-0.322464</td>\n",
       "      <td>-0.374922</td>\n",
       "      <td>1.000000</td>\n",
       "      <td>-0.998743</td>\n",
       "      <td>-0.313468</td>\n",
       "      <td>-0.302485</td>\n",
       "      <td>-0.364734</td>\n",
       "      <td>-0.367761</td>\n",
       "      <td>...</td>\n",
       "      <td>-0.367175</td>\n",
       "      <td>-0.350463</td>\n",
       "      <td>-0.359337</td>\n",
       "      <td>-0.013355</td>\n",
       "      <td>-0.013355</td>\n",
       "      <td>-0.013355</td>\n",
       "      <td>-0.013355</td>\n",
       "      <td>-0.013355</td>\n",
       "      <td>-0.013355</td>\n",
       "      <td>-0.027139</td>\n",
       "    </tr>\n",
       "    <tr>\n",
       "      <th>percentage20_joe_biden</th>\n",
       "      <td>0.368234</td>\n",
       "      <td>0.368070</td>\n",
       "      <td>0.323757</td>\n",
       "      <td>0.376968</td>\n",
       "      <td>-0.998743</td>\n",
       "      <td>1.000000</td>\n",
       "      <td>0.316188</td>\n",
       "      <td>0.307715</td>\n",
       "      <td>0.366547</td>\n",
       "      <td>0.369778</td>\n",
       "      <td>...</td>\n",
       "      <td>0.370036</td>\n",
       "      <td>0.353780</td>\n",
       "      <td>0.362616</td>\n",
       "      <td>0.011970</td>\n",
       "      <td>0.011970</td>\n",
       "      <td>0.011970</td>\n",
       "      <td>0.011970</td>\n",
       "      <td>0.011970</td>\n",
       "      <td>0.011970</td>\n",
       "      <td>0.031910</td>\n",
       "    </tr>\n",
       "    <tr>\n",
       "      <th>cases</th>\n",
       "      <td>0.950446</td>\n",
       "      <td>0.915932</td>\n",
       "      <td>0.867620</td>\n",
       "      <td>0.903994</td>\n",
       "      <td>-0.313468</td>\n",
       "      <td>0.316188</td>\n",
       "      <td>1.000000</td>\n",
       "      <td>0.821005</td>\n",
       "      <td>0.949576</td>\n",
       "      <td>0.951072</td>\n",
       "      <td>...</td>\n",
       "      <td>0.740958</td>\n",
       "      <td>0.736918</td>\n",
       "      <td>0.723481</td>\n",
       "      <td>-0.003529</td>\n",
       "      <td>-0.003529</td>\n",
       "      <td>-0.003529</td>\n",
       "      <td>-0.003529</td>\n",
       "      <td>-0.003529</td>\n",
       "      <td>-0.003529</td>\n",
       "      <td>0.084255</td>\n",
       "    </tr>\n",
       "    <tr>\n",
       "      <th>deaths</th>\n",
       "      <td>0.810714</td>\n",
       "      <td>0.729627</td>\n",
       "      <td>0.658540</td>\n",
       "      <td>0.740317</td>\n",
       "      <td>-0.302485</td>\n",
       "      <td>0.307715</td>\n",
       "      <td>0.821005</td>\n",
       "      <td>1.000000</td>\n",
       "      <td>0.805295</td>\n",
       "      <td>0.815758</td>\n",
       "      <td>...</td>\n",
       "      <td>0.691691</td>\n",
       "      <td>0.699393</td>\n",
       "      <td>0.715863</td>\n",
       "      <td>-0.003375</td>\n",
       "      <td>-0.003375</td>\n",
       "      <td>-0.003375</td>\n",
       "      <td>-0.003375</td>\n",
       "      <td>-0.003375</td>\n",
       "      <td>-0.003375</td>\n",
       "      <td>0.043912</td>\n",
       "    </tr>\n",
       "    <tr>\n",
       "      <th>men</th>\n",
       "      <td>0.999881</td>\n",
       "      <td>0.975333</td>\n",
       "      <td>0.909307</td>\n",
       "      <td>0.969745</td>\n",
       "      <td>-0.364734</td>\n",
       "      <td>0.366547</td>\n",
       "      <td>0.949576</td>\n",
       "      <td>0.805295</td>\n",
       "      <td>1.000000</td>\n",
       "      <td>0.999541</td>\n",
       "      <td>...</td>\n",
       "      <td>0.751585</td>\n",
       "      <td>0.739531</td>\n",
       "      <td>0.732704</td>\n",
       "      <td>-0.002516</td>\n",
       "      <td>-0.002516</td>\n",
       "      <td>-0.002516</td>\n",
       "      <td>-0.002516</td>\n",
       "      <td>-0.002516</td>\n",
       "      <td>-0.002516</td>\n",
       "      <td>-0.004555</td>\n",
       "    </tr>\n",
       "    <tr>\n",
       "      <th>women</th>\n",
       "      <td>0.999889</td>\n",
       "      <td>0.974317</td>\n",
       "      <td>0.906847</td>\n",
       "      <td>0.969728</td>\n",
       "      <td>-0.367761</td>\n",
       "      <td>0.369778</td>\n",
       "      <td>0.951072</td>\n",
       "      <td>0.815758</td>\n",
       "      <td>0.999541</td>\n",
       "      <td>1.000000</td>\n",
       "      <td>...</td>\n",
       "      <td>0.756939</td>\n",
       "      <td>0.745488</td>\n",
       "      <td>0.740132</td>\n",
       "      <td>-0.002742</td>\n",
       "      <td>-0.002742</td>\n",
       "      <td>-0.002742</td>\n",
       "      <td>-0.002742</td>\n",
       "      <td>-0.002742</td>\n",
       "      <td>-0.002742</td>\n",
       "      <td>-0.004467</td>\n",
       "    </tr>\n",
       "    <tr>\n",
       "      <th>hispanic</th>\n",
       "      <td>0.193348</td>\n",
       "      <td>0.167801</td>\n",
       "      <td>0.158861</td>\n",
       "      <td>0.165662</td>\n",
       "      <td>-0.144992</td>\n",
       "      <td>0.149591</td>\n",
       "      <td>0.218810</td>\n",
       "      <td>0.185599</td>\n",
       "      <td>0.194622</td>\n",
       "      <td>0.192076</td>\n",
       "      <td>...</td>\n",
       "      <td>0.153004</td>\n",
       "      <td>0.153739</td>\n",
       "      <td>0.146576</td>\n",
       "      <td>0.018610</td>\n",
       "      <td>0.018610</td>\n",
       "      <td>0.018610</td>\n",
       "      <td>0.018610</td>\n",
       "      <td>0.018610</td>\n",
       "      <td>0.018610</td>\n",
       "      <td>0.112959</td>\n",
       "    </tr>\n",
       "    <tr>\n",
       "      <th>white</th>\n",
       "      <td>-0.246773</td>\n",
       "      <td>-0.226430</td>\n",
       "      <td>-0.191968</td>\n",
       "      <td>-0.236746</td>\n",
       "      <td>0.515996</td>\n",
       "      <td>-0.529241</td>\n",
       "      <td>-0.263001</td>\n",
       "      <td>-0.246191</td>\n",
       "      <td>-0.246104</td>\n",
       "      <td>-0.247364</td>\n",
       "      <td>...</td>\n",
       "      <td>-0.207230</td>\n",
       "      <td>-0.200618</td>\n",
       "      <td>-0.197512</td>\n",
       "      <td>-0.008341</td>\n",
       "      <td>-0.008341</td>\n",
       "      <td>-0.008341</td>\n",
       "      <td>-0.008341</td>\n",
       "      <td>-0.008341</td>\n",
       "      <td>-0.008341</td>\n",
       "      <td>-0.328666</td>\n",
       "    </tr>\n",
       "    <tr>\n",
       "      <th>black</th>\n",
       "      <td>0.071866</td>\n",
       "      <td>0.068930</td>\n",
       "      <td>0.044690</td>\n",
       "      <td>0.080742</td>\n",
       "      <td>-0.420683</td>\n",
       "      <td>0.437958</td>\n",
       "      <td>0.091728</td>\n",
       "      <td>0.100088</td>\n",
       "      <td>0.069323</td>\n",
       "      <td>0.074303</td>\n",
       "      <td>...</td>\n",
       "      <td>0.067908</td>\n",
       "      <td>0.062200</td>\n",
       "      <td>0.061192</td>\n",
       "      <td>-0.009114</td>\n",
       "      <td>-0.009114</td>\n",
       "      <td>-0.009114</td>\n",
       "      <td>-0.009114</td>\n",
       "      <td>-0.009114</td>\n",
       "      <td>-0.009114</td>\n",
       "      <td>0.283421</td>\n",
       "    </tr>\n",
       "    <tr>\n",
       "      <th>native</th>\n",
       "      <td>-0.044216</td>\n",
       "      <td>-0.047490</td>\n",
       "      <td>-0.058552</td>\n",
       "      <td>-0.039183</td>\n",
       "      <td>-0.117481</td>\n",
       "      <td>0.112546</td>\n",
       "      <td>-0.033325</td>\n",
       "      <td>-0.028340</td>\n",
       "      <td>-0.044102</td>\n",
       "      <td>-0.044316</td>\n",
       "      <td>...</td>\n",
       "      <td>-0.051659</td>\n",
       "      <td>-0.051450</td>\n",
       "      <td>-0.051542</td>\n",
       "      <td>0.001226</td>\n",
       "      <td>0.001226</td>\n",
       "      <td>0.001226</td>\n",
       "      <td>0.001226</td>\n",
       "      <td>0.001226</td>\n",
       "      <td>0.001226</td>\n",
       "      <td>0.180585</td>\n",
       "    </tr>\n",
       "    <tr>\n",
       "      <th>asian</th>\n",
       "      <td>0.497216</td>\n",
       "      <td>0.498154</td>\n",
       "      <td>0.446466</td>\n",
       "      <td>0.504983</td>\n",
       "      <td>-0.455123</td>\n",
       "      <td>0.453555</td>\n",
       "      <td>0.378975</td>\n",
       "      <td>0.386692</td>\n",
       "      <td>0.498382</td>\n",
       "      <td>0.495979</td>\n",
       "      <td>...</td>\n",
       "      <td>0.440812</td>\n",
       "      <td>0.424230</td>\n",
       "      <td>0.441362</td>\n",
       "      <td>0.008360</td>\n",
       "      <td>0.008360</td>\n",
       "      <td>0.008360</td>\n",
       "      <td>0.008360</td>\n",
       "      <td>0.008360</td>\n",
       "      <td>0.008360</td>\n",
       "      <td>-0.045907</td>\n",
       "    </tr>\n",
       "    <tr>\n",
       "      <th>pacific</th>\n",
       "      <td>0.064193</td>\n",
       "      <td>0.065418</td>\n",
       "      <td>0.056969</td>\n",
       "      <td>0.066377</td>\n",
       "      <td>-0.095418</td>\n",
       "      <td>0.092045</td>\n",
       "      <td>0.029512</td>\n",
       "      <td>0.002149</td>\n",
       "      <td>0.065842</td>\n",
       "      <td>0.062588</td>\n",
       "      <td>...</td>\n",
       "      <td>0.069087</td>\n",
       "      <td>0.061728</td>\n",
       "      <td>0.072001</td>\n",
       "      <td>0.001329</td>\n",
       "      <td>0.001329</td>\n",
       "      <td>0.001329</td>\n",
       "      <td>0.001329</td>\n",
       "      <td>0.001329</td>\n",
       "      <td>0.001329</td>\n",
       "      <td>-0.041349</td>\n",
       "    </tr>\n",
       "    <tr>\n",
       "      <th>income</th>\n",
       "      <td>0.255387</td>\n",
       "      <td>0.279712</td>\n",
       "      <td>0.301007</td>\n",
       "      <td>0.254469</td>\n",
       "      <td>-0.222800</td>\n",
       "      <td>0.211786</td>\n",
       "      <td>0.180165</td>\n",
       "      <td>0.165641</td>\n",
       "      <td>0.256282</td>\n",
       "      <td>0.254465</td>\n",
       "      <td>...</td>\n",
       "      <td>0.258924</td>\n",
       "      <td>0.245910</td>\n",
       "      <td>0.253268</td>\n",
       "      <td>-0.000217</td>\n",
       "      <td>-0.000217</td>\n",
       "      <td>-0.000217</td>\n",
       "      <td>-0.000217</td>\n",
       "      <td>-0.000217</td>\n",
       "      <td>-0.000217</td>\n",
       "      <td>-0.171691</td>\n",
       "    </tr>\n",
       "    <tr>\n",
       "      <th>incomepercap</th>\n",
       "      <td>0.260287</td>\n",
       "      <td>0.285005</td>\n",
       "      <td>0.285633</td>\n",
       "      <td>0.271735</td>\n",
       "      <td>-0.272612</td>\n",
       "      <td>0.263180</td>\n",
       "      <td>0.181584</td>\n",
       "      <td>0.185483</td>\n",
       "      <td>0.259505</td>\n",
       "      <td>0.260983</td>\n",
       "      <td>...</td>\n",
       "      <td>0.272417</td>\n",
       "      <td>0.262046</td>\n",
       "      <td>0.275092</td>\n",
       "      <td>0.006324</td>\n",
       "      <td>0.006324</td>\n",
       "      <td>0.006324</td>\n",
       "      <td>0.006324</td>\n",
       "      <td>0.006324</td>\n",
       "      <td>0.006324</td>\n",
       "      <td>-0.205619</td>\n",
       "    </tr>\n",
       "    <tr>\n",
       "      <th>poverty</th>\n",
       "      <td>-0.065427</td>\n",
       "      <td>-0.089782</td>\n",
       "      <td>-0.119819</td>\n",
       "      <td>-0.068145</td>\n",
       "      <td>-0.126727</td>\n",
       "      <td>0.138899</td>\n",
       "      <td>-0.023886</td>\n",
       "      <td>-0.008800</td>\n",
       "      <td>-0.066237</td>\n",
       "      <td>-0.064631</td>\n",
       "      <td>...</td>\n",
       "      <td>-0.086347</td>\n",
       "      <td>-0.082952</td>\n",
       "      <td>-0.087045</td>\n",
       "      <td>-0.003624</td>\n",
       "      <td>-0.003624</td>\n",
       "      <td>-0.003624</td>\n",
       "      <td>-0.003624</td>\n",
       "      <td>-0.003624</td>\n",
       "      <td>-0.003624</td>\n",
       "      <td>0.253150</td>\n",
       "    </tr>\n",
       "    <tr>\n",
       "      <th>professional</th>\n",
       "      <td>0.255961</td>\n",
       "      <td>0.283216</td>\n",
       "      <td>0.276576</td>\n",
       "      <td>0.273881</td>\n",
       "      <td>-0.322305</td>\n",
       "      <td>0.311669</td>\n",
       "      <td>0.185472</td>\n",
       "      <td>0.169456</td>\n",
       "      <td>0.254833</td>\n",
       "      <td>0.256990</td>\n",
       "      <td>...</td>\n",
       "      <td>0.263375</td>\n",
       "      <td>0.247819</td>\n",
       "      <td>0.259517</td>\n",
       "      <td>-0.003167</td>\n",
       "      <td>-0.003167</td>\n",
       "      <td>-0.003167</td>\n",
       "      <td>-0.003167</td>\n",
       "      <td>-0.003167</td>\n",
       "      <td>-0.003167</td>\n",
       "      <td>-0.128728</td>\n",
       "    </tr>\n",
       "    <tr>\n",
       "      <th>service</th>\n",
       "      <td>0.003009</td>\n",
       "      <td>-0.015414</td>\n",
       "      <td>-0.027531</td>\n",
       "      <td>-0.007365</td>\n",
       "      <td>-0.267611</td>\n",
       "      <td>0.270469</td>\n",
       "      <td>0.018946</td>\n",
       "      <td>0.048688</td>\n",
       "      <td>0.003196</td>\n",
       "      <td>0.002827</td>\n",
       "      <td>...</td>\n",
       "      <td>0.012522</td>\n",
       "      <td>0.020321</td>\n",
       "      <td>0.013335</td>\n",
       "      <td>0.021350</td>\n",
       "      <td>0.021350</td>\n",
       "      <td>0.021350</td>\n",
       "      <td>0.021350</td>\n",
       "      <td>0.021350</td>\n",
       "      <td>0.021350</td>\n",
       "      <td>0.004729</td>\n",
       "    </tr>\n",
       "    <tr>\n",
       "      <th>office</th>\n",
       "      <td>0.185485</td>\n",
       "      <td>0.205656</td>\n",
       "      <td>0.275834</td>\n",
       "      <td>0.156744</td>\n",
       "      <td>-0.186162</td>\n",
       "      <td>0.188554</td>\n",
       "      <td>0.177931</td>\n",
       "      <td>0.132400</td>\n",
       "      <td>0.184697</td>\n",
       "      <td>0.186203</td>\n",
       "      <td>...</td>\n",
       "      <td>0.236247</td>\n",
       "      <td>0.237875</td>\n",
       "      <td>0.219619</td>\n",
       "      <td>0.010916</td>\n",
       "      <td>0.010916</td>\n",
       "      <td>0.010916</td>\n",
       "      <td>0.010916</td>\n",
       "      <td>0.010916</td>\n",
       "      <td>0.010916</td>\n",
       "      <td>-0.045377</td>\n",
       "    </tr>\n",
       "    <tr>\n",
       "      <th>construction</th>\n",
       "      <td>-0.270376</td>\n",
       "      <td>-0.291742</td>\n",
       "      <td>-0.316249</td>\n",
       "      <td>-0.264749</td>\n",
       "      <td>0.491948</td>\n",
       "      <td>-0.489916</td>\n",
       "      <td>-0.222353</td>\n",
       "      <td>-0.203994</td>\n",
       "      <td>-0.268712</td>\n",
       "      <td>-0.271920</td>\n",
       "      <td>...</td>\n",
       "      <td>-0.304490</td>\n",
       "      <td>-0.297139</td>\n",
       "      <td>-0.298157</td>\n",
       "      <td>-0.010993</td>\n",
       "      <td>-0.010993</td>\n",
       "      <td>-0.010993</td>\n",
       "      <td>-0.010993</td>\n",
       "      <td>-0.010993</td>\n",
       "      <td>-0.010993</td>\n",
       "      <td>0.023131</td>\n",
       "    </tr>\n",
       "    <tr>\n",
       "      <th>production</th>\n",
       "      <td>-0.191341</td>\n",
       "      <td>-0.205376</td>\n",
       "      <td>-0.209509</td>\n",
       "      <td>-0.193750</td>\n",
       "      <td>0.275531</td>\n",
       "      <td>-0.268213</td>\n",
       "      <td>-0.153259</td>\n",
       "      <td>-0.143319</td>\n",
       "      <td>-0.190980</td>\n",
       "      <td>-0.191647</td>\n",
       "      <td>...</td>\n",
       "      <td>-0.207661</td>\n",
       "      <td>-0.201399</td>\n",
       "      <td>-0.199718</td>\n",
       "      <td>-0.007919</td>\n",
       "      <td>-0.007919</td>\n",
       "      <td>-0.007919</td>\n",
       "      <td>-0.007919</td>\n",
       "      <td>-0.007919</td>\n",
       "      <td>-0.007919</td>\n",
       "      <td>0.147490</td>\n",
       "    </tr>\n",
       "    <tr>\n",
       "      <th>drive</th>\n",
       "      <td>-0.143339</td>\n",
       "      <td>-0.105777</td>\n",
       "      <td>-0.019730</td>\n",
       "      <td>-0.150521</td>\n",
       "      <td>0.154893</td>\n",
       "      <td>-0.147098</td>\n",
       "      <td>-0.120661</td>\n",
       "      <td>-0.261708</td>\n",
       "      <td>-0.141297</td>\n",
       "      <td>-0.145275</td>\n",
       "      <td>...</td>\n",
       "      <td>-0.107968</td>\n",
       "      <td>-0.106217</td>\n",
       "      <td>-0.125735</td>\n",
       "      <td>0.000278</td>\n",
       "      <td>0.000278</td>\n",
       "      <td>0.000278</td>\n",
       "      <td>0.000278</td>\n",
       "      <td>0.000278</td>\n",
       "      <td>0.000278</td>\n",
       "      <td>0.051786</td>\n",
       "    </tr>\n",
       "    <tr>\n",
       "      <th>carpool</th>\n",
       "      <td>-0.070093</td>\n",
       "      <td>-0.077668</td>\n",
       "      <td>-0.089869</td>\n",
       "      <td>-0.067573</td>\n",
       "      <td>0.093308</td>\n",
       "      <td>-0.092335</td>\n",
       "      <td>-0.050328</td>\n",
       "      <td>-0.083474</td>\n",
       "      <td>-0.068668</td>\n",
       "      <td>-0.071452</td>\n",
       "      <td>...</td>\n",
       "      <td>-0.090772</td>\n",
       "      <td>-0.091174</td>\n",
       "      <td>-0.096603</td>\n",
       "      <td>0.015001</td>\n",
       "      <td>0.015001</td>\n",
       "      <td>0.015001</td>\n",
       "      <td>0.015001</td>\n",
       "      <td>0.015001</td>\n",
       "      <td>0.015001</td>\n",
       "      <td>0.070307</td>\n",
       "    </tr>\n",
       "    <tr>\n",
       "      <th>transit</th>\n",
       "      <td>0.407801</td>\n",
       "      <td>0.339688</td>\n",
       "      <td>0.245295</td>\n",
       "      <td>0.380156</td>\n",
       "      <td>-0.360600</td>\n",
       "      <td>0.363034</td>\n",
       "      <td>0.361982</td>\n",
       "      <td>0.661000</td>\n",
       "      <td>0.401849</td>\n",
       "      <td>0.413451</td>\n",
       "      <td>...</td>\n",
       "      <td>0.389532</td>\n",
       "      <td>0.389108</td>\n",
       "      <td>0.421796</td>\n",
       "      <td>-0.003528</td>\n",
       "      <td>-0.003528</td>\n",
       "      <td>-0.003528</td>\n",
       "      <td>-0.003528</td>\n",
       "      <td>-0.003528</td>\n",
       "      <td>-0.003528</td>\n",
       "      <td>-0.029805</td>\n",
       "    </tr>\n",
       "    <tr>\n",
       "      <th>walk</th>\n",
       "      <td>-0.042841</td>\n",
       "      <td>-0.063297</td>\n",
       "      <td>-0.118321</td>\n",
       "      <td>-0.029267</td>\n",
       "      <td>-0.027923</td>\n",
       "      <td>0.017009</td>\n",
       "      <td>-0.048950</td>\n",
       "      <td>0.006575</td>\n",
       "      <td>-0.043312</td>\n",
       "      <td>-0.042378</td>\n",
       "      <td>...</td>\n",
       "      <td>-0.075052</td>\n",
       "      <td>-0.075004</td>\n",
       "      <td>-0.057819</td>\n",
       "      <td>0.000051</td>\n",
       "      <td>0.000051</td>\n",
       "      <td>0.000051</td>\n",
       "      <td>0.000051</td>\n",
       "      <td>0.000051</td>\n",
       "      <td>0.000051</td>\n",
       "      <td>-0.063257</td>\n",
       "    </tr>\n",
       "    <tr>\n",
       "      <th>othertransp</th>\n",
       "      <td>0.073095</td>\n",
       "      <td>0.071072</td>\n",
       "      <td>0.039364</td>\n",
       "      <td>0.085740</td>\n",
       "      <td>-0.181533</td>\n",
       "      <td>0.179946</td>\n",
       "      <td>0.062229</td>\n",
       "      <td>0.059199</td>\n",
       "      <td>0.073550</td>\n",
       "      <td>0.072640</td>\n",
       "      <td>...</td>\n",
       "      <td>0.057145</td>\n",
       "      <td>0.055908</td>\n",
       "      <td>0.054359</td>\n",
       "      <td>0.002874</td>\n",
       "      <td>0.002874</td>\n",
       "      <td>0.002874</td>\n",
       "      <td>0.002874</td>\n",
       "      <td>0.002874</td>\n",
       "      <td>0.002874</td>\n",
       "      <td>-0.002464</td>\n",
       "    </tr>\n",
       "    <tr>\n",
       "      <th>workathome</th>\n",
       "      <td>-0.011674</td>\n",
       "      <td>0.000146</td>\n",
       "      <td>-0.020004</td>\n",
       "      <td>0.011282</td>\n",
       "      <td>0.023494</td>\n",
       "      <td>-0.033009</td>\n",
       "      <td>-0.024856</td>\n",
       "      <td>-0.030117</td>\n",
       "      <td>-0.011353</td>\n",
       "      <td>-0.011980</td>\n",
       "      <td>...</td>\n",
       "      <td>-0.015443</td>\n",
       "      <td>-0.018044</td>\n",
       "      <td>-0.017765</td>\n",
       "      <td>-0.011728</td>\n",
       "      <td>-0.011728</td>\n",
       "      <td>-0.011728</td>\n",
       "      <td>-0.011728</td>\n",
       "      <td>-0.011728</td>\n",
       "      <td>-0.011728</td>\n",
       "      <td>-0.089784</td>\n",
       "    </tr>\n",
       "    <tr>\n",
       "      <th>meancommute</th>\n",
       "      <td>0.161428</td>\n",
       "      <td>0.156658</td>\n",
       "      <td>0.162027</td>\n",
       "      <td>0.147580</td>\n",
       "      <td>-0.092374</td>\n",
       "      <td>0.104695</td>\n",
       "      <td>0.135353</td>\n",
       "      <td>0.189858</td>\n",
       "      <td>0.160466</td>\n",
       "      <td>0.162319</td>\n",
       "      <td>...</td>\n",
       "      <td>0.166890</td>\n",
       "      <td>0.163857</td>\n",
       "      <td>0.155563</td>\n",
       "      <td>-0.016334</td>\n",
       "      <td>-0.016334</td>\n",
       "      <td>-0.016334</td>\n",
       "      <td>-0.016334</td>\n",
       "      <td>-0.016334</td>\n",
       "      <td>-0.016334</td>\n",
       "      <td>-0.160850</td>\n",
       "    </tr>\n",
       "    <tr>\n",
       "      <th>employed</th>\n",
       "      <td>0.997981</td>\n",
       "      <td>0.975998</td>\n",
       "      <td>0.904709</td>\n",
       "      <td>0.973362</td>\n",
       "      <td>-0.372204</td>\n",
       "      <td>0.373877</td>\n",
       "      <td>0.944265</td>\n",
       "      <td>0.803859</td>\n",
       "      <td>0.997861</td>\n",
       "      <td>0.997872</td>\n",
       "      <td>...</td>\n",
       "      <td>0.753484</td>\n",
       "      <td>0.739513</td>\n",
       "      <td>0.735823</td>\n",
       "      <td>-0.002691</td>\n",
       "      <td>-0.002691</td>\n",
       "      <td>-0.002691</td>\n",
       "      <td>-0.002691</td>\n",
       "      <td>-0.002691</td>\n",
       "      <td>-0.002691</td>\n",
       "      <td>-0.007571</td>\n",
       "    </tr>\n",
       "    <tr>\n",
       "      <th>privatework</th>\n",
       "      <td>0.196241</td>\n",
       "      <td>0.215929</td>\n",
       "      <td>0.272247</td>\n",
       "      <td>0.174568</td>\n",
       "      <td>-0.110191</td>\n",
       "      <td>0.114193</td>\n",
       "      <td>0.175063</td>\n",
       "      <td>0.145673</td>\n",
       "      <td>0.195273</td>\n",
       "      <td>0.197130</td>\n",
       "      <td>...</td>\n",
       "      <td>0.237361</td>\n",
       "      <td>0.236271</td>\n",
       "      <td>0.230596</td>\n",
       "      <td>-0.009593</td>\n",
       "      <td>-0.009593</td>\n",
       "      <td>-0.009593</td>\n",
       "      <td>-0.009593</td>\n",
       "      <td>-0.009593</td>\n",
       "      <td>-0.009593</td>\n",
       "      <td>-0.055564</td>\n",
       "    </tr>\n",
       "    <tr>\n",
       "      <th>publicwork</th>\n",
       "      <td>-0.143244</td>\n",
       "      <td>-0.159348</td>\n",
       "      <td>-0.200275</td>\n",
       "      <td>-0.129282</td>\n",
       "      <td>-0.081778</td>\n",
       "      <td>0.079824</td>\n",
       "      <td>-0.127241</td>\n",
       "      <td>-0.105873</td>\n",
       "      <td>-0.142248</td>\n",
       "      <td>-0.144172</td>\n",
       "      <td>...</td>\n",
       "      <td>-0.171547</td>\n",
       "      <td>-0.172743</td>\n",
       "      <td>-0.170027</td>\n",
       "      <td>0.023343</td>\n",
       "      <td>0.023343</td>\n",
       "      <td>0.023343</td>\n",
       "      <td>0.023343</td>\n",
       "      <td>0.023343</td>\n",
       "      <td>0.023343</td>\n",
       "      <td>0.075967</td>\n",
       "    </tr>\n",
       "    <tr>\n",
       "      <th>selfemployed</th>\n",
       "      <td>-0.143498</td>\n",
       "      <td>-0.155627</td>\n",
       "      <td>-0.197705</td>\n",
       "      <td>-0.124831</td>\n",
       "      <td>0.318645</td>\n",
       "      <td>-0.322813</td>\n",
       "      <td>-0.128953</td>\n",
       "      <td>-0.107199</td>\n",
       "      <td>-0.143209</td>\n",
       "      <td>-0.143744</td>\n",
       "      <td>...</td>\n",
       "      <td>-0.176645</td>\n",
       "      <td>-0.172996</td>\n",
       "      <td>-0.166804</td>\n",
       "      <td>-0.017817</td>\n",
       "      <td>-0.017817</td>\n",
       "      <td>-0.017817</td>\n",
       "      <td>-0.017817</td>\n",
       "      <td>-0.017817</td>\n",
       "      <td>-0.017817</td>\n",
       "      <td>-0.013051</td>\n",
       "    </tr>\n",
       "    <tr>\n",
       "      <th>familywork</th>\n",
       "      <td>-0.080811</td>\n",
       "      <td>-0.084992</td>\n",
       "      <td>-0.102371</td>\n",
       "      <td>-0.071348</td>\n",
       "      <td>0.151134</td>\n",
       "      <td>-0.154857</td>\n",
       "      <td>-0.071461</td>\n",
       "      <td>-0.060542</td>\n",
       "      <td>-0.080658</td>\n",
       "      <td>-0.080941</td>\n",
       "      <td>...</td>\n",
       "      <td>-0.093851</td>\n",
       "      <td>-0.091804</td>\n",
       "      <td>-0.088323</td>\n",
       "      <td>-0.003363</td>\n",
       "      <td>-0.003363</td>\n",
       "      <td>-0.003363</td>\n",
       "      <td>-0.003363</td>\n",
       "      <td>-0.003363</td>\n",
       "      <td>-0.003363</td>\n",
       "      <td>0.015635</td>\n",
       "    </tr>\n",
       "    <tr>\n",
       "      <th>unemployment</th>\n",
       "      <td>0.033227</td>\n",
       "      <td>0.018394</td>\n",
       "      <td>0.009733</td>\n",
       "      <td>0.023103</td>\n",
       "      <td>-0.252594</td>\n",
       "      <td>0.263911</td>\n",
       "      <td>0.039767</td>\n",
       "      <td>0.059121</td>\n",
       "      <td>0.032528</td>\n",
       "      <td>0.033894</td>\n",
       "      <td>...</td>\n",
       "      <td>0.033953</td>\n",
       "      <td>0.036722</td>\n",
       "      <td>0.027596</td>\n",
       "      <td>0.008372</td>\n",
       "      <td>0.008372</td>\n",
       "      <td>0.008372</td>\n",
       "      <td>0.008372</td>\n",
       "      <td>0.008372</td>\n",
       "      <td>0.008372</td>\n",
       "      <td>0.094136</td>\n",
       "    </tr>\n",
       "    <tr>\n",
       "      <th>cases_per_capita_100k</th>\n",
       "      <td>-0.159563</td>\n",
       "      <td>-0.168335</td>\n",
       "      <td>-0.208893</td>\n",
       "      <td>-0.137673</td>\n",
       "      <td>0.247167</td>\n",
       "      <td>-0.247490</td>\n",
       "      <td>-0.137246</td>\n",
       "      <td>-0.127900</td>\n",
       "      <td>-0.159499</td>\n",
       "      <td>-0.159596</td>\n",
       "      <td>...</td>\n",
       "      <td>-0.189470</td>\n",
       "      <td>-0.186998</td>\n",
       "      <td>-0.178260</td>\n",
       "      <td>-0.008624</td>\n",
       "      <td>-0.008624</td>\n",
       "      <td>-0.008624</td>\n",
       "      <td>-0.008624</td>\n",
       "      <td>-0.008624</td>\n",
       "      <td>-0.008624</td>\n",
       "      <td>0.011309</td>\n",
       "    </tr>\n",
       "    <tr>\n",
       "      <th>deaths_per_capita_100k</th>\n",
       "      <td>-0.015857</td>\n",
       "      <td>-0.016509</td>\n",
       "      <td>-0.020557</td>\n",
       "      <td>-0.013461</td>\n",
       "      <td>0.000943</td>\n",
       "      <td>0.000359</td>\n",
       "      <td>-0.013618</td>\n",
       "      <td>-0.011968</td>\n",
       "      <td>-0.015823</td>\n",
       "      <td>-0.015888</td>\n",
       "      <td>...</td>\n",
       "      <td>-0.018437</td>\n",
       "      <td>-0.018300</td>\n",
       "      <td>-0.017157</td>\n",
       "      <td>-0.001109</td>\n",
       "      <td>-0.001109</td>\n",
       "      <td>-0.001109</td>\n",
       "      <td>-0.001109</td>\n",
       "      <td>-0.001109</td>\n",
       "      <td>-0.001109</td>\n",
       "      <td>0.001620</td>\n",
       "    </tr>\n",
       "    <tr>\n",
       "      <th>pop_per_sq_mile_2010</th>\n",
       "      <td>0.469412</td>\n",
       "      <td>0.475735</td>\n",
       "      <td>0.414279</td>\n",
       "      <td>0.491394</td>\n",
       "      <td>-0.361089</td>\n",
       "      <td>0.364719</td>\n",
       "      <td>0.418271</td>\n",
       "      <td>0.515243</td>\n",
       "      <td>0.466374</td>\n",
       "      <td>0.472265</td>\n",
       "      <td>...</td>\n",
       "      <td>0.473253</td>\n",
       "      <td>0.464454</td>\n",
       "      <td>0.490528</td>\n",
       "      <td>0.006073</td>\n",
       "      <td>0.006073</td>\n",
       "      <td>0.006073</td>\n",
       "      <td>0.006073</td>\n",
       "      <td>0.006073</td>\n",
       "      <td>0.006073</td>\n",
       "      <td>-0.022785</td>\n",
       "    </tr>\n",
       "    <tr>\n",
       "      <th>age_oto4</th>\n",
       "      <td>0.762203</td>\n",
       "      <td>0.747462</td>\n",
       "      <td>0.775242</td>\n",
       "      <td>0.700674</td>\n",
       "      <td>-0.346475</td>\n",
       "      <td>0.348430</td>\n",
       "      <td>0.765475</td>\n",
       "      <td>0.692928</td>\n",
       "      <td>0.760191</td>\n",
       "      <td>0.763971</td>\n",
       "      <td>...</td>\n",
       "      <td>0.961006</td>\n",
       "      <td>0.939995</td>\n",
       "      <td>0.924603</td>\n",
       "      <td>-0.005742</td>\n",
       "      <td>-0.005742</td>\n",
       "      <td>-0.005742</td>\n",
       "      <td>-0.005742</td>\n",
       "      <td>-0.005742</td>\n",
       "      <td>-0.005742</td>\n",
       "      <td>0.009514</td>\n",
       "    </tr>\n",
       "    <tr>\n",
       "      <th>age_5to14</th>\n",
       "      <td>0.761671</td>\n",
       "      <td>0.751037</td>\n",
       "      <td>0.787979</td>\n",
       "      <td>0.698791</td>\n",
       "      <td>-0.349002</td>\n",
       "      <td>0.350917</td>\n",
       "      <td>0.761449</td>\n",
       "      <td>0.675542</td>\n",
       "      <td>0.759955</td>\n",
       "      <td>0.763155</td>\n",
       "      <td>...</td>\n",
       "      <td>0.965119</td>\n",
       "      <td>0.944576</td>\n",
       "      <td>0.926522</td>\n",
       "      <td>-0.005956</td>\n",
       "      <td>-0.005956</td>\n",
       "      <td>-0.005956</td>\n",
       "      <td>-0.005956</td>\n",
       "      <td>-0.005956</td>\n",
       "      <td>-0.005956</td>\n",
       "      <td>0.004749</td>\n",
       "    </tr>\n",
       "    <tr>\n",
       "      <th>age_15to24</th>\n",
       "      <td>0.761466</td>\n",
       "      <td>0.752375</td>\n",
       "      <td>0.785441</td>\n",
       "      <td>0.702254</td>\n",
       "      <td>-0.371912</td>\n",
       "      <td>0.373581</td>\n",
       "      <td>0.759264</td>\n",
       "      <td>0.674568</td>\n",
       "      <td>0.759573</td>\n",
       "      <td>0.763120</td>\n",
       "      <td>...</td>\n",
       "      <td>0.968616</td>\n",
       "      <td>0.950059</td>\n",
       "      <td>0.936016</td>\n",
       "      <td>-0.006161</td>\n",
       "      <td>-0.006161</td>\n",
       "      <td>-0.006161</td>\n",
       "      <td>-0.006161</td>\n",
       "      <td>-0.006161</td>\n",
       "      <td>-0.006161</td>\n",
       "      <td>0.003002</td>\n",
       "    </tr>\n",
       "    <tr>\n",
       "      <th>age_25to34</th>\n",
       "      <td>0.763179</td>\n",
       "      <td>0.753415</td>\n",
       "      <td>0.762077</td>\n",
       "      <td>0.717221</td>\n",
       "      <td>-0.352629</td>\n",
       "      <td>0.354731</td>\n",
       "      <td>0.759184</td>\n",
       "      <td>0.696902</td>\n",
       "      <td>0.760824</td>\n",
       "      <td>0.765278</td>\n",
       "      <td>...</td>\n",
       "      <td>0.964061</td>\n",
       "      <td>0.942967</td>\n",
       "      <td>0.932851</td>\n",
       "      <td>-0.005429</td>\n",
       "      <td>-0.005429</td>\n",
       "      <td>-0.005429</td>\n",
       "      <td>-0.005429</td>\n",
       "      <td>-0.005429</td>\n",
       "      <td>-0.005429</td>\n",
       "      <td>0.003335</td>\n",
       "    </tr>\n",
       "    <tr>\n",
       "      <th>age_35to44</th>\n",
       "      <td>0.765668</td>\n",
       "      <td>0.759032</td>\n",
       "      <td>0.780300</td>\n",
       "      <td>0.715431</td>\n",
       "      <td>-0.354102</td>\n",
       "      <td>0.356249</td>\n",
       "      <td>0.763217</td>\n",
       "      <td>0.690387</td>\n",
       "      <td>0.763637</td>\n",
       "      <td>0.767456</td>\n",
       "      <td>...</td>\n",
       "      <td>0.971970</td>\n",
       "      <td>0.951939</td>\n",
       "      <td>0.938948</td>\n",
       "      <td>-0.005699</td>\n",
       "      <td>-0.005699</td>\n",
       "      <td>-0.005699</td>\n",
       "      <td>-0.005699</td>\n",
       "      <td>-0.005699</td>\n",
       "      <td>-0.005699</td>\n",
       "      <td>-0.000469</td>\n",
       "    </tr>\n",
       "    <tr>\n",
       "      <th>age_45to54</th>\n",
       "      <td>0.765600</td>\n",
       "      <td>0.761323</td>\n",
       "      <td>0.793313</td>\n",
       "      <td>0.711714</td>\n",
       "      <td>-0.357831</td>\n",
       "      <td>0.360506</td>\n",
       "      <td>0.760954</td>\n",
       "      <td>0.696727</td>\n",
       "      <td>0.763266</td>\n",
       "      <td>0.767679</td>\n",
       "      <td>...</td>\n",
       "      <td>0.983446</td>\n",
       "      <td>0.968581</td>\n",
       "      <td>0.958053</td>\n",
       "      <td>-0.006015</td>\n",
       "      <td>-0.006015</td>\n",
       "      <td>-0.006015</td>\n",
       "      <td>-0.006015</td>\n",
       "      <td>-0.006015</td>\n",
       "      <td>-0.006015</td>\n",
       "      <td>-0.007345</td>\n",
       "    </tr>\n",
       "    <tr>\n",
       "      <th>age_55to64</th>\n",
       "      <td>0.763250</td>\n",
       "      <td>0.761316</td>\n",
       "      <td>0.794541</td>\n",
       "      <td>0.711009</td>\n",
       "      <td>-0.368393</td>\n",
       "      <td>0.371027</td>\n",
       "      <td>0.749901</td>\n",
       "      <td>0.699103</td>\n",
       "      <td>0.760491</td>\n",
       "      <td>0.765739</td>\n",
       "      <td>...</td>\n",
       "      <td>0.993640</td>\n",
       "      <td>0.982009</td>\n",
       "      <td>0.975717</td>\n",
       "      <td>-0.006498</td>\n",
       "      <td>-0.006498</td>\n",
       "      <td>-0.006498</td>\n",
       "      <td>-0.006498</td>\n",
       "      <td>-0.006498</td>\n",
       "      <td>-0.006498</td>\n",
       "      <td>-0.017775</td>\n",
       "    </tr>\n",
       "    <tr>\n",
       "      <th>age_65to74</th>\n",
       "      <td>0.754397</td>\n",
       "      <td>0.758358</td>\n",
       "      <td>0.800592</td>\n",
       "      <td>0.703112</td>\n",
       "      <td>-0.367175</td>\n",
       "      <td>0.370036</td>\n",
       "      <td>0.740958</td>\n",
       "      <td>0.691691</td>\n",
       "      <td>0.751585</td>\n",
       "      <td>0.756939</td>\n",
       "      <td>...</td>\n",
       "      <td>1.000000</td>\n",
       "      <td>0.994738</td>\n",
       "      <td>0.983699</td>\n",
       "      <td>-0.006829</td>\n",
       "      <td>-0.006829</td>\n",
       "      <td>-0.006829</td>\n",
       "      <td>-0.006829</td>\n",
       "      <td>-0.006829</td>\n",
       "      <td>-0.006829</td>\n",
       "      <td>-0.023544</td>\n",
       "    </tr>\n",
       "    <tr>\n",
       "      <th>age_75to84</th>\n",
       "      <td>0.742648</td>\n",
       "      <td>0.745710</td>\n",
       "      <td>0.794796</td>\n",
       "      <td>0.687370</td>\n",
       "      <td>-0.350463</td>\n",
       "      <td>0.353780</td>\n",
       "      <td>0.736918</td>\n",
       "      <td>0.699393</td>\n",
       "      <td>0.739531</td>\n",
       "      <td>0.745488</td>\n",
       "      <td>...</td>\n",
       "      <td>0.994738</td>\n",
       "      <td>1.000000</td>\n",
       "      <td>0.990550</td>\n",
       "      <td>-0.006804</td>\n",
       "      <td>-0.006804</td>\n",
       "      <td>-0.006804</td>\n",
       "      <td>-0.006804</td>\n",
       "      <td>-0.006804</td>\n",
       "      <td>-0.006804</td>\n",
       "      <td>-0.019971</td>\n",
       "    </tr>\n",
       "    <tr>\n",
       "      <th>age_84plus</th>\n",
       "      <td>0.736570</td>\n",
       "      <td>0.734712</td>\n",
       "      <td>0.766255</td>\n",
       "      <td>0.686914</td>\n",
       "      <td>-0.359337</td>\n",
       "      <td>0.362616</td>\n",
       "      <td>0.723481</td>\n",
       "      <td>0.715863</td>\n",
       "      <td>0.732704</td>\n",
       "      <td>0.740132</td>\n",
       "      <td>...</td>\n",
       "      <td>0.983699</td>\n",
       "      <td>0.990550</td>\n",
       "      <td>1.000000</td>\n",
       "      <td>-0.006422</td>\n",
       "      <td>-0.006422</td>\n",
       "      <td>-0.006422</td>\n",
       "      <td>-0.006422</td>\n",
       "      <td>-0.006422</td>\n",
       "      <td>-0.006422</td>\n",
       "      <td>-0.020779</td>\n",
       "    </tr>\n",
       "    <tr>\n",
       "      <th>evangelicals</th>\n",
       "      <td>-0.002631</td>\n",
       "      <td>-0.002259</td>\n",
       "      <td>-0.002365</td>\n",
       "      <td>-0.002168</td>\n",
       "      <td>-0.013355</td>\n",
       "      <td>0.011970</td>\n",
       "      <td>-0.003529</td>\n",
       "      <td>-0.003375</td>\n",
       "      <td>-0.002516</td>\n",
       "      <td>-0.002742</td>\n",
       "      <td>...</td>\n",
       "      <td>-0.006829</td>\n",
       "      <td>-0.006804</td>\n",
       "      <td>-0.006422</td>\n",
       "      <td>1.000000</td>\n",
       "      <td>1.000000</td>\n",
       "      <td>1.000000</td>\n",
       "      <td>1.000000</td>\n",
       "      <td>1.000000</td>\n",
       "      <td>1.000000</td>\n",
       "      <td>-0.014370</td>\n",
       "    </tr>\n",
       "    <tr>\n",
       "      <th>protestant</th>\n",
       "      <td>-0.002631</td>\n",
       "      <td>-0.002259</td>\n",
       "      <td>-0.002365</td>\n",
       "      <td>-0.002168</td>\n",
       "      <td>-0.013355</td>\n",
       "      <td>0.011970</td>\n",
       "      <td>-0.003529</td>\n",
       "      <td>-0.003375</td>\n",
       "      <td>-0.002516</td>\n",
       "      <td>-0.002742</td>\n",
       "      <td>...</td>\n",
       "      <td>-0.006829</td>\n",
       "      <td>-0.006804</td>\n",
       "      <td>-0.006422</td>\n",
       "      <td>1.000000</td>\n",
       "      <td>1.000000</td>\n",
       "      <td>1.000000</td>\n",
       "      <td>1.000000</td>\n",
       "      <td>1.000000</td>\n",
       "      <td>1.000000</td>\n",
       "      <td>-0.014370</td>\n",
       "    </tr>\n",
       "    <tr>\n",
       "      <th>catholic</th>\n",
       "      <td>-0.002631</td>\n",
       "      <td>-0.002259</td>\n",
       "      <td>-0.002365</td>\n",
       "      <td>-0.002168</td>\n",
       "      <td>-0.013355</td>\n",
       "      <td>0.011970</td>\n",
       "      <td>-0.003529</td>\n",
       "      <td>-0.003375</td>\n",
       "      <td>-0.002516</td>\n",
       "      <td>-0.002742</td>\n",
       "      <td>...</td>\n",
       "      <td>-0.006829</td>\n",
       "      <td>-0.006804</td>\n",
       "      <td>-0.006422</td>\n",
       "      <td>1.000000</td>\n",
       "      <td>1.000000</td>\n",
       "      <td>1.000000</td>\n",
       "      <td>1.000000</td>\n",
       "      <td>1.000000</td>\n",
       "      <td>1.000000</td>\n",
       "      <td>-0.014370</td>\n",
       "    </tr>\n",
       "    <tr>\n",
       "      <th>orthodox</th>\n",
       "      <td>-0.002631</td>\n",
       "      <td>-0.002259</td>\n",
       "      <td>-0.002365</td>\n",
       "      <td>-0.002168</td>\n",
       "      <td>-0.013355</td>\n",
       "      <td>0.011970</td>\n",
       "      <td>-0.003529</td>\n",
       "      <td>-0.003375</td>\n",
       "      <td>-0.002516</td>\n",
       "      <td>-0.002742</td>\n",
       "      <td>...</td>\n",
       "      <td>-0.006829</td>\n",
       "      <td>-0.006804</td>\n",
       "      <td>-0.006422</td>\n",
       "      <td>1.000000</td>\n",
       "      <td>1.000000</td>\n",
       "      <td>1.000000</td>\n",
       "      <td>1.000000</td>\n",
       "      <td>1.000000</td>\n",
       "      <td>1.000000</td>\n",
       "      <td>-0.014370</td>\n",
       "    </tr>\n",
       "    <tr>\n",
       "      <th>muslim</th>\n",
       "      <td>-0.002631</td>\n",
       "      <td>-0.002259</td>\n",
       "      <td>-0.002365</td>\n",
       "      <td>-0.002168</td>\n",
       "      <td>-0.013355</td>\n",
       "      <td>0.011970</td>\n",
       "      <td>-0.003529</td>\n",
       "      <td>-0.003375</td>\n",
       "      <td>-0.002516</td>\n",
       "      <td>-0.002742</td>\n",
       "      <td>...</td>\n",
       "      <td>-0.006829</td>\n",
       "      <td>-0.006804</td>\n",
       "      <td>-0.006422</td>\n",
       "      <td>1.000000</td>\n",
       "      <td>1.000000</td>\n",
       "      <td>1.000000</td>\n",
       "      <td>1.000000</td>\n",
       "      <td>1.000000</td>\n",
       "      <td>1.000000</td>\n",
       "      <td>-0.014370</td>\n",
       "    </tr>\n",
       "    <tr>\n",
       "      <th>other</th>\n",
       "      <td>-0.002631</td>\n",
       "      <td>-0.002259</td>\n",
       "      <td>-0.002365</td>\n",
       "      <td>-0.002168</td>\n",
       "      <td>-0.013355</td>\n",
       "      <td>0.011970</td>\n",
       "      <td>-0.003529</td>\n",
       "      <td>-0.003375</td>\n",
       "      <td>-0.002516</td>\n",
       "      <td>-0.002742</td>\n",
       "      <td>...</td>\n",
       "      <td>-0.006829</td>\n",
       "      <td>-0.006804</td>\n",
       "      <td>-0.006422</td>\n",
       "      <td>1.000000</td>\n",
       "      <td>1.000000</td>\n",
       "      <td>1.000000</td>\n",
       "      <td>1.000000</td>\n",
       "      <td>1.000000</td>\n",
       "      <td>1.000000</td>\n",
       "      <td>-0.014370</td>\n",
       "    </tr>\n",
       "    <tr>\n",
       "      <th>normalized_cases</th>\n",
       "      <td>-0.004511</td>\n",
       "      <td>-0.013661</td>\n",
       "      <td>-0.014614</td>\n",
       "      <td>-0.012030</td>\n",
       "      <td>-0.027139</td>\n",
       "      <td>0.031910</td>\n",
       "      <td>0.084255</td>\n",
       "      <td>0.043912</td>\n",
       "      <td>-0.004555</td>\n",
       "      <td>-0.004467</td>\n",
       "      <td>...</td>\n",
       "      <td>-0.023544</td>\n",
       "      <td>-0.019971</td>\n",
       "      <td>-0.020779</td>\n",
       "      <td>-0.014370</td>\n",
       "      <td>-0.014370</td>\n",
       "      <td>-0.014370</td>\n",
       "      <td>-0.014370</td>\n",
       "      <td>-0.014370</td>\n",
       "      <td>-0.014370</td>\n",
       "      <td>1.000000</td>\n",
       "    </tr>\n",
       "  </tbody>\n",
       "</table>\n",
       "<p>57 rows × 57 columns</p>\n",
       "</div>"
      ],
      "text/plain": [
       "                           totalpop  total_votes20  votes20_donald_trump  \\\n",
       "totalpop                   1.000000       0.974928              0.908159   \n",
       "total_votes20              0.974928       1.000000              0.949801   \n",
       "votes20_donald_trump       0.908159       0.949801              1.000000   \n",
       "votes20_joe_biden          0.969847       0.984181              0.879413   \n",
       "percentage20_donald_trump -0.366317      -0.366340             -0.322464   \n",
       "percentage20_joe_biden     0.368234       0.368070              0.323757   \n",
       "cases                      0.950446       0.915932              0.867620   \n",
       "deaths                     0.810714       0.729627              0.658540   \n",
       "men                        0.999881       0.975333              0.909307   \n",
       "women                      0.999889       0.974317              0.906847   \n",
       "hispanic                   0.193348       0.167801              0.158861   \n",
       "white                     -0.246773      -0.226430             -0.191968   \n",
       "black                      0.071866       0.068930              0.044690   \n",
       "native                    -0.044216      -0.047490             -0.058552   \n",
       "asian                      0.497216       0.498154              0.446466   \n",
       "pacific                    0.064193       0.065418              0.056969   \n",
       "income                     0.255387       0.279712              0.301007   \n",
       "incomepercap               0.260287       0.285005              0.285633   \n",
       "poverty                   -0.065427      -0.089782             -0.119819   \n",
       "professional               0.255961       0.283216              0.276576   \n",
       "service                    0.003009      -0.015414             -0.027531   \n",
       "office                     0.185485       0.205656              0.275834   \n",
       "construction              -0.270376      -0.291742             -0.316249   \n",
       "production                -0.191341      -0.205376             -0.209509   \n",
       "drive                     -0.143339      -0.105777             -0.019730   \n",
       "carpool                   -0.070093      -0.077668             -0.089869   \n",
       "transit                    0.407801       0.339688              0.245295   \n",
       "walk                      -0.042841      -0.063297             -0.118321   \n",
       "othertransp                0.073095       0.071072              0.039364   \n",
       "workathome                -0.011674       0.000146             -0.020004   \n",
       "meancommute                0.161428       0.156658              0.162027   \n",
       "employed                   0.997981       0.975998              0.904709   \n",
       "privatework                0.196241       0.215929              0.272247   \n",
       "publicwork                -0.143244      -0.159348             -0.200275   \n",
       "selfemployed              -0.143498      -0.155627             -0.197705   \n",
       "familywork                -0.080811      -0.084992             -0.102371   \n",
       "unemployment               0.033227       0.018394              0.009733   \n",
       "cases_per_capita_100k     -0.159563      -0.168335             -0.208893   \n",
       "deaths_per_capita_100k    -0.015857      -0.016509             -0.020557   \n",
       "pop_per_sq_mile_2010       0.469412       0.475735              0.414279   \n",
       "age_oto4                   0.762203       0.747462              0.775242   \n",
       "age_5to14                  0.761671       0.751037              0.787979   \n",
       "age_15to24                 0.761466       0.752375              0.785441   \n",
       "age_25to34                 0.763179       0.753415              0.762077   \n",
       "age_35to44                 0.765668       0.759032              0.780300   \n",
       "age_45to54                 0.765600       0.761323              0.793313   \n",
       "age_55to64                 0.763250       0.761316              0.794541   \n",
       "age_65to74                 0.754397       0.758358              0.800592   \n",
       "age_75to84                 0.742648       0.745710              0.794796   \n",
       "age_84plus                 0.736570       0.734712              0.766255   \n",
       "evangelicals              -0.002631      -0.002259             -0.002365   \n",
       "protestant                -0.002631      -0.002259             -0.002365   \n",
       "catholic                  -0.002631      -0.002259             -0.002365   \n",
       "orthodox                  -0.002631      -0.002259             -0.002365   \n",
       "muslim                    -0.002631      -0.002259             -0.002365   \n",
       "other                     -0.002631      -0.002259             -0.002365   \n",
       "normalized_cases          -0.004511      -0.013661             -0.014614   \n",
       "\n",
       "                           votes20_joe_biden  percentage20_donald_trump  \\\n",
       "totalpop                            0.969847                  -0.366317   \n",
       "total_votes20                       0.984181                  -0.366340   \n",
       "votes20_donald_trump                0.879413                  -0.322464   \n",
       "votes20_joe_biden                   1.000000                  -0.374922   \n",
       "percentage20_donald_trump          -0.374922                   1.000000   \n",
       "percentage20_joe_biden              0.376968                  -0.998743   \n",
       "cases                               0.903994                  -0.313468   \n",
       "deaths                              0.740317                  -0.302485   \n",
       "men                                 0.969745                  -0.364734   \n",
       "women                               0.969728                  -0.367761   \n",
       "hispanic                            0.165662                  -0.144992   \n",
       "white                              -0.236746                   0.515996   \n",
       "black                               0.080742                  -0.420683   \n",
       "native                             -0.039183                  -0.117481   \n",
       "asian                               0.504983                  -0.455123   \n",
       "pacific                             0.066377                  -0.095418   \n",
       "income                              0.254469                  -0.222800   \n",
       "incomepercap                        0.271735                  -0.272612   \n",
       "poverty                            -0.068145                  -0.126727   \n",
       "professional                        0.273881                  -0.322305   \n",
       "service                            -0.007365                  -0.267611   \n",
       "office                              0.156744                  -0.186162   \n",
       "construction                       -0.264749                   0.491948   \n",
       "production                         -0.193750                   0.275531   \n",
       "drive                              -0.150521                   0.154893   \n",
       "carpool                            -0.067573                   0.093308   \n",
       "transit                             0.380156                  -0.360600   \n",
       "walk                               -0.029267                  -0.027923   \n",
       "othertransp                         0.085740                  -0.181533   \n",
       "workathome                          0.011282                   0.023494   \n",
       "meancommute                         0.147580                  -0.092374   \n",
       "employed                            0.973362                  -0.372204   \n",
       "privatework                         0.174568                  -0.110191   \n",
       "publicwork                         -0.129282                  -0.081778   \n",
       "selfemployed                       -0.124831                   0.318645   \n",
       "familywork                         -0.071348                   0.151134   \n",
       "unemployment                        0.023103                  -0.252594   \n",
       "cases_per_capita_100k              -0.137673                   0.247167   \n",
       "deaths_per_capita_100k             -0.013461                   0.000943   \n",
       "pop_per_sq_mile_2010                0.491394                  -0.361089   \n",
       "age_oto4                            0.700674                  -0.346475   \n",
       "age_5to14                           0.698791                  -0.349002   \n",
       "age_15to24                          0.702254                  -0.371912   \n",
       "age_25to34                          0.717221                  -0.352629   \n",
       "age_35to44                          0.715431                  -0.354102   \n",
       "age_45to54                          0.711714                  -0.357831   \n",
       "age_55to64                          0.711009                  -0.368393   \n",
       "age_65to74                          0.703112                  -0.367175   \n",
       "age_75to84                          0.687370                  -0.350463   \n",
       "age_84plus                          0.686914                  -0.359337   \n",
       "evangelicals                       -0.002168                  -0.013355   \n",
       "protestant                         -0.002168                  -0.013355   \n",
       "catholic                           -0.002168                  -0.013355   \n",
       "orthodox                           -0.002168                  -0.013355   \n",
       "muslim                             -0.002168                  -0.013355   \n",
       "other                              -0.002168                  -0.013355   \n",
       "normalized_cases                   -0.012030                  -0.027139   \n",
       "\n",
       "                           percentage20_joe_biden     cases    deaths  \\\n",
       "totalpop                                 0.368234  0.950446  0.810714   \n",
       "total_votes20                            0.368070  0.915932  0.729627   \n",
       "votes20_donald_trump                     0.323757  0.867620  0.658540   \n",
       "votes20_joe_biden                        0.376968  0.903994  0.740317   \n",
       "percentage20_donald_trump               -0.998743 -0.313468 -0.302485   \n",
       "percentage20_joe_biden                   1.000000  0.316188  0.307715   \n",
       "cases                                    0.316188  1.000000  0.821005   \n",
       "deaths                                   0.307715  0.821005  1.000000   \n",
       "men                                      0.366547  0.949576  0.805295   \n",
       "women                                    0.369778  0.951072  0.815758   \n",
       "hispanic                                 0.149591  0.218810  0.185599   \n",
       "white                                   -0.529241 -0.263001 -0.246191   \n",
       "black                                    0.437958  0.091728  0.100088   \n",
       "native                                   0.112546 -0.033325 -0.028340   \n",
       "asian                                    0.453555  0.378975  0.386692   \n",
       "pacific                                  0.092045  0.029512  0.002149   \n",
       "income                                   0.211786  0.180165  0.165641   \n",
       "incomepercap                             0.263180  0.181584  0.185483   \n",
       "poverty                                  0.138899 -0.023886 -0.008800   \n",
       "professional                             0.311669  0.185472  0.169456   \n",
       "service                                  0.270469  0.018946  0.048688   \n",
       "office                                   0.188554  0.177931  0.132400   \n",
       "construction                            -0.489916 -0.222353 -0.203994   \n",
       "production                              -0.268213 -0.153259 -0.143319   \n",
       "drive                                   -0.147098 -0.120661 -0.261708   \n",
       "carpool                                 -0.092335 -0.050328 -0.083474   \n",
       "transit                                  0.363034  0.361982  0.661000   \n",
       "walk                                     0.017009 -0.048950  0.006575   \n",
       "othertransp                              0.179946  0.062229  0.059199   \n",
       "workathome                              -0.033009 -0.024856 -0.030117   \n",
       "meancommute                              0.104695  0.135353  0.189858   \n",
       "employed                                 0.373877  0.944265  0.803859   \n",
       "privatework                              0.114193  0.175063  0.145673   \n",
       "publicwork                               0.079824 -0.127241 -0.105873   \n",
       "selfemployed                            -0.322813 -0.128953 -0.107199   \n",
       "familywork                              -0.154857 -0.071461 -0.060542   \n",
       "unemployment                             0.263911  0.039767  0.059121   \n",
       "cases_per_capita_100k                   -0.247490 -0.137246 -0.127900   \n",
       "deaths_per_capita_100k                   0.000359 -0.013618 -0.011968   \n",
       "pop_per_sq_mile_2010                     0.364719  0.418271  0.515243   \n",
       "age_oto4                                 0.348430  0.765475  0.692928   \n",
       "age_5to14                                0.350917  0.761449  0.675542   \n",
       "age_15to24                               0.373581  0.759264  0.674568   \n",
       "age_25to34                               0.354731  0.759184  0.696902   \n",
       "age_35to44                               0.356249  0.763217  0.690387   \n",
       "age_45to54                               0.360506  0.760954  0.696727   \n",
       "age_55to64                               0.371027  0.749901  0.699103   \n",
       "age_65to74                               0.370036  0.740958  0.691691   \n",
       "age_75to84                               0.353780  0.736918  0.699393   \n",
       "age_84plus                               0.362616  0.723481  0.715863   \n",
       "evangelicals                             0.011970 -0.003529 -0.003375   \n",
       "protestant                               0.011970 -0.003529 -0.003375   \n",
       "catholic                                 0.011970 -0.003529 -0.003375   \n",
       "orthodox                                 0.011970 -0.003529 -0.003375   \n",
       "muslim                                   0.011970 -0.003529 -0.003375   \n",
       "other                                    0.011970 -0.003529 -0.003375   \n",
       "normalized_cases                         0.031910  0.084255  0.043912   \n",
       "\n",
       "                                men     women  ...  age_65to74  age_75to84  \\\n",
       "totalpop                   0.999881  0.999889  ...    0.754397    0.742648   \n",
       "total_votes20              0.975333  0.974317  ...    0.758358    0.745710   \n",
       "votes20_donald_trump       0.909307  0.906847  ...    0.800592    0.794796   \n",
       "votes20_joe_biden          0.969745  0.969728  ...    0.703112    0.687370   \n",
       "percentage20_donald_trump -0.364734 -0.367761  ...   -0.367175   -0.350463   \n",
       "percentage20_joe_biden     0.366547  0.369778  ...    0.370036    0.353780   \n",
       "cases                      0.949576  0.951072  ...    0.740958    0.736918   \n",
       "deaths                     0.805295  0.815758  ...    0.691691    0.699393   \n",
       "men                        1.000000  0.999541  ...    0.751585    0.739531   \n",
       "women                      0.999541  1.000000  ...    0.756939    0.745488   \n",
       "hispanic                   0.194622  0.192076  ...    0.153004    0.153739   \n",
       "white                     -0.246104 -0.247364  ...   -0.207230   -0.200618   \n",
       "black                      0.069323  0.074303  ...    0.067908    0.062200   \n",
       "native                    -0.044102 -0.044316  ...   -0.051659   -0.051450   \n",
       "asian                      0.498382  0.495979  ...    0.440812    0.424230   \n",
       "pacific                    0.065842  0.062588  ...    0.069087    0.061728   \n",
       "income                     0.256282  0.254465  ...    0.258924    0.245910   \n",
       "incomepercap               0.259505  0.260983  ...    0.272417    0.262046   \n",
       "poverty                   -0.066237 -0.064631  ...   -0.086347   -0.082952   \n",
       "professional               0.254833  0.256990  ...    0.263375    0.247819   \n",
       "service                    0.003196  0.002827  ...    0.012522    0.020321   \n",
       "office                     0.184697  0.186203  ...    0.236247    0.237875   \n",
       "construction              -0.268712 -0.271920  ...   -0.304490   -0.297139   \n",
       "production                -0.190980 -0.191647  ...   -0.207661   -0.201399   \n",
       "drive                     -0.141297 -0.145275  ...   -0.107968   -0.106217   \n",
       "carpool                   -0.068668 -0.071452  ...   -0.090772   -0.091174   \n",
       "transit                    0.401849  0.413451  ...    0.389532    0.389108   \n",
       "walk                      -0.043312 -0.042378  ...   -0.075052   -0.075004   \n",
       "othertransp                0.073550  0.072640  ...    0.057145    0.055908   \n",
       "workathome                -0.011353 -0.011980  ...   -0.015443   -0.018044   \n",
       "meancommute                0.160466  0.162319  ...    0.166890    0.163857   \n",
       "employed                   0.997861  0.997872  ...    0.753484    0.739513   \n",
       "privatework                0.195273  0.197130  ...    0.237361    0.236271   \n",
       "publicwork                -0.142248 -0.144172  ...   -0.171547   -0.172743   \n",
       "selfemployed              -0.143209 -0.143744  ...   -0.176645   -0.172996   \n",
       "familywork                -0.080658 -0.080941  ...   -0.093851   -0.091804   \n",
       "unemployment               0.032528  0.033894  ...    0.033953    0.036722   \n",
       "cases_per_capita_100k     -0.159499 -0.159596  ...   -0.189470   -0.186998   \n",
       "deaths_per_capita_100k    -0.015823 -0.015888  ...   -0.018437   -0.018300   \n",
       "pop_per_sq_mile_2010       0.466374  0.472265  ...    0.473253    0.464454   \n",
       "age_oto4                   0.760191  0.763971  ...    0.961006    0.939995   \n",
       "age_5to14                  0.759955  0.763155  ...    0.965119    0.944576   \n",
       "age_15to24                 0.759573  0.763120  ...    0.968616    0.950059   \n",
       "age_25to34                 0.760824  0.765278  ...    0.964061    0.942967   \n",
       "age_35to44                 0.763637  0.767456  ...    0.971970    0.951939   \n",
       "age_45to54                 0.763266  0.767679  ...    0.983446    0.968581   \n",
       "age_55to64                 0.760491  0.765739  ...    0.993640    0.982009   \n",
       "age_65to74                 0.751585  0.756939  ...    1.000000    0.994738   \n",
       "age_75to84                 0.739531  0.745488  ...    0.994738    1.000000   \n",
       "age_84plus                 0.732704  0.740132  ...    0.983699    0.990550   \n",
       "evangelicals              -0.002516 -0.002742  ...   -0.006829   -0.006804   \n",
       "protestant                -0.002516 -0.002742  ...   -0.006829   -0.006804   \n",
       "catholic                  -0.002516 -0.002742  ...   -0.006829   -0.006804   \n",
       "orthodox                  -0.002516 -0.002742  ...   -0.006829   -0.006804   \n",
       "muslim                    -0.002516 -0.002742  ...   -0.006829   -0.006804   \n",
       "other                     -0.002516 -0.002742  ...   -0.006829   -0.006804   \n",
       "normalized_cases          -0.004555 -0.004467  ...   -0.023544   -0.019971   \n",
       "\n",
       "                           age_84plus  evangelicals  protestant  catholic  \\\n",
       "totalpop                     0.736570     -0.002631   -0.002631 -0.002631   \n",
       "total_votes20                0.734712     -0.002259   -0.002259 -0.002259   \n",
       "votes20_donald_trump         0.766255     -0.002365   -0.002365 -0.002365   \n",
       "votes20_joe_biden            0.686914     -0.002168   -0.002168 -0.002168   \n",
       "percentage20_donald_trump   -0.359337     -0.013355   -0.013355 -0.013355   \n",
       "percentage20_joe_biden       0.362616      0.011970    0.011970  0.011970   \n",
       "cases                        0.723481     -0.003529   -0.003529 -0.003529   \n",
       "deaths                       0.715863     -0.003375   -0.003375 -0.003375   \n",
       "men                          0.732704     -0.002516   -0.002516 -0.002516   \n",
       "women                        0.740132     -0.002742   -0.002742 -0.002742   \n",
       "hispanic                     0.146576      0.018610    0.018610  0.018610   \n",
       "white                       -0.197512     -0.008341   -0.008341 -0.008341   \n",
       "black                        0.061192     -0.009114   -0.009114 -0.009114   \n",
       "native                      -0.051542      0.001226    0.001226  0.001226   \n",
       "asian                        0.441362      0.008360    0.008360  0.008360   \n",
       "pacific                      0.072001      0.001329    0.001329  0.001329   \n",
       "income                       0.253268     -0.000217   -0.000217 -0.000217   \n",
       "incomepercap                 0.275092      0.006324    0.006324  0.006324   \n",
       "poverty                     -0.087045     -0.003624   -0.003624 -0.003624   \n",
       "professional                 0.259517     -0.003167   -0.003167 -0.003167   \n",
       "service                      0.013335      0.021350    0.021350  0.021350   \n",
       "office                       0.219619      0.010916    0.010916  0.010916   \n",
       "construction                -0.298157     -0.010993   -0.010993 -0.010993   \n",
       "production                  -0.199718     -0.007919   -0.007919 -0.007919   \n",
       "drive                       -0.125735      0.000278    0.000278  0.000278   \n",
       "carpool                     -0.096603      0.015001    0.015001  0.015001   \n",
       "transit                      0.421796     -0.003528   -0.003528 -0.003528   \n",
       "walk                        -0.057819      0.000051    0.000051  0.000051   \n",
       "othertransp                  0.054359      0.002874    0.002874  0.002874   \n",
       "workathome                  -0.017765     -0.011728   -0.011728 -0.011728   \n",
       "meancommute                  0.155563     -0.016334   -0.016334 -0.016334   \n",
       "employed                     0.735823     -0.002691   -0.002691 -0.002691   \n",
       "privatework                  0.230596     -0.009593   -0.009593 -0.009593   \n",
       "publicwork                  -0.170027      0.023343    0.023343  0.023343   \n",
       "selfemployed                -0.166804     -0.017817   -0.017817 -0.017817   \n",
       "familywork                  -0.088323     -0.003363   -0.003363 -0.003363   \n",
       "unemployment                 0.027596      0.008372    0.008372  0.008372   \n",
       "cases_per_capita_100k       -0.178260     -0.008624   -0.008624 -0.008624   \n",
       "deaths_per_capita_100k      -0.017157     -0.001109   -0.001109 -0.001109   \n",
       "pop_per_sq_mile_2010         0.490528      0.006073    0.006073  0.006073   \n",
       "age_oto4                     0.924603     -0.005742   -0.005742 -0.005742   \n",
       "age_5to14                    0.926522     -0.005956   -0.005956 -0.005956   \n",
       "age_15to24                   0.936016     -0.006161   -0.006161 -0.006161   \n",
       "age_25to34                   0.932851     -0.005429   -0.005429 -0.005429   \n",
       "age_35to44                   0.938948     -0.005699   -0.005699 -0.005699   \n",
       "age_45to54                   0.958053     -0.006015   -0.006015 -0.006015   \n",
       "age_55to64                   0.975717     -0.006498   -0.006498 -0.006498   \n",
       "age_65to74                   0.983699     -0.006829   -0.006829 -0.006829   \n",
       "age_75to84                   0.990550     -0.006804   -0.006804 -0.006804   \n",
       "age_84plus                   1.000000     -0.006422   -0.006422 -0.006422   \n",
       "evangelicals                -0.006422      1.000000    1.000000  1.000000   \n",
       "protestant                  -0.006422      1.000000    1.000000  1.000000   \n",
       "catholic                    -0.006422      1.000000    1.000000  1.000000   \n",
       "orthodox                    -0.006422      1.000000    1.000000  1.000000   \n",
       "muslim                      -0.006422      1.000000    1.000000  1.000000   \n",
       "other                       -0.006422      1.000000    1.000000  1.000000   \n",
       "normalized_cases            -0.020779     -0.014370   -0.014370 -0.014370   \n",
       "\n",
       "                           orthodox    muslim     other  normalized_cases  \n",
       "totalpop                  -0.002631 -0.002631 -0.002631         -0.004511  \n",
       "total_votes20             -0.002259 -0.002259 -0.002259         -0.013661  \n",
       "votes20_donald_trump      -0.002365 -0.002365 -0.002365         -0.014614  \n",
       "votes20_joe_biden         -0.002168 -0.002168 -0.002168         -0.012030  \n",
       "percentage20_donald_trump -0.013355 -0.013355 -0.013355         -0.027139  \n",
       "percentage20_joe_biden     0.011970  0.011970  0.011970          0.031910  \n",
       "cases                     -0.003529 -0.003529 -0.003529          0.084255  \n",
       "deaths                    -0.003375 -0.003375 -0.003375          0.043912  \n",
       "men                       -0.002516 -0.002516 -0.002516         -0.004555  \n",
       "women                     -0.002742 -0.002742 -0.002742         -0.004467  \n",
       "hispanic                   0.018610  0.018610  0.018610          0.112959  \n",
       "white                     -0.008341 -0.008341 -0.008341         -0.328666  \n",
       "black                     -0.009114 -0.009114 -0.009114          0.283421  \n",
       "native                     0.001226  0.001226  0.001226          0.180585  \n",
       "asian                      0.008360  0.008360  0.008360         -0.045907  \n",
       "pacific                    0.001329  0.001329  0.001329         -0.041349  \n",
       "income                    -0.000217 -0.000217 -0.000217         -0.171691  \n",
       "incomepercap               0.006324  0.006324  0.006324         -0.205619  \n",
       "poverty                   -0.003624 -0.003624 -0.003624          0.253150  \n",
       "professional              -0.003167 -0.003167 -0.003167         -0.128728  \n",
       "service                    0.021350  0.021350  0.021350          0.004729  \n",
       "office                     0.010916  0.010916  0.010916         -0.045377  \n",
       "construction              -0.010993 -0.010993 -0.010993          0.023131  \n",
       "production                -0.007919 -0.007919 -0.007919          0.147490  \n",
       "drive                      0.000278  0.000278  0.000278          0.051786  \n",
       "carpool                    0.015001  0.015001  0.015001          0.070307  \n",
       "transit                   -0.003528 -0.003528 -0.003528         -0.029805  \n",
       "walk                       0.000051  0.000051  0.000051         -0.063257  \n",
       "othertransp                0.002874  0.002874  0.002874         -0.002464  \n",
       "workathome                -0.011728 -0.011728 -0.011728         -0.089784  \n",
       "meancommute               -0.016334 -0.016334 -0.016334         -0.160850  \n",
       "employed                  -0.002691 -0.002691 -0.002691         -0.007571  \n",
       "privatework               -0.009593 -0.009593 -0.009593         -0.055564  \n",
       "publicwork                 0.023343  0.023343  0.023343          0.075967  \n",
       "selfemployed              -0.017817 -0.017817 -0.017817         -0.013051  \n",
       "familywork                -0.003363 -0.003363 -0.003363          0.015635  \n",
       "unemployment               0.008372  0.008372  0.008372          0.094136  \n",
       "cases_per_capita_100k     -0.008624 -0.008624 -0.008624          0.011309  \n",
       "deaths_per_capita_100k    -0.001109 -0.001109 -0.001109          0.001620  \n",
       "pop_per_sq_mile_2010       0.006073  0.006073  0.006073         -0.022785  \n",
       "age_oto4                  -0.005742 -0.005742 -0.005742          0.009514  \n",
       "age_5to14                 -0.005956 -0.005956 -0.005956          0.004749  \n",
       "age_15to24                -0.006161 -0.006161 -0.006161          0.003002  \n",
       "age_25to34                -0.005429 -0.005429 -0.005429          0.003335  \n",
       "age_35to44                -0.005699 -0.005699 -0.005699         -0.000469  \n",
       "age_45to54                -0.006015 -0.006015 -0.006015         -0.007345  \n",
       "age_55to64                -0.006498 -0.006498 -0.006498         -0.017775  \n",
       "age_65to74                -0.006829 -0.006829 -0.006829         -0.023544  \n",
       "age_75to84                -0.006804 -0.006804 -0.006804         -0.019971  \n",
       "age_84plus                -0.006422 -0.006422 -0.006422         -0.020779  \n",
       "evangelicals               1.000000  1.000000  1.000000         -0.014370  \n",
       "protestant                 1.000000  1.000000  1.000000         -0.014370  \n",
       "catholic                   1.000000  1.000000  1.000000         -0.014370  \n",
       "orthodox                   1.000000  1.000000  1.000000         -0.014370  \n",
       "muslim                     1.000000  1.000000  1.000000         -0.014370  \n",
       "other                      1.000000  1.000000  1.000000         -0.014370  \n",
       "normalized_cases          -0.014370 -0.014370 -0.014370          1.000000  \n",
       "\n",
       "[57 rows x 57 columns]"
      ]
     },
     "execution_count": 9,
     "metadata": {},
     "output_type": "execute_result"
    }
   ],
   "source": [
    "county_df.drop(columns=['lat','long'],axis=1).corr()"
   ]
  },
  {
   "cell_type": "code",
   "execution_count": null,
   "metadata": {},
   "outputs": [],
   "source": []
  }
 ],
 "metadata": {
  "kernelspec": {
   "display_name": "mlenv",
   "language": "python",
   "name": "mlenv"
  },
  "language_info": {
   "codemirror_mode": {
    "name": "ipython",
    "version": 3
   },
   "file_extension": ".py",
   "mimetype": "text/x-python",
   "name": "python",
   "nbconvert_exporter": "python",
   "pygments_lexer": "ipython3",
   "version": "3.7.9"
  }
 },
 "nbformat": 4,
 "nbformat_minor": 4
}
