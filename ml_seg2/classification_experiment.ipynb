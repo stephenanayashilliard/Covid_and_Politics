{
 "cells": [
  {
   "cell_type": "code",
   "execution_count": 33,
   "metadata": {},
   "outputs": [],
   "source": [
    "# import dependencies\n",
    "import pandas as pd\n",
    "import numpy as np\n",
    "import matplotlib.pyplot as plt\n",
    "from sklearn.ensemble import RandomForestRegressor\n",
    "from sklearn.model_selection import train_test_split\n",
    "from sklearn.preprocessing import StandardScaler\n",
    "from sklearn.preprocessing import RobustScaler\n",
    "from sklearn.decomposition import PCA\n",
    "from sklearn import metrics"
   ]
  },
  {
   "cell_type": "code",
   "execution_count": 34,
   "metadata": {},
   "outputs": [
    {
     "data": {
      "text/html": [
       "<div>\n",
       "<style scoped>\n",
       "    .dataframe tbody tr th:only-of-type {\n",
       "        vertical-align: middle;\n",
       "    }\n",
       "\n",
       "    .dataframe tbody tr th {\n",
       "        vertical-align: top;\n",
       "    }\n",
       "\n",
       "    .dataframe thead th {\n",
       "        text-align: right;\n",
       "    }\n",
       "</style>\n",
       "<table border=\"1\" class=\"dataframe\">\n",
       "  <thead>\n",
       "    <tr style=\"text-align: right;\">\n",
       "      <th></th>\n",
       "      <th>county</th>\n",
       "      <th>state</th>\n",
       "      <th>lat</th>\n",
       "      <th>long</th>\n",
       "      <th>TotalPop</th>\n",
       "      <th>total_votes20</th>\n",
       "      <th>votes20_Donald_Trump</th>\n",
       "      <th>votes20_Joe_Biden</th>\n",
       "      <th>percentage20_Donald_Trump</th>\n",
       "      <th>percentage20_Joe_Biden</th>\n",
       "      <th>...</th>\n",
       "      <th>Walk</th>\n",
       "      <th>OtherTransp</th>\n",
       "      <th>WorkAtHome</th>\n",
       "      <th>MeanCommute</th>\n",
       "      <th>Employed</th>\n",
       "      <th>PrivateWork</th>\n",
       "      <th>PublicWork</th>\n",
       "      <th>SelfEmployed</th>\n",
       "      <th>FamilyWork</th>\n",
       "      <th>Unemployment</th>\n",
       "    </tr>\n",
       "  </thead>\n",
       "  <tbody>\n",
       "    <tr>\n",
       "      <th>0</th>\n",
       "      <td>Abbeville</td>\n",
       "      <td>SC</td>\n",
       "      <td>34.223334</td>\n",
       "      <td>-82.461707</td>\n",
       "      <td>24788.0</td>\n",
       "      <td>12433.0</td>\n",
       "      <td>8215.0</td>\n",
       "      <td>4101.0</td>\n",
       "      <td>0.661</td>\n",
       "      <td>0.330</td>\n",
       "      <td>...</td>\n",
       "      <td>1.8</td>\n",
       "      <td>1.8</td>\n",
       "      <td>6.5</td>\n",
       "      <td>25.8</td>\n",
       "      <td>9505.0</td>\n",
       "      <td>78.8</td>\n",
       "      <td>13.3</td>\n",
       "      <td>7.8</td>\n",
       "      <td>0.1</td>\n",
       "      <td>9.4</td>\n",
       "    </tr>\n",
       "    <tr>\n",
       "      <th>1</th>\n",
       "      <td>Acadia</td>\n",
       "      <td>LA</td>\n",
       "      <td>30.295065</td>\n",
       "      <td>-92.414197</td>\n",
       "      <td>62607.0</td>\n",
       "      <td>28425.0</td>\n",
       "      <td>22596.0</td>\n",
       "      <td>5443.0</td>\n",
       "      <td>0.795</td>\n",
       "      <td>0.191</td>\n",
       "      <td>...</td>\n",
       "      <td>1.6</td>\n",
       "      <td>2.2</td>\n",
       "      <td>2.5</td>\n",
       "      <td>27.6</td>\n",
       "      <td>24982.0</td>\n",
       "      <td>80.0</td>\n",
       "      <td>12.1</td>\n",
       "      <td>7.6</td>\n",
       "      <td>0.3</td>\n",
       "      <td>8.9</td>\n",
       "    </tr>\n",
       "    <tr>\n",
       "      <th>2</th>\n",
       "      <td>Accomack</td>\n",
       "      <td>VA</td>\n",
       "      <td>37.767072</td>\n",
       "      <td>-75.632346</td>\n",
       "      <td>32840.0</td>\n",
       "      <td>16938.0</td>\n",
       "      <td>9172.0</td>\n",
       "      <td>7578.0</td>\n",
       "      <td>0.542</td>\n",
       "      <td>0.447</td>\n",
       "      <td>...</td>\n",
       "      <td>2.6</td>\n",
       "      <td>1.8</td>\n",
       "      <td>4.5</td>\n",
       "      <td>22.0</td>\n",
       "      <td>13837.0</td>\n",
       "      <td>74.6</td>\n",
       "      <td>18.1</td>\n",
       "      <td>7.1</td>\n",
       "      <td>0.2</td>\n",
       "      <td>5.4</td>\n",
       "    </tr>\n",
       "    <tr>\n",
       "      <th>3</th>\n",
       "      <td>Ada</td>\n",
       "      <td>ID</td>\n",
       "      <td>43.452658</td>\n",
       "      <td>-116.241552</td>\n",
       "      <td>435117.0</td>\n",
       "      <td>259389.0</td>\n",
       "      <td>130699.0</td>\n",
       "      <td>120539.0</td>\n",
       "      <td>0.504</td>\n",
       "      <td>0.465</td>\n",
       "      <td>...</td>\n",
       "      <td>1.5</td>\n",
       "      <td>2.8</td>\n",
       "      <td>6.9</td>\n",
       "      <td>20.4</td>\n",
       "      <td>214984.0</td>\n",
       "      <td>78.3</td>\n",
       "      <td>15.0</td>\n",
       "      <td>6.6</td>\n",
       "      <td>0.1</td>\n",
       "      <td>4.3</td>\n",
       "    </tr>\n",
       "    <tr>\n",
       "      <th>4</th>\n",
       "      <td>Adair</td>\n",
       "      <td>IA</td>\n",
       "      <td>41.330756</td>\n",
       "      <td>-94.471059</td>\n",
       "      <td>7192.0</td>\n",
       "      <td>4183.0</td>\n",
       "      <td>2917.0</td>\n",
       "      <td>1197.0</td>\n",
       "      <td>0.697</td>\n",
       "      <td>0.286</td>\n",
       "      <td>...</td>\n",
       "      <td>2.8</td>\n",
       "      <td>0.4</td>\n",
       "      <td>6.2</td>\n",
       "      <td>22.3</td>\n",
       "      <td>3680.0</td>\n",
       "      <td>73.8</td>\n",
       "      <td>15.3</td>\n",
       "      <td>10.4</td>\n",
       "      <td>0.5</td>\n",
       "      <td>3.0</td>\n",
       "    </tr>\n",
       "  </tbody>\n",
       "</table>\n",
       "<p>5 rows × 41 columns</p>\n",
       "</div>"
      ],
      "text/plain": [
       "      county state        lat        long  TotalPop  total_votes20  \\\n",
       "0  Abbeville    SC  34.223334  -82.461707   24788.0        12433.0   \n",
       "1     Acadia    LA  30.295065  -92.414197   62607.0        28425.0   \n",
       "2   Accomack    VA  37.767072  -75.632346   32840.0        16938.0   \n",
       "3        Ada    ID  43.452658 -116.241552  435117.0       259389.0   \n",
       "4      Adair    IA  41.330756  -94.471059    7192.0         4183.0   \n",
       "\n",
       "   votes20_Donald_Trump  votes20_Joe_Biden  percentage20_Donald_Trump  \\\n",
       "0                8215.0             4101.0                      0.661   \n",
       "1               22596.0             5443.0                      0.795   \n",
       "2                9172.0             7578.0                      0.542   \n",
       "3              130699.0           120539.0                      0.504   \n",
       "4                2917.0             1197.0                      0.697   \n",
       "\n",
       "   percentage20_Joe_Biden  ...  Walk  OtherTransp  WorkAtHome  MeanCommute  \\\n",
       "0                   0.330  ...   1.8          1.8         6.5         25.8   \n",
       "1                   0.191  ...   1.6          2.2         2.5         27.6   \n",
       "2                   0.447  ...   2.6          1.8         4.5         22.0   \n",
       "3                   0.465  ...   1.5          2.8         6.9         20.4   \n",
       "4                   0.286  ...   2.8          0.4         6.2         22.3   \n",
       "\n",
       "   Employed  PrivateWork  PublicWork  SelfEmployed  FamilyWork  Unemployment  \n",
       "0    9505.0         78.8        13.3           7.8         0.1           9.4  \n",
       "1   24982.0         80.0        12.1           7.6         0.3           8.9  \n",
       "2   13837.0         74.6        18.1           7.1         0.2           5.4  \n",
       "3  214984.0         78.3        15.0           6.6         0.1           4.3  \n",
       "4    3680.0         73.8        15.3          10.4         0.5           3.0  \n",
       "\n",
       "[5 rows x 41 columns]"
      ]
     },
     "execution_count": 34,
     "metadata": {},
     "output_type": "execute_result"
    }
   ],
   "source": [
    "# read in csv as dataframe\n",
    "county_df = pd.read_csv(\"county_data_mlseg2.csv\", index_col=0)\n",
    "county_df.head()"
   ]
  },
  {
   "cell_type": "code",
   "execution_count": 35,
   "metadata": {},
   "outputs": [
    {
     "data": {
      "text/plain": [
       "Index(['county', 'state', 'lat', 'long', 'TotalPop', 'total_votes20',\n",
       "       'votes20_Donald_Trump', 'votes20_Joe_Biden',\n",
       "       'percentage20_Donald_Trump', 'percentage20_Joe_Biden', 'cases',\n",
       "       'deaths', 'Men', 'Women', 'Hispanic', 'White', 'Black', 'Native',\n",
       "       'Asian', 'Pacific', 'Income', 'IncomePerCap', 'Poverty', 'Professional',\n",
       "       'Service', 'Office', 'Construction', 'Production', 'Drive', 'Carpool',\n",
       "       'Transit', 'Walk', 'OtherTransp', 'WorkAtHome', 'MeanCommute',\n",
       "       'Employed', 'PrivateWork', 'PublicWork', 'SelfEmployed', 'FamilyWork',\n",
       "       'Unemployment'],\n",
       "      dtype='object')"
      ]
     },
     "execution_count": 35,
     "metadata": {},
     "output_type": "execute_result"
    }
   ],
   "source": [
    "# check columns\n",
    "county_df.columns"
   ]
  },
  {
   "cell_type": "code",
   "execution_count": 36,
   "metadata": {},
   "outputs": [
    {
     "data": {
      "text/html": [
       "<div>\n",
       "<style scoped>\n",
       "    .dataframe tbody tr th:only-of-type {\n",
       "        vertical-align: middle;\n",
       "    }\n",
       "\n",
       "    .dataframe tbody tr th {\n",
       "        vertical-align: top;\n",
       "    }\n",
       "\n",
       "    .dataframe thead th {\n",
       "        text-align: right;\n",
       "    }\n",
       "</style>\n",
       "<table border=\"1\" class=\"dataframe\">\n",
       "  <thead>\n",
       "    <tr style=\"text-align: right;\">\n",
       "      <th></th>\n",
       "      <th>cases</th>\n",
       "      <th>Income</th>\n",
       "      <th>IncomePerCap</th>\n",
       "      <th>Poverty</th>\n",
       "      <th>Employed</th>\n",
       "      <th>Unemployment</th>\n",
       "    </tr>\n",
       "  </thead>\n",
       "  <tbody>\n",
       "    <tr>\n",
       "      <th>0</th>\n",
       "      <td>805.0</td>\n",
       "      <td>35254.0</td>\n",
       "      <td>19234.0</td>\n",
       "      <td>22.7</td>\n",
       "      <td>9505.0</td>\n",
       "      <td>9.4</td>\n",
       "    </tr>\n",
       "    <tr>\n",
       "      <th>1</th>\n",
       "      <td>3182.0</td>\n",
       "      <td>40492.0</td>\n",
       "      <td>21591.0</td>\n",
       "      <td>21.5</td>\n",
       "      <td>24982.0</td>\n",
       "      <td>8.9</td>\n",
       "    </tr>\n",
       "    <tr>\n",
       "      <th>2</th>\n",
       "      <td>1227.0</td>\n",
       "      <td>42260.0</td>\n",
       "      <td>24266.0</td>\n",
       "      <td>19.8</td>\n",
       "      <td>13837.0</td>\n",
       "      <td>5.4</td>\n",
       "    </tr>\n",
       "    <tr>\n",
       "      <th>3</th>\n",
       "      <td>17451.0</td>\n",
       "      <td>60151.0</td>\n",
       "      <td>31642.0</td>\n",
       "      <td>11.8</td>\n",
       "      <td>214984.0</td>\n",
       "      <td>4.3</td>\n",
       "    </tr>\n",
       "    <tr>\n",
       "      <th>4</th>\n",
       "      <td>222.0</td>\n",
       "      <td>49477.0</td>\n",
       "      <td>28861.0</td>\n",
       "      <td>9.5</td>\n",
       "      <td>3680.0</td>\n",
       "      <td>3.0</td>\n",
       "    </tr>\n",
       "  </tbody>\n",
       "</table>\n",
       "</div>"
      ],
      "text/plain": [
       "     cases   Income  IncomePerCap  Poverty  Employed  Unemployment\n",
       "0    805.0  35254.0       19234.0     22.7    9505.0           9.4\n",
       "1   3182.0  40492.0       21591.0     21.5   24982.0           8.9\n",
       "2   1227.0  42260.0       24266.0     19.8   13837.0           5.4\n",
       "3  17451.0  60151.0       31642.0     11.8  214984.0           4.3\n",
       "4    222.0  49477.0       28861.0      9.5    3680.0           3.0"
      ]
     },
     "execution_count": 36,
     "metadata": {},
     "output_type": "execute_result"
    }
   ],
   "source": [
    "econ_df = county_df[['cases','Income','IncomePerCap','Poverty','Employed','Unemployment']]\n",
    "econ_df.head()"
   ]
  },
  {
   "cell_type": "code",
   "execution_count": 37,
   "metadata": {},
   "outputs": [
    {
     "data": {
      "text/plain": [
       "array([[ 0.09694042, -0.88405873, -0.83658255,  0.9375    , -0.04750637,\n",
       "         1.        ],\n",
       "       [ 1.62801932, -0.51827022, -0.5065976 ,  0.7875    ,  0.58118634,\n",
       "         0.85294118],\n",
       "       [ 0.36876006, -0.39480438, -0.13209198,  0.575     ,  0.12846422,\n",
       "        -0.17647059],\n",
       "       [10.81900161,  0.85458894,  0.90056351, -0.425     ,  8.29927593,\n",
       "        -0.5       ],\n",
       "       [-0.27858293,  0.10918487,  0.51121767, -0.7125    , -0.28412426,\n",
       "        -0.88235294]])"
      ]
     },
     "execution_count": 37,
     "metadata": {},
     "output_type": "execute_result"
    }
   ],
   "source": [
    "econ_scaled = RobustScaler().fit_transform(econ_df)\n",
    "econ_scaled[:5]"
   ]
  },
  {
   "cell_type": "code",
   "execution_count": 38,
   "metadata": {},
   "outputs": [
    {
     "data": {
      "text/html": [
       "<div>\n",
       "<style scoped>\n",
       "    .dataframe tbody tr th:only-of-type {\n",
       "        vertical-align: middle;\n",
       "    }\n",
       "\n",
       "    .dataframe tbody tr th {\n",
       "        vertical-align: top;\n",
       "    }\n",
       "\n",
       "    .dataframe thead th {\n",
       "        text-align: right;\n",
       "    }\n",
       "</style>\n",
       "<table border=\"1\" class=\"dataframe\">\n",
       "  <thead>\n",
       "    <tr style=\"text-align: right;\">\n",
       "      <th></th>\n",
       "      <th>cases</th>\n",
       "      <th>Income</th>\n",
       "      <th>IncomePerCap</th>\n",
       "      <th>Poverty</th>\n",
       "      <th>Employed</th>\n",
       "      <th>Unemployment</th>\n",
       "    </tr>\n",
       "  </thead>\n",
       "  <tbody>\n",
       "    <tr>\n",
       "      <th>0</th>\n",
       "      <td>0.096940</td>\n",
       "      <td>-0.884059</td>\n",
       "      <td>-0.836583</td>\n",
       "      <td>0.9375</td>\n",
       "      <td>-0.047506</td>\n",
       "      <td>1.000000</td>\n",
       "    </tr>\n",
       "    <tr>\n",
       "      <th>1</th>\n",
       "      <td>1.628019</td>\n",
       "      <td>-0.518270</td>\n",
       "      <td>-0.506598</td>\n",
       "      <td>0.7875</td>\n",
       "      <td>0.581186</td>\n",
       "      <td>0.852941</td>\n",
       "    </tr>\n",
       "    <tr>\n",
       "      <th>2</th>\n",
       "      <td>0.368760</td>\n",
       "      <td>-0.394804</td>\n",
       "      <td>-0.132092</td>\n",
       "      <td>0.5750</td>\n",
       "      <td>0.128464</td>\n",
       "      <td>-0.176471</td>\n",
       "    </tr>\n",
       "    <tr>\n",
       "      <th>3</th>\n",
       "      <td>10.819002</td>\n",
       "      <td>0.854589</td>\n",
       "      <td>0.900564</td>\n",
       "      <td>-0.4250</td>\n",
       "      <td>8.299276</td>\n",
       "      <td>-0.500000</td>\n",
       "    </tr>\n",
       "    <tr>\n",
       "      <th>4</th>\n",
       "      <td>-0.278583</td>\n",
       "      <td>0.109185</td>\n",
       "      <td>0.511218</td>\n",
       "      <td>-0.7125</td>\n",
       "      <td>-0.284124</td>\n",
       "      <td>-0.882353</td>\n",
       "    </tr>\n",
       "  </tbody>\n",
       "</table>\n",
       "</div>"
      ],
      "text/plain": [
       "       cases    Income  IncomePerCap  Poverty  Employed  Unemployment\n",
       "0   0.096940 -0.884059     -0.836583   0.9375 -0.047506      1.000000\n",
       "1   1.628019 -0.518270     -0.506598   0.7875  0.581186      0.852941\n",
       "2   0.368760 -0.394804     -0.132092   0.5750  0.128464     -0.176471\n",
       "3  10.819002  0.854589      0.900564  -0.4250  8.299276     -0.500000\n",
       "4  -0.278583  0.109185      0.511218  -0.7125 -0.284124     -0.882353"
      ]
     },
     "execution_count": 38,
     "metadata": {},
     "output_type": "execute_result"
    }
   ],
   "source": [
    "scaled_econ_df = pd.DataFrame(econ_scaled, columns= ['cases','Income', 'IncomePerCap', 'Poverty', 'Employed', 'Unemployment'])\n",
    "scaled_econ_df.head()"
   ]
  },
  {
   "cell_type": "code",
   "execution_count": 39,
   "metadata": {},
   "outputs": [
    {
     "data": {
      "text/html": [
       "<div>\n",
       "<style scoped>\n",
       "    .dataframe tbody tr th:only-of-type {\n",
       "        vertical-align: middle;\n",
       "    }\n",
       "\n",
       "    .dataframe tbody tr th {\n",
       "        vertical-align: top;\n",
       "    }\n",
       "\n",
       "    .dataframe thead th {\n",
       "        text-align: right;\n",
       "    }\n",
       "</style>\n",
       "<table border=\"1\" class=\"dataframe\">\n",
       "  <thead>\n",
       "    <tr style=\"text-align: right;\">\n",
       "      <th></th>\n",
       "      <th>cases</th>\n",
       "    </tr>\n",
       "  </thead>\n",
       "  <tbody>\n",
       "    <tr>\n",
       "      <th>0</th>\n",
       "      <td>0.096940</td>\n",
       "    </tr>\n",
       "    <tr>\n",
       "      <th>1</th>\n",
       "      <td>1.628019</td>\n",
       "    </tr>\n",
       "    <tr>\n",
       "      <th>2</th>\n",
       "      <td>0.368760</td>\n",
       "    </tr>\n",
       "    <tr>\n",
       "      <th>3</th>\n",
       "      <td>10.819002</td>\n",
       "    </tr>\n",
       "    <tr>\n",
       "      <th>4</th>\n",
       "      <td>-0.278583</td>\n",
       "    </tr>\n",
       "  </tbody>\n",
       "</table>\n",
       "</div>"
      ],
      "text/plain": [
       "       cases\n",
       "0   0.096940\n",
       "1   1.628019\n",
       "2   0.368760\n",
       "3  10.819002\n",
       "4  -0.278583"
      ]
     },
     "execution_count": 39,
     "metadata": {},
     "output_type": "execute_result"
    }
   ],
   "source": [
    "y = scaled_econ_df['cases']\n",
    "scaled_cases = pd.DataFrame(y, columns = ['cases'])\n",
    "scaled_cases.head()"
   ]
  },
  {
   "cell_type": "code",
   "execution_count": 40,
   "metadata": {},
   "outputs": [
    {
     "data": {
      "text/html": [
       "<div>\n",
       "<style scoped>\n",
       "    .dataframe tbody tr th:only-of-type {\n",
       "        vertical-align: middle;\n",
       "    }\n",
       "\n",
       "    .dataframe tbody tr th {\n",
       "        vertical-align: top;\n",
       "    }\n",
       "\n",
       "    .dataframe thead th {\n",
       "        text-align: right;\n",
       "    }\n",
       "</style>\n",
       "<table border=\"1\" class=\"dataframe\">\n",
       "  <thead>\n",
       "    <tr style=\"text-align: right;\">\n",
       "      <th></th>\n",
       "      <th>Income</th>\n",
       "      <th>IncomePerCap</th>\n",
       "      <th>Poverty</th>\n",
       "      <th>Employed</th>\n",
       "      <th>Unemployment</th>\n",
       "    </tr>\n",
       "  </thead>\n",
       "  <tbody>\n",
       "    <tr>\n",
       "      <th>0</th>\n",
       "      <td>-0.884059</td>\n",
       "      <td>-0.836583</td>\n",
       "      <td>0.9375</td>\n",
       "      <td>-0.047506</td>\n",
       "      <td>1.000000</td>\n",
       "    </tr>\n",
       "    <tr>\n",
       "      <th>1</th>\n",
       "      <td>-0.518270</td>\n",
       "      <td>-0.506598</td>\n",
       "      <td>0.7875</td>\n",
       "      <td>0.581186</td>\n",
       "      <td>0.852941</td>\n",
       "    </tr>\n",
       "    <tr>\n",
       "      <th>2</th>\n",
       "      <td>-0.394804</td>\n",
       "      <td>-0.132092</td>\n",
       "      <td>0.5750</td>\n",
       "      <td>0.128464</td>\n",
       "      <td>-0.176471</td>\n",
       "    </tr>\n",
       "    <tr>\n",
       "      <th>3</th>\n",
       "      <td>0.854589</td>\n",
       "      <td>0.900564</td>\n",
       "      <td>-0.4250</td>\n",
       "      <td>8.299276</td>\n",
       "      <td>-0.500000</td>\n",
       "    </tr>\n",
       "    <tr>\n",
       "      <th>4</th>\n",
       "      <td>0.109185</td>\n",
       "      <td>0.511218</td>\n",
       "      <td>-0.7125</td>\n",
       "      <td>-0.284124</td>\n",
       "      <td>-0.882353</td>\n",
       "    </tr>\n",
       "  </tbody>\n",
       "</table>\n",
       "</div>"
      ],
      "text/plain": [
       "     Income  IncomePerCap  Poverty  Employed  Unemployment\n",
       "0 -0.884059     -0.836583   0.9375 -0.047506      1.000000\n",
       "1 -0.518270     -0.506598   0.7875  0.581186      0.852941\n",
       "2 -0.394804     -0.132092   0.5750  0.128464     -0.176471\n",
       "3  0.854589      0.900564  -0.4250  8.299276     -0.500000\n",
       "4  0.109185      0.511218  -0.7125 -0.284124     -0.882353"
      ]
     },
     "execution_count": 40,
     "metadata": {},
     "output_type": "execute_result"
    }
   ],
   "source": [
    "X_scaled = scaled_econ_df.drop(['cases'], axis=1)\n",
    "X_scaled.head()"
   ]
  },
  {
   "cell_type": "code",
   "execution_count": 41,
   "metadata": {},
   "outputs": [],
   "source": [
    "pca = PCA(n_components=2)"
   ]
  },
  {
   "cell_type": "code",
   "execution_count": 42,
   "metadata": {},
   "outputs": [
    {
     "data": {
      "text/plain": [
       "array([[-1.64159628,  1.76189364],\n",
       "       [-0.98515375,  1.28713192],\n",
       "       [-1.41720587,  0.43975036],\n",
       "       [ 6.84081264, -1.02562792],\n",
       "       [-1.77098262, -1.14250932]])"
      ]
     },
     "execution_count": 42,
     "metadata": {},
     "output_type": "execute_result"
    }
   ],
   "source": [
    "X = pca.fit_transform(X_scaled)\n",
    "X[:5]"
   ]
  },
  {
   "cell_type": "code",
   "execution_count": 43,
   "metadata": {},
   "outputs": [
    {
     "name": "stdout",
     "output_type": "stream",
     "text": [
      "[[ 0.0396793   0.03891049 -0.01120684  0.99838995  0.00185698]\n",
      " [-0.53254197 -0.50399543  0.50659949  0.04565446  0.45128737]]\n"
     ]
    }
   ],
   "source": [
    "print(pca.components_)"
   ]
  },
  {
   "cell_type": "code",
   "execution_count": 44,
   "metadata": {},
   "outputs": [
    {
     "name": "stdout",
     "output_type": "stream",
     "text": [
      "[41.79173183  2.1335844 ]\n"
     ]
    }
   ],
   "source": [
    "print(pca.explained_variance_)"
   ]
  },
  {
   "cell_type": "code",
   "execution_count": 45,
   "metadata": {},
   "outputs": [
    {
     "data": {
      "image/png": "[encoded data removed]",
      "text/plain": [
       "<Figure size 432x288 with 1 Axes>"
      ]
     },
     "metadata": {
      "needs_background": "light"
     },
     "output_type": "display_data"
    }
   ],
   "source": [
    "X_new = pca.inverse_transform(X)\n",
    "plt.scatter(X[:, 0], X[:, 1], alpha=0.2)\n",
    "plt.scatter(X_new[:, 0], X_new[:, 1], alpha=0.8)\n",
    "plt.axis('equal');"
   ]
  },
  {
   "cell_type": "code",
   "execution_count": null,
   "metadata": {},
   "outputs": [],
   "source": []
  }
 ],
 "metadata": {
  "kernelspec": {
   "display_name": "mlenv",
   "language": "python",
   "name": "mlenv"
  },
  "language_info": {
   "codemirror_mode": {
    "name": "ipython",
    "version": 3
   },
   "file_extension": ".py",
   "mimetype": "text/x-python",
   "name": "python",
   "nbconvert_exporter": "python",
   "pygments_lexer": "ipython3",
   "version": "3.7.9"
  }
 },
 "nbformat": 4,
 "nbformat_minor": 4
}
