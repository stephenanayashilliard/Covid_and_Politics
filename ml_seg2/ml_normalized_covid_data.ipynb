{
 "cells": [
  {
   "cell_type": "code",
   "execution_count": 2,
   "metadata": {},
   "outputs": [],
   "source": [
    "# import dependencies\n",
    "import pandas as pd\n",
    "import numpy as np\n",
    "import matplotlib.pyplot as plt\n",
    "from sklearn.ensemble import RandomForestRegressor\n",
    "from sklearn.model_selection import train_test_split\n",
    "from sklearn.preprocessing import StandardScaler\n",
    "from sklearn.preprocessing import RobustScaler\n",
    "from sklearn.decomposition import PCA\n",
    "from sklearn import metrics"
   ]
  },
  {
   "cell_type": "code",
   "execution_count": 3,
   "metadata": {},
   "outputs": [
    {
     "data": {
      "text/html": [
       "<div>\n",
       "<style scoped>\n",
       "    .dataframe tbody tr th:only-of-type {\n",
       "        vertical-align: middle;\n",
       "    }\n",
       "\n",
       "    .dataframe tbody tr th {\n",
       "        vertical-align: top;\n",
       "    }\n",
       "\n",
       "    .dataframe thead th {\n",
       "        text-align: right;\n",
       "    }\n",
       "</style>\n",
       "<table border=\"1\" class=\"dataframe\">\n",
       "  <thead>\n",
       "    <tr style=\"text-align: right;\">\n",
       "      <th></th>\n",
       "      <th>county</th>\n",
       "      <th>state</th>\n",
       "      <th>lat</th>\n",
       "      <th>long</th>\n",
       "      <th>TotalPop</th>\n",
       "      <th>total_votes20</th>\n",
       "      <th>votes20_Donald_Trump</th>\n",
       "      <th>votes20_Joe_Biden</th>\n",
       "      <th>percentage20_Donald_Trump</th>\n",
       "      <th>percentage20_Joe_Biden</th>\n",
       "      <th>...</th>\n",
       "      <th>Walk</th>\n",
       "      <th>OtherTransp</th>\n",
       "      <th>WorkAtHome</th>\n",
       "      <th>MeanCommute</th>\n",
       "      <th>Employed</th>\n",
       "      <th>PrivateWork</th>\n",
       "      <th>PublicWork</th>\n",
       "      <th>SelfEmployed</th>\n",
       "      <th>FamilyWork</th>\n",
       "      <th>Unemployment</th>\n",
       "    </tr>\n",
       "  </thead>\n",
       "  <tbody>\n",
       "    <tr>\n",
       "      <th>0</th>\n",
       "      <td>Abbeville</td>\n",
       "      <td>SC</td>\n",
       "      <td>34.223334</td>\n",
       "      <td>-82.461707</td>\n",
       "      <td>24788.0</td>\n",
       "      <td>12433.0</td>\n",
       "      <td>8215.0</td>\n",
       "      <td>4101.0</td>\n",
       "      <td>0.661</td>\n",
       "      <td>0.330</td>\n",
       "      <td>...</td>\n",
       "      <td>1.8</td>\n",
       "      <td>1.8</td>\n",
       "      <td>6.5</td>\n",
       "      <td>25.8</td>\n",
       "      <td>9505.0</td>\n",
       "      <td>78.8</td>\n",
       "      <td>13.3</td>\n",
       "      <td>7.8</td>\n",
       "      <td>0.1</td>\n",
       "      <td>9.4</td>\n",
       "    </tr>\n",
       "    <tr>\n",
       "      <th>1</th>\n",
       "      <td>Acadia</td>\n",
       "      <td>LA</td>\n",
       "      <td>30.295065</td>\n",
       "      <td>-92.414197</td>\n",
       "      <td>62607.0</td>\n",
       "      <td>28425.0</td>\n",
       "      <td>22596.0</td>\n",
       "      <td>5443.0</td>\n",
       "      <td>0.795</td>\n",
       "      <td>0.191</td>\n",
       "      <td>...</td>\n",
       "      <td>1.6</td>\n",
       "      <td>2.2</td>\n",
       "      <td>2.5</td>\n",
       "      <td>27.6</td>\n",
       "      <td>24982.0</td>\n",
       "      <td>80.0</td>\n",
       "      <td>12.1</td>\n",
       "      <td>7.6</td>\n",
       "      <td>0.3</td>\n",
       "      <td>8.9</td>\n",
       "    </tr>\n",
       "    <tr>\n",
       "      <th>2</th>\n",
       "      <td>Accomack</td>\n",
       "      <td>VA</td>\n",
       "      <td>37.767072</td>\n",
       "      <td>-75.632346</td>\n",
       "      <td>32840.0</td>\n",
       "      <td>16938.0</td>\n",
       "      <td>9172.0</td>\n",
       "      <td>7578.0</td>\n",
       "      <td>0.542</td>\n",
       "      <td>0.447</td>\n",
       "      <td>...</td>\n",
       "      <td>2.6</td>\n",
       "      <td>1.8</td>\n",
       "      <td>4.5</td>\n",
       "      <td>22.0</td>\n",
       "      <td>13837.0</td>\n",
       "      <td>74.6</td>\n",
       "      <td>18.1</td>\n",
       "      <td>7.1</td>\n",
       "      <td>0.2</td>\n",
       "      <td>5.4</td>\n",
       "    </tr>\n",
       "    <tr>\n",
       "      <th>3</th>\n",
       "      <td>Ada</td>\n",
       "      <td>ID</td>\n",
       "      <td>43.452658</td>\n",
       "      <td>-116.241552</td>\n",
       "      <td>435117.0</td>\n",
       "      <td>259389.0</td>\n",
       "      <td>130699.0</td>\n",
       "      <td>120539.0</td>\n",
       "      <td>0.504</td>\n",
       "      <td>0.465</td>\n",
       "      <td>...</td>\n",
       "      <td>1.5</td>\n",
       "      <td>2.8</td>\n",
       "      <td>6.9</td>\n",
       "      <td>20.4</td>\n",
       "      <td>214984.0</td>\n",
       "      <td>78.3</td>\n",
       "      <td>15.0</td>\n",
       "      <td>6.6</td>\n",
       "      <td>0.1</td>\n",
       "      <td>4.3</td>\n",
       "    </tr>\n",
       "    <tr>\n",
       "      <th>4</th>\n",
       "      <td>Adair</td>\n",
       "      <td>IA</td>\n",
       "      <td>41.330756</td>\n",
       "      <td>-94.471059</td>\n",
       "      <td>7192.0</td>\n",
       "      <td>4183.0</td>\n",
       "      <td>2917.0</td>\n",
       "      <td>1197.0</td>\n",
       "      <td>0.697</td>\n",
       "      <td>0.286</td>\n",
       "      <td>...</td>\n",
       "      <td>2.8</td>\n",
       "      <td>0.4</td>\n",
       "      <td>6.2</td>\n",
       "      <td>22.3</td>\n",
       "      <td>3680.0</td>\n",
       "      <td>73.8</td>\n",
       "      <td>15.3</td>\n",
       "      <td>10.4</td>\n",
       "      <td>0.5</td>\n",
       "      <td>3.0</td>\n",
       "    </tr>\n",
       "  </tbody>\n",
       "</table>\n",
       "<p>5 rows × 41 columns</p>\n",
       "</div>"
      ],
      "text/plain": [
       "      county state        lat        long  TotalPop  total_votes20  \\\n",
       "0  Abbeville    SC  34.223334  -82.461707   24788.0        12433.0   \n",
       "1     Acadia    LA  30.295065  -92.414197   62607.0        28425.0   \n",
       "2   Accomack    VA  37.767072  -75.632346   32840.0        16938.0   \n",
       "3        Ada    ID  43.452658 -116.241552  435117.0       259389.0   \n",
       "4      Adair    IA  41.330756  -94.471059    7192.0         4183.0   \n",
       "\n",
       "   votes20_Donald_Trump  votes20_Joe_Biden  percentage20_Donald_Trump  \\\n",
       "0                8215.0             4101.0                      0.661   \n",
       "1               22596.0             5443.0                      0.795   \n",
       "2                9172.0             7578.0                      0.542   \n",
       "3              130699.0           120539.0                      0.504   \n",
       "4                2917.0             1197.0                      0.697   \n",
       "\n",
       "   percentage20_Joe_Biden  ...  Walk  OtherTransp  WorkAtHome  MeanCommute  \\\n",
       "0                   0.330  ...   1.8          1.8         6.5         25.8   \n",
       "1                   0.191  ...   1.6          2.2         2.5         27.6   \n",
       "2                   0.447  ...   2.6          1.8         4.5         22.0   \n",
       "3                   0.465  ...   1.5          2.8         6.9         20.4   \n",
       "4                   0.286  ...   2.8          0.4         6.2         22.3   \n",
       "\n",
       "   Employed  PrivateWork  PublicWork  SelfEmployed  FamilyWork  Unemployment  \n",
       "0    9505.0         78.8        13.3           7.8         0.1           9.4  \n",
       "1   24982.0         80.0        12.1           7.6         0.3           8.9  \n",
       "2   13837.0         74.6        18.1           7.1         0.2           5.4  \n",
       "3  214984.0         78.3        15.0           6.6         0.1           4.3  \n",
       "4    3680.0         73.8        15.3          10.4         0.5           3.0  \n",
       "\n",
       "[5 rows x 41 columns]"
      ]
     },
     "execution_count": 3,
     "metadata": {},
     "output_type": "execute_result"
    }
   ],
   "source": [
    "# read in csv as dataframe\n",
    "county_df = pd.read_csv(\"county_data_mlseg2.csv\", index_col=0)\n",
    "county_df.head()"
   ]
  },
  {
   "cell_type": "code",
   "execution_count": 4,
   "metadata": {},
   "outputs": [
    {
     "data": {
      "text/plain": [
       "Index(['county', 'state', 'lat', 'long', 'TotalPop', 'total_votes20',\n",
       "       'votes20_Donald_Trump', 'votes20_Joe_Biden',\n",
       "       'percentage20_Donald_Trump', 'percentage20_Joe_Biden', 'cases',\n",
       "       'deaths', 'Men', 'Women', 'Hispanic', 'White', 'Black', 'Native',\n",
       "       'Asian', 'Pacific', 'Income', 'IncomePerCap', 'Poverty', 'Professional',\n",
       "       'Service', 'Office', 'Construction', 'Production', 'Drive', 'Carpool',\n",
       "       'Transit', 'Walk', 'OtherTransp', 'WorkAtHome', 'MeanCommute',\n",
       "       'Employed', 'PrivateWork', 'PublicWork', 'SelfEmployed', 'FamilyWork',\n",
       "       'Unemployment'],\n",
       "      dtype='object')"
      ]
     },
     "execution_count": 4,
     "metadata": {},
     "output_type": "execute_result"
    }
   ],
   "source": [
    "# check columns\n",
    "county_df.columns"
   ]
  },
  {
   "cell_type": "code",
   "execution_count": 5,
   "metadata": {},
   "outputs": [
    {
     "data": {
      "text/plain": [
       "0       0.032475\n",
       "1       0.050825\n",
       "2       0.037363\n",
       "3       0.040106\n",
       "4       0.030868\n",
       "          ...   \n",
       "3108    0.024835\n",
       "3109    0.038677\n",
       "3110    0.038068\n",
       "3810    0.035164\n",
       "4101    0.073543\n",
       "Name: normalized_cases, Length: 3048, dtype: float64"
      ]
     },
     "execution_count": 5,
     "metadata": {},
     "output_type": "execute_result"
    }
   ],
   "source": [
    "county_df['normalized_cases'] = county_df['cases']/county_df['TotalPop']\n",
    "county_df['normalized_cases']"
   ]
  },
  {
   "cell_type": "code",
   "execution_count": 6,
   "metadata": {},
   "outputs": [],
   "source": [
    "##county_df.hist"
   ]
  },
  {
   "cell_type": "code",
   "execution_count": 7,
   "metadata": {},
   "outputs": [
    {
     "data": {
      "text/plain": [
       "Index(['county', 'state', 'lat', 'long', 'TotalPop', 'total_votes20',\n",
       "       'votes20_Donald_Trump', 'votes20_Joe_Biden',\n",
       "       'percentage20_Donald_Trump', 'percentage20_Joe_Biden', 'cases',\n",
       "       'deaths', 'Men', 'Women', 'Hispanic', 'White', 'Black', 'Native',\n",
       "       'Asian', 'Pacific', 'Income', 'IncomePerCap', 'Poverty', 'Professional',\n",
       "       'Service', 'Office', 'Construction', 'Production', 'Drive', 'Carpool',\n",
       "       'Transit', 'Walk', 'OtherTransp', 'WorkAtHome', 'MeanCommute',\n",
       "       'Employed', 'PrivateWork', 'PublicWork', 'SelfEmployed', 'FamilyWork',\n",
       "       'Unemployment', 'normalized_cases'],\n",
       "      dtype='object')"
      ]
     },
     "execution_count": 7,
     "metadata": {},
     "output_type": "execute_result"
    }
   ],
   "source": [
    "county_df.columns"
   ]
  },
  {
   "cell_type": "code",
   "execution_count": 8,
   "metadata": {},
   "outputs": [
    {
     "data": {
      "text/html": [
       "<div>\n",
       "<style scoped>\n",
       "    .dataframe tbody tr th:only-of-type {\n",
       "        vertical-align: middle;\n",
       "    }\n",
       "\n",
       "    .dataframe tbody tr th {\n",
       "        vertical-align: top;\n",
       "    }\n",
       "\n",
       "    .dataframe thead th {\n",
       "        text-align: right;\n",
       "    }\n",
       "</style>\n",
       "<table border=\"1\" class=\"dataframe\">\n",
       "  <thead>\n",
       "    <tr style=\"text-align: right;\">\n",
       "      <th></th>\n",
       "      <th>normalized_cases</th>\n",
       "      <th>Income</th>\n",
       "      <th>IncomePerCap</th>\n",
       "      <th>Poverty</th>\n",
       "      <th>Employed</th>\n",
       "      <th>Unemployment</th>\n",
       "      <th>Professional</th>\n",
       "    </tr>\n",
       "  </thead>\n",
       "  <tbody>\n",
       "    <tr>\n",
       "      <th>0</th>\n",
       "      <td>0.032475</td>\n",
       "      <td>35254.0</td>\n",
       "      <td>19234.0</td>\n",
       "      <td>22.7</td>\n",
       "      <td>9505.0</td>\n",
       "      <td>9.4</td>\n",
       "      <td>27.2</td>\n",
       "    </tr>\n",
       "    <tr>\n",
       "      <th>1</th>\n",
       "      <td>0.050825</td>\n",
       "      <td>40492.0</td>\n",
       "      <td>21591.0</td>\n",
       "      <td>21.5</td>\n",
       "      <td>24982.0</td>\n",
       "      <td>8.9</td>\n",
       "      <td>27.6</td>\n",
       "    </tr>\n",
       "    <tr>\n",
       "      <th>2</th>\n",
       "      <td>0.037363</td>\n",
       "      <td>42260.0</td>\n",
       "      <td>24266.0</td>\n",
       "      <td>19.8</td>\n",
       "      <td>13837.0</td>\n",
       "      <td>5.4</td>\n",
       "      <td>31.1</td>\n",
       "    </tr>\n",
       "    <tr>\n",
       "      <th>3</th>\n",
       "      <td>0.040106</td>\n",
       "      <td>60151.0</td>\n",
       "      <td>31642.0</td>\n",
       "      <td>11.8</td>\n",
       "      <td>214984.0</td>\n",
       "      <td>4.3</td>\n",
       "      <td>43.0</td>\n",
       "    </tr>\n",
       "    <tr>\n",
       "      <th>4</th>\n",
       "      <td>0.030868</td>\n",
       "      <td>49477.0</td>\n",
       "      <td>28861.0</td>\n",
       "      <td>9.5</td>\n",
       "      <td>3680.0</td>\n",
       "      <td>3.0</td>\n",
       "      <td>28.2</td>\n",
       "    </tr>\n",
       "  </tbody>\n",
       "</table>\n",
       "</div>"
      ],
      "text/plain": [
       "   normalized_cases   Income  IncomePerCap  Poverty  Employed  Unemployment  \\\n",
       "0          0.032475  35254.0       19234.0     22.7    9505.0           9.4   \n",
       "1          0.050825  40492.0       21591.0     21.5   24982.0           8.9   \n",
       "2          0.037363  42260.0       24266.0     19.8   13837.0           5.4   \n",
       "3          0.040106  60151.0       31642.0     11.8  214984.0           4.3   \n",
       "4          0.030868  49477.0       28861.0      9.5    3680.0           3.0   \n",
       "\n",
       "   Professional  \n",
       "0          27.2  \n",
       "1          27.6  \n",
       "2          31.1  \n",
       "3          43.0  \n",
       "4          28.2  "
      ]
     },
     "execution_count": 8,
     "metadata": {},
     "output_type": "execute_result"
    }
   ],
   "source": [
    "# create economic dataframe for pca\n",
    "econ_df = county_df[['normalized_cases','Income', 'IncomePerCap', 'Poverty', 'Employed', 'Unemployment', 'Professional']]\n",
    "econ_df.head()"
   ]
  },
  {
   "cell_type": "code",
   "execution_count": 9,
   "metadata": {},
   "outputs": [
    {
     "data": {
      "text/plain": [
       "normalized_cases    float64\n",
       "Income              float64\n",
       "IncomePerCap        float64\n",
       "Poverty             float64\n",
       "Employed            float64\n",
       "Unemployment        float64\n",
       "Professional        float64\n",
       "dtype: object"
      ]
     },
     "execution_count": 9,
     "metadata": {},
     "output_type": "execute_result"
    }
   ],
   "source": [
    "econ_df.dtypes"
   ]
  },
  {
   "cell_type": "code",
   "execution_count": 10,
   "metadata": {},
   "outputs": [
    {
     "data": {
      "text/plain": [
       "False"
      ]
     },
     "execution_count": 10,
     "metadata": {},
     "output_type": "execute_result"
    }
   ],
   "source": [
    "np.any(np.isnan(econ_df['normalized_cases']))"
   ]
  },
  {
   "cell_type": "code",
   "execution_count": 11,
   "metadata": {},
   "outputs": [
    {
     "data": {
      "text/plain": [
       "array([[ 0.29768353, -0.88405873, -0.83658255,  0.9375    , -0.04750637,\n",
       "         1.        , -0.43421053],\n",
       "       [ 1.16680533, -0.51827022, -0.5065976 ,  0.7875    ,  0.58118634,\n",
       "         0.85294118, -0.38157895],\n",
       "       [ 0.52918197, -0.39480438, -0.13209198,  0.575     ,  0.12846422,\n",
       "        -0.17647059,  0.07894737],\n",
       "       [ 0.65912598,  0.85458894,  0.90056351, -0.425     ,  8.29927593,\n",
       "        -0.5       ,  1.64473684],\n",
       "       [ 0.22153254,  0.10918487,  0.51121767, -0.7125    , -0.28412426,\n",
       "        -0.88235294, -0.30263158]])"
      ]
     },
     "execution_count": 11,
     "metadata": {},
     "output_type": "execute_result"
    }
   ],
   "source": [
    "# create scaled df\n",
    "econ_scaled = RobustScaler().fit_transform(econ_df)\n",
    "econ_scaled[:5]"
   ]
  },
  {
   "cell_type": "code",
   "execution_count": 12,
   "metadata": {},
   "outputs": [
    {
     "data": {
      "text/html": [
       "<div>\n",
       "<style scoped>\n",
       "    .dataframe tbody tr th:only-of-type {\n",
       "        vertical-align: middle;\n",
       "    }\n",
       "\n",
       "    .dataframe tbody tr th {\n",
       "        vertical-align: top;\n",
       "    }\n",
       "\n",
       "    .dataframe thead th {\n",
       "        text-align: right;\n",
       "    }\n",
       "</style>\n",
       "<table border=\"1\" class=\"dataframe\">\n",
       "  <thead>\n",
       "    <tr style=\"text-align: right;\">\n",
       "      <th></th>\n",
       "      <th>normalized_cases</th>\n",
       "      <th>Income</th>\n",
       "      <th>IncomePerCap</th>\n",
       "      <th>Poverty</th>\n",
       "      <th>Employed</th>\n",
       "      <th>Unemployment</th>\n",
       "      <th>Professional</th>\n",
       "    </tr>\n",
       "  </thead>\n",
       "  <tbody>\n",
       "    <tr>\n",
       "      <th>0</th>\n",
       "      <td>0.297684</td>\n",
       "      <td>-0.884059</td>\n",
       "      <td>-0.836583</td>\n",
       "      <td>0.9375</td>\n",
       "      <td>-0.047506</td>\n",
       "      <td>1.000000</td>\n",
       "      <td>-0.434211</td>\n",
       "    </tr>\n",
       "    <tr>\n",
       "      <th>1</th>\n",
       "      <td>1.166805</td>\n",
       "      <td>-0.518270</td>\n",
       "      <td>-0.506598</td>\n",
       "      <td>0.7875</td>\n",
       "      <td>0.581186</td>\n",
       "      <td>0.852941</td>\n",
       "      <td>-0.381579</td>\n",
       "    </tr>\n",
       "    <tr>\n",
       "      <th>2</th>\n",
       "      <td>0.529182</td>\n",
       "      <td>-0.394804</td>\n",
       "      <td>-0.132092</td>\n",
       "      <td>0.5750</td>\n",
       "      <td>0.128464</td>\n",
       "      <td>-0.176471</td>\n",
       "      <td>0.078947</td>\n",
       "    </tr>\n",
       "    <tr>\n",
       "      <th>3</th>\n",
       "      <td>0.659126</td>\n",
       "      <td>0.854589</td>\n",
       "      <td>0.900564</td>\n",
       "      <td>-0.4250</td>\n",
       "      <td>8.299276</td>\n",
       "      <td>-0.500000</td>\n",
       "      <td>1.644737</td>\n",
       "    </tr>\n",
       "    <tr>\n",
       "      <th>4</th>\n",
       "      <td>0.221533</td>\n",
       "      <td>0.109185</td>\n",
       "      <td>0.511218</td>\n",
       "      <td>-0.7125</td>\n",
       "      <td>-0.284124</td>\n",
       "      <td>-0.882353</td>\n",
       "      <td>-0.302632</td>\n",
       "    </tr>\n",
       "  </tbody>\n",
       "</table>\n",
       "</div>"
      ],
      "text/plain": [
       "   normalized_cases    Income  IncomePerCap  Poverty  Employed  Unemployment  \\\n",
       "0          0.297684 -0.884059     -0.836583   0.9375 -0.047506      1.000000   \n",
       "1          1.166805 -0.518270     -0.506598   0.7875  0.581186      0.852941   \n",
       "2          0.529182 -0.394804     -0.132092   0.5750  0.128464     -0.176471   \n",
       "3          0.659126  0.854589      0.900564  -0.4250  8.299276     -0.500000   \n",
       "4          0.221533  0.109185      0.511218  -0.7125 -0.284124     -0.882353   \n",
       "\n",
       "   Professional  \n",
       "0     -0.434211  \n",
       "1     -0.381579  \n",
       "2      0.078947  \n",
       "3      1.644737  \n",
       "4     -0.302632  "
      ]
     },
     "execution_count": 12,
     "metadata": {},
     "output_type": "execute_result"
    }
   ],
   "source": [
    "scaled_econ_df = pd.DataFrame(econ_scaled, columns= ['normalized_cases','Income', 'IncomePerCap', 'Poverty', 'Employed', 'Unemployment', 'Professional'])\n",
    "scaled_econ_df.head()"
   ]
  },
  {
   "cell_type": "code",
   "execution_count": 13,
   "metadata": {},
   "outputs": [
    {
     "data": {
      "text/html": [
       "<div>\n",
       "<style scoped>\n",
       "    .dataframe tbody tr th:only-of-type {\n",
       "        vertical-align: middle;\n",
       "    }\n",
       "\n",
       "    .dataframe tbody tr th {\n",
       "        vertical-align: top;\n",
       "    }\n",
       "\n",
       "    .dataframe thead th {\n",
       "        text-align: right;\n",
       "    }\n",
       "</style>\n",
       "<table border=\"1\" class=\"dataframe\">\n",
       "  <thead>\n",
       "    <tr style=\"text-align: right;\">\n",
       "      <th></th>\n",
       "      <th>normalized_cases</th>\n",
       "    </tr>\n",
       "  </thead>\n",
       "  <tbody>\n",
       "    <tr>\n",
       "      <th>0</th>\n",
       "      <td>0.297684</td>\n",
       "    </tr>\n",
       "    <tr>\n",
       "      <th>1</th>\n",
       "      <td>1.166805</td>\n",
       "    </tr>\n",
       "    <tr>\n",
       "      <th>2</th>\n",
       "      <td>0.529182</td>\n",
       "    </tr>\n",
       "    <tr>\n",
       "      <th>3</th>\n",
       "      <td>0.659126</td>\n",
       "    </tr>\n",
       "    <tr>\n",
       "      <th>4</th>\n",
       "      <td>0.221533</td>\n",
       "    </tr>\n",
       "  </tbody>\n",
       "</table>\n",
       "</div>"
      ],
      "text/plain": [
       "   normalized_cases\n",
       "0          0.297684\n",
       "1          1.166805\n",
       "2          0.529182\n",
       "3          0.659126\n",
       "4          0.221533"
      ]
     },
     "execution_count": 13,
     "metadata": {},
     "output_type": "execute_result"
    }
   ],
   "source": [
    "y = scaled_econ_df['normalized_cases']\n",
    "scaled_cases = pd.DataFrame(y, columns = ['normalized_cases'])\n",
    "scaled_cases.head()"
   ]
  },
  {
   "cell_type": "code",
   "execution_count": 14,
   "metadata": {},
   "outputs": [
    {
     "data": {
      "text/html": [
       "<div>\n",
       "<style scoped>\n",
       "    .dataframe tbody tr th:only-of-type {\n",
       "        vertical-align: middle;\n",
       "    }\n",
       "\n",
       "    .dataframe tbody tr th {\n",
       "        vertical-align: top;\n",
       "    }\n",
       "\n",
       "    .dataframe thead th {\n",
       "        text-align: right;\n",
       "    }\n",
       "</style>\n",
       "<table border=\"1\" class=\"dataframe\">\n",
       "  <thead>\n",
       "    <tr style=\"text-align: right;\">\n",
       "      <th></th>\n",
       "      <th>Income</th>\n",
       "      <th>IncomePerCap</th>\n",
       "      <th>Poverty</th>\n",
       "      <th>Employed</th>\n",
       "      <th>Unemployment</th>\n",
       "      <th>Professional</th>\n",
       "    </tr>\n",
       "  </thead>\n",
       "  <tbody>\n",
       "    <tr>\n",
       "      <th>0</th>\n",
       "      <td>-0.884059</td>\n",
       "      <td>-0.836583</td>\n",
       "      <td>0.9375</td>\n",
       "      <td>-0.047506</td>\n",
       "      <td>1.000000</td>\n",
       "      <td>-0.434211</td>\n",
       "    </tr>\n",
       "    <tr>\n",
       "      <th>1</th>\n",
       "      <td>-0.518270</td>\n",
       "      <td>-0.506598</td>\n",
       "      <td>0.7875</td>\n",
       "      <td>0.581186</td>\n",
       "      <td>0.852941</td>\n",
       "      <td>-0.381579</td>\n",
       "    </tr>\n",
       "    <tr>\n",
       "      <th>2</th>\n",
       "      <td>-0.394804</td>\n",
       "      <td>-0.132092</td>\n",
       "      <td>0.5750</td>\n",
       "      <td>0.128464</td>\n",
       "      <td>-0.176471</td>\n",
       "      <td>0.078947</td>\n",
       "    </tr>\n",
       "    <tr>\n",
       "      <th>3</th>\n",
       "      <td>0.854589</td>\n",
       "      <td>0.900564</td>\n",
       "      <td>-0.4250</td>\n",
       "      <td>8.299276</td>\n",
       "      <td>-0.500000</td>\n",
       "      <td>1.644737</td>\n",
       "    </tr>\n",
       "    <tr>\n",
       "      <th>4</th>\n",
       "      <td>0.109185</td>\n",
       "      <td>0.511218</td>\n",
       "      <td>-0.7125</td>\n",
       "      <td>-0.284124</td>\n",
       "      <td>-0.882353</td>\n",
       "      <td>-0.302632</td>\n",
       "    </tr>\n",
       "  </tbody>\n",
       "</table>\n",
       "</div>"
      ],
      "text/plain": [
       "     Income  IncomePerCap  Poverty  Employed  Unemployment  Professional\n",
       "0 -0.884059     -0.836583   0.9375 -0.047506      1.000000     -0.434211\n",
       "1 -0.518270     -0.506598   0.7875  0.581186      0.852941     -0.381579\n",
       "2 -0.394804     -0.132092   0.5750  0.128464     -0.176471      0.078947\n",
       "3  0.854589      0.900564  -0.4250  8.299276     -0.500000      1.644737\n",
       "4  0.109185      0.511218  -0.7125 -0.284124     -0.882353     -0.302632"
      ]
     },
     "execution_count": 14,
     "metadata": {},
     "output_type": "execute_result"
    }
   ],
   "source": [
    "X_scaled = scaled_econ_df.drop(['normalized_cases'], axis=1)\n",
    "X_scaled.head()"
   ]
  },
  {
   "cell_type": "code",
   "execution_count": 15,
   "metadata": {},
   "outputs": [],
   "source": [
    "# initialize pca model\n",
    "pca = PCA(n_components=2)"
   ]
  },
  {
   "cell_type": "code",
   "execution_count": 16,
   "metadata": {},
   "outputs": [
    {
     "data": {
      "text/plain": [
       "array([[-1.66237441,  1.81758077],\n",
       "       [-1.00409553,  1.36181424],\n",
       "       [-1.4181055 ,  0.4092722 ],\n",
       "       [ 6.89369296, -1.41157477],\n",
       "       [-1.78496402, -0.91629211]])"
      ]
     },
     "execution_count": 16,
     "metadata": {},
     "output_type": "execute_result"
    }
   ],
   "source": [
    "# get two principal components for the iris data\n",
    "X = pca.fit_transform(X_scaled)\n",
    "X[:5]"
   ]
  },
  {
   "cell_type": "code",
   "execution_count": 17,
   "metadata": {},
   "outputs": [],
   "source": [
    "# instantiate model\n",
    "regressor = RandomForestRegressor(n_estimators=100,random_state=48)"
   ]
  },
  {
   "cell_type": "code",
   "execution_count": 18,
   "metadata": {},
   "outputs": [],
   "source": [
    "# split data into training and testing sets\n",
    "X_train, X_test, y_train, y_test = train_test_split(X, y, random_state=48)"
   ]
  },
  {
   "cell_type": "code",
   "execution_count": 19,
   "metadata": {},
   "outputs": [
    {
     "data": {
      "text/plain": [
       "RandomForestRegressor(random_state=48)"
      ]
     },
     "execution_count": 19,
     "metadata": {},
     "output_type": "execute_result"
    }
   ],
   "source": [
    "# fit model\n",
    "regressor.fit(X_train, y_train)"
   ]
  },
  {
   "cell_type": "code",
   "execution_count": 31,
   "metadata": {},
   "outputs": [],
   "source": [
    "my_regress = regressor.fit(X_train, y_train)\n",
    "\n"
   ]
  },
  {
   "cell_type": "code",
   "execution_count": 32,
   "metadata": {},
   "outputs": [
    {
     "data": {
      "text/plain": [
       "array([0.34469358, 0.8036104 , 0.04642754, 0.8518295 , 0.46203042])"
      ]
     },
     "execution_count": 32,
     "metadata": {},
     "output_type": "execute_result"
    }
   ],
   "source": [
    "# make predictions\n",
    "y_pred = regressor.predict(X_test)\n",
    "y_pred[:5]"
   ]
  },
  {
   "cell_type": "code",
   "execution_count": 33,
   "metadata": {},
   "outputs": [
    {
     "data": {
      "text/html": [
       "<div>\n",
       "<style scoped>\n",
       "    .dataframe tbody tr th:only-of-type {\n",
       "        vertical-align: middle;\n",
       "    }\n",
       "\n",
       "    .dataframe tbody tr th {\n",
       "        vertical-align: top;\n",
       "    }\n",
       "\n",
       "    .dataframe thead th {\n",
       "        text-align: right;\n",
       "    }\n",
       "</style>\n",
       "<table border=\"1\" class=\"dataframe\">\n",
       "  <thead>\n",
       "    <tr style=\"text-align: right;\">\n",
       "      <th></th>\n",
       "      <th>principal component 1</th>\n",
       "      <th>principal component 2</th>\n",
       "    </tr>\n",
       "  </thead>\n",
       "  <tbody>\n",
       "    <tr>\n",
       "      <th>0</th>\n",
       "      <td>-1.662374</td>\n",
       "      <td>1.817581</td>\n",
       "    </tr>\n",
       "    <tr>\n",
       "      <th>1</th>\n",
       "      <td>-1.004096</td>\n",
       "      <td>1.361814</td>\n",
       "    </tr>\n",
       "    <tr>\n",
       "      <th>2</th>\n",
       "      <td>-1.418106</td>\n",
       "      <td>0.409272</td>\n",
       "    </tr>\n",
       "    <tr>\n",
       "      <th>3</th>\n",
       "      <td>6.893693</td>\n",
       "      <td>-1.411575</td>\n",
       "    </tr>\n",
       "    <tr>\n",
       "      <th>4</th>\n",
       "      <td>-1.784964</td>\n",
       "      <td>-0.916292</td>\n",
       "    </tr>\n",
       "  </tbody>\n",
       "</table>\n",
       "</div>"
      ],
      "text/plain": [
       "   principal component 1  principal component 2\n",
       "0              -1.662374               1.817581\n",
       "1              -1.004096               1.361814\n",
       "2              -1.418106               0.409272\n",
       "3               6.893693              -1.411575\n",
       "4              -1.784964              -0.916292"
      ]
     },
     "execution_count": 33,
     "metadata": {},
     "output_type": "execute_result"
    }
   ],
   "source": [
    "# Create df with pca and predictions\n",
    "econ_pca_pred = pd.DataFrame(\n",
    "    data=X, columns=[\"principal component 1\", \"principal component 2\"]\n",
    ")\n",
    "econ_pca_pred.head()"
   ]
  },
  {
   "cell_type": "code",
   "execution_count": 34,
   "metadata": {},
   "outputs": [
    {
     "name": "stdout",
     "output_type": "stream",
     "text": [
      "[41.84944075  2.40138947]\n"
     ]
    }
   ],
   "source": [
    "# plot components\n",
    "print(pca.explained_variance_)"
   ]
  },
  {
   "cell_type": "code",
   "execution_count": 35,
   "metadata": {},
   "outputs": [
    {
     "name": "stdout",
     "output_type": "stream",
     "text": [
      "[[ 0.04003528  0.03929823 -0.01145061  0.99765608  0.00163436  0.03743496]\n",
      " [-0.50381653 -0.4858889   0.45747131  0.05765967  0.40482044 -0.36550876]]\n"
     ]
    }
   ],
   "source": [
    "print(pca.components_)"
   ]
  },
  {
   "cell_type": "code",
   "execution_count": 36,
   "metadata": {},
   "outputs": [
    {
     "data": {
      "image/png": "[encoded data removed]",
      "text/plain": [
       "<Figure size 432x288 with 1 Axes>"
      ]
     },
     "metadata": {
      "needs_background": "light"
     },
     "output_type": "display_data"
    }
   ],
   "source": [
    "# plot pca\n",
    "plt.scatter(econ_pca_pred['principal component 1'], econ_pca_pred['principal component 2'])\n",
    "plt.show()"
   ]
  },
  {
   "cell_type": "code",
   "execution_count": 37,
   "metadata": {},
   "outputs": [
    {
     "name": "stdout",
     "output_type": "stream",
     "text": [
      "(2286, 2)\n",
      "(2286,)\n",
      "(762,)\n"
     ]
    }
   ],
   "source": [
    "print(X_train.shape)\n",
    "print(y_train.shape)\n",
    "print(y_pred.shape)"
   ]
  },
  {
   "cell_type": "code",
   "execution_count": 38,
   "metadata": {},
   "outputs": [
    {
     "data": {
      "image/png": "[encoded data removed]",
      "text/plain": [
       "<Figure size 432x288 with 1 Axes>"
      ]
     },
     "metadata": {
      "needs_background": "light"
     },
     "output_type": "display_data"
    }
   ],
   "source": [
    "# plot predictions\n",
    "# rephrased y_train to be same size as X\n",
    "#np.linspace\n",
    "plt.scatter(X_train[:,0], y_train)\n",
    "\n",
    "plt.show()"
   ]
  },
  {
   "cell_type": "code",
   "execution_count": 39,
   "metadata": {},
   "outputs": [
    {
     "data": {
      "text/plain": [
       "0.8555685580612463"
      ]
     },
     "execution_count": 39,
     "metadata": {},
     "output_type": "execute_result"
    }
   ],
   "source": [
    "# check score\n",
    "regressor.score(X_train, y_train)"
   ]
  },
  {
   "cell_type": "code",
   "execution_count": 40,
   "metadata": {},
   "outputs": [
    {
     "name": "stdout",
     "output_type": "stream",
     "text": [
      "Mean Absolute Error: 0.6250135553335134\n",
      "Mean Squared Error: 0.7335986795152108\n",
      "Root Mean Squared Error: 0.8565037533573399\n",
      "R Squared: -0.025243711354378418\n"
     ]
    }
   ],
   "source": [
    "print('Mean Absolute Error:', metrics.mean_absolute_error(y_test, y_pred))\n",
    "print('Mean Squared Error:', metrics.mean_squared_error(y_test, y_pred))\n",
    "print('Root Mean Squared Error:', np.sqrt(metrics.mean_squared_error(y_test, y_pred)))\n",
    "print('R Squared:', metrics.r2_score(y_test, y_pred))"
   ]
  },
  {
   "cell_type": "code",
   "execution_count": 41,
   "metadata": {},
   "outputs": [
    {
     "data": {
      "text/html": [
       "<div>\n",
       "<style scoped>\n",
       "    .dataframe tbody tr th:only-of-type {\n",
       "        vertical-align: middle;\n",
       "    }\n",
       "\n",
       "    .dataframe tbody tr th {\n",
       "        vertical-align: top;\n",
       "    }\n",
       "\n",
       "    .dataframe thead th {\n",
       "        text-align: right;\n",
       "    }\n",
       "</style>\n",
       "<table border=\"1\" class=\"dataframe\">\n",
       "  <thead>\n",
       "    <tr style=\"text-align: right;\">\n",
       "      <th></th>\n",
       "      <th>Real Values</th>\n",
       "      <th>Predicted Values</th>\n",
       "    </tr>\n",
       "  </thead>\n",
       "  <tbody>\n",
       "    <tr>\n",
       "      <th>1050</th>\n",
       "      <td>0.426289</td>\n",
       "      <td>0.344694</td>\n",
       "    </tr>\n",
       "    <tr>\n",
       "      <th>697</th>\n",
       "      <td>-0.374408</td>\n",
       "      <td>0.803610</td>\n",
       "    </tr>\n",
       "    <tr>\n",
       "      <th>1636</th>\n",
       "      <td>-0.237645</td>\n",
       "      <td>0.046428</td>\n",
       "    </tr>\n",
       "    <tr>\n",
       "      <th>2655</th>\n",
       "      <td>2.026398</td>\n",
       "      <td>0.851830</td>\n",
       "    </tr>\n",
       "    <tr>\n",
       "      <th>2752</th>\n",
       "      <td>-0.595934</td>\n",
       "      <td>0.462030</td>\n",
       "    </tr>\n",
       "  </tbody>\n",
       "</table>\n",
       "</div>"
      ],
      "text/plain": [
       "      Real Values  Predicted Values\n",
       "1050     0.426289          0.344694\n",
       "697     -0.374408          0.803610\n",
       "1636    -0.237645          0.046428\n",
       "2655     2.026398          0.851830\n",
       "2752    -0.595934          0.462030"
      ]
     },
     "execution_count": 41,
     "metadata": {},
     "output_type": "execute_result"
    }
   ],
   "source": [
    "pred_df = pd.DataFrame({'Real Values': y_test, 'Predicted Values': y_pred})\n",
    "pred_df.head()"
   ]
  },
  {
   "cell_type": "code",
   "execution_count": 42,
   "metadata": {},
   "outputs": [
    {
     "ename": "AttributeError",
     "evalue": "'RandomForestRegressor' object has no attribute 'classification_report'",
     "output_type": "error",
     "traceback": [
      "\u001b[0;31m---------------------------------------------------------------------------\u001b[0m",
      "\u001b[0;31mAttributeError\u001b[0m                            Traceback (most recent call last)",
      "\u001b[0;32m<ipython-input-42-1cf9563d31d2>\u001b[0m in \u001b[0;36m<module>\u001b[0;34m\u001b[0m\n\u001b[0;32m----> 1\u001b[0;31m \u001b[0mprint\u001b[0m\u001b[0;34m(\u001b[0m\u001b[0mmy_regress\u001b[0m\u001b[0;34m.\u001b[0m\u001b[0mclassification_report\u001b[0m\u001b[0;34m(\u001b[0m\u001b[0my\u001b[0m\u001b[0;34m,\u001b[0m\u001b[0my_pred\u001b[0m\u001b[0;34m)\u001b[0m\u001b[0;34m)\u001b[0m\u001b[0;34m\u001b[0m\u001b[0;34m\u001b[0m\u001b[0m\n\u001b[0m",
      "\u001b[0;31mAttributeError\u001b[0m: 'RandomForestRegressor' object has no attribute 'classification_report'"
     ]
    }
   ],
   "source": [
    "print(my_regress.classification_report(y,y_pred))"
   ]
  },
  {
   "cell_type": "code",
   "execution_count": 57,
   "metadata": {},
   "outputs": [
    {
     "data": {
      "image/png": "[encoded data removed]",
      "text/plain": [
       "<Figure size 432x288 with 1 Axes>"
      ]
     },
     "metadata": {
      "needs_background": "light"
     },
     "output_type": "display_data"
    }
   ],
   "source": [
    "# plot line chart for predictions\n",
    "plt.plot(pred_df['Predicted Values'], pred_df['Real Values'])\n",
    "plt.show()"
   ]
  },
  {
   "cell_type": "code",
   "execution_count": 58,
   "metadata": {},
   "outputs": [
    {
     "data": {
      "image/png": "[encoded data removed]",
      "text/plain": [
       "<Figure size 432x288 with 1 Axes>"
      ]
     },
     "metadata": {
      "needs_background": "light"
     },
     "output_type": "display_data"
    }
   ],
   "source": [
    "plt.scatter(pred_df['Real Values'], pred_df['Predicted Values'])\n",
    "plt.scatter(pred_df['Real Values'], pred_df['Predicted Values'])\n",
    "plt.show()"
   ]
  },
  {
   "cell_type": "code",
   "execution_count": null,
   "metadata": {},
   "outputs": [],
   "source": []
  }
 ],
 "metadata": {
  "kernelspec": {
   "display_name": "mlenv",
   "language": "python",
   "name": "mlenv"
  },
  "language_info": {
   "codemirror_mode": {
    "name": "ipython",
    "version": 3
   },
   "file_extension": ".py",
   "mimetype": "text/x-python",
   "name": "python",
   "nbconvert_exporter": "python",
   "pygments_lexer": "ipython3",
   "version": "3.7.9"
  }
 },
 "nbformat": 4,
 "nbformat_minor": 4
}
