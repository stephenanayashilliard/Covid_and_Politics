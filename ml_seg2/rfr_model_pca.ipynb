{
 "cells": [
  {
   "cell_type": "code",
   "execution_count": 4,
   "metadata": {},
   "outputs": [],
   "source": [
    "# import dependencies\n",
    "import pandas as pd\n",
    "import numpy as np\n",
    "import matplotlib.pyplot as plt\n",
    "from sklearn.ensemble import RandomForestRegressor\n",
    "from sklearn.model_selection import train_test_split\n",
    "from sklearn.preprocessing import StandardScaler\n",
    "from sklearn.preprocessing import RobustScaler\n",
    "from sklearn.decomposition import PCA\n",
    "from sklearn import metrics"
   ]
  },
  {
   "cell_type": "code",
   "execution_count": 76,
   "metadata": {},
   "outputs": [
    {
     "data": {
      "text/html": [
       "<div>\n",
       "<style scoped>\n",
       "    .dataframe tbody tr th:only-of-type {\n",
       "        vertical-align: middle;\n",
       "    }\n",
       "\n",
       "    .dataframe tbody tr th {\n",
       "        vertical-align: top;\n",
       "    }\n",
       "\n",
       "    .dataframe thead th {\n",
       "        text-align: right;\n",
       "    }\n",
       "</style>\n",
       "<table border=\"1\" class=\"dataframe\">\n",
       "  <thead>\n",
       "    <tr style=\"text-align: right;\">\n",
       "      <th></th>\n",
       "      <th>county</th>\n",
       "      <th>state</th>\n",
       "      <th>county_state</th>\n",
       "      <th>lat</th>\n",
       "      <th>long</th>\n",
       "      <th>totalpop</th>\n",
       "      <th>total_votes20</th>\n",
       "      <th>votes20_donald_trump</th>\n",
       "      <th>votes20_joe_biden</th>\n",
       "      <th>percentage20_donald_trump</th>\n",
       "      <th>...</th>\n",
       "      <th>age_55to64</th>\n",
       "      <th>age_65to74</th>\n",
       "      <th>age_75to84</th>\n",
       "      <th>age_84plus</th>\n",
       "      <th>evangelicals</th>\n",
       "      <th>protestant</th>\n",
       "      <th>catholic</th>\n",
       "      <th>orthodox</th>\n",
       "      <th>muslim</th>\n",
       "      <th>other</th>\n",
       "    </tr>\n",
       "  </thead>\n",
       "  <tbody>\n",
       "    <tr>\n",
       "      <th>0</th>\n",
       "      <td>Kay</td>\n",
       "      <td>OK</td>\n",
       "      <td>Kay, OK</td>\n",
       "      <td>36.817997</td>\n",
       "      <td>-97.144214</td>\n",
       "      <td>45173</td>\n",
       "      <td>17249</td>\n",
       "      <td>12834</td>\n",
       "      <td>4040</td>\n",
       "      <td>0.744</td>\n",
       "      <td>...</td>\n",
       "      <td>5694</td>\n",
       "      <td>4632</td>\n",
       "      <td>2724</td>\n",
       "      <td>1183</td>\n",
       "      <td>0</td>\n",
       "      <td>0</td>\n",
       "      <td>0</td>\n",
       "      <td>0</td>\n",
       "      <td>0</td>\n",
       "      <td>0</td>\n",
       "    </tr>\n",
       "    <tr>\n",
       "      <th>1</th>\n",
       "      <td>Abbeville</td>\n",
       "      <td>SC</td>\n",
       "      <td>Abbeville, SC</td>\n",
       "      <td>34.223334</td>\n",
       "      <td>-82.461707</td>\n",
       "      <td>24788</td>\n",
       "      <td>12433</td>\n",
       "      <td>8215</td>\n",
       "      <td>4101</td>\n",
       "      <td>0.661</td>\n",
       "      <td>...</td>\n",
       "      <td>3584</td>\n",
       "      <td>3150</td>\n",
       "      <td>1602</td>\n",
       "      <td>591</td>\n",
       "      <td>0</td>\n",
       "      <td>0</td>\n",
       "      <td>0</td>\n",
       "      <td>0</td>\n",
       "      <td>0</td>\n",
       "      <td>0</td>\n",
       "    </tr>\n",
       "    <tr>\n",
       "      <th>2</th>\n",
       "      <td>Acadia</td>\n",
       "      <td>LA</td>\n",
       "      <td>Acadia, LA</td>\n",
       "      <td>30.295065</td>\n",
       "      <td>-92.414197</td>\n",
       "      <td>62607</td>\n",
       "      <td>28425</td>\n",
       "      <td>22596</td>\n",
       "      <td>5443</td>\n",
       "      <td>0.795</td>\n",
       "      <td>...</td>\n",
       "      <td>0</td>\n",
       "      <td>0</td>\n",
       "      <td>0</td>\n",
       "      <td>0</td>\n",
       "      <td>0</td>\n",
       "      <td>0</td>\n",
       "      <td>0</td>\n",
       "      <td>0</td>\n",
       "      <td>0</td>\n",
       "      <td>0</td>\n",
       "    </tr>\n",
       "    <tr>\n",
       "      <th>3</th>\n",
       "      <td>Accomack</td>\n",
       "      <td>VA</td>\n",
       "      <td>Accomack, VA</td>\n",
       "      <td>37.767072</td>\n",
       "      <td>-75.632346</td>\n",
       "      <td>32840</td>\n",
       "      <td>16938</td>\n",
       "      <td>9172</td>\n",
       "      <td>7578</td>\n",
       "      <td>0.542</td>\n",
       "      <td>...</td>\n",
       "      <td>5270</td>\n",
       "      <td>4451</td>\n",
       "      <td>2301</td>\n",
       "      <td>886</td>\n",
       "      <td>0</td>\n",
       "      <td>0</td>\n",
       "      <td>0</td>\n",
       "      <td>0</td>\n",
       "      <td>0</td>\n",
       "      <td>0</td>\n",
       "    </tr>\n",
       "    <tr>\n",
       "      <th>4</th>\n",
       "      <td>Ada</td>\n",
       "      <td>ID</td>\n",
       "      <td>Ada, ID</td>\n",
       "      <td>43.452658</td>\n",
       "      <td>-116.241552</td>\n",
       "      <td>435117</td>\n",
       "      <td>259389</td>\n",
       "      <td>130699</td>\n",
       "      <td>120539</td>\n",
       "      <td>0.504</td>\n",
       "      <td>...</td>\n",
       "      <td>56615</td>\n",
       "      <td>42027</td>\n",
       "      <td>18576</td>\n",
       "      <td>7189</td>\n",
       "      <td>0</td>\n",
       "      <td>0</td>\n",
       "      <td>0</td>\n",
       "      <td>0</td>\n",
       "      <td>0</td>\n",
       "      <td>0</td>\n",
       "    </tr>\n",
       "  </tbody>\n",
       "</table>\n",
       "<p>5 rows × 61 columns</p>\n",
       "</div>"
      ],
      "text/plain": [
       "      county state   county_state        lat        long  totalpop  \\\n",
       "0        Kay    OK        Kay, OK  36.817997  -97.144214     45173   \n",
       "1  Abbeville    SC  Abbeville, SC  34.223334  -82.461707     24788   \n",
       "2     Acadia    LA     Acadia, LA  30.295065  -92.414197     62607   \n",
       "3   Accomack    VA   Accomack, VA  37.767072  -75.632346     32840   \n",
       "4        Ada    ID        Ada, ID  43.452658 -116.241552    435117   \n",
       "\n",
       "   total_votes20  votes20_donald_trump  votes20_joe_biden  \\\n",
       "0          17249                 12834               4040   \n",
       "1          12433                  8215               4101   \n",
       "2          28425                 22596               5443   \n",
       "3          16938                  9172               7578   \n",
       "4         259389                130699             120539   \n",
       "\n",
       "   percentage20_donald_trump  ...  age_55to64  age_65to74  age_75to84  \\\n",
       "0                      0.744  ...        5694        4632        2724   \n",
       "1                      0.661  ...        3584        3150        1602   \n",
       "2                      0.795  ...           0           0           0   \n",
       "3                      0.542  ...        5270        4451        2301   \n",
       "4                      0.504  ...       56615       42027       18576   \n",
       "\n",
       "   age_84plus  evangelicals  protestant  catholic  orthodox  muslim  other  \n",
       "0        1183             0           0         0         0       0      0  \n",
       "1         591             0           0         0         0       0      0  \n",
       "2           0             0           0         0         0       0      0  \n",
       "3         886             0           0         0         0       0      0  \n",
       "4        7189             0           0         0         0       0      0  \n",
       "\n",
       "[5 rows x 61 columns]"
      ]
     },
     "execution_count": 76,
     "metadata": {},
     "output_type": "execute_result"
    }
   ],
   "source": [
    "# import csv as data frame from amazon s3 bucket that is connected to database\n",
    "df = pd.read_csv('https://mydataclassdb-bucket.s3.amazonaws.com/covid_and_politics_db.csv')\n",
    "df.head()"
   ]
  },
  {
   "cell_type": "code",
   "execution_count": 6,
   "metadata": {},
   "outputs": [
    {
     "data": {
      "text/plain": [
       "Index(['county', 'state', 'county_state', 'lat', 'long', 'totalpop',\n",
       "       'total_votes20', 'votes20_donald_trump', 'votes20_joe_biden',\n",
       "       'percentage20_donald_trump', 'percentage20_joe_biden', 'cases',\n",
       "       'deaths', 'men', 'women', 'hispanic', 'white', 'black', 'native',\n",
       "       'asian', 'pacific', 'income', 'incomepercap', 'poverty', 'professional',\n",
       "       'service', 'office', 'construction', 'production', 'drive', 'carpool',\n",
       "       'transit', 'walk', 'othertransp', 'workathome', 'meancommute',\n",
       "       'employed', 'privatework', 'publicwork', 'selfemployed', 'familywork',\n",
       "       'unemployment', 'cases_per_capita_100k', 'deaths_per_capita_100k',\n",
       "       'pop_per_sq_mile_2010', 'age_oto4', 'age_5to14', 'age_15to24',\n",
       "       'age_25to34', 'age_35to44', 'age_45to54', 'age_55to64', 'age_65to74',\n",
       "       'age_75to84', 'age_84plus', 'evangelicals', 'protestant', 'catholic',\n",
       "       'orthodox', 'muslim', 'other'],\n",
       "      dtype='object')"
      ]
     },
     "execution_count": 6,
     "metadata": {},
     "output_type": "execute_result"
    }
   ],
   "source": [
    "# check columns\n",
    "df.columns"
   ]
  },
  {
   "cell_type": "markdown",
   "metadata": {},
   "source": [
    "# RFR for Economics"
   ]
  },
  {
   "cell_type": "code",
   "execution_count": 9,
   "metadata": {},
   "outputs": [
    {
     "data": {
      "text/html": [
       "<div>\n",
       "<style scoped>\n",
       "    .dataframe tbody tr th:only-of-type {\n",
       "        vertical-align: middle;\n",
       "    }\n",
       "\n",
       "    .dataframe tbody tr th {\n",
       "        vertical-align: top;\n",
       "    }\n",
       "\n",
       "    .dataframe thead th {\n",
       "        text-align: right;\n",
       "    }\n",
       "</style>\n",
       "<table border=\"1\" class=\"dataframe\">\n",
       "  <thead>\n",
       "    <tr style=\"text-align: right;\">\n",
       "      <th></th>\n",
       "      <th>cases</th>\n",
       "      <th>income</th>\n",
       "      <th>incomepercap</th>\n",
       "      <th>poverty</th>\n",
       "      <th>employed</th>\n",
       "      <th>unemployment</th>\n",
       "      <th>professional</th>\n",
       "    </tr>\n",
       "  </thead>\n",
       "  <tbody>\n",
       "    <tr>\n",
       "      <th>0</th>\n",
       "      <td>920</td>\n",
       "      <td>44067</td>\n",
       "      <td>24057</td>\n",
       "      <td>17.6</td>\n",
       "      <td>19325</td>\n",
       "      <td>6.9</td>\n",
       "      <td>28.2</td>\n",
       "    </tr>\n",
       "    <tr>\n",
       "      <th>1</th>\n",
       "      <td>805</td>\n",
       "      <td>35254</td>\n",
       "      <td>19234</td>\n",
       "      <td>22.7</td>\n",
       "      <td>9505</td>\n",
       "      <td>9.4</td>\n",
       "      <td>27.2</td>\n",
       "    </tr>\n",
       "    <tr>\n",
       "      <th>2</th>\n",
       "      <td>3182</td>\n",
       "      <td>40492</td>\n",
       "      <td>21591</td>\n",
       "      <td>21.5</td>\n",
       "      <td>24982</td>\n",
       "      <td>8.9</td>\n",
       "      <td>27.6</td>\n",
       "    </tr>\n",
       "    <tr>\n",
       "      <th>3</th>\n",
       "      <td>1227</td>\n",
       "      <td>42260</td>\n",
       "      <td>24266</td>\n",
       "      <td>19.8</td>\n",
       "      <td>13837</td>\n",
       "      <td>5.4</td>\n",
       "      <td>31.1</td>\n",
       "    </tr>\n",
       "    <tr>\n",
       "      <th>4</th>\n",
       "      <td>17451</td>\n",
       "      <td>60151</td>\n",
       "      <td>31642</td>\n",
       "      <td>11.8</td>\n",
       "      <td>214984</td>\n",
       "      <td>4.3</td>\n",
       "      <td>43.0</td>\n",
       "    </tr>\n",
       "  </tbody>\n",
       "</table>\n",
       "</div>"
      ],
      "text/plain": [
       "   cases  income  incomepercap  poverty  employed  unemployment  professional\n",
       "0    920   44067         24057     17.6     19325           6.9          28.2\n",
       "1    805   35254         19234     22.7      9505           9.4          27.2\n",
       "2   3182   40492         21591     21.5     24982           8.9          27.6\n",
       "3   1227   42260         24266     19.8     13837           5.4          31.1\n",
       "4  17451   60151         31642     11.8    214984           4.3          43.0"
      ]
     },
     "execution_count": 9,
     "metadata": {},
     "output_type": "execute_result"
    }
   ],
   "source": [
    "# create economic dataframe for pca\n",
    "econ_df = df[['cases','income', 'incomepercap', 'poverty', 'employed', 'unemployment', 'professional']]\n",
    "econ_df.head()"
   ]
  },
  {
   "cell_type": "code",
   "execution_count": 10,
   "metadata": {},
   "outputs": [
    {
     "data": {
      "text/plain": [
       "array([[ 0.17101449, -0.26861502, -0.16135242,  0.3       ,  0.3513928 ,\n",
       "         0.26470588, -0.30263158],\n",
       "       [ 0.09694042, -0.88405873, -0.83658255,  0.9375    , -0.04750637,\n",
       "         1.        , -0.43421053],\n",
       "       [ 1.62801932, -0.51827022, -0.5065976 ,  0.7875    ,  0.58118634,\n",
       "         0.85294118, -0.38157895],\n",
       "       [ 0.36876006, -0.39480438, -0.13209198,  0.575     ,  0.12846422,\n",
       "        -0.17647059,  0.07894737],\n",
       "       [10.81900161,  0.85458894,  0.90056351, -0.425     ,  8.29927593,\n",
       "        -0.5       ,  1.64473684]])"
      ]
     },
     "execution_count": 10,
     "metadata": {},
     "output_type": "execute_result"
    }
   ],
   "source": [
    "# create scaled df\n",
    "econ_scaled = RobustScaler().fit_transform(econ_df)\n",
    "econ_scaled[:5]"
   ]
  },
  {
   "cell_type": "code",
   "execution_count": 11,
   "metadata": {},
   "outputs": [
    {
     "data": {
      "text/html": [
       "<div>\n",
       "<style scoped>\n",
       "    .dataframe tbody tr th:only-of-type {\n",
       "        vertical-align: middle;\n",
       "    }\n",
       "\n",
       "    .dataframe tbody tr th {\n",
       "        vertical-align: top;\n",
       "    }\n",
       "\n",
       "    .dataframe thead th {\n",
       "        text-align: right;\n",
       "    }\n",
       "</style>\n",
       "<table border=\"1\" class=\"dataframe\">\n",
       "  <thead>\n",
       "    <tr style=\"text-align: right;\">\n",
       "      <th></th>\n",
       "      <th>cases</th>\n",
       "      <th>Income</th>\n",
       "      <th>IncomePerCap</th>\n",
       "      <th>Poverty</th>\n",
       "      <th>Employed</th>\n",
       "      <th>Unemployment</th>\n",
       "      <th>Professional</th>\n",
       "    </tr>\n",
       "  </thead>\n",
       "  <tbody>\n",
       "    <tr>\n",
       "      <th>0</th>\n",
       "      <td>0.171014</td>\n",
       "      <td>-0.268615</td>\n",
       "      <td>-0.161352</td>\n",
       "      <td>0.3000</td>\n",
       "      <td>0.351393</td>\n",
       "      <td>0.264706</td>\n",
       "      <td>-0.302632</td>\n",
       "    </tr>\n",
       "    <tr>\n",
       "      <th>1</th>\n",
       "      <td>0.096940</td>\n",
       "      <td>-0.884059</td>\n",
       "      <td>-0.836583</td>\n",
       "      <td>0.9375</td>\n",
       "      <td>-0.047506</td>\n",
       "      <td>1.000000</td>\n",
       "      <td>-0.434211</td>\n",
       "    </tr>\n",
       "    <tr>\n",
       "      <th>2</th>\n",
       "      <td>1.628019</td>\n",
       "      <td>-0.518270</td>\n",
       "      <td>-0.506598</td>\n",
       "      <td>0.7875</td>\n",
       "      <td>0.581186</td>\n",
       "      <td>0.852941</td>\n",
       "      <td>-0.381579</td>\n",
       "    </tr>\n",
       "    <tr>\n",
       "      <th>3</th>\n",
       "      <td>0.368760</td>\n",
       "      <td>-0.394804</td>\n",
       "      <td>-0.132092</td>\n",
       "      <td>0.5750</td>\n",
       "      <td>0.128464</td>\n",
       "      <td>-0.176471</td>\n",
       "      <td>0.078947</td>\n",
       "    </tr>\n",
       "    <tr>\n",
       "      <th>4</th>\n",
       "      <td>10.819002</td>\n",
       "      <td>0.854589</td>\n",
       "      <td>0.900564</td>\n",
       "      <td>-0.4250</td>\n",
       "      <td>8.299276</td>\n",
       "      <td>-0.500000</td>\n",
       "      <td>1.644737</td>\n",
       "    </tr>\n",
       "  </tbody>\n",
       "</table>\n",
       "</div>"
      ],
      "text/plain": [
       "       cases    Income  IncomePerCap  Poverty  Employed  Unemployment  \\\n",
       "0   0.171014 -0.268615     -0.161352   0.3000  0.351393      0.264706   \n",
       "1   0.096940 -0.884059     -0.836583   0.9375 -0.047506      1.000000   \n",
       "2   1.628019 -0.518270     -0.506598   0.7875  0.581186      0.852941   \n",
       "3   0.368760 -0.394804     -0.132092   0.5750  0.128464     -0.176471   \n",
       "4  10.819002  0.854589      0.900564  -0.4250  8.299276     -0.500000   \n",
       "\n",
       "   Professional  \n",
       "0     -0.302632  \n",
       "1     -0.434211  \n",
       "2     -0.381579  \n",
       "3      0.078947  \n",
       "4      1.644737  "
      ]
     },
     "execution_count": 11,
     "metadata": {},
     "output_type": "execute_result"
    }
   ],
   "source": [
    "scaled_econ_df = pd.DataFrame(econ_scaled, columns= ['cases','Income', 'IncomePerCap', 'Poverty', 'Employed', 'Unemployment', 'Professional'])\n",
    "scaled_econ_df.head()"
   ]
  },
  {
   "cell_type": "code",
   "execution_count": 12,
   "metadata": {},
   "outputs": [
    {
     "data": {
      "text/html": [
       "<div>\n",
       "<style scoped>\n",
       "    .dataframe tbody tr th:only-of-type {\n",
       "        vertical-align: middle;\n",
       "    }\n",
       "\n",
       "    .dataframe tbody tr th {\n",
       "        vertical-align: top;\n",
       "    }\n",
       "\n",
       "    .dataframe thead th {\n",
       "        text-align: right;\n",
       "    }\n",
       "</style>\n",
       "<table border=\"1\" class=\"dataframe\">\n",
       "  <thead>\n",
       "    <tr style=\"text-align: right;\">\n",
       "      <th></th>\n",
       "      <th>cases</th>\n",
       "    </tr>\n",
       "  </thead>\n",
       "  <tbody>\n",
       "    <tr>\n",
       "      <th>0</th>\n",
       "      <td>0.171014</td>\n",
       "    </tr>\n",
       "    <tr>\n",
       "      <th>1</th>\n",
       "      <td>0.096940</td>\n",
       "    </tr>\n",
       "    <tr>\n",
       "      <th>2</th>\n",
       "      <td>1.628019</td>\n",
       "    </tr>\n",
       "    <tr>\n",
       "      <th>3</th>\n",
       "      <td>0.368760</td>\n",
       "    </tr>\n",
       "    <tr>\n",
       "      <th>4</th>\n",
       "      <td>10.819002</td>\n",
       "    </tr>\n",
       "  </tbody>\n",
       "</table>\n",
       "</div>"
      ],
      "text/plain": [
       "       cases\n",
       "0   0.171014\n",
       "1   0.096940\n",
       "2   1.628019\n",
       "3   0.368760\n",
       "4  10.819002"
      ]
     },
     "execution_count": 12,
     "metadata": {},
     "output_type": "execute_result"
    }
   ],
   "source": [
    "y = scaled_econ_df['cases']\n",
    "scaled_cases = pd.DataFrame(y, columns = ['cases'])\n",
    "scaled_cases.head()"
   ]
  },
  {
   "cell_type": "code",
   "execution_count": 13,
   "metadata": {},
   "outputs": [
    {
     "data": {
      "text/html": [
       "<div>\n",
       "<style scoped>\n",
       "    .dataframe tbody tr th:only-of-type {\n",
       "        vertical-align: middle;\n",
       "    }\n",
       "\n",
       "    .dataframe tbody tr th {\n",
       "        vertical-align: top;\n",
       "    }\n",
       "\n",
       "    .dataframe thead th {\n",
       "        text-align: right;\n",
       "    }\n",
       "</style>\n",
       "<table border=\"1\" class=\"dataframe\">\n",
       "  <thead>\n",
       "    <tr style=\"text-align: right;\">\n",
       "      <th></th>\n",
       "      <th>Income</th>\n",
       "      <th>IncomePerCap</th>\n",
       "      <th>Poverty</th>\n",
       "      <th>Employed</th>\n",
       "      <th>Unemployment</th>\n",
       "      <th>Professional</th>\n",
       "    </tr>\n",
       "  </thead>\n",
       "  <tbody>\n",
       "    <tr>\n",
       "      <th>0</th>\n",
       "      <td>-0.268615</td>\n",
       "      <td>-0.161352</td>\n",
       "      <td>0.3000</td>\n",
       "      <td>0.351393</td>\n",
       "      <td>0.264706</td>\n",
       "      <td>-0.302632</td>\n",
       "    </tr>\n",
       "    <tr>\n",
       "      <th>1</th>\n",
       "      <td>-0.884059</td>\n",
       "      <td>-0.836583</td>\n",
       "      <td>0.9375</td>\n",
       "      <td>-0.047506</td>\n",
       "      <td>1.000000</td>\n",
       "      <td>-0.434211</td>\n",
       "    </tr>\n",
       "    <tr>\n",
       "      <th>2</th>\n",
       "      <td>-0.518270</td>\n",
       "      <td>-0.506598</td>\n",
       "      <td>0.7875</td>\n",
       "      <td>0.581186</td>\n",
       "      <td>0.852941</td>\n",
       "      <td>-0.381579</td>\n",
       "    </tr>\n",
       "    <tr>\n",
       "      <th>3</th>\n",
       "      <td>-0.394804</td>\n",
       "      <td>-0.132092</td>\n",
       "      <td>0.5750</td>\n",
       "      <td>0.128464</td>\n",
       "      <td>-0.176471</td>\n",
       "      <td>0.078947</td>\n",
       "    </tr>\n",
       "    <tr>\n",
       "      <th>4</th>\n",
       "      <td>0.854589</td>\n",
       "      <td>0.900564</td>\n",
       "      <td>-0.4250</td>\n",
       "      <td>8.299276</td>\n",
       "      <td>-0.500000</td>\n",
       "      <td>1.644737</td>\n",
       "    </tr>\n",
       "  </tbody>\n",
       "</table>\n",
       "</div>"
      ],
      "text/plain": [
       "     Income  IncomePerCap  Poverty  Employed  Unemployment  Professional\n",
       "0 -0.268615     -0.161352   0.3000  0.351393      0.264706     -0.302632\n",
       "1 -0.884059     -0.836583   0.9375 -0.047506      1.000000     -0.434211\n",
       "2 -0.518270     -0.506598   0.7875  0.581186      0.852941     -0.381579\n",
       "3 -0.394804     -0.132092   0.5750  0.128464     -0.176471      0.078947\n",
       "4  0.854589      0.900564  -0.4250  8.299276     -0.500000      1.644737"
      ]
     },
     "execution_count": 13,
     "metadata": {},
     "output_type": "execute_result"
    }
   ],
   "source": [
    "X_scaled = scaled_econ_df.drop(['cases'], axis=1)\n",
    "X_scaled.head()"
   ]
  },
  {
   "cell_type": "code",
   "execution_count": 14,
   "metadata": {},
   "outputs": [],
   "source": [
    "# initialize pca model\n",
    "pca = PCA(n_components=2)"
   ]
  },
  {
   "cell_type": "code",
   "execution_count": 15,
   "metadata": {},
   "outputs": [
    {
     "data": {
      "text/plain": [
       "array([[-1.20221174,  0.56503032],\n",
       "       [-1.66237441,  1.81758077],\n",
       "       [-1.00409553,  1.36181424],\n",
       "       [-1.4181055 ,  0.4092722 ],\n",
       "       [ 6.89369296, -1.41157477]])"
      ]
     },
     "execution_count": 15,
     "metadata": {},
     "output_type": "execute_result"
    }
   ],
   "source": [
    "# get two principal components for the iris data\n",
    "X = pca.fit_transform(X_scaled)\n",
    "X[:5]"
   ]
  },
  {
   "cell_type": "code",
   "execution_count": 16,
   "metadata": {},
   "outputs": [],
   "source": [
    "# instantiate model\n",
    "regressor = RandomForestRegressor(n_estimators=100,random_state=48)"
   ]
  },
  {
   "cell_type": "code",
   "execution_count": 17,
   "metadata": {},
   "outputs": [],
   "source": [
    "# split data into training and testing sets\n",
    "X_train, X_test, y_train, y_test = train_test_split(X, y, random_state=48)"
   ]
  },
  {
   "cell_type": "code",
   "execution_count": 18,
   "metadata": {},
   "outputs": [
    {
     "data": {
      "text/plain": [
       "RandomForestRegressor(random_state=48)"
      ]
     },
     "execution_count": 18,
     "metadata": {},
     "output_type": "execute_result"
    }
   ],
   "source": [
    "# fit model\n",
    "regressor.fit(X_train, y_train)"
   ]
  },
  {
   "cell_type": "code",
   "execution_count": 19,
   "metadata": {},
   "outputs": [
    {
     "data": {
      "text/plain": [
       "array([-0.24289211,  1.19142673, -0.26883092, -0.02634461, -0.16878583])"
      ]
     },
     "execution_count": 19,
     "metadata": {},
     "output_type": "execute_result"
    }
   ],
   "source": [
    "# make predictions\n",
    "y_pred = regressor.predict(X_test)\n",
    "y_pred[:5]"
   ]
  },
  {
   "cell_type": "code",
   "execution_count": 21,
   "metadata": {},
   "outputs": [
    {
     "data": {
      "text/html": [
       "<div>\n",
       "<style scoped>\n",
       "    .dataframe tbody tr th:only-of-type {\n",
       "        vertical-align: middle;\n",
       "    }\n",
       "\n",
       "    .dataframe tbody tr th {\n",
       "        vertical-align: top;\n",
       "    }\n",
       "\n",
       "    .dataframe thead th {\n",
       "        text-align: right;\n",
       "    }\n",
       "</style>\n",
       "<table border=\"1\" class=\"dataframe\">\n",
       "  <thead>\n",
       "    <tr style=\"text-align: right;\">\n",
       "      <th></th>\n",
       "      <th>principal component 1</th>\n",
       "      <th>principal component 2</th>\n",
       "    </tr>\n",
       "  </thead>\n",
       "  <tbody>\n",
       "    <tr>\n",
       "      <th>0</th>\n",
       "      <td>-1.202212</td>\n",
       "      <td>0.565030</td>\n",
       "    </tr>\n",
       "    <tr>\n",
       "      <th>1</th>\n",
       "      <td>-1.662374</td>\n",
       "      <td>1.817581</td>\n",
       "    </tr>\n",
       "    <tr>\n",
       "      <th>2</th>\n",
       "      <td>-1.004096</td>\n",
       "      <td>1.361814</td>\n",
       "    </tr>\n",
       "    <tr>\n",
       "      <th>3</th>\n",
       "      <td>-1.418106</td>\n",
       "      <td>0.409272</td>\n",
       "    </tr>\n",
       "    <tr>\n",
       "      <th>4</th>\n",
       "      <td>6.893693</td>\n",
       "      <td>-1.411575</td>\n",
       "    </tr>\n",
       "  </tbody>\n",
       "</table>\n",
       "</div>"
      ],
      "text/plain": [
       "   principal component 1  principal component 2\n",
       "0              -1.202212               0.565030\n",
       "1              -1.662374               1.817581\n",
       "2              -1.004096               1.361814\n",
       "3              -1.418106               0.409272\n",
       "4               6.893693              -1.411575"
      ]
     },
     "execution_count": 21,
     "metadata": {},
     "output_type": "execute_result"
    }
   ],
   "source": [
    "# Create df with pca and predictions\n",
    "econ_pca_pred = pd.DataFrame(\n",
    "    data=X, columns=[\"principal component 1\", \"principal component 2\"]\n",
    ")\n",
    "econ_pca_pred.head()"
   ]
  },
  {
   "cell_type": "code",
   "execution_count": 22,
   "metadata": {},
   "outputs": [
    {
     "name": "stdout",
     "output_type": "stream",
     "text": [
      "[41.84944075  2.40138947]\n"
     ]
    }
   ],
   "source": [
    "# plot components\n",
    "print(pca.explained_variance_)"
   ]
  },
  {
   "cell_type": "code",
   "execution_count": 23,
   "metadata": {},
   "outputs": [
    {
     "name": "stdout",
     "output_type": "stream",
     "text": [
      "[[ 0.04003528  0.03929823 -0.01145061  0.99765608  0.00163436  0.03743496]\n",
      " [-0.50381653 -0.4858889   0.45747131  0.05765967  0.40482044 -0.36550876]]\n"
     ]
    }
   ],
   "source": [
    "print(pca.components_)"
   ]
  },
  {
   "cell_type": "code",
   "execution_count": 24,
   "metadata": {},
   "outputs": [
    {
     "data": {
      "image/png": "[encoded data removed]",
      "text/plain": [
       "<Figure size 432x288 with 1 Axes>"
      ]
     },
     "metadata": {
      "needs_background": "light"
     },
     "output_type": "display_data"
    }
   ],
   "source": [
    "# plot pca\n",
    "plt.scatter(econ_pca_pred['principal component 1'], econ_pca_pred['principal component 2'])\n",
    "plt.show()"
   ]
  },
  {
   "cell_type": "code",
   "execution_count": 25,
   "metadata": {},
   "outputs": [
    {
     "name": "stdout",
     "output_type": "stream",
     "text": [
      "(2286, 2)\n",
      "(2286,)\n",
      "(762,)\n"
     ]
    }
   ],
   "source": [
    "print(X_train.shape)\n",
    "print(y_train.shape)\n",
    "print(y_pred.shape)"
   ]
  },
  {
   "cell_type": "code",
   "execution_count": 26,
   "metadata": {},
   "outputs": [],
   "source": [
    "## model divided pred by 3"
   ]
  },
  {
   "cell_type": "code",
   "execution_count": 27,
   "metadata": {},
   "outputs": [
    {
     "name": "stdout",
     "output_type": "stream",
     "text": [
      "[[-1.8630378  -0.23666496]\n",
      " [-1.10072803 -0.64166074]\n",
      " [ 1.54822622 -3.00180398]\n",
      " ...\n",
      " [-1.33195164  1.29726796]\n",
      " [-1.81628855 -0.57635066]\n",
      " [-1.93874865  1.1944517 ]]\n"
     ]
    }
   ],
   "source": [
    "print(X_train)\n",
    "\n"
   ]
  },
  {
   "cell_type": "code",
   "execution_count": 28,
   "metadata": {},
   "outputs": [
    {
     "name": "stdout",
     "output_type": "stream",
     "text": [
      "2075    -0.406119\n",
      "1965    -0.010628\n",
      "2597     0.724960\n",
      "506      0.143317\n",
      "822     -0.415781\n",
      "          ...    \n",
      "2992    -0.379710\n",
      "2395    23.901771\n",
      "1476     0.891143\n",
      "1361    -0.421578\n",
      "2611    -0.218680\n",
      "Name: cases, Length: 2286, dtype: float64\n"
     ]
    }
   ],
   "source": [
    "print(y_train)"
   ]
  },
  {
   "cell_type": "code",
   "execution_count": 29,
   "metadata": {},
   "outputs": [
    {
     "name": "stdout",
     "output_type": "stream",
     "text": [
      "[-2.42892110e-01  1.19142673e+00 -2.68830918e-01 -2.63446055e-02\n",
      " -1.68785829e-01 -3.91368760e-01  1.71413333e+01 -2.23252818e-01\n",
      "  2.06664090e+00 -2.30782609e-01  3.06937198e-01 -1.63001610e-01\n",
      "  3.85803543e-01 -6.94750403e-02  2.59870531e+00  1.25802512e+01\n",
      "  5.61745572e-01  5.38100483e+00 -1.04824477e-01  3.18466345e+00\n",
      " -3.88669887e-01  4.71497585e-01 -1.73152979e-01  1.72669887e-01\n",
      "  3.68689211e-01 -3.77133655e-01  9.58850886e+00 -3.06170692e-01\n",
      "  6.15974235e-01  2.91672915e+01 -3.90595813e-01  7.14840580e-01\n",
      "  3.22067633e-01 -3.64946860e-01  7.52402576e+00  3.91929147e-01\n",
      "  9.60605475e-01  1.36076006e+00 -7.01449275e-03 -2.92753623e-02\n",
      " -3.35123994e-01  3.24966184e-01  1.49654106e+00  5.59716586e-01\n",
      "  1.94782609e-01  7.05198068e-01 -1.90357488e-01 -1.29932367e-01\n",
      "  1.72695652e+00  1.17425314e+01 -3.28553945e-01 -5.11175523e-02\n",
      " -3.21706924e-01 -2.91272142e-01  1.77156200e+00  4.86782609e-01\n",
      " -1.82370370e-01 -3.21024155e-01 -7.51755233e-02 -3.58132045e-01\n",
      " -3.36431562e-01  7.96225443e-01 -1.97281804e-01 -3.84463768e-01\n",
      "  1.67004831e+00 -2.48689211e-01 -1.21571659e-01 -3.06486312e-01\n",
      " -1.14305958e-01 -4.19967794e-03  4.13485346e+00  1.48914654e-01\n",
      " -2.23690821e-01  1.91814493e+00 -3.23993559e-02  2.15381643e-01\n",
      " -3.07504026e-01 -2.75008052e-01  6.77475040e-01 -3.41256039e-02\n",
      "  4.27744283e+00  3.97165862e-02  4.36608052e+00  4.80560386e-01\n",
      "  1.24928374e+01  1.38057327e+00 -5.70112721e-02 -1.97958132e-01\n",
      "  3.33359098e-01  5.40640902e+00 -3.14119163e-01 -2.80025765e-01\n",
      " -7.28180354e-02 -3.09726248e-01  2.03542673e-02  1.18503317e+01\n",
      " -2.17236715e-01  8.31600644e-01 -2.12109501e-02  4.63345572e+00\n",
      " -2.04553945e-01 -3.92418680e-01 -2.37307568e-01  9.35949758e+00\n",
      "  7.96244767e-01 -4.12837359e-01 -2.81713366e-01  7.67130435e-01\n",
      " -2.11987118e-01  5.78714976e+00 -4.37423510e-02  3.87328824e+00\n",
      " -2.95285024e-01  4.61442834e-01  3.05681159e-01  4.52104992e+00\n",
      " -2.85243156e-01  2.74576490e-01 -2.31136876e-01 -3.54660225e-01\n",
      " -1.84283414e-01 -9.92592593e-02 -3.97977456e-01  4.74718196e-02\n",
      "  1.91398132e+01 -1.78144928e-01 -1.46801932e-01 -2.88309179e-02\n",
      "  3.18237874e+01  1.12561031e+00 -3.47574879e-01  4.77789372e+00\n",
      "  6.48381965e+00  2.09967794e+00 -3.10164251e-01  2.63112399e+00\n",
      "  2.22465700e+00 -1.37120773e-01  5.65024155e-01 -3.53558776e-01\n",
      "  1.29592271e+00  1.01344928e+00  3.65867955e-01  8.90177134e-03\n",
      "  5.43800322e-01  6.52385185e+00 -4.03117552e-01  1.69983897e-02\n",
      "  8.31233494e-01 -2.38157810e-01 -9.61674718e-03 -3.29784219e-01\n",
      " -2.94557166e-01 -1.18576490e-01 -1.93049919e-01  2.99988406e+00\n",
      "  8.08495974e-01 -3.15491143e-01  7.93423510e-01  1.39993559e-01\n",
      " -2.42273752e-01  2.01593559e+00 -7.22447665e-02 -2.16405797e-01\n",
      "  1.07928631e+01 -2.55607085e-01 -2.85694042e-01  1.44631240e-01\n",
      "  7.71142029e+00  2.32607407e+00 -9.87568438e-02 -3.19143317e-01\n",
      " -1.31072464e-01  2.01945250e+00  1.40519807e+00  6.62487601e+00\n",
      " -3.30840580e-01  1.27478261e-01 -2.23813205e-01  7.92940419e-01\n",
      " -9.53301127e-02 -4.13075684e-02 -4.92946860e-02 -1.76186795e-01\n",
      " -1.21049919e-01 -3.04843800e-01 -3.52206119e-01 -3.16096618e-01\n",
      "  5.42756844e-01  2.78434138e+00 -2.11446055e-01 -2.45758454e-01\n",
      "  1.34782609e-01 -2.94318841e-01  7.44199678e-01  4.29925926e-01\n",
      " -1.14653784e-03  1.97477295e+01  7.10080515e+00  8.14685990e-01\n",
      "  1.51053140e-01  2.75702415e+00 -4.11555556e-01 -3.52818035e-01\n",
      "  7.55385507e+00  1.75044767e+00 -2.73133655e-01 -2.10776167e-01\n",
      "  9.40289855e-02  8.89577456e+00  5.00765862e+00 -3.86486312e-01\n",
      "  3.95426731e-01  1.48180354e-01 -2.86975845e-01 -1.16064412e-01\n",
      " -1.71851852e-01 -3.02505636e-01 -3.08141707e-01 -3.46621578e-01\n",
      " -2.95845411e-02  1.20010950e+00  1.64618357e-01  2.43916264e-01\n",
      " -1.90370370e-01  1.16792271e-01 -1.73397746e-01  2.77249597e-01\n",
      "  1.69404187e-03 -3.72959742e-01 -2.12753623e-02 -3.66254428e-01\n",
      " -1.57713366e-01  1.51037037e+00  1.25299839e+00 -4.23832528e-02\n",
      " -3.41964573e-01 -2.70138486e-01  2.63826087e-01 -6.91916264e-02\n",
      "  2.32276973e-01  2.74705314e-01 -3.04244767e-01  2.53513688e-01\n",
      "  8.03800322e-02  8.35233494e-02 -3.95826087e-01 -3.46492754e-01\n",
      "  2.96385185e+00  7.10576490e-01  6.07407407e-01  2.46460548e-01\n",
      " -3.03465378e-01 -3.83961353e-02 -1.14280193e-01 -2.98840580e-01\n",
      "  3.66911433e-01 -3.89867955e-01  3.18530113e+00 -2.36283414e-01\n",
      "  1.56850242e-01  2.53992915e+00 -2.72470209e-01 -3.44901771e-01\n",
      "  2.40901771e-02  8.52173913e-02 -3.27555556e-01 -3.02956522e-01\n",
      " -1.60637681e-01 -2.06280193e-01  8.90177134e-03 -8.40579710e-02\n",
      "  4.21475040e-01  6.35942029e-02  1.01307568e-01  1.34895330e+00\n",
      "  5.09642512e-01 -3.00599034e-01 -7.05314010e-02 -1.59420290e-01\n",
      " -6.77423510e-02 -5.87504026e-02  8.39040258e+00  1.70280193e-01\n",
      "  6.09339775e-03 -2.61191626e-01  3.39523349e-01 -3.97301127e-01\n",
      " -1.55181965e-01  3.25178100e+00 -3.09049919e-01 -2.00212560e-01\n",
      " -3.01867955e-01 -2.46763285e-02  2.15845411e-01  7.25822866e-01\n",
      "  2.96161031e-01 -1.56560386e-01 -2.74711755e-01  7.10499195e-01\n",
      "  2.38325282e-01  5.58801932e-01  3.41752657e+00  4.27890499e-02\n",
      "  3.43341707e+00  3.23871176e-01 -1.69951691e-01 -3.26518519e-01\n",
      "  5.99033816e-04  3.24315620e-02  5.82756844e-01  3.20392915e-01\n",
      "  7.68005153e+00 -1.54750403e-01  1.40360709e-01  5.34273752e-01\n",
      " -1.96283414e-01  9.40418680e-04  5.22640902e-02  5.46170692e-01\n",
      " -1.65790660e-01 -3.11549114e-01 -1.33178744e-01  7.62157810e-01\n",
      " -2.38048309e-01  4.40755556e+00 -8.83607085e-02 -1.32302738e-01\n",
      "  6.13982609e+00  1.44090177e-02 -1.58260870e-01  5.10514654e+00\n",
      " -2.64876006e-01 -1.62512077e-01  9.93004831e-01  1.04100097e+01\n",
      "  2.79587762e-01 -3.95227053e-01  5.55373269e+00  1.24457327e-01\n",
      "  3.02930757e-01  1.25294686e-01 -2.13784219e-02 -4.95716586e-02\n",
      " -2.03136876e-01 -3.06718196e-01  1.30814428e+01  1.01674718e-01\n",
      "  1.45645733e+00 -2.53951691e-01 -3.86834138e-01 -1.44856683e-01\n",
      " -1.88322061e-01  4.60812560e+01  1.59742351e-03  2.14466989e-01\n",
      " -3.77365539e-01 -2.04515298e-01  2.46135910e+00  2.24922383e+00\n",
      "  1.88178422e+00 -8.75555556e-02  4.20863124e+00 -3.39671498e-01\n",
      " -2.97095008e-01  8.40386473e-02 -2.63942029e-01 -4.09198068e-01\n",
      "  7.30114010e+00  4.61384863e-02 -5.30177134e-02 -1.51942029e-01\n",
      " -3.78679549e-01 -3.89932367e-01  4.81674718e-02  7.68753623e-01\n",
      "  1.59318519e+00 -2.15310789e-01 -6.41223833e-02  1.50979710e+00\n",
      " -7.41964573e-02  3.83188406e-01  2.67516908e-01  8.43008052e-01\n",
      "  9.59742351e-04 -6.28019324e-03 -7.82673108e-02  3.24745894e+00\n",
      "  1.75523349e-02 -6.13204509e-02 -1.68695652e-01  1.96392915e-02\n",
      "  1.09982609e+00  9.32302738e-02 -1.09520129e-01 -3.90228663e-01\n",
      " -1.55813205e-01 -6.93526570e-02  4.71152979e+01 -3.92231884e-01\n",
      " -2.84386473e-01  1.22196457e-01  3.69017713e-02  3.00811594e-01\n",
      " -3.78086957e-01  3.62273752e-01 -3.06692432e-01  4.80921095e-01\n",
      "  5.88663446e-02  1.48819968e+00 -3.55349436e-01 -3.16573269e-01\n",
      " -2.95851852e-01 -1.82428341e-01 -1.66447665e-01 -3.27471820e-01\n",
      " -1.95400966e-01 -3.04199678e-01  3.21417069e-03 -1.90898551e-01\n",
      " -3.48695652e-01 -2.98660225e-01  3.98711755e-02 -1.36882448e-01\n",
      " -3.90808374e-01  4.32109501e-01  2.08334944e-01  3.85848631e-01\n",
      "  3.79974235e-01  1.31444122e+00  2.19349436e-01 -3.01082126e-01\n",
      " -1.12534622e-01  8.94961675e+00  7.53960709e+00  1.87286957e+00\n",
      " -1.88727858e-03 -8.41610306e-02  3.34402576e-01 -3.34280193e-01\n",
      "  2.29391304e-01 -2.74666667e-01 -3.91297907e-01 -1.18563607e-01\n",
      "  2.88579710e-01 -2.31613527e-01 -2.27446055e-01 -6.79291465e-02\n",
      " -2.99961353e-01 -2.34157810e-01  2.70338164e+00 -2.63536232e-01\n",
      " -1.01262480e-01  3.17726248e-01 -1.57455717e-01  6.14685990e-01\n",
      "  4.81287601e+00 -3.89346216e-01  2.72392915e-01 -2.37513688e-01\n",
      "  3.50836071e+00  1.41900161e-02 -4.10376812e-01  4.47974235e-01\n",
      "  3.93713366e-01  1.39400966e+00 -3.90737520e-01  1.80425121e+00\n",
      "  1.90852174e+00  2.81964573e-01  6.23130435e-01 -3.09816425e-01\n",
      "  3.25000966e+00  3.10389050e+00  2.55610306e+00  1.47890499e-01\n",
      " -3.05249597e-01 -3.80689211e-01  1.19684380e-01 -2.87555556e-01\n",
      " -1.27607085e-01  4.28322061e-01 -5.69597424e-02  1.91749436e+00\n",
      " -2.16876006e-01  7.51317230e-01  7.69951691e-01 -2.29346216e-01\n",
      " -3.04135266e-01 -2.36998390e-01  1.66022544e-01 -1.16315620e-01\n",
      "  1.09623188e+00  1.38472142e+00  7.23607085e-02  3.07006119e+00\n",
      "  2.04161031e-01  1.92639614e+00  8.53871820e+00  5.01690177e+00\n",
      " -2.16296296e-01  3.02731079e-01 -1.56173913e-01  8.93820290e+00\n",
      " -9.36425121e-02 -3.06557166e-01 -3.47156200e-01  1.15001610e-01\n",
      "  2.33597424e+00 -2.81030596e-02 -4.03735910e-02  4.50083736e+00\n",
      "  4.70415459e-01  2.19158776e+00 -3.83201288e-01  2.02506924e+00\n",
      " -2.49874396e-01  4.71152979e+01 -1.67355878e-01  2.07093720e+00\n",
      "  4.25152979e-01 -3.60766506e-01  4.71742351e-01  2.02544928e+00\n",
      " -1.72328502e-01  2.13560064e+00  2.55716586e-02 -1.48644122e-01\n",
      "  3.09455717e-01  4.82640902e-02  2.56450886e-01 -2.98685990e-01\n",
      "  9.63587762e-01  5.94119163e-01  5.13609662e+00 -6.40257649e-03\n",
      " -1.34537842e-01  2.51102093e+00  2.48682770e-01 -9.15555556e-02\n",
      "  1.28302738e-01  8.97152979e-01 -1.70750403e-01 -3.66756844e-01\n",
      " -1.55227053e-01 -7.91239936e-02  1.09468599e-01 -2.92315620e-01\n",
      " -1.91020934e-01  2.10092110e+00 -2.99697262e-01  2.47321288e+01\n",
      "  2.47780998e-01  8.65243156e-01  1.15336554e-01 -1.72798712e-01\n",
      " -1.30524960e-01 -1.13552335e-01  1.38729597e+01  1.42222222e-02\n",
      "  1.00962963e+00 -2.93520129e-01 -5.47053140e-02  8.90621578e-01\n",
      "  6.07581320e-01  5.96966184e-01 -2.40006441e-01 -3.25745572e-01\n",
      " -3.35362319e-01 -2.95516908e-01 -3.94628019e-01 -3.23639291e-01\n",
      " -1.41893720e-01 -1.92302738e-01  1.39652174e-01  1.46711755e-01\n",
      " -2.58518519e-01  6.33107890e-01  2.19394525e-01  5.11613527e-01\n",
      " -3.28959742e-01 -4.05378422e-01  3.10546216e+00  4.48083736e-01\n",
      "  1.75568438e-01 -1.33030596e-01  2.06872786e-01 -3.53520129e-01\n",
      "  2.95444122e+00  5.30016103e-01  1.87008052e-01  1.58904992e-02\n",
      "  3.00345829e+01  5.42586151e+00  2.55652174e-01 -1.85024155e-01\n",
      " -3.01204509e-01  3.65249597e-01 -2.57925926e-01 -6.55652174e-02\n",
      "  9.54847021e-02 -2.95336554e-01 -3.21210950e-01 -2.02518519e-01\n",
      "  1.31697262e-01  2.59117552e-01 -1.55471820e-01  1.59555556e-01\n",
      " -2.04154589e-01  2.39598583e+01  3.71684380e-01 -4.76457327e-02\n",
      "  1.53558132e+00  2.47293398e+00 -2.03864734e-02  1.42853462e+00\n",
      " -2.26370370e-01 -1.82209340e-01 -3.02492754e-01  9.41114332e-01\n",
      "  2.09171014e+00  1.30561675e+00  2.11742351e-01 -5.10466989e-02\n",
      " -2.08650564e-01 -7.64637681e-02  2.71600644e-01  2.94582931e-01\n",
      "  9.85803543e-01  2.51980676e-01 -2.65842190e-01 -2.64476651e-01\n",
      " -2.79806763e-01  5.66853462e-01 -6.36199678e-02  7.19259259e-01\n",
      " -1.14183575e-01  4.19053140e-01 -1.83413849e-01 -3.05603865e-01\n",
      " -7.48856683e-02  3.45359098e-01 -3.54080515e-01 -1.38003221e-01\n",
      " -1.72541063e-01  1.43815781e+00  3.47259259e-01 -1.75265700e-01\n",
      " -2.99568438e-01 -2.79549114e-01  5.67832528e-01 -1.59600644e-01\n",
      " -2.91400966e-02 -3.89165862e-01  1.74233043e+01 -2.13565217e-01\n",
      " -2.02840580e-01 -2.59342995e-01 -1.11780998e-01  1.28752335e+00\n",
      " -1.30421900e-01 -2.07626409e-01  1.43452496e-01 -2.82872786e-01\n",
      " -3.58930757e-01  1.54993881e+00  1.31293591e+01 -3.08747182e-01\n",
      " -3.09455717e-01  4.69739130e-01 -3.70003221e-01  1.85030596e+00\n",
      " -1.49739130e-01  9.41436393e-01 -3.46718196e-01 -2.56953301e-01\n",
      "  1.32224799e+00 -3.70074074e-01  1.33661836e-01 -2.04328502e-01\n",
      "  8.28921095e-02 -3.68708535e-01  3.79098229e-01 -2.02685990e-01\n",
      "  4.31388084e-01  2.03046699e-01 -2.04186795e-01 -7.47310789e-02\n",
      " -3.78537842e-01  1.68181643e+00  1.52595813e+00  9.01056361e-01\n",
      "  5.39104670e-01  2.11478261e-01 -3.51252818e-01  5.18518519e-02\n",
      "  2.39471820e-01  6.42718196e-01 -3.77777778e-01 -3.32663446e-01\n",
      "  7.93816425e-02 -1.24193237e-01 -2.02692432e-01  1.06774879e+00\n",
      "  1.11239936e-02 -3.07388084e-01  1.61406119e+00  1.67571594e+01\n",
      " -2.45088567e-02 -1.02280193e-01 -3.91723027e-01  2.25223833e-01\n",
      "  7.38644767e+00  2.34093398e-01 -3.01159420e-01  2.70414106e+01\n",
      " -3.67619968e-01 -2.83735910e-01 -2.20676329e-01  1.31227697e+00\n",
      "  3.47819646e-01  1.34967472e+00  1.79726248e+01  8.50241546e-02\n",
      " -3.33571659e-01  2.25883414e+00 -3.34563607e-01 -1.68624799e-01\n",
      "  1.51875040e+00  2.26093398e-01 -3.73726248e-01 -2.91027375e-01\n",
      "  4.16224799e+00 -3.20766506e-01  2.76727858e-01  1.31600000e+00\n",
      "  4.31265700e-01  1.82003221e-01 -2.33462158e-01  3.45427375e+00\n",
      "  5.04115942e-01  1.11239936e-01  1.32109501e-02 -3.87619968e-01\n",
      "  6.25958132e-02  2.32386473e-01  1.68103060e+00 -2.99529791e-01\n",
      " -3.08380032e-01  2.03652174e+00 -5.30112721e-02  8.57326892e-01\n",
      "  8.75053140e-01  6.60689211e-01  2.08727858e-01  3.00225443e-02\n",
      "  1.97706023e+01  2.06502415e+00  5.69082126e-02 -8.85410628e-02\n",
      "  3.06563607e-01  2.23967794e-01]\n"
     ]
    }
   ],
   "source": [
    "print(y_pred)"
   ]
  },
  {
   "cell_type": "code",
   "execution_count": 30,
   "metadata": {},
   "outputs": [
    {
     "data": {
      "image/png": "[encoded data removed]",
      "text/plain": [
       "<Figure size 432x288 with 1 Axes>"
      ]
     },
     "metadata": {
      "needs_background": "light"
     },
     "output_type": "display_data"
    }
   ],
   "source": [
    "# plot training data\n",
    "plt.scatter(X_train[:,0], y_train)\n",
    "\n",
    "plt.show()"
   ]
  },
  {
   "cell_type": "code",
   "execution_count": 31,
   "metadata": {},
   "outputs": [
    {
     "data": {
      "text/plain": [
       "0.9830087933551737"
      ]
     },
     "execution_count": 31,
     "metadata": {},
     "output_type": "execute_result"
    }
   ],
   "source": [
    "# check score\n",
    "regressor.score(X_train, y_train)"
   ]
  },
  {
   "cell_type": "code",
   "execution_count": 32,
   "metadata": {},
   "outputs": [
    {
     "name": "stdout",
     "output_type": "stream",
     "text": [
      "Mean Absolute Error: 0.5793563425344777\n",
      "Mean Squared Error: 1.9575713448129384\n",
      "Root Mean Squared Error: 1.3991323542870913\n",
      "R Squared: 0.9045786120568512\n"
     ]
    }
   ],
   "source": [
    "print('Mean Absolute Error:', metrics.mean_absolute_error(y_test, y_pred))\n",
    "print('Mean Squared Error:', metrics.mean_squared_error(y_test, y_pred))\n",
    "print('Root Mean Squared Error:', np.sqrt(metrics.mean_squared_error(y_test, y_pred)))\n",
    "print('R Squared:', metrics.r2_score(y_test, y_pred))"
   ]
  },
  {
   "cell_type": "code",
   "execution_count": 33,
   "metadata": {},
   "outputs": [
    {
     "data": {
      "text/html": [
       "<div>\n",
       "<style scoped>\n",
       "    .dataframe tbody tr th:only-of-type {\n",
       "        vertical-align: middle;\n",
       "    }\n",
       "\n",
       "    .dataframe tbody tr th {\n",
       "        vertical-align: top;\n",
       "    }\n",
       "\n",
       "    .dataframe thead th {\n",
       "        text-align: right;\n",
       "    }\n",
       "</style>\n",
       "<table border=\"1\" class=\"dataframe\">\n",
       "  <thead>\n",
       "    <tr style=\"text-align: right;\">\n",
       "      <th></th>\n",
       "      <th>Real Values</th>\n",
       "      <th>Predicted Values</th>\n",
       "    </tr>\n",
       "  </thead>\n",
       "  <tbody>\n",
       "    <tr>\n",
       "      <th>1050</th>\n",
       "      <td>-0.031884</td>\n",
       "      <td>-0.242892</td>\n",
       "    </tr>\n",
       "    <tr>\n",
       "      <th>697</th>\n",
       "      <td>1.368438</td>\n",
       "      <td>1.191427</td>\n",
       "    </tr>\n",
       "    <tr>\n",
       "      <th>1636</th>\n",
       "      <td>0.075040</td>\n",
       "      <td>-0.268831</td>\n",
       "    </tr>\n",
       "    <tr>\n",
       "      <th>2655</th>\n",
       "      <td>-0.234138</td>\n",
       "      <td>-0.026345</td>\n",
       "    </tr>\n",
       "    <tr>\n",
       "      <th>2752</th>\n",
       "      <td>-0.061514</td>\n",
       "      <td>-0.168786</td>\n",
       "    </tr>\n",
       "  </tbody>\n",
       "</table>\n",
       "</div>"
      ],
      "text/plain": [
       "      Real Values  Predicted Values\n",
       "1050    -0.031884         -0.242892\n",
       "697      1.368438          1.191427\n",
       "1636     0.075040         -0.268831\n",
       "2655    -0.234138         -0.026345\n",
       "2752    -0.061514         -0.168786"
      ]
     },
     "execution_count": 33,
     "metadata": {},
     "output_type": "execute_result"
    }
   ],
   "source": [
    "pred_df = pd.DataFrame({'Real Values': y_test, 'Predicted Values': y_pred})\n",
    "pred_df.head()"
   ]
  },
  {
   "cell_type": "code",
   "execution_count": 34,
   "metadata": {},
   "outputs": [
    {
     "data": {
      "image/png": "[encoded data removed]",
      "text/plain": [
       "<Figure size 432x288 with 1 Axes>"
      ]
     },
     "metadata": {
      "needs_background": "light"
     },
     "output_type": "display_data"
    }
   ],
   "source": [
    "# plot line chart for predictions\n",
    "plt.plot(pred_df['Predicted Values'], pred_df['Real Values'])\n",
    "plt.show()"
   ]
  },
  {
   "cell_type": "code",
   "execution_count": 35,
   "metadata": {},
   "outputs": [
    {
     "data": {
      "text/plain": [
       "(762, 2)"
      ]
     },
     "execution_count": 35,
     "metadata": {},
     "output_type": "execute_result"
    }
   ],
   "source": [
    "pred_df.shape"
   ]
  },
  {
   "cell_type": "code",
   "execution_count": 36,
   "metadata": {},
   "outputs": [
    {
     "data": {
      "image/png": "[encoded data removed]",
      "text/plain": [
       "<Figure size 432x288 with 1 Axes>"
      ]
     },
     "metadata": {
      "needs_background": "light"
     },
     "output_type": "display_data"
    }
   ],
   "source": [
    "plt.scatter(pred_df['Real Values'], pred_df['Predicted Values'])\n",
    "plt.show()"
   ]
  },
  {
   "cell_type": "markdown",
   "metadata": {},
   "source": [
    "# RFR for Voting"
   ]
  },
  {
   "cell_type": "code",
   "execution_count": 38,
   "metadata": {},
   "outputs": [
    {
     "data": {
      "text/html": [
       "<div>\n",
       "<style scoped>\n",
       "    .dataframe tbody tr th:only-of-type {\n",
       "        vertical-align: middle;\n",
       "    }\n",
       "\n",
       "    .dataframe tbody tr th {\n",
       "        vertical-align: top;\n",
       "    }\n",
       "\n",
       "    .dataframe thead th {\n",
       "        text-align: right;\n",
       "    }\n",
       "</style>\n",
       "<table border=\"1\" class=\"dataframe\">\n",
       "  <thead>\n",
       "    <tr style=\"text-align: right;\">\n",
       "      <th></th>\n",
       "      <th>cases</th>\n",
       "      <th>total_votes20</th>\n",
       "      <th>votes20_donald_trump</th>\n",
       "      <th>votes20_joe_biden</th>\n",
       "    </tr>\n",
       "  </thead>\n",
       "  <tbody>\n",
       "    <tr>\n",
       "      <th>0</th>\n",
       "      <td>920</td>\n",
       "      <td>17249</td>\n",
       "      <td>12834</td>\n",
       "      <td>4040</td>\n",
       "    </tr>\n",
       "    <tr>\n",
       "      <th>1</th>\n",
       "      <td>805</td>\n",
       "      <td>12433</td>\n",
       "      <td>8215</td>\n",
       "      <td>4101</td>\n",
       "    </tr>\n",
       "    <tr>\n",
       "      <th>2</th>\n",
       "      <td>3182</td>\n",
       "      <td>28425</td>\n",
       "      <td>22596</td>\n",
       "      <td>5443</td>\n",
       "    </tr>\n",
       "    <tr>\n",
       "      <th>3</th>\n",
       "      <td>1227</td>\n",
       "      <td>16938</td>\n",
       "      <td>9172</td>\n",
       "      <td>7578</td>\n",
       "    </tr>\n",
       "    <tr>\n",
       "      <th>4</th>\n",
       "      <td>17451</td>\n",
       "      <td>259389</td>\n",
       "      <td>130699</td>\n",
       "      <td>120539</td>\n",
       "    </tr>\n",
       "  </tbody>\n",
       "</table>\n",
       "</div>"
      ],
      "text/plain": [
       "   cases  total_votes20  votes20_donald_trump  votes20_joe_biden\n",
       "0    920          17249                 12834               4040\n",
       "1    805          12433                  8215               4101\n",
       "2   3182          28425                 22596               5443\n",
       "3   1227          16938                  9172               7578\n",
       "4  17451         259389                130699             120539"
      ]
     },
     "execution_count": 38,
     "metadata": {},
     "output_type": "execute_result"
    }
   ],
   "source": [
    "# create voting df\n",
    "voting_df = df[['cases','total_votes20','votes20_donald_trump','votes20_joe_biden']]\n",
    "voting_df.head()"
   ]
  },
  {
   "cell_type": "code",
   "execution_count": 39,
   "metadata": {},
   "outputs": [
    {
     "data": {
      "text/plain": [
       "array([[ 0.17101449,  0.21058371,  0.29865829,  0.06631744],\n",
       "       [ 0.09694042,  0.02301738,  0.01404871,  0.07280559],\n",
       "       [ 1.62801932,  0.64584976,  0.90016483,  0.21554498],\n",
       "       [ 0.36876006,  0.19847135,  0.07301631,  0.44263036],\n",
       "       [10.81900161,  9.64108855,  7.56116272, 12.45752121]])"
      ]
     },
     "execution_count": 39,
     "metadata": {},
     "output_type": "execute_result"
    }
   ],
   "source": [
    "# scale voting data\n",
    "voting_scaled = RobustScaler().fit_transform(voting_df)\n",
    "voting_scaled[:5]"
   ]
  },
  {
   "cell_type": "code",
   "execution_count": 40,
   "metadata": {},
   "outputs": [
    {
     "data": {
      "text/html": [
       "<div>\n",
       "<style scoped>\n",
       "    .dataframe tbody tr th:only-of-type {\n",
       "        vertical-align: middle;\n",
       "    }\n",
       "\n",
       "    .dataframe tbody tr th {\n",
       "        vertical-align: top;\n",
       "    }\n",
       "\n",
       "    .dataframe thead th {\n",
       "        text-align: right;\n",
       "    }\n",
       "</style>\n",
       "<table border=\"1\" class=\"dataframe\">\n",
       "  <thead>\n",
       "    <tr style=\"text-align: right;\">\n",
       "      <th></th>\n",
       "      <th>cases</th>\n",
       "      <th>total_votes20</th>\n",
       "      <th>votes20_Donald_Trump</th>\n",
       "      <th>votes20_Joe_Biden</th>\n",
       "    </tr>\n",
       "  </thead>\n",
       "  <tbody>\n",
       "    <tr>\n",
       "      <th>0</th>\n",
       "      <td>0.171014</td>\n",
       "      <td>0.210584</td>\n",
       "      <td>0.298658</td>\n",
       "      <td>0.066317</td>\n",
       "    </tr>\n",
       "    <tr>\n",
       "      <th>1</th>\n",
       "      <td>0.096940</td>\n",
       "      <td>0.023017</td>\n",
       "      <td>0.014049</td>\n",
       "      <td>0.072806</td>\n",
       "    </tr>\n",
       "    <tr>\n",
       "      <th>2</th>\n",
       "      <td>1.628019</td>\n",
       "      <td>0.645850</td>\n",
       "      <td>0.900165</td>\n",
       "      <td>0.215545</td>\n",
       "    </tr>\n",
       "    <tr>\n",
       "      <th>3</th>\n",
       "      <td>0.368760</td>\n",
       "      <td>0.198471</td>\n",
       "      <td>0.073016</td>\n",
       "      <td>0.442630</td>\n",
       "    </tr>\n",
       "    <tr>\n",
       "      <th>4</th>\n",
       "      <td>10.819002</td>\n",
       "      <td>9.641089</td>\n",
       "      <td>7.561163</td>\n",
       "      <td>12.457521</td>\n",
       "    </tr>\n",
       "  </tbody>\n",
       "</table>\n",
       "</div>"
      ],
      "text/plain": [
       "       cases  total_votes20  votes20_Donald_Trump  votes20_Joe_Biden\n",
       "0   0.171014       0.210584              0.298658           0.066317\n",
       "1   0.096940       0.023017              0.014049           0.072806\n",
       "2   1.628019       0.645850              0.900165           0.215545\n",
       "3   0.368760       0.198471              0.073016           0.442630\n",
       "4  10.819002       9.641089              7.561163          12.457521"
      ]
     },
     "execution_count": 40,
     "metadata": {},
     "output_type": "execute_result"
    }
   ],
   "source": [
    "# create scaled df\n",
    "scaled_voting_df = pd.DataFrame(voting_scaled, columns= ['cases','total_votes20','votes20_Donald_Trump','votes20_Joe_Biden'])\n",
    "scaled_voting_df.head()"
   ]
  },
  {
   "cell_type": "code",
   "execution_count": 41,
   "metadata": {},
   "outputs": [
    {
     "data": {
      "text/html": [
       "<div>\n",
       "<style scoped>\n",
       "    .dataframe tbody tr th:only-of-type {\n",
       "        vertical-align: middle;\n",
       "    }\n",
       "\n",
       "    .dataframe tbody tr th {\n",
       "        vertical-align: top;\n",
       "    }\n",
       "\n",
       "    .dataframe thead th {\n",
       "        text-align: right;\n",
       "    }\n",
       "</style>\n",
       "<table border=\"1\" class=\"dataframe\">\n",
       "  <thead>\n",
       "    <tr style=\"text-align: right;\">\n",
       "      <th></th>\n",
       "      <th>cases</th>\n",
       "    </tr>\n",
       "  </thead>\n",
       "  <tbody>\n",
       "    <tr>\n",
       "      <th>0</th>\n",
       "      <td>0.171014</td>\n",
       "    </tr>\n",
       "    <tr>\n",
       "      <th>1</th>\n",
       "      <td>0.096940</td>\n",
       "    </tr>\n",
       "    <tr>\n",
       "      <th>2</th>\n",
       "      <td>1.628019</td>\n",
       "    </tr>\n",
       "    <tr>\n",
       "      <th>3</th>\n",
       "      <td>0.368760</td>\n",
       "    </tr>\n",
       "    <tr>\n",
       "      <th>4</th>\n",
       "      <td>10.819002</td>\n",
       "    </tr>\n",
       "  </tbody>\n",
       "</table>\n",
       "</div>"
      ],
      "text/plain": [
       "       cases\n",
       "0   0.171014\n",
       "1   0.096940\n",
       "2   1.628019\n",
       "3   0.368760\n",
       "4  10.819002"
      ]
     },
     "execution_count": 41,
     "metadata": {},
     "output_type": "execute_result"
    }
   ],
   "source": [
    "# separate target\n",
    "y2 = scaled_voting_df['cases']\n",
    "scaled_cases2 = pd.DataFrame(y, columns = ['cases'])\n",
    "scaled_cases2.head()"
   ]
  },
  {
   "cell_type": "code",
   "execution_count": 42,
   "metadata": {},
   "outputs": [
    {
     "data": {
      "text/html": [
       "<div>\n",
       "<style scoped>\n",
       "    .dataframe tbody tr th:only-of-type {\n",
       "        vertical-align: middle;\n",
       "    }\n",
       "\n",
       "    .dataframe tbody tr th {\n",
       "        vertical-align: top;\n",
       "    }\n",
       "\n",
       "    .dataframe thead th {\n",
       "        text-align: right;\n",
       "    }\n",
       "</style>\n",
       "<table border=\"1\" class=\"dataframe\">\n",
       "  <thead>\n",
       "    <tr style=\"text-align: right;\">\n",
       "      <th></th>\n",
       "      <th>total_votes20</th>\n",
       "      <th>votes20_Donald_Trump</th>\n",
       "      <th>votes20_Joe_Biden</th>\n",
       "    </tr>\n",
       "  </thead>\n",
       "  <tbody>\n",
       "    <tr>\n",
       "      <th>0</th>\n",
       "      <td>0.210584</td>\n",
       "      <td>0.298658</td>\n",
       "      <td>0.066317</td>\n",
       "    </tr>\n",
       "    <tr>\n",
       "      <th>1</th>\n",
       "      <td>0.023017</td>\n",
       "      <td>0.014049</td>\n",
       "      <td>0.072806</td>\n",
       "    </tr>\n",
       "    <tr>\n",
       "      <th>2</th>\n",
       "      <td>0.645850</td>\n",
       "      <td>0.900165</td>\n",
       "      <td>0.215545</td>\n",
       "    </tr>\n",
       "    <tr>\n",
       "      <th>3</th>\n",
       "      <td>0.198471</td>\n",
       "      <td>0.073016</td>\n",
       "      <td>0.442630</td>\n",
       "    </tr>\n",
       "    <tr>\n",
       "      <th>4</th>\n",
       "      <td>9.641089</td>\n",
       "      <td>7.561163</td>\n",
       "      <td>12.457521</td>\n",
       "    </tr>\n",
       "  </tbody>\n",
       "</table>\n",
       "</div>"
      ],
      "text/plain": [
       "   total_votes20  votes20_Donald_Trump  votes20_Joe_Biden\n",
       "0       0.210584              0.298658           0.066317\n",
       "1       0.023017              0.014049           0.072806\n",
       "2       0.645850              0.900165           0.215545\n",
       "3       0.198471              0.073016           0.442630\n",
       "4       9.641089              7.561163          12.457521"
      ]
     },
     "execution_count": 42,
     "metadata": {},
     "output_type": "execute_result"
    }
   ],
   "source": [
    "# create features for model\n",
    "X_scaled2 = scaled_voting_df.drop(['cases'], axis=1)\n",
    "X_scaled2.head()"
   ]
  },
  {
   "cell_type": "code",
   "execution_count": 43,
   "metadata": {},
   "outputs": [
    {
     "data": {
      "text/plain": [
       "array([[-2.44845335,  0.02414555],\n",
       "       [-2.60478289, -0.27875697],\n",
       "       [-1.96243507,  0.60491956],\n",
       "       [-2.19494797, -0.33413577],\n",
       "       [14.32089853,  3.76516877]])"
      ]
     },
     "execution_count": 43,
     "metadata": {},
     "output_type": "execute_result"
    }
   ],
   "source": [
    "# get two principal components for the iris data\n",
    "X2 = pca.fit_transform(X_scaled2)\n",
    "X2[:5]"
   ]
  },
  {
   "cell_type": "code",
   "execution_count": 44,
   "metadata": {},
   "outputs": [],
   "source": [
    "# instantiate model\n",
    "regressor2 = RandomForestRegressor(n_estimators=100,random_state=48)"
   ]
  },
  {
   "cell_type": "code",
   "execution_count": 45,
   "metadata": {},
   "outputs": [],
   "source": [
    "# split data into training and testing sets\n",
    "X_train2, X_test2, y_train2, y_test2 = train_test_split(X2, y2, random_state=48)"
   ]
  },
  {
   "cell_type": "code",
   "execution_count": 46,
   "metadata": {},
   "outputs": [
    {
     "data": {
      "text/plain": [
       "RandomForestRegressor(random_state=48)"
      ]
     },
     "execution_count": 46,
     "metadata": {},
     "output_type": "execute_result"
    }
   ],
   "source": [
    "# fit model\n",
    "regressor2.fit(X_train2, y_train2)"
   ]
  },
  {
   "cell_type": "code",
   "execution_count": 47,
   "metadata": {},
   "outputs": [
    {
     "data": {
      "text/plain": [
       "array([ 0.01424155,  0.44151369, -0.12903704, -0.02758132,  0.02633816])"
      ]
     },
     "execution_count": 47,
     "metadata": {},
     "output_type": "execute_result"
    }
   ],
   "source": [
    "# make predictions\n",
    "y_pred2 = regressor2.predict(X_test2)\n",
    "y_pred2[:5]"
   ]
  },
  {
   "cell_type": "code",
   "execution_count": 48,
   "metadata": {},
   "outputs": [
    {
     "name": "stdout",
     "output_type": "stream",
     "text": [
      "[135.08704538   2.61917516]\n"
     ]
    }
   ],
   "source": [
    "# plot components\n",
    "print(pca.explained_variance_)"
   ]
  },
  {
   "cell_type": "code",
   "execution_count": 49,
   "metadata": {},
   "outputs": [
    {
     "data": {
      "text/html": [
       "<div>\n",
       "<style scoped>\n",
       "    .dataframe tbody tr th:only-of-type {\n",
       "        vertical-align: middle;\n",
       "    }\n",
       "\n",
       "    .dataframe tbody tr th {\n",
       "        vertical-align: top;\n",
       "    }\n",
       "\n",
       "    .dataframe thead th {\n",
       "        text-align: right;\n",
       "    }\n",
       "</style>\n",
       "<table border=\"1\" class=\"dataframe\">\n",
       "  <thead>\n",
       "    <tr style=\"text-align: right;\">\n",
       "      <th></th>\n",
       "      <th>principal component 1</th>\n",
       "      <th>principal component 2</th>\n",
       "    </tr>\n",
       "  </thead>\n",
       "  <tbody>\n",
       "    <tr>\n",
       "      <th>0</th>\n",
       "      <td>-2.448453</td>\n",
       "      <td>0.024146</td>\n",
       "    </tr>\n",
       "    <tr>\n",
       "      <th>1</th>\n",
       "      <td>-2.604783</td>\n",
       "      <td>-0.278757</td>\n",
       "    </tr>\n",
       "    <tr>\n",
       "      <th>2</th>\n",
       "      <td>-1.962435</td>\n",
       "      <td>0.604920</td>\n",
       "    </tr>\n",
       "    <tr>\n",
       "      <th>3</th>\n",
       "      <td>-2.194948</td>\n",
       "      <td>-0.334136</td>\n",
       "    </tr>\n",
       "    <tr>\n",
       "      <th>4</th>\n",
       "      <td>14.320899</td>\n",
       "      <td>3.765169</td>\n",
       "    </tr>\n",
       "  </tbody>\n",
       "</table>\n",
       "</div>"
      ],
      "text/plain": [
       "   principal component 1  principal component 2\n",
       "0              -2.448453               0.024146\n",
       "1              -2.604783              -0.278757\n",
       "2              -1.962435               0.604920\n",
       "3              -2.194948              -0.334136\n",
       "4              14.320899               3.765169"
      ]
     },
     "execution_count": 49,
     "metadata": {},
     "output_type": "execute_result"
    }
   ],
   "source": [
    "# Create df with pca and predictions\n",
    "voting_pca_pred = pd.DataFrame(\n",
    "    data=X2, columns=[\"principal component 1\", \"principal component 2\"]\n",
    ")\n",
    "voting_pca_pred.head()"
   ]
  },
  {
   "cell_type": "code",
   "execution_count": 50,
   "metadata": {},
   "outputs": [
    {
     "data": {
      "image/png": "[encoded data removed]",
      "text/plain": [
       "<Figure size 432x288 with 1 Axes>"
      ]
     },
     "metadata": {
      "needs_background": "light"
     },
     "output_type": "display_data"
    }
   ],
   "source": [
    "# plot pca\n",
    "plt.scatter(voting_pca_pred['principal component 1'], voting_pca_pred['principal component 2'])\n",
    "plt.show()"
   ]
  },
  {
   "cell_type": "code",
   "execution_count": 51,
   "metadata": {},
   "outputs": [
    {
     "data": {
      "image/png": "[encoded data removed]",
      "text/plain": [
       "<Figure size 432x288 with 1 Axes>"
      ]
     },
     "metadata": {
      "needs_background": "light"
     },
     "output_type": "display_data"
    }
   ],
   "source": [
    "# plot training data\n",
    "plt.scatter(X_train2[:,0], y_train2)\n",
    "plt.show()"
   ]
  },
  {
   "cell_type": "code",
   "execution_count": 52,
   "metadata": {},
   "outputs": [
    {
     "data": {
      "text/plain": [
       "0.9672661066793056"
      ]
     },
     "execution_count": 52,
     "metadata": {},
     "output_type": "execute_result"
    }
   ],
   "source": [
    "# check score\n",
    "regressor2.score(X_train2, y_train2)"
   ]
  },
  {
   "cell_type": "code",
   "execution_count": 53,
   "metadata": {},
   "outputs": [
    {
     "name": "stdout",
     "output_type": "stream",
     "text": [
      "Mean Absolute Error: 0.5793563425344777\n",
      "Mean Squared Error: 1.9575713448129384\n",
      "Root Mean Squared Error: 1.3991323542870913\n",
      "R Squared: 0.9045786120568512\n"
     ]
    }
   ],
   "source": [
    "print('Mean Absolute Error:', metrics.mean_absolute_error(y_test, y_pred))\n",
    "print('Mean Squared Error:', metrics.mean_squared_error(y_test, y_pred))\n",
    "print('Root Mean Squared Error:', np.sqrt(metrics.mean_squared_error(y_test, y_pred)))\n",
    "print('R Squared:', metrics.r2_score(y_test, y_pred))"
   ]
  },
  {
   "cell_type": "code",
   "execution_count": 54,
   "metadata": {},
   "outputs": [
    {
     "data": {
      "text/html": [
       "<div>\n",
       "<style scoped>\n",
       "    .dataframe tbody tr th:only-of-type {\n",
       "        vertical-align: middle;\n",
       "    }\n",
       "\n",
       "    .dataframe tbody tr th {\n",
       "        vertical-align: top;\n",
       "    }\n",
       "\n",
       "    .dataframe thead th {\n",
       "        text-align: right;\n",
       "    }\n",
       "</style>\n",
       "<table border=\"1\" class=\"dataframe\">\n",
       "  <thead>\n",
       "    <tr style=\"text-align: right;\">\n",
       "      <th></th>\n",
       "      <th>Real Values</th>\n",
       "      <th>Predicted Values</th>\n",
       "    </tr>\n",
       "  </thead>\n",
       "  <tbody>\n",
       "    <tr>\n",
       "      <th>1050</th>\n",
       "      <td>-0.031884</td>\n",
       "      <td>0.014242</td>\n",
       "    </tr>\n",
       "    <tr>\n",
       "      <th>697</th>\n",
       "      <td>1.368438</td>\n",
       "      <td>0.441514</td>\n",
       "    </tr>\n",
       "    <tr>\n",
       "      <th>1636</th>\n",
       "      <td>0.075040</td>\n",
       "      <td>-0.129037</td>\n",
       "    </tr>\n",
       "    <tr>\n",
       "      <th>2655</th>\n",
       "      <td>-0.234138</td>\n",
       "      <td>-0.027581</td>\n",
       "    </tr>\n",
       "    <tr>\n",
       "      <th>2752</th>\n",
       "      <td>-0.061514</td>\n",
       "      <td>0.026338</td>\n",
       "    </tr>\n",
       "  </tbody>\n",
       "</table>\n",
       "</div>"
      ],
      "text/plain": [
       "      Real Values  Predicted Values\n",
       "1050    -0.031884          0.014242\n",
       "697      1.368438          0.441514\n",
       "1636     0.075040         -0.129037\n",
       "2655    -0.234138         -0.027581\n",
       "2752    -0.061514          0.026338"
      ]
     },
     "execution_count": 54,
     "metadata": {},
     "output_type": "execute_result"
    }
   ],
   "source": [
    "# create df with predictions and actual values\n",
    "voting_pred_df = pd.DataFrame({'Real Values': y_test2, 'Predicted Values': y_pred2})\n",
    "voting_pred_df.head()"
   ]
  },
  {
   "cell_type": "code",
   "execution_count": 55,
   "metadata": {},
   "outputs": [
    {
     "data": {
      "image/png": "[encoded data removed]",
      "text/plain": [
       "<Figure size 432x288 with 1 Axes>"
      ]
     },
     "metadata": {
      "needs_background": "light"
     },
     "output_type": "display_data"
    }
   ],
   "source": [
    "# plot line chart for predictions\n",
    "plt.plot(voting_pred_df['Predicted Values'], voting_pred_df['Real Values'])\n",
    "plt.show()"
   ]
  },
  {
   "cell_type": "code",
   "execution_count": 56,
   "metadata": {},
   "outputs": [
    {
     "data": {
      "image/png": "[encoded data removed]",
      "text/plain": [
       "<Figure size 432x288 with 1 Axes>"
      ]
     },
     "metadata": {
      "needs_background": "light"
     },
     "output_type": "display_data"
    }
   ],
   "source": [
    "# plot predicted and real values\n",
    "plt.scatter(voting_pred_df['Real Values'], voting_pred_df['Predicted Values'])\n",
    "plt.show()"
   ]
  },
  {
   "cell_type": "markdown",
   "metadata": {},
   "source": [
    "# RFR for Demographic Data"
   ]
  },
  {
   "cell_type": "code",
   "execution_count": 57,
   "metadata": {},
   "outputs": [
    {
     "data": {
      "text/html": [
       "<div>\n",
       "<style scoped>\n",
       "    .dataframe tbody tr th:only-of-type {\n",
       "        vertical-align: middle;\n",
       "    }\n",
       "\n",
       "    .dataframe tbody tr th {\n",
       "        vertical-align: top;\n",
       "    }\n",
       "\n",
       "    .dataframe thead th {\n",
       "        text-align: right;\n",
       "    }\n",
       "</style>\n",
       "<table border=\"1\" class=\"dataframe\">\n",
       "  <thead>\n",
       "    <tr style=\"text-align: right;\">\n",
       "      <th></th>\n",
       "      <th>cases</th>\n",
       "      <th>men</th>\n",
       "      <th>women</th>\n",
       "      <th>hispanic</th>\n",
       "      <th>white</th>\n",
       "      <th>black</th>\n",
       "      <th>native</th>\n",
       "      <th>asian</th>\n",
       "      <th>pacific</th>\n",
       "    </tr>\n",
       "  </thead>\n",
       "  <tbody>\n",
       "    <tr>\n",
       "      <th>0</th>\n",
       "      <td>920</td>\n",
       "      <td>22375</td>\n",
       "      <td>22798</td>\n",
       "      <td>7.6</td>\n",
       "      <td>75.4</td>\n",
       "      <td>2.0</td>\n",
       "      <td>7.4</td>\n",
       "      <td>0.5</td>\n",
       "      <td>0.0</td>\n",
       "    </tr>\n",
       "    <tr>\n",
       "      <th>1</th>\n",
       "      <td>805</td>\n",
       "      <td>12044</td>\n",
       "      <td>12744</td>\n",
       "      <td>1.3</td>\n",
       "      <td>68.9</td>\n",
       "      <td>27.6</td>\n",
       "      <td>0.1</td>\n",
       "      <td>0.3</td>\n",
       "      <td>0.0</td>\n",
       "    </tr>\n",
       "    <tr>\n",
       "      <th>2</th>\n",
       "      <td>3182</td>\n",
       "      <td>30433</td>\n",
       "      <td>32174</td>\n",
       "      <td>2.4</td>\n",
       "      <td>77.5</td>\n",
       "      <td>17.6</td>\n",
       "      <td>0.1</td>\n",
       "      <td>0.1</td>\n",
       "      <td>0.0</td>\n",
       "    </tr>\n",
       "    <tr>\n",
       "      <th>3</th>\n",
       "      <td>1227</td>\n",
       "      <td>16079</td>\n",
       "      <td>16761</td>\n",
       "      <td>8.8</td>\n",
       "      <td>60.3</td>\n",
       "      <td>28.3</td>\n",
       "      <td>0.3</td>\n",
       "      <td>0.7</td>\n",
       "      <td>0.0</td>\n",
       "    </tr>\n",
       "    <tr>\n",
       "      <th>4</th>\n",
       "      <td>17451</td>\n",
       "      <td>217999</td>\n",
       "      <td>217118</td>\n",
       "      <td>7.9</td>\n",
       "      <td>85.2</td>\n",
       "      <td>1.2</td>\n",
       "      <td>0.4</td>\n",
       "      <td>2.6</td>\n",
       "      <td>0.1</td>\n",
       "    </tr>\n",
       "  </tbody>\n",
       "</table>\n",
       "</div>"
      ],
      "text/plain": [
       "   cases     men   women  hispanic  white  black  native  asian  pacific\n",
       "0    920   22375   22798       7.6   75.4    2.0     7.4    0.5      0.0\n",
       "1    805   12044   12744       1.3   68.9   27.6     0.1    0.3      0.0\n",
       "2   3182   30433   32174       2.4   77.5   17.6     0.1    0.1      0.0\n",
       "3   1227   16079   16761       8.8   60.3   28.3     0.3    0.7      0.0\n",
       "4  17451  217999  217118       7.9   85.2    1.2     0.4    2.6      0.1"
      ]
     },
     "execution_count": 57,
     "metadata": {},
     "output_type": "execute_result"
    }
   ],
   "source": [
    "# create voting df\n",
    "demo_df = df[['cases','men', 'women', 'hispanic', 'white', 'black', 'native','asian', 'pacific']]\n",
    "demo_df.head()"
   ]
  },
  {
   "cell_type": "code",
   "execution_count": 58,
   "metadata": {},
   "outputs": [
    {
     "data": {
      "text/plain": [
       "array([[ 1.71014493e-01,  3.45629910e-01,  3.51384643e-01,\n",
       "         5.00000000e-01, -3.33333333e-01, -1.08695652e-02,\n",
       "         1.42000000e+01, -1.11111111e-01,  0.00000000e+00],\n",
       "       [ 9.69404187e-02, -2.79136196e-02, -4.99800611e-03,\n",
       "        -3.51351351e-01, -5.71428571e-01,  2.77173913e+00,\n",
       "        -4.00000000e-01, -3.33333333e-01,  0.00000000e+00],\n",
       "       [ 1.62801932e+00,  6.36987354e-01,  6.83734326e-01,\n",
       "        -2.02702703e-01, -2.56410256e-01,  1.68478261e+00,\n",
       "        -4.00000000e-01, -5.55555556e-01,  0.00000000e+00],\n",
       "       [ 3.68760064e-01,  1.17982048e-01,  1.37391998e-01,\n",
       "         6.62162162e-01, -8.86446886e-01,  2.84782609e+00,\n",
       "         0.00000000e+00,  1.11111111e-01,  0.00000000e+00],\n",
       "       [ 1.08190016e+01,  7.41891220e+00,  7.23941690e+00,\n",
       "         5.40540541e-01,  2.56410256e-02, -9.78260870e-02,\n",
       "         2.00000000e-01,  2.22222222e+00,  1.00000000e+00]])"
      ]
     },
     "execution_count": 58,
     "metadata": {},
     "output_type": "execute_result"
    }
   ],
   "source": [
    "# scale demographic data\n",
    "demo_scaled = RobustScaler().fit_transform(demo_df)\n",
    "demo_scaled[:5]"
   ]
  },
  {
   "cell_type": "code",
   "execution_count": 59,
   "metadata": {},
   "outputs": [
    {
     "data": {
      "text/html": [
       "<div>\n",
       "<style scoped>\n",
       "    .dataframe tbody tr th:only-of-type {\n",
       "        vertical-align: middle;\n",
       "    }\n",
       "\n",
       "    .dataframe tbody tr th {\n",
       "        vertical-align: top;\n",
       "    }\n",
       "\n",
       "    .dataframe thead th {\n",
       "        text-align: right;\n",
       "    }\n",
       "</style>\n",
       "<table border=\"1\" class=\"dataframe\">\n",
       "  <thead>\n",
       "    <tr style=\"text-align: right;\">\n",
       "      <th></th>\n",
       "      <th>cases</th>\n",
       "      <th>Men</th>\n",
       "      <th>Women</th>\n",
       "      <th>Hispanic</th>\n",
       "      <th>White</th>\n",
       "      <th>Black</th>\n",
       "      <th>Native</th>\n",
       "      <th>Asian</th>\n",
       "      <th>Pacific</th>\n",
       "    </tr>\n",
       "  </thead>\n",
       "  <tbody>\n",
       "    <tr>\n",
       "      <th>0</th>\n",
       "      <td>0.171014</td>\n",
       "      <td>0.345630</td>\n",
       "      <td>0.351385</td>\n",
       "      <td>0.500000</td>\n",
       "      <td>-0.333333</td>\n",
       "      <td>-0.010870</td>\n",
       "      <td>14.2</td>\n",
       "      <td>-0.111111</td>\n",
       "      <td>0.0</td>\n",
       "    </tr>\n",
       "    <tr>\n",
       "      <th>1</th>\n",
       "      <td>0.096940</td>\n",
       "      <td>-0.027914</td>\n",
       "      <td>-0.004998</td>\n",
       "      <td>-0.351351</td>\n",
       "      <td>-0.571429</td>\n",
       "      <td>2.771739</td>\n",
       "      <td>-0.4</td>\n",
       "      <td>-0.333333</td>\n",
       "      <td>0.0</td>\n",
       "    </tr>\n",
       "    <tr>\n",
       "      <th>2</th>\n",
       "      <td>1.628019</td>\n",
       "      <td>0.636987</td>\n",
       "      <td>0.683734</td>\n",
       "      <td>-0.202703</td>\n",
       "      <td>-0.256410</td>\n",
       "      <td>1.684783</td>\n",
       "      <td>-0.4</td>\n",
       "      <td>-0.555556</td>\n",
       "      <td>0.0</td>\n",
       "    </tr>\n",
       "    <tr>\n",
       "      <th>3</th>\n",
       "      <td>0.368760</td>\n",
       "      <td>0.117982</td>\n",
       "      <td>0.137392</td>\n",
       "      <td>0.662162</td>\n",
       "      <td>-0.886447</td>\n",
       "      <td>2.847826</td>\n",
       "      <td>0.0</td>\n",
       "      <td>0.111111</td>\n",
       "      <td>0.0</td>\n",
       "    </tr>\n",
       "    <tr>\n",
       "      <th>4</th>\n",
       "      <td>10.819002</td>\n",
       "      <td>7.418912</td>\n",
       "      <td>7.239417</td>\n",
       "      <td>0.540541</td>\n",
       "      <td>0.025641</td>\n",
       "      <td>-0.097826</td>\n",
       "      <td>0.2</td>\n",
       "      <td>2.222222</td>\n",
       "      <td>1.0</td>\n",
       "    </tr>\n",
       "  </tbody>\n",
       "</table>\n",
       "</div>"
      ],
      "text/plain": [
       "       cases       Men     Women  Hispanic     White     Black  Native  \\\n",
       "0   0.171014  0.345630  0.351385  0.500000 -0.333333 -0.010870    14.2   \n",
       "1   0.096940 -0.027914 -0.004998 -0.351351 -0.571429  2.771739    -0.4   \n",
       "2   1.628019  0.636987  0.683734 -0.202703 -0.256410  1.684783    -0.4   \n",
       "3   0.368760  0.117982  0.137392  0.662162 -0.886447  2.847826     0.0   \n",
       "4  10.819002  7.418912  7.239417  0.540541  0.025641 -0.097826     0.2   \n",
       "\n",
       "      Asian  Pacific  \n",
       "0 -0.111111      0.0  \n",
       "1 -0.333333      0.0  \n",
       "2 -0.555556      0.0  \n",
       "3  0.111111      0.0  \n",
       "4  2.222222      1.0  "
      ]
     },
     "execution_count": 59,
     "metadata": {},
     "output_type": "execute_result"
    }
   ],
   "source": [
    "# create scaled df\n",
    "scaled_demo_df = pd.DataFrame(demo_scaled, columns= ['cases','Men', 'Women', 'Hispanic', 'White', 'Black', 'Native','Asian', 'Pacific'])\n",
    "scaled_demo_df.head()"
   ]
  },
  {
   "cell_type": "code",
   "execution_count": 60,
   "metadata": {},
   "outputs": [
    {
     "data": {
      "text/html": [
       "<div>\n",
       "<style scoped>\n",
       "    .dataframe tbody tr th:only-of-type {\n",
       "        vertical-align: middle;\n",
       "    }\n",
       "\n",
       "    .dataframe tbody tr th {\n",
       "        vertical-align: top;\n",
       "    }\n",
       "\n",
       "    .dataframe thead th {\n",
       "        text-align: right;\n",
       "    }\n",
       "</style>\n",
       "<table border=\"1\" class=\"dataframe\">\n",
       "  <thead>\n",
       "    <tr style=\"text-align: right;\">\n",
       "      <th></th>\n",
       "      <th>cases</th>\n",
       "    </tr>\n",
       "  </thead>\n",
       "  <tbody>\n",
       "    <tr>\n",
       "      <th>0</th>\n",
       "      <td>0.171014</td>\n",
       "    </tr>\n",
       "    <tr>\n",
       "      <th>1</th>\n",
       "      <td>0.096940</td>\n",
       "    </tr>\n",
       "    <tr>\n",
       "      <th>2</th>\n",
       "      <td>1.628019</td>\n",
       "    </tr>\n",
       "    <tr>\n",
       "      <th>3</th>\n",
       "      <td>0.368760</td>\n",
       "    </tr>\n",
       "    <tr>\n",
       "      <th>4</th>\n",
       "      <td>10.819002</td>\n",
       "    </tr>\n",
       "  </tbody>\n",
       "</table>\n",
       "</div>"
      ],
      "text/plain": [
       "       cases\n",
       "0   0.171014\n",
       "1   0.096940\n",
       "2   1.628019\n",
       "3   0.368760\n",
       "4  10.819002"
      ]
     },
     "execution_count": 60,
     "metadata": {},
     "output_type": "execute_result"
    }
   ],
   "source": [
    "# separate target\n",
    "y3 = scaled_demo_df['cases']\n",
    "scaled_cases3 = pd.DataFrame(y, columns = ['cases'])\n",
    "scaled_cases3.head()"
   ]
  },
  {
   "cell_type": "code",
   "execution_count": 61,
   "metadata": {},
   "outputs": [
    {
     "data": {
      "text/html": [
       "<div>\n",
       "<style scoped>\n",
       "    .dataframe tbody tr th:only-of-type {\n",
       "        vertical-align: middle;\n",
       "    }\n",
       "\n",
       "    .dataframe tbody tr th {\n",
       "        vertical-align: top;\n",
       "    }\n",
       "\n",
       "    .dataframe thead th {\n",
       "        text-align: right;\n",
       "    }\n",
       "</style>\n",
       "<table border=\"1\" class=\"dataframe\">\n",
       "  <thead>\n",
       "    <tr style=\"text-align: right;\">\n",
       "      <th></th>\n",
       "      <th>Men</th>\n",
       "      <th>Women</th>\n",
       "      <th>Hispanic</th>\n",
       "      <th>White</th>\n",
       "      <th>Black</th>\n",
       "      <th>Native</th>\n",
       "      <th>Asian</th>\n",
       "      <th>Pacific</th>\n",
       "    </tr>\n",
       "  </thead>\n",
       "  <tbody>\n",
       "    <tr>\n",
       "      <th>0</th>\n",
       "      <td>0.345630</td>\n",
       "      <td>0.351385</td>\n",
       "      <td>0.500000</td>\n",
       "      <td>-0.333333</td>\n",
       "      <td>-0.010870</td>\n",
       "      <td>14.2</td>\n",
       "      <td>-0.111111</td>\n",
       "      <td>0.0</td>\n",
       "    </tr>\n",
       "    <tr>\n",
       "      <th>1</th>\n",
       "      <td>-0.027914</td>\n",
       "      <td>-0.004998</td>\n",
       "      <td>-0.351351</td>\n",
       "      <td>-0.571429</td>\n",
       "      <td>2.771739</td>\n",
       "      <td>-0.4</td>\n",
       "      <td>-0.333333</td>\n",
       "      <td>0.0</td>\n",
       "    </tr>\n",
       "    <tr>\n",
       "      <th>2</th>\n",
       "      <td>0.636987</td>\n",
       "      <td>0.683734</td>\n",
       "      <td>-0.202703</td>\n",
       "      <td>-0.256410</td>\n",
       "      <td>1.684783</td>\n",
       "      <td>-0.4</td>\n",
       "      <td>-0.555556</td>\n",
       "      <td>0.0</td>\n",
       "    </tr>\n",
       "    <tr>\n",
       "      <th>3</th>\n",
       "      <td>0.117982</td>\n",
       "      <td>0.137392</td>\n",
       "      <td>0.662162</td>\n",
       "      <td>-0.886447</td>\n",
       "      <td>2.847826</td>\n",
       "      <td>0.0</td>\n",
       "      <td>0.111111</td>\n",
       "      <td>0.0</td>\n",
       "    </tr>\n",
       "    <tr>\n",
       "      <th>4</th>\n",
       "      <td>7.418912</td>\n",
       "      <td>7.239417</td>\n",
       "      <td>0.540541</td>\n",
       "      <td>0.025641</td>\n",
       "      <td>-0.097826</td>\n",
       "      <td>0.2</td>\n",
       "      <td>2.222222</td>\n",
       "      <td>1.0</td>\n",
       "    </tr>\n",
       "  </tbody>\n",
       "</table>\n",
       "</div>"
      ],
      "text/plain": [
       "        Men     Women  Hispanic     White     Black  Native     Asian  Pacific\n",
       "0  0.345630  0.351385  0.500000 -0.333333 -0.010870    14.2 -0.111111      0.0\n",
       "1 -0.027914 -0.004998 -0.351351 -0.571429  2.771739    -0.4 -0.333333      0.0\n",
       "2  0.636987  0.683734 -0.202703 -0.256410  1.684783    -0.4 -0.555556      0.0\n",
       "3  0.117982  0.137392  0.662162 -0.886447  2.847826     0.0  0.111111      0.0\n",
       "4  7.418912  7.239417  0.540541  0.025641 -0.097826     0.2  2.222222      1.0"
      ]
     },
     "execution_count": 61,
     "metadata": {},
     "output_type": "execute_result"
    }
   ],
   "source": [
    "# create features for model\n",
    "X_scaled3 = scaled_demo_df.drop(['cases'], axis=1)\n",
    "X_scaled3.head()"
   ]
  },
  {
   "cell_type": "code",
   "execution_count": 62,
   "metadata": {},
   "outputs": [
    {
     "data": {
      "text/plain": [
       "array([[11.75044231, -1.00772818],\n",
       "       [-2.8212884 , -2.31709428],\n",
       "       [-2.85869588, -1.43335498],\n",
       "       [-2.44160715, -1.96235347],\n",
       "       [-2.76179951,  8.39265439]])"
      ]
     },
     "execution_count": 62,
     "metadata": {},
     "output_type": "execute_result"
    }
   ],
   "source": [
    "# get two principal components\n",
    "X3 = pca.fit_transform(X_scaled3)\n",
    "X3[:5]"
   ]
  },
  {
   "cell_type": "code",
   "execution_count": 63,
   "metadata": {},
   "outputs": [],
   "source": [
    "# instantiate model\n",
    "regressor3 = RandomForestRegressor(n_estimators=100,random_state=48)"
   ]
  },
  {
   "cell_type": "code",
   "execution_count": 64,
   "metadata": {},
   "outputs": [],
   "source": [
    "# split data into training and testing sets\n",
    "X_train3, X_test3, y_train3, y_test3 = train_test_split(X3, y3, random_state=48)"
   ]
  },
  {
   "cell_type": "code",
   "execution_count": 65,
   "metadata": {},
   "outputs": [
    {
     "data": {
      "text/plain": [
       "RandomForestRegressor(random_state=48)"
      ]
     },
     "execution_count": 65,
     "metadata": {},
     "output_type": "execute_result"
    }
   ],
   "source": [
    "# fit model\n",
    "regressor3.fit(X_train3, y_train3)"
   ]
  },
  {
   "cell_type": "code",
   "execution_count": 66,
   "metadata": {},
   "outputs": [
    {
     "data": {
      "text/plain": [
       "array([-0.26234461,  1.45918196,  0.02255717, -0.17190982, -0.20798712])"
      ]
     },
     "execution_count": 66,
     "metadata": {},
     "output_type": "execute_result"
    }
   ],
   "source": [
    "# make predictions\n",
    "y_pred3 = regressor3.predict(X_test3)\n",
    "y_pred3[:5]"
   ]
  },
  {
   "cell_type": "code",
   "execution_count": 67,
   "metadata": {},
   "outputs": [
    {
     "name": "stdout",
     "output_type": "stream",
     "text": [
      "[168.27437185  72.55441636]\n"
     ]
    }
   ],
   "source": [
    "# explore pca\n",
    "print(pca.explained_variance_)"
   ]
  },
  {
   "cell_type": "code",
   "execution_count": 68,
   "metadata": {},
   "outputs": [
    {
     "data": {
      "text/html": [
       "<div>\n",
       "<style scoped>\n",
       "    .dataframe tbody tr th:only-of-type {\n",
       "        vertical-align: middle;\n",
       "    }\n",
       "\n",
       "    .dataframe tbody tr th {\n",
       "        vertical-align: top;\n",
       "    }\n",
       "\n",
       "    .dataframe thead th {\n",
       "        text-align: right;\n",
       "    }\n",
       "</style>\n",
       "<table border=\"1\" class=\"dataframe\">\n",
       "  <thead>\n",
       "    <tr style=\"text-align: right;\">\n",
       "      <th></th>\n",
       "      <th>principal component 1</th>\n",
       "      <th>principal component 2</th>\n",
       "    </tr>\n",
       "  </thead>\n",
       "  <tbody>\n",
       "    <tr>\n",
       "      <th>0</th>\n",
       "      <td>11.750442</td>\n",
       "      <td>-1.007728</td>\n",
       "    </tr>\n",
       "    <tr>\n",
       "      <th>1</th>\n",
       "      <td>-2.821288</td>\n",
       "      <td>-2.317094</td>\n",
       "    </tr>\n",
       "    <tr>\n",
       "      <th>2</th>\n",
       "      <td>-2.858696</td>\n",
       "      <td>-1.433355</td>\n",
       "    </tr>\n",
       "    <tr>\n",
       "      <th>3</th>\n",
       "      <td>-2.441607</td>\n",
       "      <td>-1.962353</td>\n",
       "    </tr>\n",
       "    <tr>\n",
       "      <th>4</th>\n",
       "      <td>-2.761800</td>\n",
       "      <td>8.392654</td>\n",
       "    </tr>\n",
       "  </tbody>\n",
       "</table>\n",
       "</div>"
      ],
      "text/plain": [
       "   principal component 1  principal component 2\n",
       "0              11.750442              -1.007728\n",
       "1              -2.821288              -2.317094\n",
       "2              -2.858696              -1.433355\n",
       "3              -2.441607              -1.962353\n",
       "4              -2.761800               8.392654"
      ]
     },
     "execution_count": 68,
     "metadata": {},
     "output_type": "execute_result"
    }
   ],
   "source": [
    "# Create df with pca and predictions\n",
    "demo_pca_pred = pd.DataFrame(\n",
    "    data=X3, columns=[\"principal component 1\", \"principal component 2\"]\n",
    ")\n",
    "demo_pca_pred.head()"
   ]
  },
  {
   "cell_type": "code",
   "execution_count": 69,
   "metadata": {},
   "outputs": [
    {
     "data": {
      "image/png": "[encoded data removed]",
      "text/plain": [
       "<Figure size 432x288 with 1 Axes>"
      ]
     },
     "metadata": {
      "needs_background": "light"
     },
     "output_type": "display_data"
    }
   ],
   "source": [
    "# plot pca\n",
    "plt.scatter(demo_pca_pred['principal component 1'], demo_pca_pred['principal component 2'])\n",
    "plt.show()"
   ]
  },
  {
   "cell_type": "code",
   "execution_count": 70,
   "metadata": {},
   "outputs": [
    {
     "data": {
      "image/png": "[encoded data removed]",
      "text/plain": [
       "<Figure size 432x288 with 1 Axes>"
      ]
     },
     "metadata": {
      "needs_background": "light"
     },
     "output_type": "display_data"
    }
   ],
   "source": [
    "# plot training data\n",
    "plt.scatter(X_train3[:,0], y_train3)\n",
    "plt.show()"
   ]
  },
  {
   "cell_type": "code",
   "execution_count": 71,
   "metadata": {},
   "outputs": [
    {
     "data": {
      "text/plain": [
       "0.9767636593025791"
      ]
     },
     "execution_count": 71,
     "metadata": {},
     "output_type": "execute_result"
    }
   ],
   "source": [
    "# check score\n",
    "regressor3.score(X_train3, y_train3)"
   ]
  },
  {
   "cell_type": "code",
   "execution_count": 72,
   "metadata": {},
   "outputs": [
    {
     "name": "stdout",
     "output_type": "stream",
     "text": [
      "Mean Absolute Error: 0.5793563425344777\n",
      "Mean Squared Error: 1.9575713448129384\n",
      "Root Mean Squared Error: 1.3991323542870913\n",
      "R Squared: 0.9045786120568512\n"
     ]
    }
   ],
   "source": [
    "# print model assessment metrics\n",
    "print('Mean Absolute Error:', metrics.mean_absolute_error(y_test, y_pred))\n",
    "print('Mean Squared Error:', metrics.mean_squared_error(y_test, y_pred))\n",
    "print('Root Mean Squared Error:', np.sqrt(metrics.mean_squared_error(y_test, y_pred)))\n",
    "print('R Squared:', metrics.r2_score(y_test, y_pred))"
   ]
  },
  {
   "cell_type": "code",
   "execution_count": 73,
   "metadata": {},
   "outputs": [
    {
     "data": {
      "text/html": [
       "<div>\n",
       "<style scoped>\n",
       "    .dataframe tbody tr th:only-of-type {\n",
       "        vertical-align: middle;\n",
       "    }\n",
       "\n",
       "    .dataframe tbody tr th {\n",
       "        vertical-align: top;\n",
       "    }\n",
       "\n",
       "    .dataframe thead th {\n",
       "        text-align: right;\n",
       "    }\n",
       "</style>\n",
       "<table border=\"1\" class=\"dataframe\">\n",
       "  <thead>\n",
       "    <tr style=\"text-align: right;\">\n",
       "      <th></th>\n",
       "      <th>Real Values</th>\n",
       "      <th>Predicted Values</th>\n",
       "    </tr>\n",
       "  </thead>\n",
       "  <tbody>\n",
       "    <tr>\n",
       "      <th>1050</th>\n",
       "      <td>-0.031884</td>\n",
       "      <td>0.014242</td>\n",
       "    </tr>\n",
       "    <tr>\n",
       "      <th>697</th>\n",
       "      <td>1.368438</td>\n",
       "      <td>0.441514</td>\n",
       "    </tr>\n",
       "    <tr>\n",
       "      <th>1636</th>\n",
       "      <td>0.075040</td>\n",
       "      <td>-0.129037</td>\n",
       "    </tr>\n",
       "    <tr>\n",
       "      <th>2655</th>\n",
       "      <td>-0.234138</td>\n",
       "      <td>-0.027581</td>\n",
       "    </tr>\n",
       "    <tr>\n",
       "      <th>2752</th>\n",
       "      <td>-0.061514</td>\n",
       "      <td>0.026338</td>\n",
       "    </tr>\n",
       "  </tbody>\n",
       "</table>\n",
       "</div>"
      ],
      "text/plain": [
       "      Real Values  Predicted Values\n",
       "1050    -0.031884          0.014242\n",
       "697      1.368438          0.441514\n",
       "1636     0.075040         -0.129037\n",
       "2655    -0.234138         -0.027581\n",
       "2752    -0.061514          0.026338"
      ]
     },
     "execution_count": 73,
     "metadata": {},
     "output_type": "execute_result"
    }
   ],
   "source": [
    "# create df with predictions and actual values\n",
    "demo_pred_df = pd.DataFrame({'Real Values': y_test2, 'Predicted Values': y_pred2})\n",
    "demo_pred_df.head()"
   ]
  },
  {
   "cell_type": "code",
   "execution_count": 74,
   "metadata": {},
   "outputs": [
    {
     "data": {
      "image/png": "[encoded data removed]",
      "text/plain": [
       "<Figure size 432x288 with 1 Axes>"
      ]
     },
     "metadata": {
      "needs_background": "light"
     },
     "output_type": "display_data"
    }
   ],
   "source": [
    "# plot line chart for predictions\n",
    "plt.plot(demo_pred_df['Predicted Values'], demo_pred_df['Real Values'])\n",
    "plt.show()"
   ]
  },
  {
   "cell_type": "code",
   "execution_count": 75,
   "metadata": {},
   "outputs": [
    {
     "data": {
      "image/png": "[encoded data removed]",
      "text/plain": [
       "<Figure size 432x288 with 1 Axes>"
      ]
     },
     "metadata": {
      "needs_background": "light"
     },
     "output_type": "display_data"
    }
   ],
   "source": [
    "# plot scatter chart for predicted and real values\n",
    "plt.scatter(voting_pred_df['Real Values'], voting_pred_df['Predicted Values'])\n",
    "plt.show()"
   ]
  },
  {
   "cell_type": "code",
   "execution_count": null,
   "metadata": {},
   "outputs": [],
   "source": []
  }
 ],
 "metadata": {
  "kernelspec": {
   "display_name": "mlenv",
   "language": "python",
   "name": "mlenv"
  },
  "language_info": {
   "codemirror_mode": {
    "name": "ipython",
    "version": 3
   },
   "file_extension": ".py",
   "mimetype": "text/x-python",
   "name": "python",
   "nbconvert_exporter": "python",
   "pygments_lexer": "ipython3",
   "version": "3.7.9"
  }
 },
 "nbformat": 4,
 "nbformat_minor": 4
}
