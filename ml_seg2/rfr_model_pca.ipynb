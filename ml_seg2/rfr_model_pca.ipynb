{
 "cells": [
  {
   "cell_type": "code",
   "execution_count": 2,
   "metadata": {},
   "outputs": [],
   "source": [
    "# import dependencies\n",
    "import pandas as pd\n",
    "import numpy as np\n",
    "import matplotlib.pyplot as plt\n",
    "from sklearn.ensemble import RandomForestRegressor\n",
    "from sklearn.model_selection import train_test_split\n",
    "from sklearn.preprocessing import StandardScaler\n",
    "from sklearn.preprocessing import RobustScaler\n",
    "from sklearn.decomposition import PCA\n",
    "from sklearn import metrics"
   ]
  },
  {
   "cell_type": "code",
   "execution_count": 3,
   "metadata": {},
   "outputs": [
    {
     "data": {
      "text/html": [
       "<div>\n",
       "<style scoped>\n",
       "    .dataframe tbody tr th:only-of-type {\n",
       "        vertical-align: middle;\n",
       "    }\n",
       "\n",
       "    .dataframe tbody tr th {\n",
       "        vertical-align: top;\n",
       "    }\n",
       "\n",
       "    .dataframe thead th {\n",
       "        text-align: right;\n",
       "    }\n",
       "</style>\n",
       "<table border=\"1\" class=\"dataframe\">\n",
       "  <thead>\n",
       "    <tr style=\"text-align: right;\">\n",
       "      <th></th>\n",
       "      <th>county</th>\n",
       "      <th>state</th>\n",
       "      <th>county_state</th>\n",
       "      <th>lat</th>\n",
       "      <th>long</th>\n",
       "      <th>totalpop</th>\n",
       "      <th>total_votes20</th>\n",
       "      <th>votes20_donald_trump</th>\n",
       "      <th>votes20_joe_biden</th>\n",
       "      <th>percentage20_donald_trump</th>\n",
       "      <th>...</th>\n",
       "      <th>age_55to64</th>\n",
       "      <th>age_65to74</th>\n",
       "      <th>age_75to84</th>\n",
       "      <th>age_84plus</th>\n",
       "      <th>evangelicals</th>\n",
       "      <th>protestant</th>\n",
       "      <th>catholic</th>\n",
       "      <th>orthodox</th>\n",
       "      <th>muslim</th>\n",
       "      <th>other</th>\n",
       "    </tr>\n",
       "  </thead>\n",
       "  <tbody>\n",
       "    <tr>\n",
       "      <th>0</th>\n",
       "      <td>Kay</td>\n",
       "      <td>OK</td>\n",
       "      <td>Kay, OK</td>\n",
       "      <td>36.817997</td>\n",
       "      <td>-97.144214</td>\n",
       "      <td>45173</td>\n",
       "      <td>17249</td>\n",
       "      <td>12834</td>\n",
       "      <td>4040</td>\n",
       "      <td>0.744</td>\n",
       "      <td>...</td>\n",
       "      <td>5694</td>\n",
       "      <td>4632</td>\n",
       "      <td>2724</td>\n",
       "      <td>1183</td>\n",
       "      <td>0</td>\n",
       "      <td>0</td>\n",
       "      <td>0</td>\n",
       "      <td>0</td>\n",
       "      <td>0</td>\n",
       "      <td>0</td>\n",
       "    </tr>\n",
       "    <tr>\n",
       "      <th>1</th>\n",
       "      <td>Abbeville</td>\n",
       "      <td>SC</td>\n",
       "      <td>Abbeville, SC</td>\n",
       "      <td>34.223334</td>\n",
       "      <td>-82.461707</td>\n",
       "      <td>24788</td>\n",
       "      <td>12433</td>\n",
       "      <td>8215</td>\n",
       "      <td>4101</td>\n",
       "      <td>0.661</td>\n",
       "      <td>...</td>\n",
       "      <td>3584</td>\n",
       "      <td>3150</td>\n",
       "      <td>1602</td>\n",
       "      <td>591</td>\n",
       "      <td>0</td>\n",
       "      <td>0</td>\n",
       "      <td>0</td>\n",
       "      <td>0</td>\n",
       "      <td>0</td>\n",
       "      <td>0</td>\n",
       "    </tr>\n",
       "    <tr>\n",
       "      <th>2</th>\n",
       "      <td>Acadia</td>\n",
       "      <td>LA</td>\n",
       "      <td>Acadia, LA</td>\n",
       "      <td>30.295065</td>\n",
       "      <td>-92.414197</td>\n",
       "      <td>62607</td>\n",
       "      <td>28425</td>\n",
       "      <td>22596</td>\n",
       "      <td>5443</td>\n",
       "      <td>0.795</td>\n",
       "      <td>...</td>\n",
       "      <td>0</td>\n",
       "      <td>0</td>\n",
       "      <td>0</td>\n",
       "      <td>0</td>\n",
       "      <td>0</td>\n",
       "      <td>0</td>\n",
       "      <td>0</td>\n",
       "      <td>0</td>\n",
       "      <td>0</td>\n",
       "      <td>0</td>\n",
       "    </tr>\n",
       "    <tr>\n",
       "      <th>3</th>\n",
       "      <td>Accomack</td>\n",
       "      <td>VA</td>\n",
       "      <td>Accomack, VA</td>\n",
       "      <td>37.767072</td>\n",
       "      <td>-75.632346</td>\n",
       "      <td>32840</td>\n",
       "      <td>16938</td>\n",
       "      <td>9172</td>\n",
       "      <td>7578</td>\n",
       "      <td>0.542</td>\n",
       "      <td>...</td>\n",
       "      <td>5270</td>\n",
       "      <td>4451</td>\n",
       "      <td>2301</td>\n",
       "      <td>886</td>\n",
       "      <td>0</td>\n",
       "      <td>0</td>\n",
       "      <td>0</td>\n",
       "      <td>0</td>\n",
       "      <td>0</td>\n",
       "      <td>0</td>\n",
       "    </tr>\n",
       "    <tr>\n",
       "      <th>4</th>\n",
       "      <td>Ada</td>\n",
       "      <td>ID</td>\n",
       "      <td>Ada, ID</td>\n",
       "      <td>43.452658</td>\n",
       "      <td>-116.241552</td>\n",
       "      <td>435117</td>\n",
       "      <td>259389</td>\n",
       "      <td>130699</td>\n",
       "      <td>120539</td>\n",
       "      <td>0.504</td>\n",
       "      <td>...</td>\n",
       "      <td>56615</td>\n",
       "      <td>42027</td>\n",
       "      <td>18576</td>\n",
       "      <td>7189</td>\n",
       "      <td>0</td>\n",
       "      <td>0</td>\n",
       "      <td>0</td>\n",
       "      <td>0</td>\n",
       "      <td>0</td>\n",
       "      <td>0</td>\n",
       "    </tr>\n",
       "  </tbody>\n",
       "</table>\n",
       "<p>5 rows × 61 columns</p>\n",
       "</div>"
      ],
      "text/plain": [
       "      county state   county_state        lat        long  totalpop  \\\n",
       "0        Kay    OK        Kay, OK  36.817997  -97.144214     45173   \n",
       "1  Abbeville    SC  Abbeville, SC  34.223334  -82.461707     24788   \n",
       "2     Acadia    LA     Acadia, LA  30.295065  -92.414197     62607   \n",
       "3   Accomack    VA   Accomack, VA  37.767072  -75.632346     32840   \n",
       "4        Ada    ID        Ada, ID  43.452658 -116.241552    435117   \n",
       "\n",
       "   total_votes20  votes20_donald_trump  votes20_joe_biden  \\\n",
       "0          17249                 12834               4040   \n",
       "1          12433                  8215               4101   \n",
       "2          28425                 22596               5443   \n",
       "3          16938                  9172               7578   \n",
       "4         259389                130699             120539   \n",
       "\n",
       "   percentage20_donald_trump  ...  age_55to64  age_65to74  age_75to84  \\\n",
       "0                      0.744  ...        5694        4632        2724   \n",
       "1                      0.661  ...        3584        3150        1602   \n",
       "2                      0.795  ...           0           0           0   \n",
       "3                      0.542  ...        5270        4451        2301   \n",
       "4                      0.504  ...       56615       42027       18576   \n",
       "\n",
       "   age_84plus  evangelicals  protestant  catholic  orthodox  muslim  other  \n",
       "0        1183             0           0         0         0       0      0  \n",
       "1         591             0           0         0         0       0      0  \n",
       "2           0             0           0         0         0       0      0  \n",
       "3         886             0           0         0         0       0      0  \n",
       "4        7189             0           0         0         0       0      0  \n",
       "\n",
       "[5 rows x 61 columns]"
      ]
     },
     "execution_count": 3,
     "metadata": {},
     "output_type": "execute_result"
    }
   ],
   "source": [
    "# import csv as data frame from amazon s3 bucket that is connected to database\n",
    "df = pd.read_csv('https://mydataclassdb-bucket.s3.amazonaws.com/covid_and_politics_db.csv')\n",
    "df.head()"
   ]
  },
  {
   "cell_type": "code",
   "execution_count": 4,
   "metadata": {},
   "outputs": [
    {
     "data": {
      "text/plain": [
       "Index(['county', 'state', 'county_state', 'lat', 'long', 'totalpop',\n",
       "       'total_votes20', 'votes20_donald_trump', 'votes20_joe_biden',\n",
       "       'percentage20_donald_trump', 'percentage20_joe_biden', 'cases',\n",
       "       'deaths', 'men', 'women', 'hispanic', 'white', 'black', 'native',\n",
       "       'asian', 'pacific', 'income', 'incomepercap', 'poverty', 'professional',\n",
       "       'service', 'office', 'construction', 'production', 'drive', 'carpool',\n",
       "       'transit', 'walk', 'othertransp', 'workathome', 'meancommute',\n",
       "       'employed', 'privatework', 'publicwork', 'selfemployed', 'familywork',\n",
       "       'unemployment', 'cases_per_capita_100k', 'deaths_per_capita_100k',\n",
       "       'pop_per_sq_mile_2010', 'age_oto4', 'age_5to14', 'age_15to24',\n",
       "       'age_25to34', 'age_35to44', 'age_45to54', 'age_55to64', 'age_65to74',\n",
       "       'age_75to84', 'age_84plus', 'evangelicals', 'protestant', 'catholic',\n",
       "       'orthodox', 'muslim', 'other'],\n",
       "      dtype='object')"
      ]
     },
     "execution_count": 4,
     "metadata": {},
     "output_type": "execute_result"
    }
   ],
   "source": [
    "# check columns\n",
    "df.columns"
   ]
  },
  {
   "cell_type": "markdown",
   "metadata": {},
   "source": [
    "# RFR for Economics"
   ]
  },
  {
   "cell_type": "code",
   "execution_count": 5,
   "metadata": {},
   "outputs": [
    {
     "data": {
      "text/html": [
       "<div>\n",
       "<style scoped>\n",
       "    .dataframe tbody tr th:only-of-type {\n",
       "        vertical-align: middle;\n",
       "    }\n",
       "\n",
       "    .dataframe tbody tr th {\n",
       "        vertical-align: top;\n",
       "    }\n",
       "\n",
       "    .dataframe thead th {\n",
       "        text-align: right;\n",
       "    }\n",
       "</style>\n",
       "<table border=\"1\" class=\"dataframe\">\n",
       "  <thead>\n",
       "    <tr style=\"text-align: right;\">\n",
       "      <th></th>\n",
       "      <th>cases</th>\n",
       "      <th>income</th>\n",
       "      <th>incomepercap</th>\n",
       "      <th>poverty</th>\n",
       "      <th>employed</th>\n",
       "      <th>unemployment</th>\n",
       "      <th>professional</th>\n",
       "    </tr>\n",
       "  </thead>\n",
       "  <tbody>\n",
       "    <tr>\n",
       "      <th>0</th>\n",
       "      <td>920</td>\n",
       "      <td>44067</td>\n",
       "      <td>24057</td>\n",
       "      <td>17.6</td>\n",
       "      <td>19325</td>\n",
       "      <td>6.9</td>\n",
       "      <td>28.2</td>\n",
       "    </tr>\n",
       "    <tr>\n",
       "      <th>1</th>\n",
       "      <td>805</td>\n",
       "      <td>35254</td>\n",
       "      <td>19234</td>\n",
       "      <td>22.7</td>\n",
       "      <td>9505</td>\n",
       "      <td>9.4</td>\n",
       "      <td>27.2</td>\n",
       "    </tr>\n",
       "    <tr>\n",
       "      <th>2</th>\n",
       "      <td>3182</td>\n",
       "      <td>40492</td>\n",
       "      <td>21591</td>\n",
       "      <td>21.5</td>\n",
       "      <td>24982</td>\n",
       "      <td>8.9</td>\n",
       "      <td>27.6</td>\n",
       "    </tr>\n",
       "    <tr>\n",
       "      <th>3</th>\n",
       "      <td>1227</td>\n",
       "      <td>42260</td>\n",
       "      <td>24266</td>\n",
       "      <td>19.8</td>\n",
       "      <td>13837</td>\n",
       "      <td>5.4</td>\n",
       "      <td>31.1</td>\n",
       "    </tr>\n",
       "    <tr>\n",
       "      <th>4</th>\n",
       "      <td>17451</td>\n",
       "      <td>60151</td>\n",
       "      <td>31642</td>\n",
       "      <td>11.8</td>\n",
       "      <td>214984</td>\n",
       "      <td>4.3</td>\n",
       "      <td>43.0</td>\n",
       "    </tr>\n",
       "  </tbody>\n",
       "</table>\n",
       "</div>"
      ],
      "text/plain": [
       "   cases  income  incomepercap  poverty  employed  unemployment  professional\n",
       "0    920   44067         24057     17.6     19325           6.9          28.2\n",
       "1    805   35254         19234     22.7      9505           9.4          27.2\n",
       "2   3182   40492         21591     21.5     24982           8.9          27.6\n",
       "3   1227   42260         24266     19.8     13837           5.4          31.1\n",
       "4  17451   60151         31642     11.8    214984           4.3          43.0"
      ]
     },
     "execution_count": 5,
     "metadata": {},
     "output_type": "execute_result"
    }
   ],
   "source": [
    "# create economic dataframe for pca\n",
    "econ_df = df[['cases','income', 'incomepercap', 'poverty', 'employed', 'unemployment', 'professional']]\n",
    "econ_df.head()"
   ]
  },
  {
   "cell_type": "code",
   "execution_count": 7,
   "metadata": {},
   "outputs": [
    {
     "data": {
      "text/plain": [
       "array([[ 0.17101449, -0.26861502, -0.16135242,  0.3       ,  0.3513928 ,\n",
       "         0.26470588, -0.30263158],\n",
       "       [ 0.09694042, -0.88405873, -0.83658255,  0.9375    , -0.04750637,\n",
       "         1.        , -0.43421053],\n",
       "       [ 1.62801932, -0.51827022, -0.5065976 ,  0.7875    ,  0.58118634,\n",
       "         0.85294118, -0.38157895],\n",
       "       [ 0.36876006, -0.39480438, -0.13209198,  0.575     ,  0.12846422,\n",
       "        -0.17647059,  0.07894737],\n",
       "       [10.81900161,  0.85458894,  0.90056351, -0.425     ,  8.29927593,\n",
       "        -0.5       ,  1.64473684]])"
      ]
     },
     "execution_count": 7,
     "metadata": {},
     "output_type": "execute_result"
    }
   ],
   "source": [
    "# create scaled df\n",
    "econ_scaled = RobustScaler().fit_transform(econ_df)\n",
    "econ_scaled[:5]"
   ]
  },
  {
   "cell_type": "code",
   "execution_count": 8,
   "metadata": {},
   "outputs": [
    {
     "data": {
      "text/html": [
       "<div>\n",
       "<style scoped>\n",
       "    .dataframe tbody tr th:only-of-type {\n",
       "        vertical-align: middle;\n",
       "    }\n",
       "\n",
       "    .dataframe tbody tr th {\n",
       "        vertical-align: top;\n",
       "    }\n",
       "\n",
       "    .dataframe thead th {\n",
       "        text-align: right;\n",
       "    }\n",
       "</style>\n",
       "<table border=\"1\" class=\"dataframe\">\n",
       "  <thead>\n",
       "    <tr style=\"text-align: right;\">\n",
       "      <th></th>\n",
       "      <th>cases</th>\n",
       "      <th>Income</th>\n",
       "      <th>IncomePerCap</th>\n",
       "      <th>Poverty</th>\n",
       "      <th>Employed</th>\n",
       "      <th>Unemployment</th>\n",
       "      <th>Professional</th>\n",
       "    </tr>\n",
       "  </thead>\n",
       "  <tbody>\n",
       "    <tr>\n",
       "      <th>0</th>\n",
       "      <td>0.171014</td>\n",
       "      <td>-0.268615</td>\n",
       "      <td>-0.161352</td>\n",
       "      <td>0.3000</td>\n",
       "      <td>0.351393</td>\n",
       "      <td>0.264706</td>\n",
       "      <td>-0.302632</td>\n",
       "    </tr>\n",
       "    <tr>\n",
       "      <th>1</th>\n",
       "      <td>0.096940</td>\n",
       "      <td>-0.884059</td>\n",
       "      <td>-0.836583</td>\n",
       "      <td>0.9375</td>\n",
       "      <td>-0.047506</td>\n",
       "      <td>1.000000</td>\n",
       "      <td>-0.434211</td>\n",
       "    </tr>\n",
       "    <tr>\n",
       "      <th>2</th>\n",
       "      <td>1.628019</td>\n",
       "      <td>-0.518270</td>\n",
       "      <td>-0.506598</td>\n",
       "      <td>0.7875</td>\n",
       "      <td>0.581186</td>\n",
       "      <td>0.852941</td>\n",
       "      <td>-0.381579</td>\n",
       "    </tr>\n",
       "    <tr>\n",
       "      <th>3</th>\n",
       "      <td>0.368760</td>\n",
       "      <td>-0.394804</td>\n",
       "      <td>-0.132092</td>\n",
       "      <td>0.5750</td>\n",
       "      <td>0.128464</td>\n",
       "      <td>-0.176471</td>\n",
       "      <td>0.078947</td>\n",
       "    </tr>\n",
       "    <tr>\n",
       "      <th>4</th>\n",
       "      <td>10.819002</td>\n",
       "      <td>0.854589</td>\n",
       "      <td>0.900564</td>\n",
       "      <td>-0.4250</td>\n",
       "      <td>8.299276</td>\n",
       "      <td>-0.500000</td>\n",
       "      <td>1.644737</td>\n",
       "    </tr>\n",
       "  </tbody>\n",
       "</table>\n",
       "</div>"
      ],
      "text/plain": [
       "       cases    Income  IncomePerCap  Poverty  Employed  Unemployment  \\\n",
       "0   0.171014 -0.268615     -0.161352   0.3000  0.351393      0.264706   \n",
       "1   0.096940 -0.884059     -0.836583   0.9375 -0.047506      1.000000   \n",
       "2   1.628019 -0.518270     -0.506598   0.7875  0.581186      0.852941   \n",
       "3   0.368760 -0.394804     -0.132092   0.5750  0.128464     -0.176471   \n",
       "4  10.819002  0.854589      0.900564  -0.4250  8.299276     -0.500000   \n",
       "\n",
       "   Professional  \n",
       "0     -0.302632  \n",
       "1     -0.434211  \n",
       "2     -0.381579  \n",
       "3      0.078947  \n",
       "4      1.644737  "
      ]
     },
     "execution_count": 8,
     "metadata": {},
     "output_type": "execute_result"
    }
   ],
   "source": [
    "scaled_econ_df = pd.DataFrame(econ_scaled, columns= ['cases','Income', 'IncomePerCap', 'Poverty', 'Employed', 'Unemployment', 'Professional'])\n",
    "scaled_econ_df.head()"
   ]
  },
  {
   "cell_type": "code",
   "execution_count": 9,
   "metadata": {},
   "outputs": [
    {
     "data": {
      "text/html": [
       "<div>\n",
       "<style scoped>\n",
       "    .dataframe tbody tr th:only-of-type {\n",
       "        vertical-align: middle;\n",
       "    }\n",
       "\n",
       "    .dataframe tbody tr th {\n",
       "        vertical-align: top;\n",
       "    }\n",
       "\n",
       "    .dataframe thead th {\n",
       "        text-align: right;\n",
       "    }\n",
       "</style>\n",
       "<table border=\"1\" class=\"dataframe\">\n",
       "  <thead>\n",
       "    <tr style=\"text-align: right;\">\n",
       "      <th></th>\n",
       "      <th>cases</th>\n",
       "    </tr>\n",
       "  </thead>\n",
       "  <tbody>\n",
       "    <tr>\n",
       "      <th>0</th>\n",
       "      <td>0.171014</td>\n",
       "    </tr>\n",
       "    <tr>\n",
       "      <th>1</th>\n",
       "      <td>0.096940</td>\n",
       "    </tr>\n",
       "    <tr>\n",
       "      <th>2</th>\n",
       "      <td>1.628019</td>\n",
       "    </tr>\n",
       "    <tr>\n",
       "      <th>3</th>\n",
       "      <td>0.368760</td>\n",
       "    </tr>\n",
       "    <tr>\n",
       "      <th>4</th>\n",
       "      <td>10.819002</td>\n",
       "    </tr>\n",
       "  </tbody>\n",
       "</table>\n",
       "</div>"
      ],
      "text/plain": [
       "       cases\n",
       "0   0.171014\n",
       "1   0.096940\n",
       "2   1.628019\n",
       "3   0.368760\n",
       "4  10.819002"
      ]
     },
     "execution_count": 9,
     "metadata": {},
     "output_type": "execute_result"
    }
   ],
   "source": [
    "y = scaled_econ_df['cases']\n",
    "scaled_cases = pd.DataFrame(y, columns = ['cases'])\n",
    "scaled_cases.head()"
   ]
  },
  {
   "cell_type": "code",
   "execution_count": 10,
   "metadata": {},
   "outputs": [
    {
     "data": {
      "text/html": [
       "<div>\n",
       "<style scoped>\n",
       "    .dataframe tbody tr th:only-of-type {\n",
       "        vertical-align: middle;\n",
       "    }\n",
       "\n",
       "    .dataframe tbody tr th {\n",
       "        vertical-align: top;\n",
       "    }\n",
       "\n",
       "    .dataframe thead th {\n",
       "        text-align: right;\n",
       "    }\n",
       "</style>\n",
       "<table border=\"1\" class=\"dataframe\">\n",
       "  <thead>\n",
       "    <tr style=\"text-align: right;\">\n",
       "      <th></th>\n",
       "      <th>Income</th>\n",
       "      <th>IncomePerCap</th>\n",
       "      <th>Poverty</th>\n",
       "      <th>Employed</th>\n",
       "      <th>Unemployment</th>\n",
       "      <th>Professional</th>\n",
       "    </tr>\n",
       "  </thead>\n",
       "  <tbody>\n",
       "    <tr>\n",
       "      <th>0</th>\n",
       "      <td>-0.268615</td>\n",
       "      <td>-0.161352</td>\n",
       "      <td>0.3000</td>\n",
       "      <td>0.351393</td>\n",
       "      <td>0.264706</td>\n",
       "      <td>-0.302632</td>\n",
       "    </tr>\n",
       "    <tr>\n",
       "      <th>1</th>\n",
       "      <td>-0.884059</td>\n",
       "      <td>-0.836583</td>\n",
       "      <td>0.9375</td>\n",
       "      <td>-0.047506</td>\n",
       "      <td>1.000000</td>\n",
       "      <td>-0.434211</td>\n",
       "    </tr>\n",
       "    <tr>\n",
       "      <th>2</th>\n",
       "      <td>-0.518270</td>\n",
       "      <td>-0.506598</td>\n",
       "      <td>0.7875</td>\n",
       "      <td>0.581186</td>\n",
       "      <td>0.852941</td>\n",
       "      <td>-0.381579</td>\n",
       "    </tr>\n",
       "    <tr>\n",
       "      <th>3</th>\n",
       "      <td>-0.394804</td>\n",
       "      <td>-0.132092</td>\n",
       "      <td>0.5750</td>\n",
       "      <td>0.128464</td>\n",
       "      <td>-0.176471</td>\n",
       "      <td>0.078947</td>\n",
       "    </tr>\n",
       "    <tr>\n",
       "      <th>4</th>\n",
       "      <td>0.854589</td>\n",
       "      <td>0.900564</td>\n",
       "      <td>-0.4250</td>\n",
       "      <td>8.299276</td>\n",
       "      <td>-0.500000</td>\n",
       "      <td>1.644737</td>\n",
       "    </tr>\n",
       "  </tbody>\n",
       "</table>\n",
       "</div>"
      ],
      "text/plain": [
       "     Income  IncomePerCap  Poverty  Employed  Unemployment  Professional\n",
       "0 -0.268615     -0.161352   0.3000  0.351393      0.264706     -0.302632\n",
       "1 -0.884059     -0.836583   0.9375 -0.047506      1.000000     -0.434211\n",
       "2 -0.518270     -0.506598   0.7875  0.581186      0.852941     -0.381579\n",
       "3 -0.394804     -0.132092   0.5750  0.128464     -0.176471      0.078947\n",
       "4  0.854589      0.900564  -0.4250  8.299276     -0.500000      1.644737"
      ]
     },
     "execution_count": 10,
     "metadata": {},
     "output_type": "execute_result"
    }
   ],
   "source": [
    "X_scaled = scaled_econ_df.drop(['cases'], axis=1)\n",
    "X_scaled.head()"
   ]
  },
  {
   "cell_type": "code",
   "execution_count": 11,
   "metadata": {},
   "outputs": [],
   "source": [
    "# initialize pca model\n",
    "pca = PCA(n_components=2)"
   ]
  },
  {
   "cell_type": "code",
   "execution_count": 12,
   "metadata": {},
   "outputs": [
    {
     "data": {
      "text/plain": [
       "array([[-1.20221174,  0.56503032],\n",
       "       [-1.66237441,  1.81758077],\n",
       "       [-1.00409553,  1.36181424],\n",
       "       [-1.4181055 ,  0.4092722 ],\n",
       "       [ 6.89369296, -1.41157477]])"
      ]
     },
     "execution_count": 12,
     "metadata": {},
     "output_type": "execute_result"
    }
   ],
   "source": [
    "# get two principal components for the iris data\n",
    "X = pca.fit_transform(X_scaled)\n",
    "X[:5]"
   ]
  },
  {
   "cell_type": "code",
   "execution_count": 14,
   "metadata": {},
   "outputs": [],
   "source": [
    "# instantiate model\n",
    "regressor = RandomForestRegressor(n_estimators=100,random_state=48)"
   ]
  },
  {
   "cell_type": "code",
   "execution_count": 15,
   "metadata": {},
   "outputs": [],
   "source": [
    "# split data into training and testing sets\n",
    "X_train, X_test, y_train, y_test = train_test_split(X, y, random_state=48)"
   ]
  },
  {
   "cell_type": "code",
   "execution_count": 16,
   "metadata": {},
   "outputs": [
    {
     "data": {
      "text/plain": [
       "RandomForestRegressor(random_state=48)"
      ]
     },
     "execution_count": 16,
     "metadata": {},
     "output_type": "execute_result"
    }
   ],
   "source": [
    "# fit model\n",
    "regressor.fit(X_train, y_train)"
   ]
  },
  {
   "cell_type": "code",
   "execution_count": 17,
   "metadata": {},
   "outputs": [
    {
     "data": {
      "text/plain": [
       "array([-0.24289211,  1.19142673, -0.26883092, -0.02634461, -0.16878583])"
      ]
     },
     "execution_count": 17,
     "metadata": {},
     "output_type": "execute_result"
    }
   ],
   "source": [
    "# make predictions\n",
    "y_pred = regressor.predict(X_test)\n",
    "y_pred[:5]"
   ]
  },
  {
   "cell_type": "code",
   "execution_count": 19,
   "metadata": {},
   "outputs": [
    {
     "data": {
      "text/html": [
       "<div>\n",
       "<style scoped>\n",
       "    .dataframe tbody tr th:only-of-type {\n",
       "        vertical-align: middle;\n",
       "    }\n",
       "\n",
       "    .dataframe tbody tr th {\n",
       "        vertical-align: top;\n",
       "    }\n",
       "\n",
       "    .dataframe thead th {\n",
       "        text-align: right;\n",
       "    }\n",
       "</style>\n",
       "<table border=\"1\" class=\"dataframe\">\n",
       "  <thead>\n",
       "    <tr style=\"text-align: right;\">\n",
       "      <th></th>\n",
       "      <th>principal component 1</th>\n",
       "      <th>principal component 2</th>\n",
       "    </tr>\n",
       "  </thead>\n",
       "  <tbody>\n",
       "    <tr>\n",
       "      <th>0</th>\n",
       "      <td>-1.202212</td>\n",
       "      <td>0.565030</td>\n",
       "    </tr>\n",
       "    <tr>\n",
       "      <th>1</th>\n",
       "      <td>-1.662374</td>\n",
       "      <td>1.817581</td>\n",
       "    </tr>\n",
       "    <tr>\n",
       "      <th>2</th>\n",
       "      <td>-1.004096</td>\n",
       "      <td>1.361814</td>\n",
       "    </tr>\n",
       "    <tr>\n",
       "      <th>3</th>\n",
       "      <td>-1.418106</td>\n",
       "      <td>0.409272</td>\n",
       "    </tr>\n",
       "    <tr>\n",
       "      <th>4</th>\n",
       "      <td>6.893693</td>\n",
       "      <td>-1.411575</td>\n",
       "    </tr>\n",
       "  </tbody>\n",
       "</table>\n",
       "</div>"
      ],
      "text/plain": [
       "   principal component 1  principal component 2\n",
       "0              -1.202212               0.565030\n",
       "1              -1.662374               1.817581\n",
       "2              -1.004096               1.361814\n",
       "3              -1.418106               0.409272\n",
       "4               6.893693              -1.411575"
      ]
     },
     "execution_count": 19,
     "metadata": {},
     "output_type": "execute_result"
    }
   ],
   "source": [
    "# Create df with pca and predictions\n",
    "econ_pca_pred = pd.DataFrame(\n",
    "    data=X, columns=[\"principal component 1\", \"principal component 2\"]\n",
    ")\n",
    "econ_pca_pred.head()"
   ]
  },
  {
   "cell_type": "code",
   "execution_count": 20,
   "metadata": {},
   "outputs": [
    {
     "name": "stdout",
     "output_type": "stream",
     "text": [
      "[41.84944075  2.40138947]\n"
     ]
    }
   ],
   "source": [
    "# check explained variance\n",
    "print(pca.explained_variance_)"
   ]
  },
  {
   "cell_type": "code",
   "execution_count": 22,
   "metadata": {},
   "outputs": [
    {
     "name": "stdout",
     "output_type": "stream",
     "text": [
      "[[ 0.04003528  0.03929823 -0.01145061  0.99765608  0.00163436  0.03743496]\n",
      " [-0.50381653 -0.4858889   0.45747131  0.05765967  0.40482044 -0.36550876]]\n"
     ]
    }
   ],
   "source": [
    "# directions of maximum variance in the data\n",
    "print(pca.components_)"
   ]
  },
  {
   "cell_type": "code",
   "execution_count": 92,
   "metadata": {},
   "outputs": [
    {
     "data": {
      "image/png": "[encoded data removed]",
      "text/plain": [
       "<Figure size 432x288 with 1 Axes>"
      ]
     },
     "metadata": {
      "needs_background": "light"
     },
     "output_type": "display_data"
    }
   ],
   "source": [
    "# Graph PCA and original data\n",
    "X_new = pca.inverse_transform(X)\n",
    "plt.scatter(X[:, 0], X[:, 1], alpha=0.2)\n",
    "plt.scatter(X_new[:, 0], X_new[:, 1], alpha=0.8)\n",
    "plt.axis('equal');"
   ]
  },
  {
   "cell_type": "code",
   "execution_count": 24,
   "metadata": {},
   "outputs": [
    {
     "data": {
      "image/png": "[encoded data removed]",
      "text/plain": [
       "<Figure size 432x288 with 1 Axes>"
      ]
     },
     "metadata": {
      "needs_background": "light"
     },
     "output_type": "display_data"
    }
   ],
   "source": [
    "# plot training data\n",
    "plt.scatter(X_train[:,0], y_train)\n",
    "\n",
    "plt.show()"
   ]
  },
  {
   "cell_type": "code",
   "execution_count": 25,
   "metadata": {},
   "outputs": [
    {
     "data": {
      "text/plain": [
       "0.9830087933551737"
      ]
     },
     "execution_count": 25,
     "metadata": {},
     "output_type": "execute_result"
    }
   ],
   "source": [
    "# check score\n",
    "regressor.score(X_train, y_train)"
   ]
  },
  {
   "cell_type": "code",
   "execution_count": 26,
   "metadata": {},
   "outputs": [
    {
     "name": "stdout",
     "output_type": "stream",
     "text": [
      "Mean Absolute Error: 0.5793563425344777\n",
      "Mean Squared Error: 1.9575713448129384\n",
      "Root Mean Squared Error: 1.3991323542870913\n",
      "R Squared: 0.9045786120568512\n"
     ]
    }
   ],
   "source": [
    "print('Mean Absolute Error:', metrics.mean_absolute_error(y_test, y_pred))\n",
    "print('Mean Squared Error:', metrics.mean_squared_error(y_test, y_pred))\n",
    "print('Root Mean Squared Error:', np.sqrt(metrics.mean_squared_error(y_test, y_pred)))\n",
    "print('R Squared:', metrics.r2_score(y_test, y_pred))"
   ]
  },
  {
   "cell_type": "code",
   "execution_count": 27,
   "metadata": {},
   "outputs": [
    {
     "data": {
      "text/html": [
       "<div>\n",
       "<style scoped>\n",
       "    .dataframe tbody tr th:only-of-type {\n",
       "        vertical-align: middle;\n",
       "    }\n",
       "\n",
       "    .dataframe tbody tr th {\n",
       "        vertical-align: top;\n",
       "    }\n",
       "\n",
       "    .dataframe thead th {\n",
       "        text-align: right;\n",
       "    }\n",
       "</style>\n",
       "<table border=\"1\" class=\"dataframe\">\n",
       "  <thead>\n",
       "    <tr style=\"text-align: right;\">\n",
       "      <th></th>\n",
       "      <th>Real Values</th>\n",
       "      <th>Predicted Values</th>\n",
       "    </tr>\n",
       "  </thead>\n",
       "  <tbody>\n",
       "    <tr>\n",
       "      <th>1050</th>\n",
       "      <td>-0.031884</td>\n",
       "      <td>-0.242892</td>\n",
       "    </tr>\n",
       "    <tr>\n",
       "      <th>697</th>\n",
       "      <td>1.368438</td>\n",
       "      <td>1.191427</td>\n",
       "    </tr>\n",
       "    <tr>\n",
       "      <th>1636</th>\n",
       "      <td>0.075040</td>\n",
       "      <td>-0.268831</td>\n",
       "    </tr>\n",
       "    <tr>\n",
       "      <th>2655</th>\n",
       "      <td>-0.234138</td>\n",
       "      <td>-0.026345</td>\n",
       "    </tr>\n",
       "    <tr>\n",
       "      <th>2752</th>\n",
       "      <td>-0.061514</td>\n",
       "      <td>-0.168786</td>\n",
       "    </tr>\n",
       "  </tbody>\n",
       "</table>\n",
       "</div>"
      ],
      "text/plain": [
       "      Real Values  Predicted Values\n",
       "1050    -0.031884         -0.242892\n",
       "697      1.368438          1.191427\n",
       "1636     0.075040         -0.268831\n",
       "2655    -0.234138         -0.026345\n",
       "2752    -0.061514         -0.168786"
      ]
     },
     "execution_count": 27,
     "metadata": {},
     "output_type": "execute_result"
    }
   ],
   "source": [
    "pred_df = pd.DataFrame({'Real Values': y_test, 'Predicted Values': y_pred})\n",
    "pred_df.head()"
   ]
  },
  {
   "cell_type": "code",
   "execution_count": 28,
   "metadata": {},
   "outputs": [
    {
     "data": {
      "image/png": "[encoded data removed]",
      "text/plain": [
       "<Figure size 432x288 with 1 Axes>"
      ]
     },
     "metadata": {
      "needs_background": "light"
     },
     "output_type": "display_data"
    }
   ],
   "source": [
    "# plot line chart for predictions\n",
    "plt.plot(pred_df['Predicted Values'], pred_df['Real Values'])\n",
    "plt.show()"
   ]
  },
  {
   "cell_type": "code",
   "execution_count": 29,
   "metadata": {},
   "outputs": [
    {
     "data": {
      "image/png": "[encoded data removed]",
      "text/plain": [
       "<Figure size 432x288 with 1 Axes>"
      ]
     },
     "metadata": {
      "needs_background": "light"
     },
     "output_type": "display_data"
    }
   ],
   "source": [
    "plt.scatter(pred_df['Real Values'], pred_df['Predicted Values'])\n",
    "plt.show()"
   ]
  },
  {
   "cell_type": "markdown",
   "metadata": {},
   "source": [
    "# RFR for Voting"
   ]
  },
  {
   "cell_type": "code",
   "execution_count": 30,
   "metadata": {},
   "outputs": [
    {
     "data": {
      "text/html": [
       "<div>\n",
       "<style scoped>\n",
       "    .dataframe tbody tr th:only-of-type {\n",
       "        vertical-align: middle;\n",
       "    }\n",
       "\n",
       "    .dataframe tbody tr th {\n",
       "        vertical-align: top;\n",
       "    }\n",
       "\n",
       "    .dataframe thead th {\n",
       "        text-align: right;\n",
       "    }\n",
       "</style>\n",
       "<table border=\"1\" class=\"dataframe\">\n",
       "  <thead>\n",
       "    <tr style=\"text-align: right;\">\n",
       "      <th></th>\n",
       "      <th>cases</th>\n",
       "      <th>total_votes20</th>\n",
       "      <th>votes20_donald_trump</th>\n",
       "      <th>votes20_joe_biden</th>\n",
       "    </tr>\n",
       "  </thead>\n",
       "  <tbody>\n",
       "    <tr>\n",
       "      <th>0</th>\n",
       "      <td>920</td>\n",
       "      <td>17249</td>\n",
       "      <td>12834</td>\n",
       "      <td>4040</td>\n",
       "    </tr>\n",
       "    <tr>\n",
       "      <th>1</th>\n",
       "      <td>805</td>\n",
       "      <td>12433</td>\n",
       "      <td>8215</td>\n",
       "      <td>4101</td>\n",
       "    </tr>\n",
       "    <tr>\n",
       "      <th>2</th>\n",
       "      <td>3182</td>\n",
       "      <td>28425</td>\n",
       "      <td>22596</td>\n",
       "      <td>5443</td>\n",
       "    </tr>\n",
       "    <tr>\n",
       "      <th>3</th>\n",
       "      <td>1227</td>\n",
       "      <td>16938</td>\n",
       "      <td>9172</td>\n",
       "      <td>7578</td>\n",
       "    </tr>\n",
       "    <tr>\n",
       "      <th>4</th>\n",
       "      <td>17451</td>\n",
       "      <td>259389</td>\n",
       "      <td>130699</td>\n",
       "      <td>120539</td>\n",
       "    </tr>\n",
       "  </tbody>\n",
       "</table>\n",
       "</div>"
      ],
      "text/plain": [
       "   cases  total_votes20  votes20_donald_trump  votes20_joe_biden\n",
       "0    920          17249                 12834               4040\n",
       "1    805          12433                  8215               4101\n",
       "2   3182          28425                 22596               5443\n",
       "3   1227          16938                  9172               7578\n",
       "4  17451         259389                130699             120539"
      ]
     },
     "execution_count": 30,
     "metadata": {},
     "output_type": "execute_result"
    }
   ],
   "source": [
    "# create voting df\n",
    "voting_df = df[['cases','total_votes20','votes20_donald_trump','votes20_joe_biden']]\n",
    "voting_df.head()"
   ]
  },
  {
   "cell_type": "code",
   "execution_count": 31,
   "metadata": {},
   "outputs": [
    {
     "data": {
      "text/plain": [
       "array([[ 0.17101449,  0.21058371,  0.29865829,  0.06631744],\n",
       "       [ 0.09694042,  0.02301738,  0.01404871,  0.07280559],\n",
       "       [ 1.62801932,  0.64584976,  0.90016483,  0.21554498],\n",
       "       [ 0.36876006,  0.19847135,  0.07301631,  0.44263036],\n",
       "       [10.81900161,  9.64108855,  7.56116272, 12.45752121]])"
      ]
     },
     "execution_count": 31,
     "metadata": {},
     "output_type": "execute_result"
    }
   ],
   "source": [
    "# scale voting data\n",
    "voting_scaled = RobustScaler().fit_transform(voting_df)\n",
    "voting_scaled[:5]"
   ]
  },
  {
   "cell_type": "code",
   "execution_count": 32,
   "metadata": {},
   "outputs": [
    {
     "data": {
      "text/html": [
       "<div>\n",
       "<style scoped>\n",
       "    .dataframe tbody tr th:only-of-type {\n",
       "        vertical-align: middle;\n",
       "    }\n",
       "\n",
       "    .dataframe tbody tr th {\n",
       "        vertical-align: top;\n",
       "    }\n",
       "\n",
       "    .dataframe thead th {\n",
       "        text-align: right;\n",
       "    }\n",
       "</style>\n",
       "<table border=\"1\" class=\"dataframe\">\n",
       "  <thead>\n",
       "    <tr style=\"text-align: right;\">\n",
       "      <th></th>\n",
       "      <th>cases</th>\n",
       "      <th>total_votes20</th>\n",
       "      <th>votes20_Donald_Trump</th>\n",
       "      <th>votes20_Joe_Biden</th>\n",
       "    </tr>\n",
       "  </thead>\n",
       "  <tbody>\n",
       "    <tr>\n",
       "      <th>0</th>\n",
       "      <td>0.171014</td>\n",
       "      <td>0.210584</td>\n",
       "      <td>0.298658</td>\n",
       "      <td>0.066317</td>\n",
       "    </tr>\n",
       "    <tr>\n",
       "      <th>1</th>\n",
       "      <td>0.096940</td>\n",
       "      <td>0.023017</td>\n",
       "      <td>0.014049</td>\n",
       "      <td>0.072806</td>\n",
       "    </tr>\n",
       "    <tr>\n",
       "      <th>2</th>\n",
       "      <td>1.628019</td>\n",
       "      <td>0.645850</td>\n",
       "      <td>0.900165</td>\n",
       "      <td>0.215545</td>\n",
       "    </tr>\n",
       "    <tr>\n",
       "      <th>3</th>\n",
       "      <td>0.368760</td>\n",
       "      <td>0.198471</td>\n",
       "      <td>0.073016</td>\n",
       "      <td>0.442630</td>\n",
       "    </tr>\n",
       "    <tr>\n",
       "      <th>4</th>\n",
       "      <td>10.819002</td>\n",
       "      <td>9.641089</td>\n",
       "      <td>7.561163</td>\n",
       "      <td>12.457521</td>\n",
       "    </tr>\n",
       "  </tbody>\n",
       "</table>\n",
       "</div>"
      ],
      "text/plain": [
       "       cases  total_votes20  votes20_Donald_Trump  votes20_Joe_Biden\n",
       "0   0.171014       0.210584              0.298658           0.066317\n",
       "1   0.096940       0.023017              0.014049           0.072806\n",
       "2   1.628019       0.645850              0.900165           0.215545\n",
       "3   0.368760       0.198471              0.073016           0.442630\n",
       "4  10.819002       9.641089              7.561163          12.457521"
      ]
     },
     "execution_count": 32,
     "metadata": {},
     "output_type": "execute_result"
    }
   ],
   "source": [
    "# create scaled df\n",
    "scaled_voting_df = pd.DataFrame(voting_scaled, columns= ['cases','total_votes20','votes20_Donald_Trump','votes20_Joe_Biden'])\n",
    "scaled_voting_df.head()"
   ]
  },
  {
   "cell_type": "code",
   "execution_count": 33,
   "metadata": {},
   "outputs": [
    {
     "data": {
      "text/html": [
       "<div>\n",
       "<style scoped>\n",
       "    .dataframe tbody tr th:only-of-type {\n",
       "        vertical-align: middle;\n",
       "    }\n",
       "\n",
       "    .dataframe tbody tr th {\n",
       "        vertical-align: top;\n",
       "    }\n",
       "\n",
       "    .dataframe thead th {\n",
       "        text-align: right;\n",
       "    }\n",
       "</style>\n",
       "<table border=\"1\" class=\"dataframe\">\n",
       "  <thead>\n",
       "    <tr style=\"text-align: right;\">\n",
       "      <th></th>\n",
       "      <th>cases</th>\n",
       "    </tr>\n",
       "  </thead>\n",
       "  <tbody>\n",
       "    <tr>\n",
       "      <th>0</th>\n",
       "      <td>0.171014</td>\n",
       "    </tr>\n",
       "    <tr>\n",
       "      <th>1</th>\n",
       "      <td>0.096940</td>\n",
       "    </tr>\n",
       "    <tr>\n",
       "      <th>2</th>\n",
       "      <td>1.628019</td>\n",
       "    </tr>\n",
       "    <tr>\n",
       "      <th>3</th>\n",
       "      <td>0.368760</td>\n",
       "    </tr>\n",
       "    <tr>\n",
       "      <th>4</th>\n",
       "      <td>10.819002</td>\n",
       "    </tr>\n",
       "  </tbody>\n",
       "</table>\n",
       "</div>"
      ],
      "text/plain": [
       "       cases\n",
       "0   0.171014\n",
       "1   0.096940\n",
       "2   1.628019\n",
       "3   0.368760\n",
       "4  10.819002"
      ]
     },
     "execution_count": 33,
     "metadata": {},
     "output_type": "execute_result"
    }
   ],
   "source": [
    "# separate target\n",
    "y2 = scaled_voting_df['cases']\n",
    "scaled_cases2 = pd.DataFrame(y, columns = ['cases'])\n",
    "scaled_cases2.head()"
   ]
  },
  {
   "cell_type": "code",
   "execution_count": 34,
   "metadata": {},
   "outputs": [
    {
     "data": {
      "text/html": [
       "<div>\n",
       "<style scoped>\n",
       "    .dataframe tbody tr th:only-of-type {\n",
       "        vertical-align: middle;\n",
       "    }\n",
       "\n",
       "    .dataframe tbody tr th {\n",
       "        vertical-align: top;\n",
       "    }\n",
       "\n",
       "    .dataframe thead th {\n",
       "        text-align: right;\n",
       "    }\n",
       "</style>\n",
       "<table border=\"1\" class=\"dataframe\">\n",
       "  <thead>\n",
       "    <tr style=\"text-align: right;\">\n",
       "      <th></th>\n",
       "      <th>total_votes20</th>\n",
       "      <th>votes20_Donald_Trump</th>\n",
       "      <th>votes20_Joe_Biden</th>\n",
       "    </tr>\n",
       "  </thead>\n",
       "  <tbody>\n",
       "    <tr>\n",
       "      <th>0</th>\n",
       "      <td>0.210584</td>\n",
       "      <td>0.298658</td>\n",
       "      <td>0.066317</td>\n",
       "    </tr>\n",
       "    <tr>\n",
       "      <th>1</th>\n",
       "      <td>0.023017</td>\n",
       "      <td>0.014049</td>\n",
       "      <td>0.072806</td>\n",
       "    </tr>\n",
       "    <tr>\n",
       "      <th>2</th>\n",
       "      <td>0.645850</td>\n",
       "      <td>0.900165</td>\n",
       "      <td>0.215545</td>\n",
       "    </tr>\n",
       "    <tr>\n",
       "      <th>3</th>\n",
       "      <td>0.198471</td>\n",
       "      <td>0.073016</td>\n",
       "      <td>0.442630</td>\n",
       "    </tr>\n",
       "    <tr>\n",
       "      <th>4</th>\n",
       "      <td>9.641089</td>\n",
       "      <td>7.561163</td>\n",
       "      <td>12.457521</td>\n",
       "    </tr>\n",
       "  </tbody>\n",
       "</table>\n",
       "</div>"
      ],
      "text/plain": [
       "   total_votes20  votes20_Donald_Trump  votes20_Joe_Biden\n",
       "0       0.210584              0.298658           0.066317\n",
       "1       0.023017              0.014049           0.072806\n",
       "2       0.645850              0.900165           0.215545\n",
       "3       0.198471              0.073016           0.442630\n",
       "4       9.641089              7.561163          12.457521"
      ]
     },
     "execution_count": 34,
     "metadata": {},
     "output_type": "execute_result"
    }
   ],
   "source": [
    "# create features for model\n",
    "X_scaled2 = scaled_voting_df.drop(['cases'], axis=1)\n",
    "X_scaled2.head()"
   ]
  },
  {
   "cell_type": "code",
   "execution_count": 35,
   "metadata": {},
   "outputs": [
    {
     "data": {
      "text/plain": [
       "array([[-2.44845335,  0.02414555],\n",
       "       [-2.60478289, -0.27875697],\n",
       "       [-1.96243507,  0.60491956],\n",
       "       [-2.19494797, -0.33413577],\n",
       "       [14.32089853,  3.76516877]])"
      ]
     },
     "execution_count": 35,
     "metadata": {},
     "output_type": "execute_result"
    }
   ],
   "source": [
    "# get two principal components for the iris data\n",
    "X2 = pca.fit_transform(X_scaled2)\n",
    "X2[:5]"
   ]
  },
  {
   "cell_type": "code",
   "execution_count": 59,
   "metadata": {},
   "outputs": [],
   "source": [
    "# instantiate model\n",
    "regressor2 = RandomForestRegressor(n_estimators=100,random_state=48)"
   ]
  },
  {
   "cell_type": "code",
   "execution_count": 60,
   "metadata": {},
   "outputs": [],
   "source": [
    "# split data into training and testing sets\n",
    "X_train2, X_test2, y_train2, y_test2 = train_test_split(X2, y2, random_state=48)"
   ]
  },
  {
   "cell_type": "code",
   "execution_count": 61,
   "metadata": {},
   "outputs": [
    {
     "data": {
      "text/plain": [
       "RandomForestRegressor(random_state=48)"
      ]
     },
     "execution_count": 61,
     "metadata": {},
     "output_type": "execute_result"
    }
   ],
   "source": [
    "# fit model\n",
    "regressor2.fit(X_train2, y_train2)"
   ]
  },
  {
   "cell_type": "code",
   "execution_count": 62,
   "metadata": {},
   "outputs": [
    {
     "data": {
      "text/plain": [
       "array([ 0.01424155,  0.44151369, -0.12903704, -0.02758132,  0.02633816])"
      ]
     },
     "execution_count": 62,
     "metadata": {},
     "output_type": "execute_result"
    }
   ],
   "source": [
    "# make predictions\n",
    "y_pred2 = regressor2.predict(X_test2)\n",
    "y_pred2[:5]"
   ]
  },
  {
   "cell_type": "code",
   "execution_count": 63,
   "metadata": {},
   "outputs": [
    {
     "name": "stdout",
     "output_type": "stream",
     "text": [
      "[168.27437185  72.55441636]\n"
     ]
    }
   ],
   "source": [
    "# plot components\n",
    "print(pca.explained_variance_)"
   ]
  },
  {
   "cell_type": "code",
   "execution_count": 64,
   "metadata": {},
   "outputs": [
    {
     "data": {
      "text/html": [
       "<div>\n",
       "<style scoped>\n",
       "    .dataframe tbody tr th:only-of-type {\n",
       "        vertical-align: middle;\n",
       "    }\n",
       "\n",
       "    .dataframe tbody tr th {\n",
       "        vertical-align: top;\n",
       "    }\n",
       "\n",
       "    .dataframe thead th {\n",
       "        text-align: right;\n",
       "    }\n",
       "</style>\n",
       "<table border=\"1\" class=\"dataframe\">\n",
       "  <thead>\n",
       "    <tr style=\"text-align: right;\">\n",
       "      <th></th>\n",
       "      <th>principal component 1</th>\n",
       "      <th>principal component 2</th>\n",
       "    </tr>\n",
       "  </thead>\n",
       "  <tbody>\n",
       "    <tr>\n",
       "      <th>0</th>\n",
       "      <td>-2.448453</td>\n",
       "      <td>0.024146</td>\n",
       "    </tr>\n",
       "    <tr>\n",
       "      <th>1</th>\n",
       "      <td>-2.604783</td>\n",
       "      <td>-0.278757</td>\n",
       "    </tr>\n",
       "    <tr>\n",
       "      <th>2</th>\n",
       "      <td>-1.962435</td>\n",
       "      <td>0.604920</td>\n",
       "    </tr>\n",
       "    <tr>\n",
       "      <th>3</th>\n",
       "      <td>-2.194948</td>\n",
       "      <td>-0.334136</td>\n",
       "    </tr>\n",
       "    <tr>\n",
       "      <th>4</th>\n",
       "      <td>14.320899</td>\n",
       "      <td>3.765169</td>\n",
       "    </tr>\n",
       "  </tbody>\n",
       "</table>\n",
       "</div>"
      ],
      "text/plain": [
       "   principal component 1  principal component 2\n",
       "0              -2.448453               0.024146\n",
       "1              -2.604783              -0.278757\n",
       "2              -1.962435               0.604920\n",
       "3              -2.194948              -0.334136\n",
       "4              14.320899               3.765169"
      ]
     },
     "execution_count": 64,
     "metadata": {},
     "output_type": "execute_result"
    }
   ],
   "source": [
    "# Create df with pca and predictions\n",
    "voting_pca_pred = pd.DataFrame(\n",
    "    data=X2, columns=[\"principal component 1\", \"principal component 2\"]\n",
    ")\n",
    "voting_pca_pred.head()"
   ]
  },
  {
   "cell_type": "code",
   "execution_count": 93,
   "metadata": {},
   "outputs": [
    {
     "data": {
      "image/png": "[encoded data removed]",
      "text/plain": [
       "<Figure size 432x288 with 1 Axes>"
      ]
     },
     "metadata": {
      "needs_background": "light"
     },
     "output_type": "display_data"
    }
   ],
   "source": [
    "# Graph PCA and original data\n",
    "X2_new = pca.inverse_transform(X2)\n",
    "plt.scatter(X2[:, 0], X2[:, 1], alpha=0.2)\n",
    "plt.scatter(X2_new[:, 0], X2_new[:, 1], alpha=0.8)\n",
    "plt.axis('equal');"
   ]
  },
  {
   "cell_type": "code",
   "execution_count": 66,
   "metadata": {},
   "outputs": [
    {
     "data": {
      "image/png": "[encoded data removed]",
      "text/plain": [
       "<Figure size 432x288 with 1 Axes>"
      ]
     },
     "metadata": {
      "needs_background": "light"
     },
     "output_type": "display_data"
    }
   ],
   "source": [
    "# plot training data\n",
    "plt.scatter(X_train2[:,0], y_train2)\n",
    "plt.show()"
   ]
  },
  {
   "cell_type": "code",
   "execution_count": 67,
   "metadata": {},
   "outputs": [
    {
     "data": {
      "text/plain": [
       "0.9672661066793056"
      ]
     },
     "execution_count": 67,
     "metadata": {},
     "output_type": "execute_result"
    }
   ],
   "source": [
    "# check score\n",
    "regressor2.score(X_train2, y_train2)"
   ]
  },
  {
   "cell_type": "code",
   "execution_count": 68,
   "metadata": {},
   "outputs": [
    {
     "name": "stdout",
     "output_type": "stream",
     "text": [
      "Mean Absolute Error: 0.8875657583864818\n",
      "Mean Squared Error: 9.741218093077629\n",
      "Root Mean Squared Error: 3.12109245186323\n",
      "R Squared: 0.5251664501723672\n"
     ]
    }
   ],
   "source": [
    "print('Mean Absolute Error:', metrics.mean_absolute_error(y_test2, y_pred2))\n",
    "print('Mean Squared Error:', metrics.mean_squared_error(y_test2, y_pred2))\n",
    "print('Root Mean Squared Error:', np.sqrt(metrics.mean_squared_error(y_test2, y_pred2)))\n",
    "print('R Squared:', metrics.r2_score(y_test2, y_pred2))"
   ]
  },
  {
   "cell_type": "code",
   "execution_count": 69,
   "metadata": {},
   "outputs": [
    {
     "data": {
      "text/html": [
       "<div>\n",
       "<style scoped>\n",
       "    .dataframe tbody tr th:only-of-type {\n",
       "        vertical-align: middle;\n",
       "    }\n",
       "\n",
       "    .dataframe tbody tr th {\n",
       "        vertical-align: top;\n",
       "    }\n",
       "\n",
       "    .dataframe thead th {\n",
       "        text-align: right;\n",
       "    }\n",
       "</style>\n",
       "<table border=\"1\" class=\"dataframe\">\n",
       "  <thead>\n",
       "    <tr style=\"text-align: right;\">\n",
       "      <th></th>\n",
       "      <th>Real Values</th>\n",
       "      <th>Predicted Values</th>\n",
       "    </tr>\n",
       "  </thead>\n",
       "  <tbody>\n",
       "    <tr>\n",
       "      <th>1050</th>\n",
       "      <td>-0.031884</td>\n",
       "      <td>0.014242</td>\n",
       "    </tr>\n",
       "    <tr>\n",
       "      <th>697</th>\n",
       "      <td>1.368438</td>\n",
       "      <td>0.441514</td>\n",
       "    </tr>\n",
       "    <tr>\n",
       "      <th>1636</th>\n",
       "      <td>0.075040</td>\n",
       "      <td>-0.129037</td>\n",
       "    </tr>\n",
       "    <tr>\n",
       "      <th>2655</th>\n",
       "      <td>-0.234138</td>\n",
       "      <td>-0.027581</td>\n",
       "    </tr>\n",
       "    <tr>\n",
       "      <th>2752</th>\n",
       "      <td>-0.061514</td>\n",
       "      <td>0.026338</td>\n",
       "    </tr>\n",
       "  </tbody>\n",
       "</table>\n",
       "</div>"
      ],
      "text/plain": [
       "      Real Values  Predicted Values\n",
       "1050    -0.031884          0.014242\n",
       "697      1.368438          0.441514\n",
       "1636     0.075040         -0.129037\n",
       "2655    -0.234138         -0.027581\n",
       "2752    -0.061514          0.026338"
      ]
     },
     "execution_count": 69,
     "metadata": {},
     "output_type": "execute_result"
    }
   ],
   "source": [
    "# create df with predictions and actual values\n",
    "voting_pred_df = pd.DataFrame({'Real Values': y_test2, 'Predicted Values': y_pred2})\n",
    "voting_pred_df.head()"
   ]
  },
  {
   "cell_type": "code",
   "execution_count": 70,
   "metadata": {},
   "outputs": [
    {
     "data": {
      "image/png": "[encoded data removed]",
      "text/plain": [
       "<Figure size 432x288 with 1 Axes>"
      ]
     },
     "metadata": {
      "needs_background": "light"
     },
     "output_type": "display_data"
    }
   ],
   "source": [
    "# plot line chart for predictions\n",
    "plt.plot(voting_pred_df['Predicted Values'], voting_pred_df['Real Values'])\n",
    "plt.show()"
   ]
  },
  {
   "cell_type": "code",
   "execution_count": 71,
   "metadata": {},
   "outputs": [
    {
     "data": {
      "image/png": "[encoded data removed]",
      "text/plain": [
       "<Figure size 432x288 with 1 Axes>"
      ]
     },
     "metadata": {
      "needs_background": "light"
     },
     "output_type": "display_data"
    }
   ],
   "source": [
    "# plot predicted and real values\n",
    "plt.scatter(voting_pred_df['Real Values'], voting_pred_df['Predicted Values'])\n",
    "plt.show()"
   ]
  },
  {
   "cell_type": "markdown",
   "metadata": {},
   "source": [
    "# RFR for Demographic Data"
   ]
  },
  {
   "cell_type": "code",
   "execution_count": 72,
   "metadata": {},
   "outputs": [
    {
     "data": {
      "text/html": [
       "<div>\n",
       "<style scoped>\n",
       "    .dataframe tbody tr th:only-of-type {\n",
       "        vertical-align: middle;\n",
       "    }\n",
       "\n",
       "    .dataframe tbody tr th {\n",
       "        vertical-align: top;\n",
       "    }\n",
       "\n",
       "    .dataframe thead th {\n",
       "        text-align: right;\n",
       "    }\n",
       "</style>\n",
       "<table border=\"1\" class=\"dataframe\">\n",
       "  <thead>\n",
       "    <tr style=\"text-align: right;\">\n",
       "      <th></th>\n",
       "      <th>cases</th>\n",
       "      <th>men</th>\n",
       "      <th>women</th>\n",
       "      <th>hispanic</th>\n",
       "      <th>white</th>\n",
       "      <th>black</th>\n",
       "      <th>native</th>\n",
       "      <th>asian</th>\n",
       "      <th>pacific</th>\n",
       "    </tr>\n",
       "  </thead>\n",
       "  <tbody>\n",
       "    <tr>\n",
       "      <th>0</th>\n",
       "      <td>920</td>\n",
       "      <td>22375</td>\n",
       "      <td>22798</td>\n",
       "      <td>7.6</td>\n",
       "      <td>75.4</td>\n",
       "      <td>2.0</td>\n",
       "      <td>7.4</td>\n",
       "      <td>0.5</td>\n",
       "      <td>0.0</td>\n",
       "    </tr>\n",
       "    <tr>\n",
       "      <th>1</th>\n",
       "      <td>805</td>\n",
       "      <td>12044</td>\n",
       "      <td>12744</td>\n",
       "      <td>1.3</td>\n",
       "      <td>68.9</td>\n",
       "      <td>27.6</td>\n",
       "      <td>0.1</td>\n",
       "      <td>0.3</td>\n",
       "      <td>0.0</td>\n",
       "    </tr>\n",
       "    <tr>\n",
       "      <th>2</th>\n",
       "      <td>3182</td>\n",
       "      <td>30433</td>\n",
       "      <td>32174</td>\n",
       "      <td>2.4</td>\n",
       "      <td>77.5</td>\n",
       "      <td>17.6</td>\n",
       "      <td>0.1</td>\n",
       "      <td>0.1</td>\n",
       "      <td>0.0</td>\n",
       "    </tr>\n",
       "    <tr>\n",
       "      <th>3</th>\n",
       "      <td>1227</td>\n",
       "      <td>16079</td>\n",
       "      <td>16761</td>\n",
       "      <td>8.8</td>\n",
       "      <td>60.3</td>\n",
       "      <td>28.3</td>\n",
       "      <td>0.3</td>\n",
       "      <td>0.7</td>\n",
       "      <td>0.0</td>\n",
       "    </tr>\n",
       "    <tr>\n",
       "      <th>4</th>\n",
       "      <td>17451</td>\n",
       "      <td>217999</td>\n",
       "      <td>217118</td>\n",
       "      <td>7.9</td>\n",
       "      <td>85.2</td>\n",
       "      <td>1.2</td>\n",
       "      <td>0.4</td>\n",
       "      <td>2.6</td>\n",
       "      <td>0.1</td>\n",
       "    </tr>\n",
       "  </tbody>\n",
       "</table>\n",
       "</div>"
      ],
      "text/plain": [
       "   cases     men   women  hispanic  white  black  native  asian  pacific\n",
       "0    920   22375   22798       7.6   75.4    2.0     7.4    0.5      0.0\n",
       "1    805   12044   12744       1.3   68.9   27.6     0.1    0.3      0.0\n",
       "2   3182   30433   32174       2.4   77.5   17.6     0.1    0.1      0.0\n",
       "3   1227   16079   16761       8.8   60.3   28.3     0.3    0.7      0.0\n",
       "4  17451  217999  217118       7.9   85.2    1.2     0.4    2.6      0.1"
      ]
     },
     "execution_count": 72,
     "metadata": {},
     "output_type": "execute_result"
    }
   ],
   "source": [
    "# create voting df\n",
    "demo_df = df[['cases','men', 'women', 'hispanic', 'white', 'black', 'native','asian', 'pacific']]\n",
    "demo_df.head()"
   ]
  },
  {
   "cell_type": "code",
   "execution_count": 73,
   "metadata": {},
   "outputs": [
    {
     "data": {
      "text/plain": [
       "array([[ 1.71014493e-01,  3.45629910e-01,  3.51384643e-01,\n",
       "         5.00000000e-01, -3.33333333e-01, -1.08695652e-02,\n",
       "         1.42000000e+01, -1.11111111e-01,  0.00000000e+00],\n",
       "       [ 9.69404187e-02, -2.79136196e-02, -4.99800611e-03,\n",
       "        -3.51351351e-01, -5.71428571e-01,  2.77173913e+00,\n",
       "        -4.00000000e-01, -3.33333333e-01,  0.00000000e+00],\n",
       "       [ 1.62801932e+00,  6.36987354e-01,  6.83734326e-01,\n",
       "        -2.02702703e-01, -2.56410256e-01,  1.68478261e+00,\n",
       "        -4.00000000e-01, -5.55555556e-01,  0.00000000e+00],\n",
       "       [ 3.68760064e-01,  1.17982048e-01,  1.37391998e-01,\n",
       "         6.62162162e-01, -8.86446886e-01,  2.84782609e+00,\n",
       "         0.00000000e+00,  1.11111111e-01,  0.00000000e+00],\n",
       "       [ 1.08190016e+01,  7.41891220e+00,  7.23941690e+00,\n",
       "         5.40540541e-01,  2.56410256e-02, -9.78260870e-02,\n",
       "         2.00000000e-01,  2.22222222e+00,  1.00000000e+00]])"
      ]
     },
     "execution_count": 73,
     "metadata": {},
     "output_type": "execute_result"
    }
   ],
   "source": [
    "# scale demographic data\n",
    "demo_scaled = RobustScaler().fit_transform(demo_df)\n",
    "demo_scaled[:5]"
   ]
  },
  {
   "cell_type": "code",
   "execution_count": 74,
   "metadata": {},
   "outputs": [
    {
     "data": {
      "text/html": [
       "<div>\n",
       "<style scoped>\n",
       "    .dataframe tbody tr th:only-of-type {\n",
       "        vertical-align: middle;\n",
       "    }\n",
       "\n",
       "    .dataframe tbody tr th {\n",
       "        vertical-align: top;\n",
       "    }\n",
       "\n",
       "    .dataframe thead th {\n",
       "        text-align: right;\n",
       "    }\n",
       "</style>\n",
       "<table border=\"1\" class=\"dataframe\">\n",
       "  <thead>\n",
       "    <tr style=\"text-align: right;\">\n",
       "      <th></th>\n",
       "      <th>cases</th>\n",
       "      <th>Men</th>\n",
       "      <th>Women</th>\n",
       "      <th>Hispanic</th>\n",
       "      <th>White</th>\n",
       "      <th>Black</th>\n",
       "      <th>Native</th>\n",
       "      <th>Asian</th>\n",
       "      <th>Pacific</th>\n",
       "    </tr>\n",
       "  </thead>\n",
       "  <tbody>\n",
       "    <tr>\n",
       "      <th>0</th>\n",
       "      <td>0.171014</td>\n",
       "      <td>0.345630</td>\n",
       "      <td>0.351385</td>\n",
       "      <td>0.500000</td>\n",
       "      <td>-0.333333</td>\n",
       "      <td>-0.010870</td>\n",
       "      <td>14.2</td>\n",
       "      <td>-0.111111</td>\n",
       "      <td>0.0</td>\n",
       "    </tr>\n",
       "    <tr>\n",
       "      <th>1</th>\n",
       "      <td>0.096940</td>\n",
       "      <td>-0.027914</td>\n",
       "      <td>-0.004998</td>\n",
       "      <td>-0.351351</td>\n",
       "      <td>-0.571429</td>\n",
       "      <td>2.771739</td>\n",
       "      <td>-0.4</td>\n",
       "      <td>-0.333333</td>\n",
       "      <td>0.0</td>\n",
       "    </tr>\n",
       "    <tr>\n",
       "      <th>2</th>\n",
       "      <td>1.628019</td>\n",
       "      <td>0.636987</td>\n",
       "      <td>0.683734</td>\n",
       "      <td>-0.202703</td>\n",
       "      <td>-0.256410</td>\n",
       "      <td>1.684783</td>\n",
       "      <td>-0.4</td>\n",
       "      <td>-0.555556</td>\n",
       "      <td>0.0</td>\n",
       "    </tr>\n",
       "    <tr>\n",
       "      <th>3</th>\n",
       "      <td>0.368760</td>\n",
       "      <td>0.117982</td>\n",
       "      <td>0.137392</td>\n",
       "      <td>0.662162</td>\n",
       "      <td>-0.886447</td>\n",
       "      <td>2.847826</td>\n",
       "      <td>0.0</td>\n",
       "      <td>0.111111</td>\n",
       "      <td>0.0</td>\n",
       "    </tr>\n",
       "    <tr>\n",
       "      <th>4</th>\n",
       "      <td>10.819002</td>\n",
       "      <td>7.418912</td>\n",
       "      <td>7.239417</td>\n",
       "      <td>0.540541</td>\n",
       "      <td>0.025641</td>\n",
       "      <td>-0.097826</td>\n",
       "      <td>0.2</td>\n",
       "      <td>2.222222</td>\n",
       "      <td>1.0</td>\n",
       "    </tr>\n",
       "  </tbody>\n",
       "</table>\n",
       "</div>"
      ],
      "text/plain": [
       "       cases       Men     Women  Hispanic     White     Black  Native  \\\n",
       "0   0.171014  0.345630  0.351385  0.500000 -0.333333 -0.010870    14.2   \n",
       "1   0.096940 -0.027914 -0.004998 -0.351351 -0.571429  2.771739    -0.4   \n",
       "2   1.628019  0.636987  0.683734 -0.202703 -0.256410  1.684783    -0.4   \n",
       "3   0.368760  0.117982  0.137392  0.662162 -0.886447  2.847826     0.0   \n",
       "4  10.819002  7.418912  7.239417  0.540541  0.025641 -0.097826     0.2   \n",
       "\n",
       "      Asian  Pacific  \n",
       "0 -0.111111      0.0  \n",
       "1 -0.333333      0.0  \n",
       "2 -0.555556      0.0  \n",
       "3  0.111111      0.0  \n",
       "4  2.222222      1.0  "
      ]
     },
     "execution_count": 74,
     "metadata": {},
     "output_type": "execute_result"
    }
   ],
   "source": [
    "# create scaled df\n",
    "scaled_demo_df = pd.DataFrame(demo_scaled, columns= ['cases','Men', 'Women', 'Hispanic', 'White', 'Black', 'Native','Asian', 'Pacific'])\n",
    "scaled_demo_df.head()"
   ]
  },
  {
   "cell_type": "code",
   "execution_count": 75,
   "metadata": {},
   "outputs": [
    {
     "data": {
      "text/html": [
       "<div>\n",
       "<style scoped>\n",
       "    .dataframe tbody tr th:only-of-type {\n",
       "        vertical-align: middle;\n",
       "    }\n",
       "\n",
       "    .dataframe tbody tr th {\n",
       "        vertical-align: top;\n",
       "    }\n",
       "\n",
       "    .dataframe thead th {\n",
       "        text-align: right;\n",
       "    }\n",
       "</style>\n",
       "<table border=\"1\" class=\"dataframe\">\n",
       "  <thead>\n",
       "    <tr style=\"text-align: right;\">\n",
       "      <th></th>\n",
       "      <th>cases</th>\n",
       "    </tr>\n",
       "  </thead>\n",
       "  <tbody>\n",
       "    <tr>\n",
       "      <th>0</th>\n",
       "      <td>0.171014</td>\n",
       "    </tr>\n",
       "    <tr>\n",
       "      <th>1</th>\n",
       "      <td>0.096940</td>\n",
       "    </tr>\n",
       "    <tr>\n",
       "      <th>2</th>\n",
       "      <td>1.628019</td>\n",
       "    </tr>\n",
       "    <tr>\n",
       "      <th>3</th>\n",
       "      <td>0.368760</td>\n",
       "    </tr>\n",
       "    <tr>\n",
       "      <th>4</th>\n",
       "      <td>10.819002</td>\n",
       "    </tr>\n",
       "  </tbody>\n",
       "</table>\n",
       "</div>"
      ],
      "text/plain": [
       "       cases\n",
       "0   0.171014\n",
       "1   0.096940\n",
       "2   1.628019\n",
       "3   0.368760\n",
       "4  10.819002"
      ]
     },
     "execution_count": 75,
     "metadata": {},
     "output_type": "execute_result"
    }
   ],
   "source": [
    "# separate target\n",
    "y3 = scaled_demo_df['cases']\n",
    "scaled_cases3 = pd.DataFrame(y, columns = ['cases'])\n",
    "scaled_cases3.head()"
   ]
  },
  {
   "cell_type": "code",
   "execution_count": 76,
   "metadata": {},
   "outputs": [
    {
     "data": {
      "text/html": [
       "<div>\n",
       "<style scoped>\n",
       "    .dataframe tbody tr th:only-of-type {\n",
       "        vertical-align: middle;\n",
       "    }\n",
       "\n",
       "    .dataframe tbody tr th {\n",
       "        vertical-align: top;\n",
       "    }\n",
       "\n",
       "    .dataframe thead th {\n",
       "        text-align: right;\n",
       "    }\n",
       "</style>\n",
       "<table border=\"1\" class=\"dataframe\">\n",
       "  <thead>\n",
       "    <tr style=\"text-align: right;\">\n",
       "      <th></th>\n",
       "      <th>Men</th>\n",
       "      <th>Women</th>\n",
       "      <th>Hispanic</th>\n",
       "      <th>White</th>\n",
       "      <th>Black</th>\n",
       "      <th>Native</th>\n",
       "      <th>Asian</th>\n",
       "      <th>Pacific</th>\n",
       "    </tr>\n",
       "  </thead>\n",
       "  <tbody>\n",
       "    <tr>\n",
       "      <th>0</th>\n",
       "      <td>0.345630</td>\n",
       "      <td>0.351385</td>\n",
       "      <td>0.500000</td>\n",
       "      <td>-0.333333</td>\n",
       "      <td>-0.010870</td>\n",
       "      <td>14.2</td>\n",
       "      <td>-0.111111</td>\n",
       "      <td>0.0</td>\n",
       "    </tr>\n",
       "    <tr>\n",
       "      <th>1</th>\n",
       "      <td>-0.027914</td>\n",
       "      <td>-0.004998</td>\n",
       "      <td>-0.351351</td>\n",
       "      <td>-0.571429</td>\n",
       "      <td>2.771739</td>\n",
       "      <td>-0.4</td>\n",
       "      <td>-0.333333</td>\n",
       "      <td>0.0</td>\n",
       "    </tr>\n",
       "    <tr>\n",
       "      <th>2</th>\n",
       "      <td>0.636987</td>\n",
       "      <td>0.683734</td>\n",
       "      <td>-0.202703</td>\n",
       "      <td>-0.256410</td>\n",
       "      <td>1.684783</td>\n",
       "      <td>-0.4</td>\n",
       "      <td>-0.555556</td>\n",
       "      <td>0.0</td>\n",
       "    </tr>\n",
       "    <tr>\n",
       "      <th>3</th>\n",
       "      <td>0.117982</td>\n",
       "      <td>0.137392</td>\n",
       "      <td>0.662162</td>\n",
       "      <td>-0.886447</td>\n",
       "      <td>2.847826</td>\n",
       "      <td>0.0</td>\n",
       "      <td>0.111111</td>\n",
       "      <td>0.0</td>\n",
       "    </tr>\n",
       "    <tr>\n",
       "      <th>4</th>\n",
       "      <td>7.418912</td>\n",
       "      <td>7.239417</td>\n",
       "      <td>0.540541</td>\n",
       "      <td>0.025641</td>\n",
       "      <td>-0.097826</td>\n",
       "      <td>0.2</td>\n",
       "      <td>2.222222</td>\n",
       "      <td>1.0</td>\n",
       "    </tr>\n",
       "  </tbody>\n",
       "</table>\n",
       "</div>"
      ],
      "text/plain": [
       "        Men     Women  Hispanic     White     Black  Native     Asian  Pacific\n",
       "0  0.345630  0.351385  0.500000 -0.333333 -0.010870    14.2 -0.111111      0.0\n",
       "1 -0.027914 -0.004998 -0.351351 -0.571429  2.771739    -0.4 -0.333333      0.0\n",
       "2  0.636987  0.683734 -0.202703 -0.256410  1.684783    -0.4 -0.555556      0.0\n",
       "3  0.117982  0.137392  0.662162 -0.886447  2.847826     0.0  0.111111      0.0\n",
       "4  7.418912  7.239417  0.540541  0.025641 -0.097826     0.2  2.222222      1.0"
      ]
     },
     "execution_count": 76,
     "metadata": {},
     "output_type": "execute_result"
    }
   ],
   "source": [
    "# create features for model\n",
    "X_scaled3 = scaled_demo_df.drop(['cases'], axis=1)\n",
    "X_scaled3.head()"
   ]
  },
  {
   "cell_type": "code",
   "execution_count": 77,
   "metadata": {},
   "outputs": [
    {
     "data": {
      "text/plain": [
       "array([[11.75044231, -1.00772818],\n",
       "       [-2.8212884 , -2.31709428],\n",
       "       [-2.85869588, -1.43335498],\n",
       "       [-2.44160715, -1.96235347],\n",
       "       [-2.76179951,  8.39265439]])"
      ]
     },
     "execution_count": 77,
     "metadata": {},
     "output_type": "execute_result"
    }
   ],
   "source": [
    "# get two principal components\n",
    "X3 = pca.fit_transform(X_scaled3)\n",
    "X3[:5]"
   ]
  },
  {
   "cell_type": "code",
   "execution_count": 78,
   "metadata": {},
   "outputs": [
    {
     "data": {
      "image/png": "[encoded data removed]",
      "text/plain": [
       "<Figure size 432x288 with 1 Axes>"
      ]
     },
     "metadata": {
      "needs_background": "light"
     },
     "output_type": "display_data"
    }
   ],
   "source": [
    "# Graph PCA and original data\n",
    "X3_new = pca.inverse_transform(X3)\n",
    "plt.scatter(X3[:, 0], X3[:, 1], alpha=0.2)\n",
    "plt.scatter(X3_new[:, 0], X3_new[:, 1], alpha=0.8)\n",
    "plt.axis('equal');"
   ]
  },
  {
   "cell_type": "code",
   "execution_count": 79,
   "metadata": {},
   "outputs": [],
   "source": [
    "# instantiate model\n",
    "regressor3 = RandomForestRegressor(n_estimators=100,random_state=48)"
   ]
  },
  {
   "cell_type": "code",
   "execution_count": 80,
   "metadata": {},
   "outputs": [],
   "source": [
    "# split data into training and testing sets\n",
    "X_train3, X_test3, y_train3, y_test3 = train_test_split(X3, y3, random_state=48)"
   ]
  },
  {
   "cell_type": "code",
   "execution_count": 81,
   "metadata": {},
   "outputs": [
    {
     "data": {
      "text/plain": [
       "RandomForestRegressor(random_state=48)"
      ]
     },
     "execution_count": 81,
     "metadata": {},
     "output_type": "execute_result"
    }
   ],
   "source": [
    "# fit model\n",
    "regressor3.fit(X_train3, y_train3)"
   ]
  },
  {
   "cell_type": "code",
   "execution_count": 82,
   "metadata": {},
   "outputs": [
    {
     "data": {
      "text/plain": [
       "array([-0.26234461,  1.45918196,  0.02255717, -0.17190982, -0.20798712])"
      ]
     },
     "execution_count": 82,
     "metadata": {},
     "output_type": "execute_result"
    }
   ],
   "source": [
    "# make predictions\n",
    "y_pred3 = regressor3.predict(X_test3)\n",
    "y_pred3[:5]"
   ]
  },
  {
   "cell_type": "code",
   "execution_count": 83,
   "metadata": {},
   "outputs": [
    {
     "name": "stdout",
     "output_type": "stream",
     "text": [
      "[168.27437185  72.55441636]\n"
     ]
    }
   ],
   "source": [
    "# explore pca\n",
    "print(pca.explained_variance_)"
   ]
  },
  {
   "cell_type": "code",
   "execution_count": 84,
   "metadata": {},
   "outputs": [
    {
     "data": {
      "text/html": [
       "<div>\n",
       "<style scoped>\n",
       "    .dataframe tbody tr th:only-of-type {\n",
       "        vertical-align: middle;\n",
       "    }\n",
       "\n",
       "    .dataframe tbody tr th {\n",
       "        vertical-align: top;\n",
       "    }\n",
       "\n",
       "    .dataframe thead th {\n",
       "        text-align: right;\n",
       "    }\n",
       "</style>\n",
       "<table border=\"1\" class=\"dataframe\">\n",
       "  <thead>\n",
       "    <tr style=\"text-align: right;\">\n",
       "      <th></th>\n",
       "      <th>principal component 1</th>\n",
       "      <th>principal component 2</th>\n",
       "    </tr>\n",
       "  </thead>\n",
       "  <tbody>\n",
       "    <tr>\n",
       "      <th>0</th>\n",
       "      <td>11.750442</td>\n",
       "      <td>-1.007728</td>\n",
       "    </tr>\n",
       "    <tr>\n",
       "      <th>1</th>\n",
       "      <td>-2.821288</td>\n",
       "      <td>-2.317094</td>\n",
       "    </tr>\n",
       "    <tr>\n",
       "      <th>2</th>\n",
       "      <td>-2.858696</td>\n",
       "      <td>-1.433355</td>\n",
       "    </tr>\n",
       "    <tr>\n",
       "      <th>3</th>\n",
       "      <td>-2.441607</td>\n",
       "      <td>-1.962353</td>\n",
       "    </tr>\n",
       "    <tr>\n",
       "      <th>4</th>\n",
       "      <td>-2.761800</td>\n",
       "      <td>8.392654</td>\n",
       "    </tr>\n",
       "  </tbody>\n",
       "</table>\n",
       "</div>"
      ],
      "text/plain": [
       "   principal component 1  principal component 2\n",
       "0              11.750442              -1.007728\n",
       "1              -2.821288              -2.317094\n",
       "2              -2.858696              -1.433355\n",
       "3              -2.441607              -1.962353\n",
       "4              -2.761800               8.392654"
      ]
     },
     "execution_count": 84,
     "metadata": {},
     "output_type": "execute_result"
    }
   ],
   "source": [
    "# Create df with pca and predictions\n",
    "demo_pca_pred = pd.DataFrame(\n",
    "    data=X3, columns=[\"principal component 1\", \"principal component 2\"]\n",
    ")\n",
    "demo_pca_pred.head()"
   ]
  },
  {
   "cell_type": "code",
   "execution_count": 94,
   "metadata": {},
   "outputs": [
    {
     "data": {
      "image/png": "[encoded data removed]",
      "text/plain": [
       "<Figure size 432x288 with 1 Axes>"
      ]
     },
     "metadata": {
      "needs_background": "light"
     },
     "output_type": "display_data"
    }
   ],
   "source": [
    "# Graph PCA and original data\n",
    "X3_new = pca.inverse_transform(X3)\n",
    "plt.scatter(X3[:, 0], X3[:, 1], alpha=0.2)\n",
    "plt.scatter(X3_new[:, 0], X3_new[:, 1], alpha=0.8)\n",
    "plt.axis('equal');"
   ]
  },
  {
   "cell_type": "code",
   "execution_count": 95,
   "metadata": {},
   "outputs": [
    {
     "data": {
      "image/png": "[encoded data removed]",
      "text/plain": [
       "<Figure size 432x288 with 1 Axes>"
      ]
     },
     "metadata": {
      "needs_background": "light"
     },
     "output_type": "display_data"
    }
   ],
   "source": [
    "# plot training data\n",
    "plt.scatter(X_train3[:,0], y_train3)\n",
    "plt.show()"
   ]
  },
  {
   "cell_type": "code",
   "execution_count": 96,
   "metadata": {},
   "outputs": [
    {
     "data": {
      "text/plain": [
       "0.9767636593025791"
      ]
     },
     "execution_count": 96,
     "metadata": {},
     "output_type": "execute_result"
    }
   ],
   "source": [
    "# check score\n",
    "regressor3.score(X_train3, y_train3)"
   ]
  },
  {
   "cell_type": "code",
   "execution_count": 97,
   "metadata": {},
   "outputs": [
    {
     "name": "stdout",
     "output_type": "stream",
     "text": [
      "Mean Absolute Error: 0.7076943208185931\n",
      "Mean Squared Error: 4.055470761672166\n",
      "Root Mean Squared Error: 2.0138199427138876\n",
      "R Squared: 0.802316962869828\n"
     ]
    }
   ],
   "source": [
    "# print model assessment metrics\n",
    "print('Mean Absolute Error:', metrics.mean_absolute_error(y_test3, y_pred3))\n",
    "print('Mean Squared Error:', metrics.mean_squared_error(y_test3, y_pred3))\n",
    "print('Root Mean Squared Error:', np.sqrt(metrics.mean_squared_error(y_test3, y_pred3)))\n",
    "print('R Squared:', metrics.r2_score(y_test3, y_pred3))"
   ]
  },
  {
   "cell_type": "code",
   "execution_count": 98,
   "metadata": {},
   "outputs": [
    {
     "data": {
      "text/html": [
       "<div>\n",
       "<style scoped>\n",
       "    .dataframe tbody tr th:only-of-type {\n",
       "        vertical-align: middle;\n",
       "    }\n",
       "\n",
       "    .dataframe tbody tr th {\n",
       "        vertical-align: top;\n",
       "    }\n",
       "\n",
       "    .dataframe thead th {\n",
       "        text-align: right;\n",
       "    }\n",
       "</style>\n",
       "<table border=\"1\" class=\"dataframe\">\n",
       "  <thead>\n",
       "    <tr style=\"text-align: right;\">\n",
       "      <th></th>\n",
       "      <th>Real Values</th>\n",
       "      <th>Predicted Values</th>\n",
       "    </tr>\n",
       "  </thead>\n",
       "  <tbody>\n",
       "    <tr>\n",
       "      <th>1050</th>\n",
       "      <td>-0.031884</td>\n",
       "      <td>-0.262345</td>\n",
       "    </tr>\n",
       "    <tr>\n",
       "      <th>697</th>\n",
       "      <td>1.368438</td>\n",
       "      <td>1.459182</td>\n",
       "    </tr>\n",
       "    <tr>\n",
       "      <th>1636</th>\n",
       "      <td>0.075040</td>\n",
       "      <td>0.022557</td>\n",
       "    </tr>\n",
       "    <tr>\n",
       "      <th>2655</th>\n",
       "      <td>-0.234138</td>\n",
       "      <td>-0.171910</td>\n",
       "    </tr>\n",
       "    <tr>\n",
       "      <th>2752</th>\n",
       "      <td>-0.061514</td>\n",
       "      <td>-0.207987</td>\n",
       "    </tr>\n",
       "  </tbody>\n",
       "</table>\n",
       "</div>"
      ],
      "text/plain": [
       "      Real Values  Predicted Values\n",
       "1050    -0.031884         -0.262345\n",
       "697      1.368438          1.459182\n",
       "1636     0.075040          0.022557\n",
       "2655    -0.234138         -0.171910\n",
       "2752    -0.061514         -0.207987"
      ]
     },
     "execution_count": 98,
     "metadata": {},
     "output_type": "execute_result"
    }
   ],
   "source": [
    "# create df with predictions and actual values\n",
    "demo_pred_df = pd.DataFrame({'Real Values': y_test3, 'Predicted Values': y_pred3})\n",
    "demo_pred_df.head()"
   ]
  },
  {
   "cell_type": "code",
   "execution_count": 99,
   "metadata": {},
   "outputs": [
    {
     "data": {
      "image/png": "[encoded data removed]",
      "text/plain": [
       "<Figure size 432x288 with 1 Axes>"
      ]
     },
     "metadata": {
      "needs_background": "light"
     },
     "output_type": "display_data"
    }
   ],
   "source": [
    "# plot line chart for predictions\n",
    "plt.plot(demo_pred_df['Predicted Values'], demo_pred_df['Real Values'])\n",
    "plt.show()"
   ]
  },
  {
   "cell_type": "code",
   "execution_count": 100,
   "metadata": {},
   "outputs": [
    {
     "data": {
      "image/png": "[encoded data removed]",
      "text/plain": [
       "<Figure size 432x288 with 1 Axes>"
      ]
     },
     "metadata": {
      "needs_background": "light"
     },
     "output_type": "display_data"
    }
   ],
   "source": [
    "# plot scatter chart for predicted and real values\n",
    "plt.scatter(voting_pred_df['Real Values'], voting_pred_df['Predicted Values'])\n",
    "plt.show()"
   ]
  },
  {
   "cell_type": "code",
   "execution_count": null,
   "metadata": {},
   "outputs": [],
   "source": []
  }
 ],
 "metadata": {
  "kernelspec": {
   "display_name": "mlenv",
   "language": "python",
   "name": "mlenv"
  },
  "language_info": {
   "codemirror_mode": {
    "name": "ipython",
    "version": 3
   },
   "file_extension": ".py",
   "mimetype": "text/x-python",
   "name": "python",
   "nbconvert_exporter": "python",
   "pygments_lexer": "ipython3",
   "version": "3.7.9"
  }
 },
 "nbformat": 4,
 "nbformat_minor": 4
}
