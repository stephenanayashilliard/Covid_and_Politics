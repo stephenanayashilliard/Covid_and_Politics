{
 "cells": [
  {
   "cell_type": "code",
   "execution_count": 112,
   "metadata": {},
   "outputs": [],
   "source": [
    "# import dependencies\n",
    "import pandas as pd\n",
    "import numpy as np\n",
    "import matplotlib.pyplot as plt\n",
    "from sklearn.ensemble import RandomForestRegressor\n",
    "from sklearn.model_selection import train_test_split\n",
    "from sklearn.preprocessing import StandardScaler\n",
    "from sklearn.preprocessing import RobustScaler\n",
    "from sklearn.decomposition import PCA\n",
    "from sklearn import metrics"
   ]
  },
  {
   "cell_type": "code",
   "execution_count": 113,
   "metadata": {},
   "outputs": [
    {
     "data": {
      "text/html": [
       "<div>\n",
       "<style scoped>\n",
       "    .dataframe tbody tr th:only-of-type {\n",
       "        vertical-align: middle;\n",
       "    }\n",
       "\n",
       "    .dataframe tbody tr th {\n",
       "        vertical-align: top;\n",
       "    }\n",
       "\n",
       "    .dataframe thead th {\n",
       "        text-align: right;\n",
       "    }\n",
       "</style>\n",
       "<table border=\"1\" class=\"dataframe\">\n",
       "  <thead>\n",
       "    <tr style=\"text-align: right;\">\n",
       "      <th></th>\n",
       "      <th>county</th>\n",
       "      <th>state</th>\n",
       "      <th>lat</th>\n",
       "      <th>long</th>\n",
       "      <th>TotalPop</th>\n",
       "      <th>total_votes20</th>\n",
       "      <th>votes20_Donald_Trump</th>\n",
       "      <th>votes20_Joe_Biden</th>\n",
       "      <th>percentage20_Donald_Trump</th>\n",
       "      <th>percentage20_Joe_Biden</th>\n",
       "      <th>...</th>\n",
       "      <th>Walk</th>\n",
       "      <th>OtherTransp</th>\n",
       "      <th>WorkAtHome</th>\n",
       "      <th>MeanCommute</th>\n",
       "      <th>Employed</th>\n",
       "      <th>PrivateWork</th>\n",
       "      <th>PublicWork</th>\n",
       "      <th>SelfEmployed</th>\n",
       "      <th>FamilyWork</th>\n",
       "      <th>Unemployment</th>\n",
       "    </tr>\n",
       "  </thead>\n",
       "  <tbody>\n",
       "    <tr>\n",
       "      <th>0</th>\n",
       "      <td>Abbeville</td>\n",
       "      <td>SC</td>\n",
       "      <td>34.223334</td>\n",
       "      <td>-82.461707</td>\n",
       "      <td>24788.0</td>\n",
       "      <td>12433.0</td>\n",
       "      <td>8215.0</td>\n",
       "      <td>4101.0</td>\n",
       "      <td>0.661</td>\n",
       "      <td>0.330</td>\n",
       "      <td>...</td>\n",
       "      <td>1.8</td>\n",
       "      <td>1.8</td>\n",
       "      <td>6.5</td>\n",
       "      <td>25.8</td>\n",
       "      <td>9505.0</td>\n",
       "      <td>78.8</td>\n",
       "      <td>13.3</td>\n",
       "      <td>7.8</td>\n",
       "      <td>0.1</td>\n",
       "      <td>9.4</td>\n",
       "    </tr>\n",
       "    <tr>\n",
       "      <th>1</th>\n",
       "      <td>Acadia</td>\n",
       "      <td>LA</td>\n",
       "      <td>30.295065</td>\n",
       "      <td>-92.414197</td>\n",
       "      <td>62607.0</td>\n",
       "      <td>28425.0</td>\n",
       "      <td>22596.0</td>\n",
       "      <td>5443.0</td>\n",
       "      <td>0.795</td>\n",
       "      <td>0.191</td>\n",
       "      <td>...</td>\n",
       "      <td>1.6</td>\n",
       "      <td>2.2</td>\n",
       "      <td>2.5</td>\n",
       "      <td>27.6</td>\n",
       "      <td>24982.0</td>\n",
       "      <td>80.0</td>\n",
       "      <td>12.1</td>\n",
       "      <td>7.6</td>\n",
       "      <td>0.3</td>\n",
       "      <td>8.9</td>\n",
       "    </tr>\n",
       "    <tr>\n",
       "      <th>2</th>\n",
       "      <td>Accomack</td>\n",
       "      <td>VA</td>\n",
       "      <td>37.767072</td>\n",
       "      <td>-75.632346</td>\n",
       "      <td>32840.0</td>\n",
       "      <td>16938.0</td>\n",
       "      <td>9172.0</td>\n",
       "      <td>7578.0</td>\n",
       "      <td>0.542</td>\n",
       "      <td>0.447</td>\n",
       "      <td>...</td>\n",
       "      <td>2.6</td>\n",
       "      <td>1.8</td>\n",
       "      <td>4.5</td>\n",
       "      <td>22.0</td>\n",
       "      <td>13837.0</td>\n",
       "      <td>74.6</td>\n",
       "      <td>18.1</td>\n",
       "      <td>7.1</td>\n",
       "      <td>0.2</td>\n",
       "      <td>5.4</td>\n",
       "    </tr>\n",
       "    <tr>\n",
       "      <th>3</th>\n",
       "      <td>Ada</td>\n",
       "      <td>ID</td>\n",
       "      <td>43.452658</td>\n",
       "      <td>-116.241552</td>\n",
       "      <td>435117.0</td>\n",
       "      <td>259389.0</td>\n",
       "      <td>130699.0</td>\n",
       "      <td>120539.0</td>\n",
       "      <td>0.504</td>\n",
       "      <td>0.465</td>\n",
       "      <td>...</td>\n",
       "      <td>1.5</td>\n",
       "      <td>2.8</td>\n",
       "      <td>6.9</td>\n",
       "      <td>20.4</td>\n",
       "      <td>214984.0</td>\n",
       "      <td>78.3</td>\n",
       "      <td>15.0</td>\n",
       "      <td>6.6</td>\n",
       "      <td>0.1</td>\n",
       "      <td>4.3</td>\n",
       "    </tr>\n",
       "    <tr>\n",
       "      <th>4</th>\n",
       "      <td>Adair</td>\n",
       "      <td>IA</td>\n",
       "      <td>41.330756</td>\n",
       "      <td>-94.471059</td>\n",
       "      <td>7192.0</td>\n",
       "      <td>4183.0</td>\n",
       "      <td>2917.0</td>\n",
       "      <td>1197.0</td>\n",
       "      <td>0.697</td>\n",
       "      <td>0.286</td>\n",
       "      <td>...</td>\n",
       "      <td>2.8</td>\n",
       "      <td>0.4</td>\n",
       "      <td>6.2</td>\n",
       "      <td>22.3</td>\n",
       "      <td>3680.0</td>\n",
       "      <td>73.8</td>\n",
       "      <td>15.3</td>\n",
       "      <td>10.4</td>\n",
       "      <td>0.5</td>\n",
       "      <td>3.0</td>\n",
       "    </tr>\n",
       "  </tbody>\n",
       "</table>\n",
       "<p>5 rows × 41 columns</p>\n",
       "</div>"
      ],
      "text/plain": [
       "      county state        lat        long  TotalPop  total_votes20  \\\n",
       "0  Abbeville    SC  34.223334  -82.461707   24788.0        12433.0   \n",
       "1     Acadia    LA  30.295065  -92.414197   62607.0        28425.0   \n",
       "2   Accomack    VA  37.767072  -75.632346   32840.0        16938.0   \n",
       "3        Ada    ID  43.452658 -116.241552  435117.0       259389.0   \n",
       "4      Adair    IA  41.330756  -94.471059    7192.0         4183.0   \n",
       "\n",
       "   votes20_Donald_Trump  votes20_Joe_Biden  percentage20_Donald_Trump  \\\n",
       "0                8215.0             4101.0                      0.661   \n",
       "1               22596.0             5443.0                      0.795   \n",
       "2                9172.0             7578.0                      0.542   \n",
       "3              130699.0           120539.0                      0.504   \n",
       "4                2917.0             1197.0                      0.697   \n",
       "\n",
       "   percentage20_Joe_Biden  ...  Walk  OtherTransp  WorkAtHome  MeanCommute  \\\n",
       "0                   0.330  ...   1.8          1.8         6.5         25.8   \n",
       "1                   0.191  ...   1.6          2.2         2.5         27.6   \n",
       "2                   0.447  ...   2.6          1.8         4.5         22.0   \n",
       "3                   0.465  ...   1.5          2.8         6.9         20.4   \n",
       "4                   0.286  ...   2.8          0.4         6.2         22.3   \n",
       "\n",
       "   Employed  PrivateWork  PublicWork  SelfEmployed  FamilyWork  Unemployment  \n",
       "0    9505.0         78.8        13.3           7.8         0.1           9.4  \n",
       "1   24982.0         80.0        12.1           7.6         0.3           8.9  \n",
       "2   13837.0         74.6        18.1           7.1         0.2           5.4  \n",
       "3  214984.0         78.3        15.0           6.6         0.1           4.3  \n",
       "4    3680.0         73.8        15.3          10.4         0.5           3.0  \n",
       "\n",
       "[5 rows x 41 columns]"
      ]
     },
     "execution_count": 113,
     "metadata": {},
     "output_type": "execute_result"
    }
   ],
   "source": [
    "# read in csv as dataframe\n",
    "county_df = pd.read_csv(\"county_data_mlseg2.csv\", index_col=0)\n",
    "county_df.head()"
   ]
  },
  {
   "cell_type": "code",
   "execution_count": 114,
   "metadata": {},
   "outputs": [
    {
     "data": {
      "text/plain": [
       "Index(['county', 'state', 'lat', 'long', 'TotalPop', 'total_votes20',\n",
       "       'votes20_Donald_Trump', 'votes20_Joe_Biden',\n",
       "       'percentage20_Donald_Trump', 'percentage20_Joe_Biden', 'cases',\n",
       "       'deaths', 'Men', 'Women', 'Hispanic', 'White', 'Black', 'Native',\n",
       "       'Asian', 'Pacific', 'Income', 'IncomePerCap', 'Poverty', 'Professional',\n",
       "       'Service', 'Office', 'Construction', 'Production', 'Drive', 'Carpool',\n",
       "       'Transit', 'Walk', 'OtherTransp', 'WorkAtHome', 'MeanCommute',\n",
       "       'Employed', 'PrivateWork', 'PublicWork', 'SelfEmployed', 'FamilyWork',\n",
       "       'Unemployment'],\n",
       "      dtype='object')"
      ]
     },
     "execution_count": 114,
     "metadata": {},
     "output_type": "execute_result"
    }
   ],
   "source": [
    "# check columns\n",
    "county_df.columns"
   ]
  },
  {
   "cell_type": "markdown",
   "metadata": {},
   "source": [
    "# RFR for Economics"
   ]
  },
  {
   "cell_type": "code",
   "execution_count": 115,
   "metadata": {},
   "outputs": [
    {
     "data": {
      "text/html": [
       "<div>\n",
       "<style scoped>\n",
       "    .dataframe tbody tr th:only-of-type {\n",
       "        vertical-align: middle;\n",
       "    }\n",
       "\n",
       "    .dataframe tbody tr th {\n",
       "        vertical-align: top;\n",
       "    }\n",
       "\n",
       "    .dataframe thead th {\n",
       "        text-align: right;\n",
       "    }\n",
       "</style>\n",
       "<table border=\"1\" class=\"dataframe\">\n",
       "  <thead>\n",
       "    <tr style=\"text-align: right;\">\n",
       "      <th></th>\n",
       "      <th>cases</th>\n",
       "      <th>Income</th>\n",
       "      <th>IncomePerCap</th>\n",
       "      <th>Poverty</th>\n",
       "      <th>Employed</th>\n",
       "      <th>Unemployment</th>\n",
       "      <th>Professional</th>\n",
       "    </tr>\n",
       "  </thead>\n",
       "  <tbody>\n",
       "    <tr>\n",
       "      <th>0</th>\n",
       "      <td>805.0</td>\n",
       "      <td>35254.0</td>\n",
       "      <td>19234.0</td>\n",
       "      <td>22.7</td>\n",
       "      <td>9505.0</td>\n",
       "      <td>9.4</td>\n",
       "      <td>27.2</td>\n",
       "    </tr>\n",
       "    <tr>\n",
       "      <th>1</th>\n",
       "      <td>3182.0</td>\n",
       "      <td>40492.0</td>\n",
       "      <td>21591.0</td>\n",
       "      <td>21.5</td>\n",
       "      <td>24982.0</td>\n",
       "      <td>8.9</td>\n",
       "      <td>27.6</td>\n",
       "    </tr>\n",
       "    <tr>\n",
       "      <th>2</th>\n",
       "      <td>1227.0</td>\n",
       "      <td>42260.0</td>\n",
       "      <td>24266.0</td>\n",
       "      <td>19.8</td>\n",
       "      <td>13837.0</td>\n",
       "      <td>5.4</td>\n",
       "      <td>31.1</td>\n",
       "    </tr>\n",
       "    <tr>\n",
       "      <th>3</th>\n",
       "      <td>17451.0</td>\n",
       "      <td>60151.0</td>\n",
       "      <td>31642.0</td>\n",
       "      <td>11.8</td>\n",
       "      <td>214984.0</td>\n",
       "      <td>4.3</td>\n",
       "      <td>43.0</td>\n",
       "    </tr>\n",
       "    <tr>\n",
       "      <th>4</th>\n",
       "      <td>222.0</td>\n",
       "      <td>49477.0</td>\n",
       "      <td>28861.0</td>\n",
       "      <td>9.5</td>\n",
       "      <td>3680.0</td>\n",
       "      <td>3.0</td>\n",
       "      <td>28.2</td>\n",
       "    </tr>\n",
       "  </tbody>\n",
       "</table>\n",
       "</div>"
      ],
      "text/plain": [
       "     cases   Income  IncomePerCap  Poverty  Employed  Unemployment  \\\n",
       "0    805.0  35254.0       19234.0     22.7    9505.0           9.4   \n",
       "1   3182.0  40492.0       21591.0     21.5   24982.0           8.9   \n",
       "2   1227.0  42260.0       24266.0     19.8   13837.0           5.4   \n",
       "3  17451.0  60151.0       31642.0     11.8  214984.0           4.3   \n",
       "4    222.0  49477.0       28861.0      9.5    3680.0           3.0   \n",
       "\n",
       "   Professional  \n",
       "0          27.2  \n",
       "1          27.6  \n",
       "2          31.1  \n",
       "3          43.0  \n",
       "4          28.2  "
      ]
     },
     "execution_count": 115,
     "metadata": {},
     "output_type": "execute_result"
    }
   ],
   "source": [
    "# create economic dataframe for pca\n",
    "econ_df = county_df[['cases','Income', 'IncomePerCap', 'Poverty', 'Employed', 'Unemployment', 'Professional']]\n",
    "econ_df.head()"
   ]
  },
  {
   "cell_type": "code",
   "execution_count": 116,
   "metadata": {},
   "outputs": [
    {
     "data": {
      "text/plain": [
       "array([[ 0.09694042, -0.88405873, -0.83658255,  0.9375    , -0.04750637,\n",
       "         1.        , -0.43421053],\n",
       "       [ 1.62801932, -0.51827022, -0.5065976 ,  0.7875    ,  0.58118634,\n",
       "         0.85294118, -0.38157895],\n",
       "       [ 0.36876006, -0.39480438, -0.13209198,  0.575     ,  0.12846422,\n",
       "        -0.17647059,  0.07894737],\n",
       "       [10.81900161,  0.85458894,  0.90056351, -0.425     ,  8.29927593,\n",
       "        -0.5       ,  1.64473684],\n",
       "       [-0.27858293,  0.10918487,  0.51121767, -0.7125    , -0.28412426,\n",
       "        -0.88235294, -0.30263158]])"
      ]
     },
     "execution_count": 116,
     "metadata": {},
     "output_type": "execute_result"
    }
   ],
   "source": [
    "# create scaled df\n",
    "econ_scaled = RobustScaler().fit_transform(econ_df)\n",
    "econ_scaled[:5]"
   ]
  },
  {
   "cell_type": "code",
   "execution_count": 117,
   "metadata": {},
   "outputs": [
    {
     "data": {
      "text/html": [
       "<div>\n",
       "<style scoped>\n",
       "    .dataframe tbody tr th:only-of-type {\n",
       "        vertical-align: middle;\n",
       "    }\n",
       "\n",
       "    .dataframe tbody tr th {\n",
       "        vertical-align: top;\n",
       "    }\n",
       "\n",
       "    .dataframe thead th {\n",
       "        text-align: right;\n",
       "    }\n",
       "</style>\n",
       "<table border=\"1\" class=\"dataframe\">\n",
       "  <thead>\n",
       "    <tr style=\"text-align: right;\">\n",
       "      <th></th>\n",
       "      <th>cases</th>\n",
       "      <th>Income</th>\n",
       "      <th>IncomePerCap</th>\n",
       "      <th>Poverty</th>\n",
       "      <th>Employed</th>\n",
       "      <th>Unemployment</th>\n",
       "      <th>Professional</th>\n",
       "    </tr>\n",
       "  </thead>\n",
       "  <tbody>\n",
       "    <tr>\n",
       "      <th>0</th>\n",
       "      <td>0.096940</td>\n",
       "      <td>-0.884059</td>\n",
       "      <td>-0.836583</td>\n",
       "      <td>0.9375</td>\n",
       "      <td>-0.047506</td>\n",
       "      <td>1.000000</td>\n",
       "      <td>-0.434211</td>\n",
       "    </tr>\n",
       "    <tr>\n",
       "      <th>1</th>\n",
       "      <td>1.628019</td>\n",
       "      <td>-0.518270</td>\n",
       "      <td>-0.506598</td>\n",
       "      <td>0.7875</td>\n",
       "      <td>0.581186</td>\n",
       "      <td>0.852941</td>\n",
       "      <td>-0.381579</td>\n",
       "    </tr>\n",
       "    <tr>\n",
       "      <th>2</th>\n",
       "      <td>0.368760</td>\n",
       "      <td>-0.394804</td>\n",
       "      <td>-0.132092</td>\n",
       "      <td>0.5750</td>\n",
       "      <td>0.128464</td>\n",
       "      <td>-0.176471</td>\n",
       "      <td>0.078947</td>\n",
       "    </tr>\n",
       "    <tr>\n",
       "      <th>3</th>\n",
       "      <td>10.819002</td>\n",
       "      <td>0.854589</td>\n",
       "      <td>0.900564</td>\n",
       "      <td>-0.4250</td>\n",
       "      <td>8.299276</td>\n",
       "      <td>-0.500000</td>\n",
       "      <td>1.644737</td>\n",
       "    </tr>\n",
       "    <tr>\n",
       "      <th>4</th>\n",
       "      <td>-0.278583</td>\n",
       "      <td>0.109185</td>\n",
       "      <td>0.511218</td>\n",
       "      <td>-0.7125</td>\n",
       "      <td>-0.284124</td>\n",
       "      <td>-0.882353</td>\n",
       "      <td>-0.302632</td>\n",
       "    </tr>\n",
       "  </tbody>\n",
       "</table>\n",
       "</div>"
      ],
      "text/plain": [
       "       cases    Income  IncomePerCap  Poverty  Employed  Unemployment  \\\n",
       "0   0.096940 -0.884059     -0.836583   0.9375 -0.047506      1.000000   \n",
       "1   1.628019 -0.518270     -0.506598   0.7875  0.581186      0.852941   \n",
       "2   0.368760 -0.394804     -0.132092   0.5750  0.128464     -0.176471   \n",
       "3  10.819002  0.854589      0.900564  -0.4250  8.299276     -0.500000   \n",
       "4  -0.278583  0.109185      0.511218  -0.7125 -0.284124     -0.882353   \n",
       "\n",
       "   Professional  \n",
       "0     -0.434211  \n",
       "1     -0.381579  \n",
       "2      0.078947  \n",
       "3      1.644737  \n",
       "4     -0.302632  "
      ]
     },
     "execution_count": 117,
     "metadata": {},
     "output_type": "execute_result"
    }
   ],
   "source": [
    "scaled_econ_df = pd.DataFrame(econ_scaled, columns= ['cases','Income', 'IncomePerCap', 'Poverty', 'Employed', 'Unemployment', 'Professional'])\n",
    "scaled_econ_df.head()"
   ]
  },
  {
   "cell_type": "code",
   "execution_count": 118,
   "metadata": {},
   "outputs": [
    {
     "data": {
      "text/html": [
       "<div>\n",
       "<style scoped>\n",
       "    .dataframe tbody tr th:only-of-type {\n",
       "        vertical-align: middle;\n",
       "    }\n",
       "\n",
       "    .dataframe tbody tr th {\n",
       "        vertical-align: top;\n",
       "    }\n",
       "\n",
       "    .dataframe thead th {\n",
       "        text-align: right;\n",
       "    }\n",
       "</style>\n",
       "<table border=\"1\" class=\"dataframe\">\n",
       "  <thead>\n",
       "    <tr style=\"text-align: right;\">\n",
       "      <th></th>\n",
       "      <th>cases</th>\n",
       "    </tr>\n",
       "  </thead>\n",
       "  <tbody>\n",
       "    <tr>\n",
       "      <th>0</th>\n",
       "      <td>0.096940</td>\n",
       "    </tr>\n",
       "    <tr>\n",
       "      <th>1</th>\n",
       "      <td>1.628019</td>\n",
       "    </tr>\n",
       "    <tr>\n",
       "      <th>2</th>\n",
       "      <td>0.368760</td>\n",
       "    </tr>\n",
       "    <tr>\n",
       "      <th>3</th>\n",
       "      <td>10.819002</td>\n",
       "    </tr>\n",
       "    <tr>\n",
       "      <th>4</th>\n",
       "      <td>-0.278583</td>\n",
       "    </tr>\n",
       "  </tbody>\n",
       "</table>\n",
       "</div>"
      ],
      "text/plain": [
       "       cases\n",
       "0   0.096940\n",
       "1   1.628019\n",
       "2   0.368760\n",
       "3  10.819002\n",
       "4  -0.278583"
      ]
     },
     "execution_count": 118,
     "metadata": {},
     "output_type": "execute_result"
    }
   ],
   "source": [
    "y = scaled_econ_df['cases']\n",
    "scaled_cases = pd.DataFrame(y, columns = ['cases'])\n",
    "scaled_cases.head()"
   ]
  },
  {
   "cell_type": "code",
   "execution_count": 119,
   "metadata": {},
   "outputs": [
    {
     "data": {
      "text/html": [
       "<div>\n",
       "<style scoped>\n",
       "    .dataframe tbody tr th:only-of-type {\n",
       "        vertical-align: middle;\n",
       "    }\n",
       "\n",
       "    .dataframe tbody tr th {\n",
       "        vertical-align: top;\n",
       "    }\n",
       "\n",
       "    .dataframe thead th {\n",
       "        text-align: right;\n",
       "    }\n",
       "</style>\n",
       "<table border=\"1\" class=\"dataframe\">\n",
       "  <thead>\n",
       "    <tr style=\"text-align: right;\">\n",
       "      <th></th>\n",
       "      <th>Income</th>\n",
       "      <th>IncomePerCap</th>\n",
       "      <th>Poverty</th>\n",
       "      <th>Employed</th>\n",
       "      <th>Unemployment</th>\n",
       "      <th>Professional</th>\n",
       "    </tr>\n",
       "  </thead>\n",
       "  <tbody>\n",
       "    <tr>\n",
       "      <th>0</th>\n",
       "      <td>-0.884059</td>\n",
       "      <td>-0.836583</td>\n",
       "      <td>0.9375</td>\n",
       "      <td>-0.047506</td>\n",
       "      <td>1.000000</td>\n",
       "      <td>-0.434211</td>\n",
       "    </tr>\n",
       "    <tr>\n",
       "      <th>1</th>\n",
       "      <td>-0.518270</td>\n",
       "      <td>-0.506598</td>\n",
       "      <td>0.7875</td>\n",
       "      <td>0.581186</td>\n",
       "      <td>0.852941</td>\n",
       "      <td>-0.381579</td>\n",
       "    </tr>\n",
       "    <tr>\n",
       "      <th>2</th>\n",
       "      <td>-0.394804</td>\n",
       "      <td>-0.132092</td>\n",
       "      <td>0.5750</td>\n",
       "      <td>0.128464</td>\n",
       "      <td>-0.176471</td>\n",
       "      <td>0.078947</td>\n",
       "    </tr>\n",
       "    <tr>\n",
       "      <th>3</th>\n",
       "      <td>0.854589</td>\n",
       "      <td>0.900564</td>\n",
       "      <td>-0.4250</td>\n",
       "      <td>8.299276</td>\n",
       "      <td>-0.500000</td>\n",
       "      <td>1.644737</td>\n",
       "    </tr>\n",
       "    <tr>\n",
       "      <th>4</th>\n",
       "      <td>0.109185</td>\n",
       "      <td>0.511218</td>\n",
       "      <td>-0.7125</td>\n",
       "      <td>-0.284124</td>\n",
       "      <td>-0.882353</td>\n",
       "      <td>-0.302632</td>\n",
       "    </tr>\n",
       "  </tbody>\n",
       "</table>\n",
       "</div>"
      ],
      "text/plain": [
       "     Income  IncomePerCap  Poverty  Employed  Unemployment  Professional\n",
       "0 -0.884059     -0.836583   0.9375 -0.047506      1.000000     -0.434211\n",
       "1 -0.518270     -0.506598   0.7875  0.581186      0.852941     -0.381579\n",
       "2 -0.394804     -0.132092   0.5750  0.128464     -0.176471      0.078947\n",
       "3  0.854589      0.900564  -0.4250  8.299276     -0.500000      1.644737\n",
       "4  0.109185      0.511218  -0.7125 -0.284124     -0.882353     -0.302632"
      ]
     },
     "execution_count": 119,
     "metadata": {},
     "output_type": "execute_result"
    }
   ],
   "source": [
    "X_scaled = scaled_econ_df.drop(['cases'], axis=1)\n",
    "X_scaled.head()"
   ]
  },
  {
   "cell_type": "code",
   "execution_count": 120,
   "metadata": {},
   "outputs": [],
   "source": [
    "# initialize pca model\n",
    "pca = PCA(n_components=2)"
   ]
  },
  {
   "cell_type": "code",
   "execution_count": 121,
   "metadata": {},
   "outputs": [
    {
     "data": {
      "text/plain": [
       "array([[-1.66237441,  1.81758077],\n",
       "       [-1.00409553,  1.36181424],\n",
       "       [-1.4181055 ,  0.4092722 ],\n",
       "       [ 6.89369296, -1.41157477],\n",
       "       [-1.78496402, -0.91629211]])"
      ]
     },
     "execution_count": 121,
     "metadata": {},
     "output_type": "execute_result"
    }
   ],
   "source": [
    "# get two principal components for the iris data\n",
    "X = pca.fit_transform(X_scaled)\n",
    "X[:5]"
   ]
  },
  {
   "cell_type": "code",
   "execution_count": 122,
   "metadata": {},
   "outputs": [],
   "source": [
    "# instantiate model\n",
    "regressor = RandomForestRegressor(n_estimators=100,random_state=48)"
   ]
  },
  {
   "cell_type": "code",
   "execution_count": 123,
   "metadata": {},
   "outputs": [],
   "source": [
    "# split data into training and testing sets\n",
    "X_train, X_test, y_train, y_test = train_test_split(X, y, random_state=48)"
   ]
  },
  {
   "cell_type": "code",
   "execution_count": 124,
   "metadata": {},
   "outputs": [
    {
     "data": {
      "text/plain": [
       "RandomForestRegressor(random_state=48)"
      ]
     },
     "execution_count": 124,
     "metadata": {},
     "output_type": "execute_result"
    }
   ],
   "source": [
    "# fit model\n",
    "regressor.fit(X_train, y_train)"
   ]
  },
  {
   "cell_type": "code",
   "execution_count": 125,
   "metadata": {},
   "outputs": [
    {
     "data": {
      "text/plain": [
       "array([-0.33405475,  6.31488567, -0.33253462,  0.95800322,  0.82555233])"
      ]
     },
     "execution_count": 125,
     "metadata": {},
     "output_type": "execute_result"
    }
   ],
   "source": [
    "# make predictions\n",
    "y_pred = regressor.predict(X_test)\n",
    "y_pred[:5]"
   ]
  },
  {
   "cell_type": "code",
   "execution_count": 126,
   "metadata": {},
   "outputs": [
    {
     "data": {
      "text/html": [
       "<div>\n",
       "<style scoped>\n",
       "    .dataframe tbody tr th:only-of-type {\n",
       "        vertical-align: middle;\n",
       "    }\n",
       "\n",
       "    .dataframe tbody tr th {\n",
       "        vertical-align: top;\n",
       "    }\n",
       "\n",
       "    .dataframe thead th {\n",
       "        text-align: right;\n",
       "    }\n",
       "</style>\n",
       "<table border=\"1\" class=\"dataframe\">\n",
       "  <thead>\n",
       "    <tr style=\"text-align: right;\">\n",
       "      <th></th>\n",
       "      <th>principal component 1</th>\n",
       "      <th>principal component 2</th>\n",
       "    </tr>\n",
       "  </thead>\n",
       "  <tbody>\n",
       "    <tr>\n",
       "      <th>0</th>\n",
       "      <td>-1.662374</td>\n",
       "      <td>1.817581</td>\n",
       "    </tr>\n",
       "    <tr>\n",
       "      <th>1</th>\n",
       "      <td>-1.004096</td>\n",
       "      <td>1.361814</td>\n",
       "    </tr>\n",
       "    <tr>\n",
       "      <th>2</th>\n",
       "      <td>-1.418106</td>\n",
       "      <td>0.409272</td>\n",
       "    </tr>\n",
       "    <tr>\n",
       "      <th>3</th>\n",
       "      <td>6.893693</td>\n",
       "      <td>-1.411575</td>\n",
       "    </tr>\n",
       "    <tr>\n",
       "      <th>4</th>\n",
       "      <td>-1.784964</td>\n",
       "      <td>-0.916292</td>\n",
       "    </tr>\n",
       "  </tbody>\n",
       "</table>\n",
       "</div>"
      ],
      "text/plain": [
       "   principal component 1  principal component 2\n",
       "0              -1.662374               1.817581\n",
       "1              -1.004096               1.361814\n",
       "2              -1.418106               0.409272\n",
       "3               6.893693              -1.411575\n",
       "4              -1.784964              -0.916292"
      ]
     },
     "execution_count": 126,
     "metadata": {},
     "output_type": "execute_result"
    }
   ],
   "source": [
    "# Create df with pca and predictions\n",
    "econ_pca_pred = pd.DataFrame(\n",
    "    data=X, columns=[\"principal component 1\", \"principal component 2\"]\n",
    ")\n",
    "econ_pca_pred.head()"
   ]
  },
  {
   "cell_type": "code",
   "execution_count": 127,
   "metadata": {},
   "outputs": [
    {
     "name": "stdout",
     "output_type": "stream",
     "text": [
      "[41.84944075  2.40138947]\n"
     ]
    }
   ],
   "source": [
    "# plot components\n",
    "print(pca.explained_variance_)"
   ]
  },
  {
   "cell_type": "code",
   "execution_count": 128,
   "metadata": {},
   "outputs": [
    {
     "name": "stdout",
     "output_type": "stream",
     "text": [
      "[[ 0.04003528  0.03929823 -0.01145061  0.99765608  0.00163436  0.03743496]\n",
      " [-0.50381653 -0.4858889   0.45747131  0.05765967  0.40482044 -0.36550876]]\n"
     ]
    }
   ],
   "source": [
    "print(pca.components_)"
   ]
  },
  {
   "cell_type": "code",
   "execution_count": 129,
   "metadata": {},
   "outputs": [
    {
     "data": {
      "image/png": "[encoded data removed]",
      "text/plain": [
       "<Figure size 432x288 with 1 Axes>"
      ]
     },
     "metadata": {
      "needs_background": "light"
     },
     "output_type": "display_data"
    }
   ],
   "source": [
    "# plot pca\n",
    "plt.scatter(econ_pca_pred['principal component 1'], econ_pca_pred['principal component 2'])\n",
    "plt.show()"
   ]
  },
  {
   "cell_type": "code",
   "execution_count": 130,
   "metadata": {},
   "outputs": [
    {
     "name": "stdout",
     "output_type": "stream",
     "text": [
      "(2286, 2)\n",
      "(2286,)\n",
      "(762,)\n"
     ]
    }
   ],
   "source": [
    "print(X_train.shape)\n",
    "print(y_train.shape)\n",
    "print(y_pred.shape)"
   ]
  },
  {
   "cell_type": "code",
   "execution_count": 131,
   "metadata": {},
   "outputs": [],
   "source": [
    "## model divided pred by 3"
   ]
  },
  {
   "cell_type": "code",
   "execution_count": 132,
   "metadata": {},
   "outputs": [
    {
     "name": "stdout",
     "output_type": "stream",
     "text": [
      "[[-1.66304756  0.36337991]\n",
      " [-1.14642527 -0.62157069]\n",
      " [ 5.26022051  0.07267117]\n",
      " ...\n",
      " [-1.87115397  2.95371076]\n",
      " [-1.86861746  2.4892206 ]\n",
      " [-1.81658467 -0.55231179]]\n"
     ]
    }
   ],
   "source": [
    "print(X_train)\n",
    "\n"
   ]
  },
  {
   "cell_type": "code",
   "execution_count": 133,
   "metadata": {},
   "outputs": [
    {
     "name": "stdout",
     "output_type": "stream",
     "text": [
      "2075   -0.128502\n",
      "1965    0.590982\n",
      "2597    2.495008\n",
      "506    -0.377778\n",
      "822     0.183253\n",
      "          ...   \n",
      "2992    0.200000\n",
      "2395    0.250886\n",
      "1476   -0.178744\n",
      "1361    0.130435\n",
      "2611   -0.263768\n",
      "Name: cases, Length: 2286, dtype: float64\n"
     ]
    }
   ],
   "source": [
    "print(y_train)"
   ]
  },
  {
   "cell_type": "code",
   "execution_count": 134,
   "metadata": {},
   "outputs": [
    {
     "name": "stdout",
     "output_type": "stream",
     "text": [
      "[-3.34054750e-01  6.31488567e+00 -3.32534622e-01  9.58003221e-01\n",
      "  8.25552335e-01  6.29049919e-02 -3.38009662e-01 -9.39774557e-02\n",
      "  1.41694428e+01  2.84064412e-01 -3.94524960e-01 -2.74666667e-01\n",
      " -9.72495974e-02  1.51220612e-01  6.54299517e-02  2.00328502e-01\n",
      "  3.08141707e-01  3.88856683e-02 -3.71259259e-01 -8.61191626e-02\n",
      "  1.54750467e+01 -1.15748792e-02  1.74615974e+01 -3.33436393e-01\n",
      "  3.40553945e-01 -2.86608696e-01  1.46859903e-03  1.49357810e+00\n",
      "  4.62704026e+00 -3.23368760e-01 -1.94718196e-02 -7.56521739e-02\n",
      "  4.87832528e-01 -3.63568438e-01  2.95022866e+00  1.42740097e+00\n",
      " -3.61674718e-01  2.49848631e-01  2.13087923e+00  2.19814493e+00\n",
      "  2.39835749e+00 -2.54685990e-01 -8.47793881e-02  5.98376812e-01\n",
      "  1.83561997e-01 -3.73294686e-01 -1.83446055e-02 -2.04128824e-01\n",
      "  9.98718196e-01 -3.49977456e-01 -2.40579710e-01 -1.67085346e-01\n",
      "  5.47594203e-01  1.06917874e-01  1.30892110e-01  2.51729469e-01\n",
      "  1.82157810e-01 -2.11935588e-01  3.23377778e+00 -2.85101449e-01\n",
      "  2.82962963e-02  2.63130177e+01 -3.25552335e-01  2.03387440e+00\n",
      "  1.04644122e-01  6.35513688e+00  5.59111111e-01  1.06952013e+00\n",
      " -9.86988728e-02 -3.61803543e-01  5.86608696e-01  1.36418680e-01\n",
      " -1.66608696e-01  3.27305636e+00 -3.77668277e-01  2.95362319e-01\n",
      "  5.01650886e+00  5.11200644e+00  9.51239936e-02  5.40888889e-01\n",
      " -1.97842190e-01 -3.43355878e-01  2.05660548e+00 -2.21165862e-01\n",
      " -3.33326892e-01 -3.63072464e-01 -4.16747182e-03  4.59747504e+00\n",
      " -1.73874396e-01  6.01423510e-01  4.16152657e+00 -2.22286634e-01\n",
      " -1.74473430e-01  4.66479871e-01  8.22479871e-02 -3.42267311e-01\n",
      "  5.23444122e+00 -1.64077295e-01  6.54995169e-01  3.37114332e-01\n",
      " -3.02351047e-01  2.14685990e-02  2.01468599e-01 -1.23452496e-01\n",
      "  4.60818035e-01 -3.60154589e-01  4.86312399e-03  5.94047665e+00\n",
      "  7.17552335e-03 -2.32972625e-01 -3.38190016e-01  7.52231884e-01\n",
      " -3.81165862e-01  1.27895008e+00  4.40032206e-01  1.20946860e-01\n",
      "  8.80270531e-01  1.29076329e+00  4.91877617e-01  4.93216103e+00\n",
      "  9.90518519e-01 -3.16953301e-01  5.72579710e-01  3.84445733e+00\n",
      " -2.97172303e-01  2.78466989e+00 -7.32882448e-02 -5.93880837e-02\n",
      "  9.92305958e+00 -2.76444444e-01  1.71905314e+00  1.28895330e-01\n",
      " -1.83027375e-01  2.94789050e-01  3.16721417e-01  1.91543961e+00\n",
      "  2.89700483e-01  5.14138486e-02 -3.05352657e-01 -1.12399356e-01\n",
      "  2.00930113e+00  3.41866023e+00 -3.93842190e-01 -3.72605475e-01\n",
      "  3.48118519e+00  2.52760064e-01 -2.43877617e-01 -1.94911433e-01\n",
      " -2.93210950e-01  6.72412238e-01  3.79780998e-01 -3.08676329e-01\n",
      "  3.29149758e+00  5.10479227e+00 -3.56128824e-01 -3.27381643e-01\n",
      " -5.62705314e-02 -1.22003221e-01 -2.61475040e-01  4.12302738e-02\n",
      " -4.01867955e-01  1.79453784e+00 -6.31046699e-02  6.01977456e-01\n",
      "  4.23406119e+00 -1.75974235e-01  1.10613527e+01  3.40308599e+01\n",
      "  9.15922705e-01 -3.16979066e-01 -2.00128824e-02 -6.16682770e-02\n",
      "  1.93301127e-02  1.20576490e+00 -7.60772947e-02  7.98466989e-01\n",
      " -7.02737520e-02  6.42550725e-01 -1.35961353e-01 -2.68476651e-01\n",
      "  5.01706924e-02 -9.50080515e-02  1.83654750e+00  5.94782609e-02\n",
      "  1.45732045e+00  7.05764895e-02  4.26698873e-01  1.75703704e-01\n",
      " -2.87400966e-01  2.29910467e+00  5.40933977e-02 -1.37152979e-01\n",
      "  2.79755233e-01 -1.95169082e-01 -2.42834138e-03  6.61623188e-01\n",
      " -1.52302738e-01 -2.82441224e-01  2.00915233e+01  5.77590982e-01\n",
      "  4.13623188e-01  4.30944928e+00  8.27471820e-01 -1.73545894e-01\n",
      "  1.50406441e+00 -1.44090177e-01  3.73977456e-02  2.25370692e+00\n",
      "  9.16663446e+00  5.20326570e+00  2.17650242e+00 -3.80734300e-01\n",
      "  6.04914654e-01  1.27020934e-02 -1.54705314e-01  7.34264090e+00\n",
      " -3.22853462e-01 -1.33030596e-01 -2.70827697e-01  2.00860548e+00\n",
      " -3.07420290e-01  5.69855072e-02  4.99929147e-01 -1.31027375e-01\n",
      "  1.15317230e-01 -3.68798712e-01 -1.75265700e-02 -5.13365539e-02\n",
      "  1.11017346e+02  2.66228663e-01  1.69404187e-02  7.31272142e-02\n",
      "  6.26666667e-01 -2.97069243e-01  6.37040902e+00  7.98711755e-03\n",
      "  2.08885024e+00  1.64078583e+00  9.20934622e+00  1.63452496e+00\n",
      "  1.71023510e+00  5.12811594e-01  4.47993559e-01  5.72792271e-01\n",
      " -2.40457327e-01  7.51716586e-01 -1.70434783e-02 -2.29037037e-01\n",
      "  4.98241546e-01 -2.27665056e-01 -2.17185185e-01 -3.98312399e-01\n",
      " -2.92766506e-01 -3.96167472e-01  7.83980676e-01 -3.62685990e-01\n",
      " -2.53932367e-01 -2.77043478e-01  3.51188406e-01  5.64979066e-01\n",
      " -1.24495974e-01 -2.88779388e-01 -3.24238325e-01  5.36838647e+00\n",
      " -3.47980676e-01 -3.70537842e-01  1.39981320e+00  4.10930757e-01\n",
      "  1.91607085e-01 -3.87175523e-01  4.69052496e+00  1.68620290e+00\n",
      "  1.34215781e-01  2.82634461e-01 -3.00972625e-01  7.44476651e-02\n",
      "  6.80714976e-01 -1.61526570e-01 -3.34209340e-01 -2.87504026e-01\n",
      " -3.54512077e-01 -1.10537842e-01  3.23845411e-01  9.89281804e-01\n",
      " -2.84508857e-02 -2.94209340e-01  1.66020612e+00 -1.15529791e-01\n",
      " -4.01378422e-01  1.39085346e+00  1.08001288e+00  2.75426731e-02\n",
      " -2.14737520e-01  8.78563607e-01 -3.13861514e-01  1.39243800e+00\n",
      "  8.87561997e-01  1.94700354e+01 -1.85011272e-01  3.12077295e-01\n",
      " -2.06879227e-01 -3.40824477e-01  4.69655395e-01  3.06164251e-01\n",
      "  2.07967150e+00  1.23323671e-01  6.15568438e-01  8.51272142e-02\n",
      " -2.89243156e-01  1.59210306e+00  6.42099839e-01 -3.50119163e-01\n",
      " -9.88534622e-02  2.54254428e-01 -2.89661836e-02  6.37394525e+00\n",
      " -2.58995169e-01  1.70444960e+01  1.97921804e+01  1.12927536e+00\n",
      "  8.01958132e-01  9.33977456e-04 -1.62215781e-01 -4.43478261e-02\n",
      " -6.75233494e-02  6.94157810e-01  6.66363929e-01  2.91478261e-01\n",
      "  3.60898551e+00 -2.22383253e-01 -5.60128824e-02 -2.95317230e-01\n",
      " -1.70666667e-01  7.19160709e+00  4.24874074e+00 -3.89404187e-01\n",
      " -3.78557166e-01  1.41502738e+00 -3.42222222e-01  2.37577456e+00\n",
      "  8.43864734e-01  5.35677295e+00  6.35658615e-01  6.54293076e-01\n",
      "  4.27600644e-01 -3.27858293e-02  1.82563607e-01 -1.38338164e-01\n",
      " -2.44573269e-01  9.13816425e-01 -3.65346216e-02  6.94602254e-01\n",
      " -2.75156200e-01  2.17282770e+01  3.25520129e-01 -3.03471820e-01\n",
      " -2.41951691e-01  3.78099839e-03  6.39729469e-01  4.17084058e+00\n",
      " -4.00966184e-02  1.25057456e+01 -8.93011272e-02 -7.27729469e-02\n",
      " -9.69919485e-02  1.31600000e+00  8.51658615e-02  2.75491143e-02\n",
      "  2.55661836e+00  5.32418680e-01 -3.76747182e-01  4.50241546e-03\n",
      " -1.50518519e-01  4.72564251e+00  1.21440258e+00 -3.01165862e-01\n",
      " -1.65558776e-01  5.66421900e-01  3.95452496e-01 -2.79871176e-01\n",
      " -2.20586151e-01 -2.05314010e-01  2.32270531e-01  2.21580225e+01\n",
      "  7.84090177e-02 -3.19123994e-01  2.22957810e+00 -2.74273752e-01\n",
      "  4.78022544e-01 -1.10247987e-01  1.65466023e+00  6.44122383e-06\n",
      "  1.27269372e+01 -3.19645733e-01  1.69124638e+00 -2.16438003e-01\n",
      " -3.43793881e-01  1.96306602e+00 -1.68051530e-01 -1.65082126e-01\n",
      "  7.66485024e+00  2.39710145e-01  1.32077295e-01  1.46858615e+00\n",
      "  1.85178100e+00  1.71178100e+00  1.02115942e+00  2.03903382e-01\n",
      "  1.88240902e+00 -3.55819646e-01  5.67963285e+00 -1.85938808e-01\n",
      " -9.99033816e-03  3.88599034e-02  1.77762963e+00 -3.49043478e-01\n",
      "  4.34537842e-01  1.26151369e+00 -3.25616747e-01  9.85320451e-01\n",
      " -2.15117552e-01 -7.49694042e-02 -2.85339775e-01  1.08534622e-02\n",
      "  6.28579710e-01 -3.21655395e-01  1.86009662e-01 -2.09713366e-01\n",
      "  8.41867955e-03  6.97378422e-01 -2.89159420e-01  1.68191304e+00\n",
      " -1.12998390e-01  5.22089533e+00  3.18325282e-01  2.00392915e-01\n",
      " -3.04869565e-01  8.11967794e-01  5.92322061e-01  1.97558776e+00\n",
      " -9.00354267e-02 -3.09359098e-01  3.64380032e-02 -4.13043478e-01\n",
      " -2.11368760e-01 -1.29919485e-02  5.12412238e-01  6.97771337e-01\n",
      "  4.76225443e-01  4.68309179e-01  1.10376812e+00  3.71014493e-03\n",
      "  1.51626409e-01 -1.05752013e-01  3.29672142e+00 -1.97610306e-01\n",
      " -1.51446055e-01  1.90660225e-03  5.78238325e+00 -1.39871176e-01\n",
      "  2.42409018e-01 -2.76264090e-01 -3.81320451e-01  6.32373591e-01\n",
      " -3.42885668e-01 -2.31838969e-01  1.43607085e-01 -3.38434783e-01\n",
      " -2.14338164e-01  1.31774557e-01  1.88946860e-01  9.22898551e-02\n",
      " -1.61468599e-01  6.88264090e-01  1.43239936e+00 -9.07632850e-02\n",
      " -3.02383253e-01  4.23111111e+00 -1.44206119e-01 -3.56547504e-01\n",
      " -2.18673108e-01 -3.61919485e-01 -2.79587762e-01 -2.44753623e-01\n",
      " -2.65468599e-01 -8.33880837e-02  4.76025765e-01 -1.36637681e-01\n",
      "  4.31471820e-01  1.09063446e+00 -7.62705314e-02  2.70750403e-01\n",
      "  1.35423510e+00  9.53107890e-01 -3.17391304e-01  1.23500161e+00\n",
      "  7.79201288e-01  2.00637681e-01 -2.99008052e-01 -1.12495974e-01\n",
      "  7.91574879e-01 -1.07375201e-02 -4.01120773e-01 -2.20103060e-01\n",
      " -2.48914654e-01 -3.43388084e-01 -5.61030596e-02  1.76215137e+00\n",
      "  4.81288245e-02  9.79433172e-01  1.55272142e+00  4.30003221e+00\n",
      " -7.42028986e-02 -3.93223833e-01 -2.22099839e-01  8.23684380e+00\n",
      "  1.34875362e+01 -3.29681159e-01 -3.64753623e-01 -3.17809984e-01\n",
      " -1.14847021e-01  6.87076973e+00  4.88431562e-01 -2.19980676e-01\n",
      "  2.11238647e+00 -1.14434783e-01  1.36296296e-02  1.67072464e-01\n",
      "  3.68225443e-01  1.46086957e-02  6.29114332e-01 -2.92959742e-01\n",
      " -3.99613527e-02  1.57767279e+01  6.62589372e-01  7.76843800e-01\n",
      " -1.00811594e-01 -3.98028986e-01  7.22711755e-01  9.23413849e-02\n",
      "  2.33172303e-02  7.54847021e-01  5.09551047e+00 -3.15033816e-01\n",
      "  7.39645733e-02  1.68258293e+00  5.57294686e-02 -2.24792271e-01\n",
      " -1.09758454e-01 -2.89855072e-04  1.36438003e-01 -3.56586151e-01\n",
      "  3.29855072e-01  9.52673752e+00  3.65554911e+00  1.02937198e-01\n",
      "  5.31143317e-02 -3.28251208e-01 -3.49971014e-01  1.89287601e+00\n",
      "  6.36083736e-01 -3.42602254e-01  3.77603865e-01  2.86260870e-01\n",
      " -2.97417069e-01  1.44901771e-01  1.85366184e+01 -2.63123994e-02\n",
      " -6.08824477e-02  2.19179646e+01 -3.98119163e-01 -3.07169082e-01\n",
      "  8.96895330e-01 -1.91619968e-01  2.10570048e+00 -9.80611916e-02\n",
      "  3.11381643e-01  1.88524960e+00 -1.54492754e-01 -6.09468599e-02\n",
      "  2.27050564e+00  1.63406119e+00  1.01685024e+00 -4.29758454e-02\n",
      "  3.84573269e-01  1.34370370e-01  3.44012882e-01 -2.94028986e-01\n",
      "  8.58550725e-02 -6.53075684e-02 -2.01655395e-01  1.85552335e-01\n",
      " -4.01964573e-01  1.60248631e+00  1.34640258e+00 -2.53900161e-01\n",
      " -2.57526570e-01 -2.58241546e-01  5.29417069e-01 -3.86325282e-01\n",
      " -1.74718196e-01 -1.11484702e-01  2.33799678e+00  9.55877617e-03\n",
      " -2.41127214e-01 -1.61500805e-01  2.10932045e+00 -2.54383253e-01\n",
      "  1.02801932e-01  1.00935266e+00  1.79420290e-01  1.19871176e-02\n",
      "  1.20578422e+00 -1.50151369e-01  5.30054750e-01 -9.45249597e-02\n",
      "  3.33584541e-01 -2.22402576e-01 -1.37764895e-01 -2.44702093e-01\n",
      " -2.99581320e-01  1.21362963e+00  2.58589372e-01 -2.94718196e-01\n",
      " -1.11072464e-01  2.40605475e-01  2.35471820e-01  5.97397746e-01\n",
      "  1.56519742e+01  7.92663446e-01  4.19495652e+00  2.19948470e-01\n",
      "  3.12360709e-01  2.88104348e+00 -3.41011272e-01  8.18789050e-01\n",
      " -2.05210950e-01 -2.74892110e-01 -8.41545894e-02  1.86063768e+00\n",
      " -3.49887279e-01 -1.56354267e-01  2.92438003e-01 -1.45011272e-01\n",
      " -4.16721417e-01 -1.97204509e-01  1.79233494e-01 -2.69797101e-01\n",
      "  5.29017713e-02 -3.09694042e-01 -3.71871176e-01  8.45700483e-01\n",
      "  3.49634783e+00  3.66215781e-01 -1.52657005e-02  1.61883414e+00\n",
      " -1.77687601e-01  3.65371981e-01 -2.32843800e-01  2.56669887e-01\n",
      "  1.07207729e-01 -3.14634461e-01 -3.28586151e-01  7.61464734e+00\n",
      "  5.03989952e+01 -2.67613527e-01  1.71677939e-01  4.63227053e-01\n",
      " -9.62318841e-02  5.95574879e-01 -2.45455717e-01 -2.01275362e-01\n",
      " -1.25436393e-01  4.46334300e+00  9.15996779e+00  2.92630596e+00\n",
      " -1.24914654e-01  3.10631884e+00 -2.12418680e-01 -3.97906602e-01\n",
      " -1.68740741e-01  3.71547826e+00  6.84553945e-01  9.64438003e-01\n",
      " -3.64998390e-01  1.04699130e+01 -2.98769726e-01  1.52508857e-01\n",
      "  5.46795491e-02  6.00618357e-01 -3.51896940e-01  3.14428341e-01\n",
      "  8.91020934e-01  7.04489533e-01 -2.95368760e-01 -1.76225443e-01\n",
      " -3.26093398e-01  1.24700161e+00 -2.58962963e-01  1.43919485e+00\n",
      " -1.73913043e-01  1.06289211e+00 -1.80521739e-01 -3.90969404e-01\n",
      "  5.53945250e-02 -3.23639291e-01 -3.40251208e-01  2.38485024e+00\n",
      "  1.80354267e-04  2.69384863e-01 -3.79188406e-01 -4.02183575e-01\n",
      " -4.45088567e-02 -3.03742351e-01 -2.91465378e-01 -2.14202899e-01\n",
      "  8.64663446e-01  9.24588728e+00 -3.62241546e-01  1.02660225e-01\n",
      "  4.99053140e-01 -2.29481481e-01  2.68637681e-01 -1.54589372e-04\n",
      " -3.15066023e-01  2.99111111e-01  6.74692432e-01  1.05151691e+00\n",
      "  6.02254428e-02 -2.96876006e-01  7.13043478e-03 -1.52012882e-01\n",
      "  2.83936876e+00 -2.91317230e-01 -1.18518519e-02  1.21140097e-01\n",
      " -1.27536232e-02 -2.37700483e-01 -6.44122383e-02  5.13500161e+00\n",
      " -2.97236715e-01  5.64508857e-01 -5.52721417e-02 -2.02544283e-01\n",
      " -2.91581320e-01  1.15278519e+01  1.18744605e+00  1.84927536e-01\n",
      " -9.95426731e-02 -2.11323671e-01  6.97874396e-01  8.57380998e+00\n",
      "  1.39247021e+00  9.38486312e-02  8.03156200e-01 -2.78737520e-01\n",
      "  3.93333333e-01  5.69397746e-01  1.67233494e-01  3.57642512e-01\n",
      " -3.22048309e-01  2.62054750e-01]\n"
     ]
    }
   ],
   "source": [
    "print(y_pred)"
   ]
  },
  {
   "cell_type": "code",
   "execution_count": 135,
   "metadata": {},
   "outputs": [
    {
     "data": {
      "image/png": "[encoded data removed]",
      "text/plain": [
       "<Figure size 432x288 with 1 Axes>"
      ]
     },
     "metadata": {
      "needs_background": "light"
     },
     "output_type": "display_data"
    }
   ],
   "source": [
    "# plot training data\n",
    "plt.scatter(X_train[:,0], y_train)\n",
    "\n",
    "plt.show()"
   ]
  },
  {
   "cell_type": "code",
   "execution_count": 136,
   "metadata": {},
   "outputs": [
    {
     "data": {
      "text/plain": [
       "0.9827657078266799"
      ]
     },
     "execution_count": 136,
     "metadata": {},
     "output_type": "execute_result"
    }
   ],
   "source": [
    "# check score\n",
    "regressor.score(X_train, y_train)"
   ]
  },
  {
   "cell_type": "code",
   "execution_count": 137,
   "metadata": {},
   "outputs": [
    {
     "name": "stdout",
     "output_type": "stream",
     "text": [
      "Mean Absolute Error: 0.6043385953567396\n",
      "Mean Squared Error: 1.9667771712390396\n",
      "Root Mean Squared Error: 1.4024183296146124\n",
      "R Squared: 0.93588466501601\n"
     ]
    }
   ],
   "source": [
    "print('Mean Absolute Error:', metrics.mean_absolute_error(y_test, y_pred))\n",
    "print('Mean Squared Error:', metrics.mean_squared_error(y_test, y_pred))\n",
    "print('Root Mean Squared Error:', np.sqrt(metrics.mean_squared_error(y_test, y_pred)))\n",
    "print('R Squared:', metrics.r2_score(y_test, y_pred))"
   ]
  },
  {
   "cell_type": "code",
   "execution_count": 138,
   "metadata": {},
   "outputs": [
    {
     "data": {
      "text/html": [
       "<div>\n",
       "<style scoped>\n",
       "    .dataframe tbody tr th:only-of-type {\n",
       "        vertical-align: middle;\n",
       "    }\n",
       "\n",
       "    .dataframe tbody tr th {\n",
       "        vertical-align: top;\n",
       "    }\n",
       "\n",
       "    .dataframe thead th {\n",
       "        text-align: right;\n",
       "    }\n",
       "</style>\n",
       "<table border=\"1\" class=\"dataframe\">\n",
       "  <thead>\n",
       "    <tr style=\"text-align: right;\">\n",
       "      <th></th>\n",
       "      <th>Real Values</th>\n",
       "      <th>Predicted Values</th>\n",
       "    </tr>\n",
       "  </thead>\n",
       "  <tbody>\n",
       "    <tr>\n",
       "      <th>1050</th>\n",
       "      <td>-0.367472</td>\n",
       "      <td>-0.334055</td>\n",
       "    </tr>\n",
       "    <tr>\n",
       "      <th>697</th>\n",
       "      <td>2.797746</td>\n",
       "      <td>6.314886</td>\n",
       "    </tr>\n",
       "    <tr>\n",
       "      <th>1636</th>\n",
       "      <td>-0.373913</td>\n",
       "      <td>-0.332535</td>\n",
       "    </tr>\n",
       "    <tr>\n",
       "      <th>2655</th>\n",
       "      <td>1.524960</td>\n",
       "      <td>0.958003</td>\n",
       "    </tr>\n",
       "    <tr>\n",
       "      <th>2752</th>\n",
       "      <td>0.047987</td>\n",
       "      <td>0.825552</td>\n",
       "    </tr>\n",
       "  </tbody>\n",
       "</table>\n",
       "</div>"
      ],
      "text/plain": [
       "      Real Values  Predicted Values\n",
       "1050    -0.367472         -0.334055\n",
       "697      2.797746          6.314886\n",
       "1636    -0.373913         -0.332535\n",
       "2655     1.524960          0.958003\n",
       "2752     0.047987          0.825552"
      ]
     },
     "execution_count": 138,
     "metadata": {},
     "output_type": "execute_result"
    }
   ],
   "source": [
    "pred_df = pd.DataFrame({'Real Values': y_test, 'Predicted Values': y_pred})\n",
    "pred_df.head()"
   ]
  },
  {
   "cell_type": "code",
   "execution_count": 139,
   "metadata": {},
   "outputs": [
    {
     "data": {
      "image/png": "[encoded data removed]",
      "text/plain": [
       "<Figure size 432x288 with 1 Axes>"
      ]
     },
     "metadata": {
      "needs_background": "light"
     },
     "output_type": "display_data"
    }
   ],
   "source": [
    "# plot line chart for predictions\n",
    "plt.plot(pred_df['Predicted Values'], pred_df['Real Values'])\n",
    "plt.show()"
   ]
  },
  {
   "cell_type": "code",
   "execution_count": 140,
   "metadata": {},
   "outputs": [
    {
     "data": {
      "text/plain": [
       "(762, 2)"
      ]
     },
     "execution_count": 140,
     "metadata": {},
     "output_type": "execute_result"
    }
   ],
   "source": [
    "pred_df.shape"
   ]
  },
  {
   "cell_type": "code",
   "execution_count": 141,
   "metadata": {},
   "outputs": [
    {
     "data": {
      "image/png": "[encoded data removed]",
      "text/plain": [
       "<Figure size 432x288 with 1 Axes>"
      ]
     },
     "metadata": {
      "needs_background": "light"
     },
     "output_type": "display_data"
    }
   ],
   "source": [
    "plt.scatter(pred_df['Real Values'], pred_df['Predicted Values'])\n",
    "plt.show()"
   ]
  },
  {
   "cell_type": "markdown",
   "metadata": {},
   "source": [
    "# RFR for Voting"
   ]
  },
  {
   "cell_type": "code",
   "execution_count": 142,
   "metadata": {},
   "outputs": [
    {
     "data": {
      "text/html": [
       "<div>\n",
       "<style scoped>\n",
       "    .dataframe tbody tr th:only-of-type {\n",
       "        vertical-align: middle;\n",
       "    }\n",
       "\n",
       "    .dataframe tbody tr th {\n",
       "        vertical-align: top;\n",
       "    }\n",
       "\n",
       "    .dataframe thead th {\n",
       "        text-align: right;\n",
       "    }\n",
       "</style>\n",
       "<table border=\"1\" class=\"dataframe\">\n",
       "  <thead>\n",
       "    <tr style=\"text-align: right;\">\n",
       "      <th></th>\n",
       "      <th>cases</th>\n",
       "      <th>total_votes20</th>\n",
       "      <th>votes20_Donald_Trump</th>\n",
       "      <th>votes20_Joe_Biden</th>\n",
       "    </tr>\n",
       "  </thead>\n",
       "  <tbody>\n",
       "    <tr>\n",
       "      <th>0</th>\n",
       "      <td>805.0</td>\n",
       "      <td>12433.0</td>\n",
       "      <td>8215.0</td>\n",
       "      <td>4101.0</td>\n",
       "    </tr>\n",
       "    <tr>\n",
       "      <th>1</th>\n",
       "      <td>3182.0</td>\n",
       "      <td>28425.0</td>\n",
       "      <td>22596.0</td>\n",
       "      <td>5443.0</td>\n",
       "    </tr>\n",
       "    <tr>\n",
       "      <th>2</th>\n",
       "      <td>1227.0</td>\n",
       "      <td>16938.0</td>\n",
       "      <td>9172.0</td>\n",
       "      <td>7578.0</td>\n",
       "    </tr>\n",
       "    <tr>\n",
       "      <th>3</th>\n",
       "      <td>17451.0</td>\n",
       "      <td>259389.0</td>\n",
       "      <td>130699.0</td>\n",
       "      <td>120539.0</td>\n",
       "    </tr>\n",
       "    <tr>\n",
       "      <th>4</th>\n",
       "      <td>222.0</td>\n",
       "      <td>4183.0</td>\n",
       "      <td>2917.0</td>\n",
       "      <td>1197.0</td>\n",
       "    </tr>\n",
       "  </tbody>\n",
       "</table>\n",
       "</div>"
      ],
      "text/plain": [
       "     cases  total_votes20  votes20_Donald_Trump  votes20_Joe_Biden\n",
       "0    805.0        12433.0                8215.0             4101.0\n",
       "1   3182.0        28425.0               22596.0             5443.0\n",
       "2   1227.0        16938.0                9172.0             7578.0\n",
       "3  17451.0       259389.0              130699.0           120539.0\n",
       "4    222.0         4183.0                2917.0             1197.0"
      ]
     },
     "execution_count": 142,
     "metadata": {},
     "output_type": "execute_result"
    }
   ],
   "source": [
    "# create voting df\n",
    "voting_df = county_df[['cases','total_votes20','votes20_Donald_Trump','votes20_Joe_Biden']]\n",
    "voting_df.head()"
   ]
  },
  {
   "cell_type": "code",
   "execution_count": 143,
   "metadata": {},
   "outputs": [
    {
     "data": {
      "text/plain": [
       "array([[ 0.09694042,  0.02301738,  0.01404871,  0.07280559],\n",
       "       [ 1.62801932,  0.64584976,  0.90016483,  0.21554498],\n",
       "       [ 0.36876006,  0.19847135,  0.07301631,  0.44263036],\n",
       "       [10.81900161,  9.64108855,  7.56116272, 12.45752121],\n",
       "       [-0.27858293, -0.29829122, -0.31239891, -0.23607307]])"
      ]
     },
     "execution_count": 143,
     "metadata": {},
     "output_type": "execute_result"
    }
   ],
   "source": [
    "# scale voting data\n",
    "voting_scaled = RobustScaler().fit_transform(voting_df)\n",
    "voting_scaled[:5]"
   ]
  },
  {
   "cell_type": "code",
   "execution_count": 144,
   "metadata": {},
   "outputs": [
    {
     "data": {
      "text/html": [
       "<div>\n",
       "<style scoped>\n",
       "    .dataframe tbody tr th:only-of-type {\n",
       "        vertical-align: middle;\n",
       "    }\n",
       "\n",
       "    .dataframe tbody tr th {\n",
       "        vertical-align: top;\n",
       "    }\n",
       "\n",
       "    .dataframe thead th {\n",
       "        text-align: right;\n",
       "    }\n",
       "</style>\n",
       "<table border=\"1\" class=\"dataframe\">\n",
       "  <thead>\n",
       "    <tr style=\"text-align: right;\">\n",
       "      <th></th>\n",
       "      <th>cases</th>\n",
       "      <th>total_votes20</th>\n",
       "      <th>votes20_Donald_Trump</th>\n",
       "      <th>votes20_Joe_Biden</th>\n",
       "    </tr>\n",
       "  </thead>\n",
       "  <tbody>\n",
       "    <tr>\n",
       "      <th>0</th>\n",
       "      <td>0.096940</td>\n",
       "      <td>0.023017</td>\n",
       "      <td>0.014049</td>\n",
       "      <td>0.072806</td>\n",
       "    </tr>\n",
       "    <tr>\n",
       "      <th>1</th>\n",
       "      <td>1.628019</td>\n",
       "      <td>0.645850</td>\n",
       "      <td>0.900165</td>\n",
       "      <td>0.215545</td>\n",
       "    </tr>\n",
       "    <tr>\n",
       "      <th>2</th>\n",
       "      <td>0.368760</td>\n",
       "      <td>0.198471</td>\n",
       "      <td>0.073016</td>\n",
       "      <td>0.442630</td>\n",
       "    </tr>\n",
       "    <tr>\n",
       "      <th>3</th>\n",
       "      <td>10.819002</td>\n",
       "      <td>9.641089</td>\n",
       "      <td>7.561163</td>\n",
       "      <td>12.457521</td>\n",
       "    </tr>\n",
       "    <tr>\n",
       "      <th>4</th>\n",
       "      <td>-0.278583</td>\n",
       "      <td>-0.298291</td>\n",
       "      <td>-0.312399</td>\n",
       "      <td>-0.236073</td>\n",
       "    </tr>\n",
       "  </tbody>\n",
       "</table>\n",
       "</div>"
      ],
      "text/plain": [
       "       cases  total_votes20  votes20_Donald_Trump  votes20_Joe_Biden\n",
       "0   0.096940       0.023017              0.014049           0.072806\n",
       "1   1.628019       0.645850              0.900165           0.215545\n",
       "2   0.368760       0.198471              0.073016           0.442630\n",
       "3  10.819002       9.641089              7.561163          12.457521\n",
       "4  -0.278583      -0.298291             -0.312399          -0.236073"
      ]
     },
     "execution_count": 144,
     "metadata": {},
     "output_type": "execute_result"
    }
   ],
   "source": [
    "# create scaled df\n",
    "scaled_voting_df = pd.DataFrame(voting_scaled, columns= ['cases','total_votes20','votes20_Donald_Trump','votes20_Joe_Biden'])\n",
    "scaled_voting_df.head()"
   ]
  },
  {
   "cell_type": "code",
   "execution_count": 145,
   "metadata": {},
   "outputs": [
    {
     "data": {
      "text/html": [
       "<div>\n",
       "<style scoped>\n",
       "    .dataframe tbody tr th:only-of-type {\n",
       "        vertical-align: middle;\n",
       "    }\n",
       "\n",
       "    .dataframe tbody tr th {\n",
       "        vertical-align: top;\n",
       "    }\n",
       "\n",
       "    .dataframe thead th {\n",
       "        text-align: right;\n",
       "    }\n",
       "</style>\n",
       "<table border=\"1\" class=\"dataframe\">\n",
       "  <thead>\n",
       "    <tr style=\"text-align: right;\">\n",
       "      <th></th>\n",
       "      <th>cases</th>\n",
       "    </tr>\n",
       "  </thead>\n",
       "  <tbody>\n",
       "    <tr>\n",
       "      <th>0</th>\n",
       "      <td>0.096940</td>\n",
       "    </tr>\n",
       "    <tr>\n",
       "      <th>1</th>\n",
       "      <td>1.628019</td>\n",
       "    </tr>\n",
       "    <tr>\n",
       "      <th>2</th>\n",
       "      <td>0.368760</td>\n",
       "    </tr>\n",
       "    <tr>\n",
       "      <th>3</th>\n",
       "      <td>10.819002</td>\n",
       "    </tr>\n",
       "    <tr>\n",
       "      <th>4</th>\n",
       "      <td>-0.278583</td>\n",
       "    </tr>\n",
       "  </tbody>\n",
       "</table>\n",
       "</div>"
      ],
      "text/plain": [
       "       cases\n",
       "0   0.096940\n",
       "1   1.628019\n",
       "2   0.368760\n",
       "3  10.819002\n",
       "4  -0.278583"
      ]
     },
     "execution_count": 145,
     "metadata": {},
     "output_type": "execute_result"
    }
   ],
   "source": [
    "# separate target\n",
    "y2 = scaled_voting_df['cases']\n",
    "scaled_cases2 = pd.DataFrame(y, columns = ['cases'])\n",
    "scaled_cases2.head()"
   ]
  },
  {
   "cell_type": "code",
   "execution_count": 166,
   "metadata": {},
   "outputs": [
    {
     "data": {
      "text/html": [
       "<div>\n",
       "<style scoped>\n",
       "    .dataframe tbody tr th:only-of-type {\n",
       "        vertical-align: middle;\n",
       "    }\n",
       "\n",
       "    .dataframe tbody tr th {\n",
       "        vertical-align: top;\n",
       "    }\n",
       "\n",
       "    .dataframe thead th {\n",
       "        text-align: right;\n",
       "    }\n",
       "</style>\n",
       "<table border=\"1\" class=\"dataframe\">\n",
       "  <thead>\n",
       "    <tr style=\"text-align: right;\">\n",
       "      <th></th>\n",
       "      <th>total_votes20</th>\n",
       "      <th>votes20_Donald_Trump</th>\n",
       "      <th>votes20_Joe_Biden</th>\n",
       "    </tr>\n",
       "  </thead>\n",
       "  <tbody>\n",
       "    <tr>\n",
       "      <th>0</th>\n",
       "      <td>0.023017</td>\n",
       "      <td>0.014049</td>\n",
       "      <td>0.072806</td>\n",
       "    </tr>\n",
       "    <tr>\n",
       "      <th>1</th>\n",
       "      <td>0.645850</td>\n",
       "      <td>0.900165</td>\n",
       "      <td>0.215545</td>\n",
       "    </tr>\n",
       "    <tr>\n",
       "      <th>2</th>\n",
       "      <td>0.198471</td>\n",
       "      <td>0.073016</td>\n",
       "      <td>0.442630</td>\n",
       "    </tr>\n",
       "    <tr>\n",
       "      <th>3</th>\n",
       "      <td>9.641089</td>\n",
       "      <td>7.561163</td>\n",
       "      <td>12.457521</td>\n",
       "    </tr>\n",
       "    <tr>\n",
       "      <th>4</th>\n",
       "      <td>-0.298291</td>\n",
       "      <td>-0.312399</td>\n",
       "      <td>-0.236073</td>\n",
       "    </tr>\n",
       "  </tbody>\n",
       "</table>\n",
       "</div>"
      ],
      "text/plain": [
       "   total_votes20  votes20_Donald_Trump  votes20_Joe_Biden\n",
       "0       0.023017              0.014049           0.072806\n",
       "1       0.645850              0.900165           0.215545\n",
       "2       0.198471              0.073016           0.442630\n",
       "3       9.641089              7.561163          12.457521\n",
       "4      -0.298291             -0.312399          -0.236073"
      ]
     },
     "execution_count": 166,
     "metadata": {},
     "output_type": "execute_result"
    }
   ],
   "source": [
    "# create features for model\n",
    "X_scaled2 = scaled_voting_df.drop(['cases'], axis=1)\n",
    "X_scaled2.head()"
   ]
  },
  {
   "cell_type": "code",
   "execution_count": 147,
   "metadata": {},
   "outputs": [
    {
     "data": {
      "text/plain": [
       "array([[-2.60478289, -0.27875697],\n",
       "       [-1.96243507,  0.60491956],\n",
       "       [-2.19494797, -0.33413577],\n",
       "       [14.32089853,  3.76516877],\n",
       "       [-3.10087786, -0.52185369]])"
      ]
     },
     "execution_count": 147,
     "metadata": {},
     "output_type": "execute_result"
    }
   ],
   "source": [
    "# get two principal components for the iris data\n",
    "X2 = pca.fit_transform(X_scaled2)\n",
    "X2[:5]"
   ]
  },
  {
   "cell_type": "code",
   "execution_count": 148,
   "metadata": {},
   "outputs": [],
   "source": [
    "# instantiate model\n",
    "regressor2 = RandomForestRegressor(n_estimators=100,random_state=48)"
   ]
  },
  {
   "cell_type": "code",
   "execution_count": 149,
   "metadata": {},
   "outputs": [],
   "source": [
    "# split data into training and testing sets\n",
    "X_train2, X_test2, y_train2, y_test2 = train_test_split(X2, y2, random_state=48)"
   ]
  },
  {
   "cell_type": "code",
   "execution_count": 150,
   "metadata": {},
   "outputs": [
    {
     "data": {
      "text/plain": [
       "RandomForestRegressor(random_state=48)"
      ]
     },
     "execution_count": 150,
     "metadata": {},
     "output_type": "execute_result"
    }
   ],
   "source": [
    "# fit model\n",
    "regressor2.fit(X_train2, y_train2)"
   ]
  },
  {
   "cell_type": "code",
   "execution_count": 151,
   "metadata": {},
   "outputs": [
    {
     "data": {
      "text/plain": [
       "array([-0.3577649 ,  3.35680515, -0.39976812,  0.32586151,  0.13988406])"
      ]
     },
     "execution_count": 151,
     "metadata": {},
     "output_type": "execute_result"
    }
   ],
   "source": [
    "# make predictions\n",
    "y_pred2 = regressor2.predict(X_test2)\n",
    "y_pred2[:5]"
   ]
  },
  {
   "cell_type": "code",
   "execution_count": 152,
   "metadata": {},
   "outputs": [
    {
     "name": "stdout",
     "output_type": "stream",
     "text": [
      "[135.08704538   2.61917516]\n"
     ]
    }
   ],
   "source": [
    "# plot components\n",
    "print(pca.explained_variance_)"
   ]
  },
  {
   "cell_type": "code",
   "execution_count": 153,
   "metadata": {},
   "outputs": [
    {
     "data": {
      "text/html": [
       "<div>\n",
       "<style scoped>\n",
       "    .dataframe tbody tr th:only-of-type {\n",
       "        vertical-align: middle;\n",
       "    }\n",
       "\n",
       "    .dataframe tbody tr th {\n",
       "        vertical-align: top;\n",
       "    }\n",
       "\n",
       "    .dataframe thead th {\n",
       "        text-align: right;\n",
       "    }\n",
       "</style>\n",
       "<table border=\"1\" class=\"dataframe\">\n",
       "  <thead>\n",
       "    <tr style=\"text-align: right;\">\n",
       "      <th></th>\n",
       "      <th>principal component 1</th>\n",
       "      <th>principal component 2</th>\n",
       "    </tr>\n",
       "  </thead>\n",
       "  <tbody>\n",
       "    <tr>\n",
       "      <th>0</th>\n",
       "      <td>-2.604783</td>\n",
       "      <td>-0.278757</td>\n",
       "    </tr>\n",
       "    <tr>\n",
       "      <th>1</th>\n",
       "      <td>-1.962435</td>\n",
       "      <td>0.604920</td>\n",
       "    </tr>\n",
       "    <tr>\n",
       "      <th>2</th>\n",
       "      <td>-2.194948</td>\n",
       "      <td>-0.334136</td>\n",
       "    </tr>\n",
       "    <tr>\n",
       "      <th>3</th>\n",
       "      <td>14.320899</td>\n",
       "      <td>3.765169</td>\n",
       "    </tr>\n",
       "    <tr>\n",
       "      <th>4</th>\n",
       "      <td>-3.100878</td>\n",
       "      <td>-0.521854</td>\n",
       "    </tr>\n",
       "  </tbody>\n",
       "</table>\n",
       "</div>"
      ],
      "text/plain": [
       "   principal component 1  principal component 2\n",
       "0              -2.604783              -0.278757\n",
       "1              -1.962435               0.604920\n",
       "2              -2.194948              -0.334136\n",
       "3              14.320899               3.765169\n",
       "4              -3.100878              -0.521854"
      ]
     },
     "execution_count": 153,
     "metadata": {},
     "output_type": "execute_result"
    }
   ],
   "source": [
    "# Create df with pca and predictions\n",
    "voting_pca_pred = pd.DataFrame(\n",
    "    data=X2, columns=[\"principal component 1\", \"principal component 2\"]\n",
    ")\n",
    "voting_pca_pred.head()"
   ]
  },
  {
   "cell_type": "code",
   "execution_count": 154,
   "metadata": {},
   "outputs": [
    {
     "data": {
      "image/png": "[encoded data removed]",
      "text/plain": [
       "<Figure size 432x288 with 1 Axes>"
      ]
     },
     "metadata": {
      "needs_background": "light"
     },
     "output_type": "display_data"
    }
   ],
   "source": [
    "# plot pca\n",
    "plt.scatter(voting_pca_pred['principal component 1'], voting_pca_pred['principal component 2'])\n",
    "plt.show()"
   ]
  },
  {
   "cell_type": "code",
   "execution_count": 155,
   "metadata": {},
   "outputs": [
    {
     "data": {
      "image/png": "[encoded data removed]",
      "text/plain": [
       "<Figure size 432x288 with 1 Axes>"
      ]
     },
     "metadata": {
      "needs_background": "light"
     },
     "output_type": "display_data"
    }
   ],
   "source": [
    "# plot training data\n",
    "plt.scatter(X_train2[:,0], y_train2)\n",
    "plt.show()"
   ]
  },
  {
   "cell_type": "code",
   "execution_count": 156,
   "metadata": {},
   "outputs": [
    {
     "data": {
      "text/plain": [
       "0.11883870701235222"
      ]
     },
     "execution_count": 156,
     "metadata": {},
     "output_type": "execute_result"
    }
   ],
   "source": [
    "# check score\n",
    "regressor.score(X_train2, y_train2)"
   ]
  },
  {
   "cell_type": "code",
   "execution_count": 157,
   "metadata": {},
   "outputs": [
    {
     "name": "stdout",
     "output_type": "stream",
     "text": [
      "Mean Absolute Error: 0.6043385953567396\n",
      "Mean Squared Error: 1.9667771712390396\n",
      "Root Mean Squared Error: 1.4024183296146124\n",
      "R Squared: 0.93588466501601\n"
     ]
    }
   ],
   "source": [
    "print('Mean Absolute Error:', metrics.mean_absolute_error(y_test, y_pred))\n",
    "print('Mean Squared Error:', metrics.mean_squared_error(y_test, y_pred))\n",
    "print('Root Mean Squared Error:', np.sqrt(metrics.mean_squared_error(y_test, y_pred)))\n",
    "print('R Squared:', metrics.r2_score(y_test, y_pred))"
   ]
  },
  {
   "cell_type": "code",
   "execution_count": 158,
   "metadata": {},
   "outputs": [
    {
     "data": {
      "text/html": [
       "<div>\n",
       "<style scoped>\n",
       "    .dataframe tbody tr th:only-of-type {\n",
       "        vertical-align: middle;\n",
       "    }\n",
       "\n",
       "    .dataframe tbody tr th {\n",
       "        vertical-align: top;\n",
       "    }\n",
       "\n",
       "    .dataframe thead th {\n",
       "        text-align: right;\n",
       "    }\n",
       "</style>\n",
       "<table border=\"1\" class=\"dataframe\">\n",
       "  <thead>\n",
       "    <tr style=\"text-align: right;\">\n",
       "      <th></th>\n",
       "      <th>Real Values</th>\n",
       "      <th>Predicted Values</th>\n",
       "    </tr>\n",
       "  </thead>\n",
       "  <tbody>\n",
       "    <tr>\n",
       "      <th>1050</th>\n",
       "      <td>-0.367472</td>\n",
       "      <td>-0.357765</td>\n",
       "    </tr>\n",
       "    <tr>\n",
       "      <th>697</th>\n",
       "      <td>2.797746</td>\n",
       "      <td>3.356805</td>\n",
       "    </tr>\n",
       "    <tr>\n",
       "      <th>1636</th>\n",
       "      <td>-0.373913</td>\n",
       "      <td>-0.399768</td>\n",
       "    </tr>\n",
       "    <tr>\n",
       "      <th>2655</th>\n",
       "      <td>1.524960</td>\n",
       "      <td>0.325862</td>\n",
       "    </tr>\n",
       "    <tr>\n",
       "      <th>2752</th>\n",
       "      <td>0.047987</td>\n",
       "      <td>0.139884</td>\n",
       "    </tr>\n",
       "  </tbody>\n",
       "</table>\n",
       "</div>"
      ],
      "text/plain": [
       "      Real Values  Predicted Values\n",
       "1050    -0.367472         -0.357765\n",
       "697      2.797746          3.356805\n",
       "1636    -0.373913         -0.399768\n",
       "2655     1.524960          0.325862\n",
       "2752     0.047987          0.139884"
      ]
     },
     "execution_count": 158,
     "metadata": {},
     "output_type": "execute_result"
    }
   ],
   "source": [
    "# create df with predictions and actual values\n",
    "voting_pred_df = pd.DataFrame({'Real Values': y_test2, 'Predicted Values': y_pred2})\n",
    "voting_pred_df.head()"
   ]
  },
  {
   "cell_type": "code",
   "execution_count": 159,
   "metadata": {},
   "outputs": [
    {
     "data": {
      "image/png": "[encoded data removed]",
      "text/plain": [
       "<Figure size 432x288 with 1 Axes>"
      ]
     },
     "metadata": {
      "needs_background": "light"
     },
     "output_type": "display_data"
    }
   ],
   "source": [
    "# plot line chart for predictions\n",
    "plt.plot(voting_pred_df['Predicted Values'], voting_pred_df['Real Values'])\n",
    "plt.show()"
   ]
  },
  {
   "cell_type": "code",
   "execution_count": 183,
   "metadata": {},
   "outputs": [
    {
     "data": {
      "image/png": "[encoded data removed]",
      "text/plain": [
       "<Figure size 432x288 with 1 Axes>"
      ]
     },
     "metadata": {
      "needs_background": "light"
     },
     "output_type": "display_data"
    }
   ],
   "source": [
    "# plot predicted and real values\n",
    "plt.scatter(voting_pred_df['Real Values'], voting_pred_df['Predicted Values'])\n",
    "plt.show()"
   ]
  },
  {
   "cell_type": "markdown",
   "metadata": {},
   "source": [
    "# RFR for Demographic Data"
   ]
  },
  {
   "cell_type": "code",
   "execution_count": 162,
   "metadata": {},
   "outputs": [
    {
     "data": {
      "text/html": [
       "<div>\n",
       "<style scoped>\n",
       "    .dataframe tbody tr th:only-of-type {\n",
       "        vertical-align: middle;\n",
       "    }\n",
       "\n",
       "    .dataframe tbody tr th {\n",
       "        vertical-align: top;\n",
       "    }\n",
       "\n",
       "    .dataframe thead th {\n",
       "        text-align: right;\n",
       "    }\n",
       "</style>\n",
       "<table border=\"1\" class=\"dataframe\">\n",
       "  <thead>\n",
       "    <tr style=\"text-align: right;\">\n",
       "      <th></th>\n",
       "      <th>cases</th>\n",
       "      <th>Men</th>\n",
       "      <th>Women</th>\n",
       "      <th>Hispanic</th>\n",
       "      <th>White</th>\n",
       "      <th>Black</th>\n",
       "      <th>Native</th>\n",
       "      <th>Asian</th>\n",
       "      <th>Pacific</th>\n",
       "    </tr>\n",
       "  </thead>\n",
       "  <tbody>\n",
       "    <tr>\n",
       "      <th>0</th>\n",
       "      <td>805.0</td>\n",
       "      <td>12044.0</td>\n",
       "      <td>12744.0</td>\n",
       "      <td>1.3</td>\n",
       "      <td>68.9</td>\n",
       "      <td>27.6</td>\n",
       "      <td>0.1</td>\n",
       "      <td>0.3</td>\n",
       "      <td>0.0</td>\n",
       "    </tr>\n",
       "    <tr>\n",
       "      <th>1</th>\n",
       "      <td>3182.0</td>\n",
       "      <td>30433.0</td>\n",
       "      <td>32174.0</td>\n",
       "      <td>2.4</td>\n",
       "      <td>77.5</td>\n",
       "      <td>17.6</td>\n",
       "      <td>0.1</td>\n",
       "      <td>0.1</td>\n",
       "      <td>0.0</td>\n",
       "    </tr>\n",
       "    <tr>\n",
       "      <th>2</th>\n",
       "      <td>1227.0</td>\n",
       "      <td>16079.0</td>\n",
       "      <td>16761.0</td>\n",
       "      <td>8.8</td>\n",
       "      <td>60.3</td>\n",
       "      <td>28.3</td>\n",
       "      <td>0.3</td>\n",
       "      <td>0.7</td>\n",
       "      <td>0.0</td>\n",
       "    </tr>\n",
       "    <tr>\n",
       "      <th>3</th>\n",
       "      <td>17451.0</td>\n",
       "      <td>217999.0</td>\n",
       "      <td>217118.0</td>\n",
       "      <td>7.9</td>\n",
       "      <td>85.2</td>\n",
       "      <td>1.2</td>\n",
       "      <td>0.4</td>\n",
       "      <td>2.6</td>\n",
       "      <td>0.1</td>\n",
       "    </tr>\n",
       "    <tr>\n",
       "      <th>4</th>\n",
       "      <td>222.0</td>\n",
       "      <td>3552.0</td>\n",
       "      <td>3640.0</td>\n",
       "      <td>1.7</td>\n",
       "      <td>96.6</td>\n",
       "      <td>0.3</td>\n",
       "      <td>0.0</td>\n",
       "      <td>0.4</td>\n",
       "      <td>0.0</td>\n",
       "    </tr>\n",
       "  </tbody>\n",
       "</table>\n",
       "</div>"
      ],
      "text/plain": [
       "     cases       Men     Women  Hispanic  White  Black  Native  Asian  Pacific\n",
       "0    805.0   12044.0   12744.0       1.3   68.9   27.6     0.1    0.3      0.0\n",
       "1   3182.0   30433.0   32174.0       2.4   77.5   17.6     0.1    0.1      0.0\n",
       "2   1227.0   16079.0   16761.0       8.8   60.3   28.3     0.3    0.7      0.0\n",
       "3  17451.0  217999.0  217118.0       7.9   85.2    1.2     0.4    2.6      0.1\n",
       "4    222.0    3552.0    3640.0       1.7   96.6    0.3     0.0    0.4      0.0"
      ]
     },
     "execution_count": 162,
     "metadata": {},
     "output_type": "execute_result"
    }
   ],
   "source": [
    "# create voting df\n",
    "demo_df = county_df[['cases','Men', 'Women', 'Hispanic', 'White', 'Black', 'Native','Asian', 'Pacific']]\n",
    "demo_df.head()"
   ]
  },
  {
   "cell_type": "code",
   "execution_count": 163,
   "metadata": {},
   "outputs": [
    {
     "data": {
      "text/plain": [
       "array([[ 9.69404187e-02, -2.79136196e-02, -4.99800611e-03,\n",
       "        -3.51351351e-01, -5.71428571e-01,  2.77173913e+00,\n",
       "        -4.00000000e-01, -3.33333333e-01,  0.00000000e+00],\n",
       "       [ 1.62801932e+00,  6.36987354e-01,  6.83734326e-01,\n",
       "        -2.02702703e-01, -2.56410256e-01,  1.68478261e+00,\n",
       "        -4.00000000e-01, -5.55555556e-01,  0.00000000e+00],\n",
       "       [ 3.68760064e-01,  1.17982048e-01,  1.37391998e-01,\n",
       "         6.62162162e-01, -8.86446886e-01,  2.84782609e+00,\n",
       "         0.00000000e+00,  1.11111111e-01,  0.00000000e+00],\n",
       "       [ 1.08190016e+01,  7.41891220e+00,  7.23941690e+00,\n",
       "         5.40540541e-01,  2.56410256e-02, -9.78260870e-02,\n",
       "         2.00000000e-01,  2.22222222e+00,  1.00000000e+00],\n",
       "       [-2.78582931e-01, -3.34963436e-01, -3.27706146e-01,\n",
       "        -2.97297297e-01,  4.43223443e-01, -1.95652174e-01,\n",
       "        -6.00000000e-01, -2.22222222e-01,  0.00000000e+00]])"
      ]
     },
     "execution_count": 163,
     "metadata": {},
     "output_type": "execute_result"
    }
   ],
   "source": [
    "# scale demographic data\n",
    "demo_scaled = RobustScaler().fit_transform(demo_df)\n",
    "demo_scaled[:5]"
   ]
  },
  {
   "cell_type": "code",
   "execution_count": 164,
   "metadata": {},
   "outputs": [
    {
     "data": {
      "text/html": [
       "<div>\n",
       "<style scoped>\n",
       "    .dataframe tbody tr th:only-of-type {\n",
       "        vertical-align: middle;\n",
       "    }\n",
       "\n",
       "    .dataframe tbody tr th {\n",
       "        vertical-align: top;\n",
       "    }\n",
       "\n",
       "    .dataframe thead th {\n",
       "        text-align: right;\n",
       "    }\n",
       "</style>\n",
       "<table border=\"1\" class=\"dataframe\">\n",
       "  <thead>\n",
       "    <tr style=\"text-align: right;\">\n",
       "      <th></th>\n",
       "      <th>cases</th>\n",
       "      <th>Men</th>\n",
       "      <th>Women</th>\n",
       "      <th>Hispanic</th>\n",
       "      <th>White</th>\n",
       "      <th>Black</th>\n",
       "      <th>Native</th>\n",
       "      <th>Asian</th>\n",
       "      <th>Pacific</th>\n",
       "    </tr>\n",
       "  </thead>\n",
       "  <tbody>\n",
       "    <tr>\n",
       "      <th>0</th>\n",
       "      <td>0.096940</td>\n",
       "      <td>-0.027914</td>\n",
       "      <td>-0.004998</td>\n",
       "      <td>-0.351351</td>\n",
       "      <td>-0.571429</td>\n",
       "      <td>2.771739</td>\n",
       "      <td>-0.4</td>\n",
       "      <td>-0.333333</td>\n",
       "      <td>0.0</td>\n",
       "    </tr>\n",
       "    <tr>\n",
       "      <th>1</th>\n",
       "      <td>1.628019</td>\n",
       "      <td>0.636987</td>\n",
       "      <td>0.683734</td>\n",
       "      <td>-0.202703</td>\n",
       "      <td>-0.256410</td>\n",
       "      <td>1.684783</td>\n",
       "      <td>-0.4</td>\n",
       "      <td>-0.555556</td>\n",
       "      <td>0.0</td>\n",
       "    </tr>\n",
       "    <tr>\n",
       "      <th>2</th>\n",
       "      <td>0.368760</td>\n",
       "      <td>0.117982</td>\n",
       "      <td>0.137392</td>\n",
       "      <td>0.662162</td>\n",
       "      <td>-0.886447</td>\n",
       "      <td>2.847826</td>\n",
       "      <td>0.0</td>\n",
       "      <td>0.111111</td>\n",
       "      <td>0.0</td>\n",
       "    </tr>\n",
       "    <tr>\n",
       "      <th>3</th>\n",
       "      <td>10.819002</td>\n",
       "      <td>7.418912</td>\n",
       "      <td>7.239417</td>\n",
       "      <td>0.540541</td>\n",
       "      <td>0.025641</td>\n",
       "      <td>-0.097826</td>\n",
       "      <td>0.2</td>\n",
       "      <td>2.222222</td>\n",
       "      <td>1.0</td>\n",
       "    </tr>\n",
       "    <tr>\n",
       "      <th>4</th>\n",
       "      <td>-0.278583</td>\n",
       "      <td>-0.334963</td>\n",
       "      <td>-0.327706</td>\n",
       "      <td>-0.297297</td>\n",
       "      <td>0.443223</td>\n",
       "      <td>-0.195652</td>\n",
       "      <td>-0.6</td>\n",
       "      <td>-0.222222</td>\n",
       "      <td>0.0</td>\n",
       "    </tr>\n",
       "  </tbody>\n",
       "</table>\n",
       "</div>"
      ],
      "text/plain": [
       "       cases       Men     Women  Hispanic     White     Black  Native  \\\n",
       "0   0.096940 -0.027914 -0.004998 -0.351351 -0.571429  2.771739    -0.4   \n",
       "1   1.628019  0.636987  0.683734 -0.202703 -0.256410  1.684783    -0.4   \n",
       "2   0.368760  0.117982  0.137392  0.662162 -0.886447  2.847826     0.0   \n",
       "3  10.819002  7.418912  7.239417  0.540541  0.025641 -0.097826     0.2   \n",
       "4  -0.278583 -0.334963 -0.327706 -0.297297  0.443223 -0.195652    -0.6   \n",
       "\n",
       "      Asian  Pacific  \n",
       "0 -0.333333      0.0  \n",
       "1 -0.555556      0.0  \n",
       "2  0.111111      0.0  \n",
       "3  2.222222      1.0  \n",
       "4 -0.222222      0.0  "
      ]
     },
     "execution_count": 164,
     "metadata": {},
     "output_type": "execute_result"
    }
   ],
   "source": [
    "# create scaled df\n",
    "scaled_demo_df = pd.DataFrame(demo_scaled, columns= ['cases','Men', 'Women', 'Hispanic', 'White', 'Black', 'Native','Asian', 'Pacific'])\n",
    "scaled_demo_df.head()"
   ]
  },
  {
   "cell_type": "code",
   "execution_count": 165,
   "metadata": {},
   "outputs": [
    {
     "data": {
      "text/html": [
       "<div>\n",
       "<style scoped>\n",
       "    .dataframe tbody tr th:only-of-type {\n",
       "        vertical-align: middle;\n",
       "    }\n",
       "\n",
       "    .dataframe tbody tr th {\n",
       "        vertical-align: top;\n",
       "    }\n",
       "\n",
       "    .dataframe thead th {\n",
       "        text-align: right;\n",
       "    }\n",
       "</style>\n",
       "<table border=\"1\" class=\"dataframe\">\n",
       "  <thead>\n",
       "    <tr style=\"text-align: right;\">\n",
       "      <th></th>\n",
       "      <th>cases</th>\n",
       "    </tr>\n",
       "  </thead>\n",
       "  <tbody>\n",
       "    <tr>\n",
       "      <th>0</th>\n",
       "      <td>0.096940</td>\n",
       "    </tr>\n",
       "    <tr>\n",
       "      <th>1</th>\n",
       "      <td>1.628019</td>\n",
       "    </tr>\n",
       "    <tr>\n",
       "      <th>2</th>\n",
       "      <td>0.368760</td>\n",
       "    </tr>\n",
       "    <tr>\n",
       "      <th>3</th>\n",
       "      <td>10.819002</td>\n",
       "    </tr>\n",
       "    <tr>\n",
       "      <th>4</th>\n",
       "      <td>-0.278583</td>\n",
       "    </tr>\n",
       "  </tbody>\n",
       "</table>\n",
       "</div>"
      ],
      "text/plain": [
       "       cases\n",
       "0   0.096940\n",
       "1   1.628019\n",
       "2   0.368760\n",
       "3  10.819002\n",
       "4  -0.278583"
      ]
     },
     "execution_count": 165,
     "metadata": {},
     "output_type": "execute_result"
    }
   ],
   "source": [
    "# separate target\n",
    "y3 = scaled_demo_df['cases']\n",
    "scaled_cases3 = pd.DataFrame(y, columns = ['cases'])\n",
    "scaled_cases3.head()"
   ]
  },
  {
   "cell_type": "code",
   "execution_count": 167,
   "metadata": {},
   "outputs": [
    {
     "data": {
      "text/html": [
       "<div>\n",
       "<style scoped>\n",
       "    .dataframe tbody tr th:only-of-type {\n",
       "        vertical-align: middle;\n",
       "    }\n",
       "\n",
       "    .dataframe tbody tr th {\n",
       "        vertical-align: top;\n",
       "    }\n",
       "\n",
       "    .dataframe thead th {\n",
       "        text-align: right;\n",
       "    }\n",
       "</style>\n",
       "<table border=\"1\" class=\"dataframe\">\n",
       "  <thead>\n",
       "    <tr style=\"text-align: right;\">\n",
       "      <th></th>\n",
       "      <th>Men</th>\n",
       "      <th>Women</th>\n",
       "      <th>Hispanic</th>\n",
       "      <th>White</th>\n",
       "      <th>Black</th>\n",
       "      <th>Native</th>\n",
       "      <th>Asian</th>\n",
       "      <th>Pacific</th>\n",
       "    </tr>\n",
       "  </thead>\n",
       "  <tbody>\n",
       "    <tr>\n",
       "      <th>0</th>\n",
       "      <td>-0.027914</td>\n",
       "      <td>-0.004998</td>\n",
       "      <td>-0.351351</td>\n",
       "      <td>-0.571429</td>\n",
       "      <td>2.771739</td>\n",
       "      <td>-0.4</td>\n",
       "      <td>-0.333333</td>\n",
       "      <td>0.0</td>\n",
       "    </tr>\n",
       "    <tr>\n",
       "      <th>1</th>\n",
       "      <td>0.636987</td>\n",
       "      <td>0.683734</td>\n",
       "      <td>-0.202703</td>\n",
       "      <td>-0.256410</td>\n",
       "      <td>1.684783</td>\n",
       "      <td>-0.4</td>\n",
       "      <td>-0.555556</td>\n",
       "      <td>0.0</td>\n",
       "    </tr>\n",
       "    <tr>\n",
       "      <th>2</th>\n",
       "      <td>0.117982</td>\n",
       "      <td>0.137392</td>\n",
       "      <td>0.662162</td>\n",
       "      <td>-0.886447</td>\n",
       "      <td>2.847826</td>\n",
       "      <td>0.0</td>\n",
       "      <td>0.111111</td>\n",
       "      <td>0.0</td>\n",
       "    </tr>\n",
       "    <tr>\n",
       "      <th>3</th>\n",
       "      <td>7.418912</td>\n",
       "      <td>7.239417</td>\n",
       "      <td>0.540541</td>\n",
       "      <td>0.025641</td>\n",
       "      <td>-0.097826</td>\n",
       "      <td>0.2</td>\n",
       "      <td>2.222222</td>\n",
       "      <td>1.0</td>\n",
       "    </tr>\n",
       "    <tr>\n",
       "      <th>4</th>\n",
       "      <td>-0.334963</td>\n",
       "      <td>-0.327706</td>\n",
       "      <td>-0.297297</td>\n",
       "      <td>0.443223</td>\n",
       "      <td>-0.195652</td>\n",
       "      <td>-0.6</td>\n",
       "      <td>-0.222222</td>\n",
       "      <td>0.0</td>\n",
       "    </tr>\n",
       "  </tbody>\n",
       "</table>\n",
       "</div>"
      ],
      "text/plain": [
       "        Men     Women  Hispanic     White     Black  Native     Asian  Pacific\n",
       "0 -0.027914 -0.004998 -0.351351 -0.571429  2.771739    -0.4 -0.333333      0.0\n",
       "1  0.636987  0.683734 -0.202703 -0.256410  1.684783    -0.4 -0.555556      0.0\n",
       "2  0.117982  0.137392  0.662162 -0.886447  2.847826     0.0  0.111111      0.0\n",
       "3  7.418912  7.239417  0.540541  0.025641 -0.097826     0.2  2.222222      1.0\n",
       "4 -0.334963 -0.327706 -0.297297  0.443223 -0.195652    -0.6 -0.222222      0.0"
      ]
     },
     "execution_count": 167,
     "metadata": {},
     "output_type": "execute_result"
    }
   ],
   "source": [
    "# create features for model\n",
    "X_scaled3 = scaled_demo_df.drop(['cases'], axis=1)\n",
    "X_scaled3.head()"
   ]
  },
  {
   "cell_type": "code",
   "execution_count": 168,
   "metadata": {},
   "outputs": [
    {
     "data": {
      "text/plain": [
       "array([[-2.8212884 , -2.31709428],\n",
       "       [-2.85869588, -1.43335498],\n",
       "       [-2.44160715, -1.96235347],\n",
       "       [-2.76179951,  8.39265439],\n",
       "       [-2.97885155, -2.8006906 ]])"
      ]
     },
     "execution_count": 168,
     "metadata": {},
     "output_type": "execute_result"
    }
   ],
   "source": [
    "# get two principal components\n",
    "X3 = pca.fit_transform(X_scaled3)\n",
    "X3[:5]"
   ]
  },
  {
   "cell_type": "code",
   "execution_count": 169,
   "metadata": {},
   "outputs": [],
   "source": [
    "# instantiate model\n",
    "regressor3 = RandomForestRegressor(n_estimators=100,random_state=48)"
   ]
  },
  {
   "cell_type": "code",
   "execution_count": 170,
   "metadata": {},
   "outputs": [],
   "source": [
    "# split data into training and testing sets\n",
    "X_train3, X_test3, y_train3, y_test3 = train_test_split(X3, y3, random_state=48)"
   ]
  },
  {
   "cell_type": "code",
   "execution_count": 171,
   "metadata": {},
   "outputs": [
    {
     "data": {
      "text/plain": [
       "RandomForestRegressor(random_state=48)"
      ]
     },
     "execution_count": 171,
     "metadata": {},
     "output_type": "execute_result"
    }
   ],
   "source": [
    "# fit model\n",
    "regressor3.fit(X_train3, y_train3)"
   ]
  },
  {
   "cell_type": "code",
   "execution_count": 172,
   "metadata": {},
   "outputs": [
    {
     "data": {
      "text/plain": [
       "array([-0.39514332,  4.91777778, -0.11998712,  0.23055717,  0.39060225])"
      ]
     },
     "execution_count": 172,
     "metadata": {},
     "output_type": "execute_result"
    }
   ],
   "source": [
    "# make predictions\n",
    "y_pred3 = regressor3.predict(X_test3)\n",
    "y_pred3[:5]"
   ]
  },
  {
   "cell_type": "code",
   "execution_count": 173,
   "metadata": {},
   "outputs": [
    {
     "name": "stdout",
     "output_type": "stream",
     "text": [
      "[168.27437185  72.55441636]\n"
     ]
    }
   ],
   "source": [
    "# explore pca\n",
    "print(pca.explained_variance_)"
   ]
  },
  {
   "cell_type": "code",
   "execution_count": 175,
   "metadata": {},
   "outputs": [
    {
     "data": {
      "text/html": [
       "<div>\n",
       "<style scoped>\n",
       "    .dataframe tbody tr th:only-of-type {\n",
       "        vertical-align: middle;\n",
       "    }\n",
       "\n",
       "    .dataframe tbody tr th {\n",
       "        vertical-align: top;\n",
       "    }\n",
       "\n",
       "    .dataframe thead th {\n",
       "        text-align: right;\n",
       "    }\n",
       "</style>\n",
       "<table border=\"1\" class=\"dataframe\">\n",
       "  <thead>\n",
       "    <tr style=\"text-align: right;\">\n",
       "      <th></th>\n",
       "      <th>principal component 1</th>\n",
       "      <th>principal component 2</th>\n",
       "    </tr>\n",
       "  </thead>\n",
       "  <tbody>\n",
       "    <tr>\n",
       "      <th>0</th>\n",
       "      <td>-2.821288</td>\n",
       "      <td>-2.317094</td>\n",
       "    </tr>\n",
       "    <tr>\n",
       "      <th>1</th>\n",
       "      <td>-2.858696</td>\n",
       "      <td>-1.433355</td>\n",
       "    </tr>\n",
       "    <tr>\n",
       "      <th>2</th>\n",
       "      <td>-2.441607</td>\n",
       "      <td>-1.962353</td>\n",
       "    </tr>\n",
       "    <tr>\n",
       "      <th>3</th>\n",
       "      <td>-2.761800</td>\n",
       "      <td>8.392654</td>\n",
       "    </tr>\n",
       "    <tr>\n",
       "      <th>4</th>\n",
       "      <td>-2.978852</td>\n",
       "      <td>-2.800691</td>\n",
       "    </tr>\n",
       "  </tbody>\n",
       "</table>\n",
       "</div>"
      ],
      "text/plain": [
       "   principal component 1  principal component 2\n",
       "0              -2.821288              -2.317094\n",
       "1              -2.858696              -1.433355\n",
       "2              -2.441607              -1.962353\n",
       "3              -2.761800               8.392654\n",
       "4              -2.978852              -2.800691"
      ]
     },
     "execution_count": 175,
     "metadata": {},
     "output_type": "execute_result"
    }
   ],
   "source": [
    "# Create df with pca and predictions\n",
    "demo_pca_pred = pd.DataFrame(\n",
    "    data=X3, columns=[\"principal component 1\", \"principal component 2\"]\n",
    ")\n",
    "demo_pca_pred.head()"
   ]
  },
  {
   "cell_type": "code",
   "execution_count": 176,
   "metadata": {},
   "outputs": [
    {
     "data": {
      "image/png": "[encoded data removed]",
      "text/plain": [
       "<Figure size 432x288 with 1 Axes>"
      ]
     },
     "metadata": {
      "needs_background": "light"
     },
     "output_type": "display_data"
    }
   ],
   "source": [
    "# plot pca\n",
    "plt.scatter(demo_pca_pred['principal component 1'], demo_pca_pred['principal component 2'])\n",
    "plt.show()"
   ]
  },
  {
   "cell_type": "code",
   "execution_count": 177,
   "metadata": {},
   "outputs": [
    {
     "data": {
      "image/png": "[encoded data removed]",
      "text/plain": [
       "<Figure size 432x288 with 1 Axes>"
      ]
     },
     "metadata": {
      "needs_background": "light"
     },
     "output_type": "display_data"
    }
   ],
   "source": [
    "# plot training data\n",
    "plt.scatter(X_train3[:,0], y_train3)\n",
    "plt.show()"
   ]
  },
  {
   "cell_type": "code",
   "execution_count": 178,
   "metadata": {},
   "outputs": [
    {
     "data": {
      "text/plain": [
       "-2.376273591149078"
      ]
     },
     "execution_count": 178,
     "metadata": {},
     "output_type": "execute_result"
    }
   ],
   "source": [
    "# check score\n",
    "regressor.score(X_train3, y_train3)"
   ]
  },
  {
   "cell_type": "code",
   "execution_count": 179,
   "metadata": {},
   "outputs": [
    {
     "name": "stdout",
     "output_type": "stream",
     "text": [
      "Mean Absolute Error: 0.6043385953567396\n",
      "Mean Squared Error: 1.9667771712390396\n",
      "Root Mean Squared Error: 1.4024183296146124\n",
      "R Squared: 0.93588466501601\n"
     ]
    }
   ],
   "source": [
    "# print model assessment metrics\n",
    "print('Mean Absolute Error:', metrics.mean_absolute_error(y_test, y_pred))\n",
    "print('Mean Squared Error:', metrics.mean_squared_error(y_test, y_pred))\n",
    "print('Root Mean Squared Error:', np.sqrt(metrics.mean_squared_error(y_test, y_pred)))\n",
    "print('R Squared:', metrics.r2_score(y_test, y_pred))"
   ]
  },
  {
   "cell_type": "code",
   "execution_count": 181,
   "metadata": {},
   "outputs": [
    {
     "data": {
      "text/html": [
       "<div>\n",
       "<style scoped>\n",
       "    .dataframe tbody tr th:only-of-type {\n",
       "        vertical-align: middle;\n",
       "    }\n",
       "\n",
       "    .dataframe tbody tr th {\n",
       "        vertical-align: top;\n",
       "    }\n",
       "\n",
       "    .dataframe thead th {\n",
       "        text-align: right;\n",
       "    }\n",
       "</style>\n",
       "<table border=\"1\" class=\"dataframe\">\n",
       "  <thead>\n",
       "    <tr style=\"text-align: right;\">\n",
       "      <th></th>\n",
       "      <th>Real Values</th>\n",
       "      <th>Predicted Values</th>\n",
       "    </tr>\n",
       "  </thead>\n",
       "  <tbody>\n",
       "    <tr>\n",
       "      <th>1050</th>\n",
       "      <td>-0.367472</td>\n",
       "      <td>-0.357765</td>\n",
       "    </tr>\n",
       "    <tr>\n",
       "      <th>697</th>\n",
       "      <td>2.797746</td>\n",
       "      <td>3.356805</td>\n",
       "    </tr>\n",
       "    <tr>\n",
       "      <th>1636</th>\n",
       "      <td>-0.373913</td>\n",
       "      <td>-0.399768</td>\n",
       "    </tr>\n",
       "    <tr>\n",
       "      <th>2655</th>\n",
       "      <td>1.524960</td>\n",
       "      <td>0.325862</td>\n",
       "    </tr>\n",
       "    <tr>\n",
       "      <th>2752</th>\n",
       "      <td>0.047987</td>\n",
       "      <td>0.139884</td>\n",
       "    </tr>\n",
       "  </tbody>\n",
       "</table>\n",
       "</div>"
      ],
      "text/plain": [
       "      Real Values  Predicted Values\n",
       "1050    -0.367472         -0.357765\n",
       "697      2.797746          3.356805\n",
       "1636    -0.373913         -0.399768\n",
       "2655     1.524960          0.325862\n",
       "2752     0.047987          0.139884"
      ]
     },
     "execution_count": 181,
     "metadata": {},
     "output_type": "execute_result"
    }
   ],
   "source": [
    "# create df with predictions and actual values\n",
    "demo_pred_df = pd.DataFrame({'Real Values': y_test2, 'Predicted Values': y_pred2})\n",
    "demo_pred_df.head()"
   ]
  },
  {
   "cell_type": "code",
   "execution_count": 182,
   "metadata": {},
   "outputs": [
    {
     "data": {
      "image/png": "[encoded data removed]",
      "text/plain": [
       "<Figure size 432x288 with 1 Axes>"
      ]
     },
     "metadata": {
      "needs_background": "light"
     },
     "output_type": "display_data"
    }
   ],
   "source": [
    "# plot line chart for predictions\n",
    "plt.plot(demo_pred_df['Predicted Values'], demo_pred_df['Real Values'])\n",
    "plt.show()"
   ]
  },
  {
   "cell_type": "code",
   "execution_count": 185,
   "metadata": {},
   "outputs": [
    {
     "data": {
      "image/png": "[encoded data removed]",
      "text/plain": [
       "<Figure size 432x288 with 1 Axes>"
      ]
     },
     "metadata": {
      "needs_background": "light"
     },
     "output_type": "display_data"
    }
   ],
   "source": [
    "# plot scatter chart for predicted and real values\n",
    "plt.scatter(voting_pred_df['Real Values'], voting_pred_df['Predicted Values'])\n",
    "plt.show()"
   ]
  },
  {
   "cell_type": "code",
   "execution_count": null,
   "metadata": {},
   "outputs": [],
   "source": []
  }
 ],
 "metadata": {
  "kernelspec": {
   "display_name": "mlenv",
   "language": "python",
   "name": "mlenv"
  },
  "language_info": {
   "codemirror_mode": {
    "name": "ipython",
    "version": 3
   },
   "file_extension": ".py",
   "mimetype": "text/x-python",
   "name": "python",
   "nbconvert_exporter": "python",
   "pygments_lexer": "ipython3",
   "version": "3.7.9"
  }
 },
 "nbformat": 4,
 "nbformat_minor": 4
}
