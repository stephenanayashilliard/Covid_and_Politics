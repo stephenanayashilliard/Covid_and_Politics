{
 "cells": [
  {
   "cell_type": "code",
   "execution_count": 2,
   "metadata": {},
   "outputs": [],
   "source": [
    "# import dependencies\n",
    "import pandas as pd\n",
    "from pathlib import Path\n",
    "import matplotlib.pyplot as plt"
   ]
  },
  {
   "cell_type": "code",
   "execution_count": 3,
   "metadata": {},
   "outputs": [
    {
     "data": {
      "text/html": [
       "<div>\n",
       "<style scoped>\n",
       "    .dataframe tbody tr th:only-of-type {\n",
       "        vertical-align: middle;\n",
       "    }\n",
       "\n",
       "    .dataframe tbody tr th {\n",
       "        vertical-align: top;\n",
       "    }\n",
       "\n",
       "    .dataframe thead th {\n",
       "        text-align: right;\n",
       "    }\n",
       "</style>\n",
       "<table border=\"1\" class=\"dataframe\">\n",
       "  <thead>\n",
       "    <tr style=\"text-align: right;\">\n",
       "      <th></th>\n",
       "      <th>county</th>\n",
       "      <th>state</th>\n",
       "      <th>county_state</th>\n",
       "      <th>lat</th>\n",
       "      <th>long</th>\n",
       "      <th>totalpop</th>\n",
       "      <th>total_votes20</th>\n",
       "      <th>votes20_donald_trump</th>\n",
       "      <th>votes20_joe_biden</th>\n",
       "      <th>percentage20_donald_trump</th>\n",
       "      <th>...</th>\n",
       "      <th>age_55to64</th>\n",
       "      <th>age_65to74</th>\n",
       "      <th>age_75to84</th>\n",
       "      <th>age_84plus</th>\n",
       "      <th>evangelicals</th>\n",
       "      <th>protestant</th>\n",
       "      <th>catholic</th>\n",
       "      <th>orthodox</th>\n",
       "      <th>muslim</th>\n",
       "      <th>other</th>\n",
       "    </tr>\n",
       "  </thead>\n",
       "  <tbody>\n",
       "    <tr>\n",
       "      <th>0</th>\n",
       "      <td>Kay</td>\n",
       "      <td>OK</td>\n",
       "      <td>Kay, OK</td>\n",
       "      <td>36.817997</td>\n",
       "      <td>-97.144214</td>\n",
       "      <td>45173</td>\n",
       "      <td>17249</td>\n",
       "      <td>12834</td>\n",
       "      <td>4040</td>\n",
       "      <td>0.744</td>\n",
       "      <td>...</td>\n",
       "      <td>5694</td>\n",
       "      <td>4632</td>\n",
       "      <td>2724</td>\n",
       "      <td>1183</td>\n",
       "      <td>0</td>\n",
       "      <td>0</td>\n",
       "      <td>0</td>\n",
       "      <td>0</td>\n",
       "      <td>0</td>\n",
       "      <td>0</td>\n",
       "    </tr>\n",
       "    <tr>\n",
       "      <th>1</th>\n",
       "      <td>Abbeville</td>\n",
       "      <td>SC</td>\n",
       "      <td>Abbeville, SC</td>\n",
       "      <td>34.223334</td>\n",
       "      <td>-82.461707</td>\n",
       "      <td>24788</td>\n",
       "      <td>12433</td>\n",
       "      <td>8215</td>\n",
       "      <td>4101</td>\n",
       "      <td>0.661</td>\n",
       "      <td>...</td>\n",
       "      <td>3584</td>\n",
       "      <td>3150</td>\n",
       "      <td>1602</td>\n",
       "      <td>591</td>\n",
       "      <td>0</td>\n",
       "      <td>0</td>\n",
       "      <td>0</td>\n",
       "      <td>0</td>\n",
       "      <td>0</td>\n",
       "      <td>0</td>\n",
       "    </tr>\n",
       "    <tr>\n",
       "      <th>2</th>\n",
       "      <td>Acadia</td>\n",
       "      <td>LA</td>\n",
       "      <td>Acadia, LA</td>\n",
       "      <td>30.295065</td>\n",
       "      <td>-92.414197</td>\n",
       "      <td>62607</td>\n",
       "      <td>28425</td>\n",
       "      <td>22596</td>\n",
       "      <td>5443</td>\n",
       "      <td>0.795</td>\n",
       "      <td>...</td>\n",
       "      <td>0</td>\n",
       "      <td>0</td>\n",
       "      <td>0</td>\n",
       "      <td>0</td>\n",
       "      <td>0</td>\n",
       "      <td>0</td>\n",
       "      <td>0</td>\n",
       "      <td>0</td>\n",
       "      <td>0</td>\n",
       "      <td>0</td>\n",
       "    </tr>\n",
       "    <tr>\n",
       "      <th>3</th>\n",
       "      <td>Accomack</td>\n",
       "      <td>VA</td>\n",
       "      <td>Accomack, VA</td>\n",
       "      <td>37.767072</td>\n",
       "      <td>-75.632346</td>\n",
       "      <td>32840</td>\n",
       "      <td>16938</td>\n",
       "      <td>9172</td>\n",
       "      <td>7578</td>\n",
       "      <td>0.542</td>\n",
       "      <td>...</td>\n",
       "      <td>5270</td>\n",
       "      <td>4451</td>\n",
       "      <td>2301</td>\n",
       "      <td>886</td>\n",
       "      <td>0</td>\n",
       "      <td>0</td>\n",
       "      <td>0</td>\n",
       "      <td>0</td>\n",
       "      <td>0</td>\n",
       "      <td>0</td>\n",
       "    </tr>\n",
       "    <tr>\n",
       "      <th>4</th>\n",
       "      <td>Ada</td>\n",
       "      <td>ID</td>\n",
       "      <td>Ada, ID</td>\n",
       "      <td>43.452658</td>\n",
       "      <td>-116.241552</td>\n",
       "      <td>435117</td>\n",
       "      <td>259389</td>\n",
       "      <td>130699</td>\n",
       "      <td>120539</td>\n",
       "      <td>0.504</td>\n",
       "      <td>...</td>\n",
       "      <td>56615</td>\n",
       "      <td>42027</td>\n",
       "      <td>18576</td>\n",
       "      <td>7189</td>\n",
       "      <td>0</td>\n",
       "      <td>0</td>\n",
       "      <td>0</td>\n",
       "      <td>0</td>\n",
       "      <td>0</td>\n",
       "      <td>0</td>\n",
       "    </tr>\n",
       "  </tbody>\n",
       "</table>\n",
       "<p>5 rows × 61 columns</p>\n",
       "</div>"
      ],
      "text/plain": [
       "      county state   county_state        lat        long  totalpop  \\\n",
       "0        Kay    OK        Kay, OK  36.817997  -97.144214     45173   \n",
       "1  Abbeville    SC  Abbeville, SC  34.223334  -82.461707     24788   \n",
       "2     Acadia    LA     Acadia, LA  30.295065  -92.414197     62607   \n",
       "3   Accomack    VA   Accomack, VA  37.767072  -75.632346     32840   \n",
       "4        Ada    ID        Ada, ID  43.452658 -116.241552    435117   \n",
       "\n",
       "   total_votes20  votes20_donald_trump  votes20_joe_biden  \\\n",
       "0          17249                 12834               4040   \n",
       "1          12433                  8215               4101   \n",
       "2          28425                 22596               5443   \n",
       "3          16938                  9172               7578   \n",
       "4         259389                130699             120539   \n",
       "\n",
       "   percentage20_donald_trump  ...  age_55to64  age_65to74  age_75to84  \\\n",
       "0                      0.744  ...        5694        4632        2724   \n",
       "1                      0.661  ...        3584        3150        1602   \n",
       "2                      0.795  ...           0           0           0   \n",
       "3                      0.542  ...        5270        4451        2301   \n",
       "4                      0.504  ...       56615       42027       18576   \n",
       "\n",
       "   age_84plus  evangelicals  protestant  catholic  orthodox  muslim  other  \n",
       "0        1183             0           0         0         0       0      0  \n",
       "1         591             0           0         0         0       0      0  \n",
       "2           0             0           0         0         0       0      0  \n",
       "3         886             0           0         0         0       0      0  \n",
       "4        7189             0           0         0         0       0      0  \n",
       "\n",
       "[5 rows x 61 columns]"
      ]
     },
     "execution_count": 3,
     "metadata": {},
     "output_type": "execute_result"
    }
   ],
   "source": [
    "# read in csv as dataframe\n",
    "df = pd.read_csv('https://mydataclassdb-bucket.s3.amazonaws.com/covid_and_politics_db.csv')\n",
    "df.head()"
   ]
  },
  {
   "cell_type": "code",
   "execution_count": 4,
   "metadata": {},
   "outputs": [
    {
     "data": {
      "text/plain": [
       "county          0\n",
       "state           0\n",
       "county_state    0\n",
       "lat             0\n",
       "long            0\n",
       "               ..\n",
       "protestant      0\n",
       "catholic        0\n",
       "orthodox        0\n",
       "muslim          0\n",
       "other           0\n",
       "Length: 61, dtype: int64"
      ]
     },
     "execution_count": 4,
     "metadata": {},
     "output_type": "execute_result"
    }
   ],
   "source": [
    "# drop rows with null values and check if there are any nulls in columns after\n",
    "df = df.dropna(axis = 0, how = 'any')\n",
    "df.isnull().sum()"
   ]
  },
  {
   "cell_type": "code",
   "execution_count": 5,
   "metadata": {},
   "outputs": [
    {
     "data": {
      "image/png": "[encoded data removed]",
      "text/plain": [
       "<Figure size 432x288 with 1 Axes>"
      ]
     },
     "metadata": {
      "needs_background": "light"
     },
     "output_type": "display_data"
    }
   ],
   "source": [
    "# identify relationships\n",
    "plt.scatter(df.deaths, df.votes20_joe_biden)\n",
    "plt.xlabel('deaths')\n",
    "plt.ylabel('biden')\n",
    "plt.show()"
   ]
  },
  {
   "cell_type": "code",
   "execution_count": 6,
   "metadata": {},
   "outputs": [
    {
     "data": {
      "image/png": "[encoded data removed]",
      "text/plain": [
       "<Figure size 432x288 with 1 Axes>"
      ]
     },
     "metadata": {
      "needs_background": "light"
     },
     "output_type": "display_data"
    }
   ],
   "source": [
    "# identify relationships\n",
    "plt.scatter(df.cases, df.votes20_joe_biden)\n",
    "plt.xlabel('cases')\n",
    "plt.ylabel('biden')\n",
    "plt.show()"
   ]
  },
  {
   "cell_type": "code",
   "execution_count": 7,
   "metadata": {},
   "outputs": [
    {
     "data": {
      "image/png": "[encoded data removed]",
      "text/plain": [
       "<Figure size 432x288 with 1 Axes>"
      ]
     },
     "metadata": {
      "needs_background": "light"
     },
     "output_type": "display_data"
    }
   ],
   "source": [
    "# identify relationships\n",
    "plt.scatter(df.deaths, df.income)\n",
    "plt.xlabel('deaths')\n",
    "plt.ylabel('Income')\n",
    "plt.show()"
   ]
  },
  {
   "cell_type": "code",
   "execution_count": 8,
   "metadata": {},
   "outputs": [
    {
     "data": {
      "image/png": "[encoded data removed]",
      "text/plain": [
       "<Figure size 432x288 with 1 Axes>"
      ]
     },
     "metadata": {
      "needs_background": "light"
     },
     "output_type": "display_data"
    }
   ],
   "source": [
    "# identify relationships\n",
    "plt.scatter(df.deaths, df.votes20_donald_trump)\n",
    "plt.xlabel('deaths')\n",
    "plt.ylabel('trump votes')\n",
    "plt.show()"
   ]
  },
  {
   "cell_type": "code",
   "execution_count": 9,
   "metadata": {},
   "outputs": [
    {
     "data": {
      "image/png": "[encoded data removed]",
      "text/plain": [
       "<Figure size 432x288 with 1 Axes>"
      ]
     },
     "metadata": {
      "needs_background": "light"
     },
     "output_type": "display_data"
    }
   ],
   "source": [
    "# identify relationships\n",
    "plt.scatter(df.deaths, df.employed)\n",
    "plt.xlabel('deaths')\n",
    "plt.ylabel('employed')\n",
    "plt.show()"
   ]
  },
  {
   "cell_type": "code",
   "execution_count": 10,
   "metadata": {},
   "outputs": [
    {
     "data": {
      "image/png": "[encoded data removed]",
      "text/plain": [
       "<Figure size 432x288 with 1 Axes>"
      ]
     },
     "metadata": {
      "needs_background": "light"
     },
     "output_type": "display_data"
    }
   ],
   "source": [
    "# identify relationships\n",
    "plt.scatter(df.cases, df.employed)\n",
    "plt.xlabel('cases')\n",
    "plt.ylabel('employed')\n",
    "plt.show()"
   ]
  },
  {
   "cell_type": "code",
   "execution_count": 11,
   "metadata": {},
   "outputs": [
    {
     "data": {
      "image/png": "[encoded data removed]",
      "text/plain": [
       "<Figure size 432x288 with 1 Axes>"
      ]
     },
     "metadata": {
      "needs_background": "light"
     },
     "output_type": "display_data"
    }
   ],
   "source": [
    "# identify relationships\n",
    "plt.scatter(df.cases, df.percentage20_donald_trump)\n",
    "plt.xlabel('cases')\n",
    "plt.ylabel('employed')\n",
    "plt.show()"
   ]
  },
  {
   "cell_type": "code",
   "execution_count": 12,
   "metadata": {},
   "outputs": [
    {
     "data": {
      "image/png": "[encoded data removed]",
      "text/plain": [
       "<Figure size 432x288 with 1 Axes>"
      ]
     },
     "metadata": {
      "needs_background": "light"
     },
     "output_type": "display_data"
    }
   ],
   "source": [
    "# identify relationships\n",
    "plt.scatter(df.cases, df.percentage20_joe_biden)\n",
    "plt.xlabel('cases')\n",
    "plt.ylabel('employed')\n",
    "plt.show()"
   ]
  },
  {
   "cell_type": "code",
   "execution_count": 14,
   "metadata": {},
   "outputs": [],
   "source": [
    "## Although some data is clustered together, there does appear to be several linear\n",
    "## relationships, which is enough to justify a linear regression model. Scaling/normalizing\n",
    "## the data will need to be performed to 'uncluster' some data points"
   ]
  },
  {
   "cell_type": "code",
   "execution_count": null,
   "metadata": {},
   "outputs": [],
   "source": []
  }
 ],
 "metadata": {
  "kernelspec": {
   "display_name": "mlenv",
   "language": "python",
   "name": "mlenv"
  },
  "language_info": {
   "codemirror_mode": {
    "name": "ipython",
    "version": 3
   },
   "file_extension": ".py",
   "mimetype": "text/x-python",
   "name": "python",
   "nbconvert_exporter": "python",
   "pygments_lexer": "ipython3",
   "version": "3.7.9"
  }
 },
 "nbformat": 4,
 "nbformat_minor": 4
}
